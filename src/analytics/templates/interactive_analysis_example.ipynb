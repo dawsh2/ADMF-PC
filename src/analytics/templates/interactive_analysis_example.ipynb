{
 "cells": [
  {
   "cell_type": "markdown",
   "metadata": {},
   "source": [
    "# Interactive Strategy Analysis\n",
    "\n",
    "This notebook demonstrates the interactive analysis workflow for ADMF-PC backtest results."
   ]
  },
  {
   "cell_type": "code",
   "execution_count": null,
   "metadata": {},
   "outputs": [],
   "source": [
    "# Import the interactive analysis tools\n",
    "import sys\n",
    "sys.path.append('../..')  # Adjust based on notebook location\n",
    "\n",
    "from src.analytics.interactive import AnalysisWorkspace, QueryLibrary, PatternLibrary\n",
    "from src.analytics.notebook_cells import queries, performance, correlation, visualization, regime\n",
    "import pandas as pd\n",
    "import numpy as np\n",
    "import matplotlib.pyplot as plt\n",
    "import seaborn as sns\n",
    "\n",
    "# Set display options\n",
    "pd.set_option('display.max_columns', None)\n",
    "pd.set_option('display.width', None)\n",
    "plt.style.use('seaborn-v0_8-darkgrid')\n",
    "%matplotlib inline"
   ]
  },
  {
   "cell_type": "markdown",
   "metadata": {},
   "source": [
    "## 1. Initialize Workspace and List Available Runs"
   ]
  },
  {
   "cell_type": "code",
   "execution_count": null,
   "metadata": {},
   "outputs": [],
   "source": [
    "# Create workspace\n",
    "workspace = AnalysisWorkspace()\n",
    "\n",
    "# List recent runs\n",
    "runs = workspace.list_runs()\n",
    "runs_df = pd.DataFrame(runs)\n",
    "runs_df[['run_id', 'config_name', 'total_strategies', 'best_sharpe', 'timeframe']].head(10)"
   ]
  },
  {
   "cell_type": "markdown",
   "metadata": {},
   "source": [
    "## 2. Load a Specific Run"
   ]
  },
  {
   "cell_type": "code",
   "execution_count": null,
   "metadata": {},
   "outputs": [],
   "source": [
    "# Load the most recent run (or specify a specific one)\n",
    "run = workspace.load_run(f\"results/{runs_df.iloc[0]['run_id']}\")\n",
    "\n",
    "# Show summary\n",
    "print(\"Run Summary:\")\n",
    "for key, value in run.summary.items():\n",
    "    print(f\"  {key}: {value}\")"
   ]
  },
  {
   "cell_type": "markdown",
   "metadata": {},
   "source": [
    "## 3. Explore Strategies"
   ]
  },
  {
   "cell_type": "code",
   "execution_count": null,
   "metadata": {},
   "outputs": [],
   "source": [
    "# Get top strategies\n",
    "top_strategies = workspace.top_strategies(run, n=20)\n",
    "top_strategies[['strategy_type', 'sharpe_ratio', 'total_return', 'max_drawdown']].head(10)"
   ]
  },
  {
   "cell_type": "code",
   "execution_count": null,
   "metadata": {},
   "outputs": [],
   "source": [
    "# Strategy type distribution\n",
    "strategy_dist = run.strategies['strategy_type'].value_counts()\n",
    "plt.figure(figsize=(10, 6))\n",
    "strategy_dist.plot(kind='bar')\n",
    "plt.title('Strategy Type Distribution')\n",
    "plt.xlabel('Strategy Type')\n",
    "plt.ylabel('Count')\n",
    "plt.xticks(rotation=45)\n",
    "plt.tight_layout()\n",
    "plt.show()"
   ]
  },
  {
   "cell_type": "markdown",
   "metadata": {},
   "source": [
    "## 4. Custom Queries with DuckDB"
   ]
  },
  {
   "cell_type": "code",
   "execution_count": null,
   "metadata": {},
   "outputs": [],
   "source": [
    "# Example: Find strategies with specific characteristics\n",
    "custom_query = \"\"\"\n",
    "SELECT \n",
    "    strategy_type,\n",
    "    COUNT(*) as count,\n",
    "    AVG(sharpe_ratio) as avg_sharpe,\n",
    "    MAX(sharpe_ratio) as max_sharpe,\n",
    "    AVG(total_return) as avg_return\n",
    "FROM strategies\n",
    "WHERE sharpe_ratio > 1.0\n",
    "GROUP BY strategy_type\n",
    "ORDER BY avg_sharpe DESC\n",
    "\"\"\"\n",
    "\n",
    "high_sharpe_strategies = run.query(custom_query)\n",
    "high_sharpe_strategies"
   ]
  },
  {
   "cell_type": "code",
   "execution_count": null,
   "metadata": {},
   "outputs": [],
   "source": [
    "# Signal frequency analysis\n",
    "signal_freq = QueryLibrary.signal_frequency(run)\n",
    "print(\"\\nSignal Frequency Analysis:\")\n",
    "print(signal_freq[['strategy_type', 'total_signals', 'signals_per_day', 'sharpe_ratio']].head(10))"
   ]
  },
  {
   "cell_type": "markdown",
   "metadata": {},
   "source": [
    "## 5. Correlation Analysis for Ensemble Building"
   ]
  },
  {
   "cell_type": "code",
   "execution_count": null,
   "metadata": {},
   "outputs": [],
   "source": [
    "# Calculate correlation matrix for top strategies\n",
    "corr_matrix = workspace.correlation_matrix(run, top_strategies.head(10))\n",
    "\n",
    "# Visualize\n",
    "plt.figure(figsize=(10, 8))\n",
    "mask = np.triu(np.ones_like(corr_matrix, dtype=bool))\n",
    "sns.heatmap(corr_matrix, mask=mask, cmap='coolwarm', center=0, \n",
    "            annot=True, fmt='.2f', vmin=-1, vmax=1)\n",
    "plt.title('Strategy Correlation Matrix')\n",
    "plt.tight_layout()\n",
    "plt.show()"
   ]
  },
  {
   "cell_type": "code",
   "execution_count": null,
   "metadata": {},
   "outputs": [],
   "source": [
    "# Find optimal ensemble\n",
    "ensemble = workspace.find_ensemble(run, size=5, correlation_threshold=0.7)\n",
    "\n",
    "print(f\"Optimal Ensemble:\")\n",
    "print(f\"  Average Sharpe: {ensemble['avg_sharpe']:.2f}\")\n",
    "print(f\"  Max Correlation: {ensemble['max_correlation']:.2f}\")\n",
    "print(\"\\nEnsemble Strategies:\")\n",
    "print(ensemble['strategies'][['strategy_type', 'sharpe_ratio', 'total_return']])"
   ]
  },
  {
   "cell_type": "markdown",
   "metadata": {},
   "source": [
    "## 6. Parameter Analysis"
   ]
  },
  {
   "cell_type": "code",
   "execution_count": null,
   "metadata": {},
   "outputs": [],
   "source": [
    "# Analyze parameters for a specific strategy type\n",
    "strategy_type = top_strategies.iloc[0]['strategy_type']\n",
    "param_analysis = workspace.analyze_parameters(run, strategy_type)\n",
    "\n",
    "print(f\"\\nParameter Analysis for {strategy_type}:\")\n",
    "print(param_analysis)"
   ]
  },
  {
   "cell_type": "markdown",
   "metadata": {},
   "source": [
    "## 7. Intraday Patterns"
   ]
  },
  {
   "cell_type": "code",
   "execution_count": null,
   "metadata": {},
   "outputs": [],
   "source": [
    "# Analyze intraday patterns\n",
    "intraday = QueryLibrary.intraday_patterns(run)\n",
    "\n",
    "plt.figure(figsize=(12, 5))\n",
    "plt.subplot(1, 2, 1)\n",
    "plt.bar(intraday['hour'], intraday['signal_count'])\n",
    "plt.xlabel('Hour of Day')\n",
    "plt.ylabel('Signal Count')\n",
    "plt.title('Trading Activity by Hour')\n",
    "\n",
    "plt.subplot(1, 2, 2)\n",
    "plt.plot(intraday['hour'], intraday['avg_direction'], marker='o')\n",
    "plt.axhline(y=0, color='k', linestyle='--', alpha=0.3)\n",
    "plt.xlabel('Hour of Day')\n",
    "plt.ylabel('Average Direction')\n",
    "plt.title('Signal Direction Bias by Hour')\n",
    "\n",
    "plt.tight_layout()\n",
    "plt.show()"
   ]
  },
  {
   "cell_type": "markdown",
   "metadata": {},
   "source": [
    "## 8. Save Discovered Patterns"
   ]
  },
  {
   "cell_type": "code",
   "execution_count": null,
   "metadata": {},
   "outputs": [],
   "source": [
    "# Save interesting patterns for future use\n",
    "pattern_lib = PatternLibrary()\n",
    "\n",
    "# Example: Save a high-performing parameter combination\n",
    "if len(top_strategies) > 0:\n",
    "    best_strategy = top_strategies.iloc[0]\n",
    "    pattern = {\n",
    "        'strategy_type': best_strategy['strategy_type'],\n",
    "        'parameters': {col: best_strategy[col] for col in best_strategy.index if col.startswith('param_')},\n",
    "        'performance': {\n",
    "            'sharpe_ratio': best_strategy['sharpe_ratio'],\n",
    "            'total_return': best_strategy['total_return']\n",
    "        }\n",
    "    }\n",
    "    pattern_lib.save_pattern(f\"best_{strategy_type}_{run.summary['timeframe']}\", pattern)\n",
    "\n",
    "# List saved patterns\n",
    "print(\"\\nSaved Patterns:\")\n",
    "for p in pattern_lib.list_patterns():\n",
    "    print(f\"  {p['name']}: discovered {p['discovered']}, used {p['usage_count']} times\")"
   ]
  },
  {
   "cell_type": "markdown",
   "metadata": {},
   "source": [
    "## 9. Custom Analysis Cell\n",
    "\n",
    "Use the reusable cells from the notebook_cells module:"
   ]
  },
  {
   "cell_type": "code",
   "execution_count": null,
   "metadata": {},
   "outputs": [],
   "source": [
    "# Import and execute a performance analysis cell\n",
    "exec(performance.sharpe_calculation_cell())"
   ]
  },
  {
   "cell_type": "code",
   "execution_count": null,
   "metadata": {},
   "outputs": [],
   "source": [
    "# Import and execute a regime analysis cell\n",
    "# First, we need to load market data\n",
    "market_data = pd.DataFrame()  # You would load actual market data here\n",
    "\n",
    "# Then run the regime analysis\n",
    "if not market_data.empty:\n",
    "    exec(regime.volatility_regime_cell())"
   ]
  },
  {
   "cell_type": "markdown",
   "metadata": {},
   "source": [
    "## 10. Export Results"
   ]
  },
  {
   "cell_type": "code",
   "execution_count": null,
   "metadata": {},
   "outputs": [],
   "source": [
    "# Export ensemble strategies for production use\n",
    "ensemble_config = {\n",
    "    'run_id': run.summary['run_id'],\n",
    "    'selected_strategies': ensemble['strategies'][['strategy_hash', 'strategy_type']].to_dict('records'),\n",
    "    'performance': {\n",
    "        'avg_sharpe': ensemble['avg_sharpe'],\n",
    "        'max_correlation': ensemble['max_correlation']\n",
    "    }\n",
    "}\n",
    "\n",
    "import json\n",
    "with open('selected_ensemble.json', 'w') as f:\n",
    "    json.dump(ensemble_config, f, indent=2)\n",
    "\n",
    "print(\"Ensemble configuration saved to selected_ensemble.json\")"
   ]
  }
 ],
 "metadata": {
  "kernelspec": {
   "display_name": "Python 3",
   "language": "python",
   "name": "python3"
  },
  "language_info": {
   "codemirror_mode": {
    "name": "ipython",
    "version": 3
   },
   "file_extension": ".py",
   "mimetype": "text/x-python",
   "name": "python",
   "nbconvert_exporter": "python",
   "pygments_lexer": "ipython3",
   "version": "3.8.0"
  }
 },
 "nbformat": 4,
 "nbformat_minor": 4
}