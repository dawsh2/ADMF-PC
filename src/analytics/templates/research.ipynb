{
 "cells": [
  {
   "cell_type": "markdown",
   "metadata": {},
   "source": [
    "# Global Signal Research Notebook\n",
    "\n",
    "This notebook provides tools for analyzing signals across the centralized traces directory.\n",
    "\n",
    "## Features:\n",
    "- Load and query the strategy index\n",
    "- Analyze signals by strategy type, parameters, and date range\n",
    "- Compare performance across different configurations\n",
    "- Aggregate metrics across multiple runs"
   ]
  },
  {
   "cell_type": "code",
   "execution_count": null,
   "metadata": {
    "tags": ["parameters"]
   },
   "outputs": [],
   "source": [
    "# Parameters (set by papermill or manually)\n",
    "global_traces_dir = '/Users/daws/ADMF-PC/traces'  # Global traces directory\n",
    "symbols = ['SPY']  # Symbols to analyze\n",
    "strategy_types = None  # Strategy types to analyze (None = all)\n",
    "date_start = None  # Start date for analysis\n",
    "date_end = None  # End date for analysis\n",
    "top_n = 20  # Number of top strategies to show"
   ]
  },
  {
   "cell_type": "code",
   "execution_count": null,
   "metadata": {},
   "outputs": [],
   "source": [
    "# Standard imports\n",
    "import pandas as pd\n",
    "import numpy as np\n",
    "from pathlib import Path\n",
    "import json\n",
    "import matplotlib.pyplot as plt\n",
    "import seaborn as sns\n",
    "from datetime import datetime\n",
    "import warnings\n",
    "warnings.filterwarnings('ignore')\n",
    "\n",
    "# Configure display\n",
    "pd.set_option('display.max_columns', None)\n",
    "pd.set_option('display.max_rows', 100)\n",
    "pd.set_option('display.float_format', '{:.4f}'.format)\n",
    "\n",
    "# Set style\n",
    "plt.style.use('seaborn-v0_8-darkgrid')\n",
    "sns.set_palette('husl')\n",
    "\n",
    "print(f\"📊 Global Signal Research Notebook\")\n",
    "print(f\"📁 Traces directory: {global_traces_dir}\")\n",
    "print(f\"🔍 Analyzing symbols: {symbols}\")"
   ]
  },
  {
   "cell_type": "markdown",
   "metadata": {},
   "source": [
    "## 1. Load Strategy Index\n",
    "\n",
    "The strategy index contains metadata about all computed strategies."
   ]
  },
  {
   "cell_type": "code",
   "execution_count": null,
   "metadata": {},
   "outputs": [],
   "source": [
    "# Load strategy index\n",
    "traces_path = Path(global_traces_dir)\n",
    "index_path = traces_path / 'strategy_index.parquet'\n",
    "\n",
    "if index_path.exists():\n",
    "    strategy_index = pd.read_parquet(index_path)\n",
    "    print(f\"✅ Loaded {len(strategy_index)} strategies from index\")\n",
    "    print(f\"\\nStrategy types: {strategy_index['strategy_type'].unique()}\")\n",
    "    print(f\"\\nDate range: {strategy_index['start_date'].min()} to {strategy_index['end_date'].max()}\")\n",
    "else:\n",
    "    print(\"❌ No strategy index found. Run signal generation first.\")\n",
    "    strategy_index = pd.DataFrame()"
   ]
  },
  {
   "cell_type": "code",
   "execution_count": null,
   "metadata": {},
   "outputs": [],
   "source": [
    "# Display strategy index summary\n",
    "if not strategy_index.empty:\n",
    "    print(\"\\n📋 Strategy Index Summary:\")\n",
    "    display(strategy_index.groupby('strategy_type').agg({\n",
    "        'strategy_hash': 'count',\n",
    "        'total_signals': 'sum',\n",
    "        'start_date': 'min',\n",
    "        'end_date': 'max'\n",
    "    }).rename(columns={'strategy_hash': 'count'}))"
   ]
  },
  {
   "cell_type": "markdown",
   "metadata": {},
   "source": [
    "## 2. Query Strategies\n",
    "\n",
    "Filter strategies by various criteria."
   ]
  },
  {
   "cell_type": "code",
   "execution_count": null,
   "metadata": {},
   "outputs": [],
   "source": [
    "# Filter strategies\n",
    "filtered_strategies = strategy_index.copy()\n",
    "\n",
    "# Filter by strategy type\n",
    "if strategy_types:\n",
    "    filtered_strategies = filtered_strategies[filtered_strategies['strategy_type'].isin(strategy_types)]\n",
    "    print(f\"Filtered to strategy types: {strategy_types}\")\n",
    "\n",
    "# Filter by date range\n",
    "if date_start:\n",
    "    filtered_strategies = filtered_strategies[filtered_strategies['end_date'] >= date_start]\n",
    "    print(f\"Filtered to strategies ending after: {date_start}\")\n",
    "\n",
    "if date_end:\n",
    "    filtered_strategies = filtered_strategies[filtered_strategies['start_date'] <= date_end]\n",
    "    print(f\"Filtered to strategies starting before: {date_end}\")\n",
    "\n",
    "print(f\"\\n✅ Found {len(filtered_strategies)} strategies matching criteria\")"
   ]
  },
  {
   "cell_type": "markdown",
   "metadata": {},
   "source": [
    "## 3. Load and Analyze Signals\n",
    "\n",
    "Load actual signal data for selected strategies."
   ]
  },
  {
   "cell_type": "code",
   "execution_count": null,
   "metadata": {},
   "outputs": [],
   "source": [
    "def load_strategy_signals(strategy_row):\n",
    "    \"\"\"Load signals for a specific strategy.\"\"\"\n",
    "    trace_path = traces_path / strategy_row['trace_path']\n",
    "    if trace_path.exists():\n",
    "        return pd.read_parquet(trace_path)\n",
    "    return pd.DataFrame()\n",
    "\n",
    "# Load signals for top strategies by signal count\n",
    "top_strategies = filtered_strategies.nlargest(top_n, 'total_signals')\n",
    "\n",
    "all_signals = []\n",
    "for idx, row in top_strategies.iterrows():\n",
    "    signals = load_strategy_signals(row)\n",
    "    if not signals.empty:\n",
    "        # Add strategy metadata\n",
    "        signals['strategy_type'] = row['strategy_type']\n",
    "        signals['strategy_name'] = row['strategy_name']\n",
    "        signals['strategy_hash'] = row['strategy_hash']\n",
    "        all_signals.append(signals)\n",
    "\n",
    "if all_signals:\n",
    "    combined_signals = pd.concat(all_signals, ignore_index=True)\n",
    "    print(f\"✅ Loaded {len(combined_signals)} signals from {len(all_signals)} strategies\")\n",
    "else:\n",
    "    combined_signals = pd.DataFrame()\n",
    "    print(\"❌ No signals found\")"
   ]
  },
  {
   "cell_type": "markdown",
   "metadata": {},
   "source": [
    "## 4. Signal Analysis\n",
    "\n",
    "Analyze signal patterns and distributions."
   ]
  },
  {
   "cell_type": "code",
   "execution_count": null,
   "metadata": {},
   "outputs": [],
   "source": [
    "if not combined_signals.empty:\n",
    "    # Signal distribution by strategy type\n",
    "    fig, axes = plt.subplots(1, 2, figsize=(15, 5))\n",
    "    \n",
    "    # Signal counts by strategy type\n",
    "    signal_counts = combined_signals.groupby(['strategy_type', 'signal']).size().unstack(fill_value=0)\n",
    "    signal_counts.plot(kind='bar', ax=axes[0], stacked=True)\n",
    "    axes[0].set_title('Signal Distribution by Strategy Type')\n",
    "    axes[0].set_xlabel('Strategy Type')\n",
    "    axes[0].set_ylabel('Signal Count')\n",
    "    axes[0].legend(['Short (-1)', 'Neutral (0)', 'Long (1)'])\n",
    "    \n",
    "    # Signal frequency over time\n",
    "    combined_signals['date'] = pd.to_datetime(combined_signals['timestamp']).dt.date\n",
    "    daily_signals = combined_signals.groupby(['date', 'signal']).size().unstack(fill_value=0)\n",
    "    daily_signals.plot(ax=axes[1], alpha=0.7)\n",
    "    axes[1].set_title('Daily Signal Frequency')\n",
    "    axes[1].set_xlabel('Date')\n",
    "    axes[1].set_ylabel('Signal Count')\n",
    "    axes[1].legend(['Short', 'Neutral', 'Long'])\n",
    "    \n",
    "    plt.tight_layout()\n",
    "    plt.show()"
   ]
  },
  {
   "cell_type": "markdown",
   "metadata": {},
   "source": [
    "## 5. Performance Metrics\n",
    "\n",
    "Calculate performance metrics for strategies (requires market data)."
   ]
  },
  {
   "cell_type": "code",
   "execution_count": null,
   "metadata": {},
   "outputs": [],
   "source": [
    "# Load market data for performance calculation\n",
    "def load_market_data(symbol, start_date=None, end_date=None):\n",
    "    \"\"\"Load market data for a symbol.\"\"\"\n",
    "    # Try different data locations\n",
    "    data_paths = [\n",
    "        Path(f'data/{symbol}.csv'),\n",
    "        Path(f'data/{symbol}_5m.csv'),\n",
    "        Path(f'../data/{symbol}.csv'),\n",
    "        Path(f'../data/{symbol}_5m.csv')\n",
    "    ]\n",
    "    \n",
    "    for data_path in data_paths:\n",
    "        if data_path.exists():\n",
    "            df = pd.read_csv(data_path, parse_dates=['timestamp'], index_col='timestamp')\n",
    "            if start_date:\n",
    "                df = df[df.index >= start_date]\n",
    "            if end_date:\n",
    "                df = df[df.index <= end_date]\n",
    "            return df\n",
    "    return pd.DataFrame()\n",
    "\n",
    "# Calculate simple returns for each strategy\n",
    "strategy_performance = []\n",
    "\n",
    "for symbol in symbols:\n",
    "    market_data = load_market_data(symbol)\n",
    "    if market_data.empty:\n",
    "        print(f\"⚠️ No market data found for {symbol}\")\n",
    "        continue\n",
    "    \n",
    "    print(f\"\\n📈 Calculating performance for {symbol}...\")\n",
    "    \n",
    "    for idx, strategy in top_strategies.iterrows():\n",
    "        signals = load_strategy_signals(strategy)\n",
    "        if signals.empty:\n",
    "            continue\n",
    "        \n",
    "        # Filter signals for this symbol\n",
    "        symbol_signals = signals[signals['symbol'] == symbol].copy()\n",
    "        if symbol_signals.empty:\n",
    "            continue\n",
    "        \n",
    "        # Merge with market data\n",
    "        symbol_signals['timestamp'] = pd.to_datetime(symbol_signals['timestamp'])\n",
    "        merged = pd.merge_asof(\n",
    "            symbol_signals.sort_values('timestamp'),\n",
    "            market_data[['close']].sort_index(),\n",
    "            left_on='timestamp',\n",
    "            right_index=True,\n",
    "            direction='backward'\n",
    "        )\n",
    "        \n",
    "        if len(merged) > 0:\n",
    "            # Calculate simple metrics\n",
    "            total_signals = len(merged)\n",
    "            long_signals = (merged['signal'] == 1).sum()\n",
    "            short_signals = (merged['signal'] == -1).sum()\n",
    "            \n",
    "            strategy_performance.append({\n",
    "                'strategy_name': strategy['strategy_name'],\n",
    "                'strategy_type': strategy['strategy_type'],\n",
    "                'symbol': symbol,\n",
    "                'total_signals': total_signals,\n",
    "                'long_signals': long_signals,\n",
    "                'short_signals': short_signals,\n",
    "                'signal_ratio': long_signals / short_signals if short_signals > 0 else np.inf\n",
    "            })\n",
    "\n",
    "if strategy_performance:\n",
    "    perf_df = pd.DataFrame(strategy_performance)\n",
    "    print(\"\\n📊 Strategy Performance Summary:\")\n",
    "    display(perf_df.sort_values('total_signals', ascending=False))\n",
    "else:\n",
    "    print(\"❌ No performance data calculated\")"
   ]
  },
  {
   "cell_type": "markdown",
   "metadata": {},
   "source": [
    "## 6. Strategy Comparison\n",
    "\n",
    "Compare different parameter configurations for the same strategy type."
   ]
  },
  {
   "cell_type": "code",
   "execution_count": null,
   "metadata": {},
   "outputs": [],
   "source": [
    "# Group strategies by type and analyze parameter variations\n",
    "if not strategy_index.empty:\n",
    "    for strategy_type in strategy_index['strategy_type'].unique()[:3]:  # Top 3 strategy types\n",
    "        type_strategies = strategy_index[strategy_index['strategy_type'] == strategy_type]\n",
    "        \n",
    "        if len(type_strategies) > 1:\n",
    "            print(f\"\\n📊 Analyzing {strategy_type} variations ({len(type_strategies)} configurations)\")\n",
    "            \n",
    "            # Parse parameters\n",
    "            param_data = []\n",
    "            for idx, row in type_strategies.iterrows():\n",
    "                try:\n",
    "                    params = json.loads(row['parameters']) if isinstance(row['parameters'], str) else row['parameters']\n",
    "                    params['total_signals'] = row['total_signals']\n",
    "                    params['strategy_hash'] = row['strategy_hash']\n",
    "                    param_data.append(params)\n",
    "                except:\n",
    "                    pass\n",
    "            \n",
    "            if param_data:\n",
    "                param_df = pd.DataFrame(param_data)\n",
    "                # Show parameter distribution\n",
    "                numeric_cols = param_df.select_dtypes(include=[np.number]).columns\n",
    "                if len(numeric_cols) > 1:\n",
    "                    display(param_df[numeric_cols].describe())"
   ]
  },
  {
   "cell_type": "markdown",
   "metadata": {},
   "source": [
    "## 7. Export Results\n",
    "\n",
    "Export selected strategies and signals for further analysis."
   ]
  },
  {
   "cell_type": "code",
   "execution_count": null,
   "metadata": {},
   "outputs": [],
   "source": [
    "# Create export directory\n",
    "export_dir = Path('research_exports')\n",
    "export_dir.mkdir(exist_ok=True)\n",
    "\n",
    "# Export top strategies\n",
    "if not top_strategies.empty:\n",
    "    export_file = export_dir / f'top_strategies_{datetime.now().strftime(\"%Y%m%d_%H%M%S\")}.csv'\n",
    "    top_strategies.to_csv(export_file, index=False)\n",
    "    print(f\"✅ Exported top strategies to: {export_file}\")\n",
    "\n",
    "# Export strategy performance\n",
    "if 'perf_df' in locals() and not perf_df.empty:\n",
    "    export_file = export_dir / f'strategy_performance_{datetime.now().strftime(\"%Y%m%d_%H%M%S\")}.csv'\n",
    "    perf_df.to_csv(export_file, index=False)\n",
    "    print(f\"✅ Exported performance data to: {export_file}\")\n",
    "\n",
    "print(f\"\\n📁 All exports saved to: {export_dir.absolute()}\")"
   ]
  },
  {
   "cell_type": "markdown",
   "metadata": {},
   "source": [
    "## 8. Advanced Queries\n",
    "\n",
    "Examples of advanced queries on the signal database."
   ]
  },
  {
   "cell_type": "code",
   "execution_count": null,
   "metadata": {},
   "outputs": [],
   "source": [
    "# Example: Find strategies with specific parameter ranges\n",
    "def find_strategies_by_params(strategy_type, param_filters):\n",
    "    \"\"\"Find strategies matching parameter criteria.\"\"\"\n",
    "    type_strategies = strategy_index[strategy_index['strategy_type'] == strategy_type]\n",
    "    matching = []\n",
    "    \n",
    "    for idx, row in type_strategies.iterrows():\n",
    "        try:\n",
    "            params = json.loads(row['parameters']) if isinstance(row['parameters'], str) else row['parameters']\n",
    "            \n",
    "            # Check all filters\n",
    "            match = True\n",
    "            for param, (min_val, max_val) in param_filters.items():\n",
    "                if param not in params:\n",
    "                    match = False\n",
    "                    break\n",
    "                if not (min_val <= params[param] <= max_val):\n",
    "                    match = False\n",
    "                    break\n",
    "            \n",
    "            if match:\n",
    "                matching.append(row)\n",
    "        except:\n",
    "            pass\n",
    "    \n",
    "    return pd.DataFrame(matching)\n",
    "\n",
    "# Example usage\n",
    "if 'sma_crossover' in strategy_index['strategy_type'].values:\n",
    "    print(\"\\n🔍 Finding SMA crossover strategies with fast period 10-20:\")\n",
    "    results = find_strategies_by_params('sma_crossover', {\n",
    "        'fast_period': (10, 20)\n",
    "    })\n",
    "    if not results.empty:\n",
    "        display(results[['strategy_name', 'parameters', 'total_signals']])"
   ]
  },
  {
   "cell_type": "code",
   "execution_count": null,
   "metadata": {},
   "outputs": [],
   "source": [
    "# Summary statistics\n",
    "print(\"\\n📊 Research Summary:\")\n",
    "print(f\"- Total strategies in database: {len(strategy_index)}\")\n",
    "print(f\"- Strategy types: {len(strategy_index['strategy_type'].unique())}\")\n",
    "print(f\"- Date range: {strategy_index['start_date'].min()} to {strategy_index['end_date'].max()}\")\n",
    "print(f\"- Total signals: {strategy_index['total_signals'].sum():,}\")\n",
    "print(f\"\\n✅ Research notebook complete!\")"
   ]
  }
 ],
 "metadata": {
  "kernelspec": {
   "display_name": "Python 3",
   "language": "python",
   "name": "python3"
  },
  "language_info": {
   "codemirror_mode": {
    "name": "ipython",
    "version": 3
   },
   "file_extension": ".py",
   "mimetype": "text/x-python",
   "name": "python",
   "nbconvert_exporter": "python",
   "pygments_lexer": "ipython3",
   "version": "3.11.0"
  }
 },
 "nbformat": 4,
 "nbformat_minor": 4
}