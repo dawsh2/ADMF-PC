{
 "cells": [
  {
   "cell_type": "markdown",
   "metadata": {},
   "source": [
    "# Keltner Strategy Analysis\n",
    "\n",
    "Analyzing the latest backtest run with sparse signal traces."
   ]
  },
  {
   "cell_type": "code",
   "execution_count": null,
   "metadata": {},
   "outputs": [],
   "source": [
    "# Setup\n",
    "import sys\n",
    "sys.path.append('../../src')  # Add src to path\n",
    "\n",
    "import duckdb\n",
    "import pandas as pd\n",
    "import numpy as np\n",
    "import matplotlib.pyplot as plt\n",
    "import seaborn as sns\n",
    "from pathlib import Path\n",
    "import json\n",
    "\n",
    "# Set style\n",
    "plt.style.use('seaborn-v0_8-darkgrid')\n",
    "pd.options.display.float_format = '{:.4f}'.format"
   ]
  },
  {
   "cell_type": "code",
   "execution_count": null,
   "metadata": {},
   "outputs": [],
   "source": [
    "# Load data using our simple analytics\n",
    "from analytics import TraceAnalysis\n",
    "\n",
    "# Point to the latest run\n",
    "ta = TraceAnalysis('results/20250622_155944')\n",
    "print(ta)"
   ]
  },
  {
   "cell_type": "code",
   "execution_count": null,
   "metadata": {},
   "outputs": [],
   "source": [
    "# Quick overview - what do we have?\n",
    "overview = ta.sql(\"\"\"\n",
    "    SELECT \n",
    "        COUNT(DISTINCT strategy_id) as num_strategies,\n",
    "        COUNT(*) as total_signals,\n",
    "        MIN(idx) as first_bar,\n",
    "        MAX(idx) as last_bar,\n",
    "        COUNT(DISTINCT idx) as unique_bars\n",
    "    FROM traces\n",
    "\"\"\")\n",
    "overview"
   ]
  },
  {
   "cell_type": "code",
   "execution_count": null,
   "metadata": {},
   "outputs": [],
   "source": [
    "# Load metadata to understand strategies\n",
    "with open('results/20250622_155944/metadata.json') as f:\n",
    "    metadata = json.load(f)\n",
    "\n",
    "print(f\"Total strategies: {len([k for k in metadata['components'] if 'strategy' in k])}\")\n",
    "print(f\"Total bars: {metadata['total_bars']}\")\n",
    "print(f\"Total signals: {metadata['total_signals']}\")\n",
    "print(f\"Compression ratio: {metadata['compression_ratio']:.2f}\")"
   ]
  },
  {
   "cell_type": "markdown",
   "metadata": {},
   "source": [
    "## Signal Activity Analysis"
   ]
  },
  {
   "cell_type": "code",
   "execution_count": null,
   "metadata": {},
   "outputs": [],
   "source": [
    "# Analyze signal activity by strategy\n",
    "signal_activity = ta.sql(\"\"\"\n",
    "    SELECT \n",
    "        strategy_id,\n",
    "        COUNT(*) as num_signals,\n",
    "        SUM(CASE WHEN val > 0 THEN 1 ELSE 0 END) as long_signals,\n",
    "        SUM(CASE WHEN val < 0 THEN 1 ELSE 0 END) as short_signals,\n",
    "        AVG(ABS(val)) as avg_signal_strength,\n",
    "        MIN(px) as min_price,\n",
    "        MAX(px) as max_price\n",
    "    FROM traces\n",
    "    GROUP BY strategy_id\n",
    "    ORDER BY num_signals DESC\n",
    "\"\"\")\n",
    "\n",
    "print(f\"Strategies analyzed: {len(signal_activity)}\")\n",
    "signal_activity.head(10)"
   ]
  },
  {
   "cell_type": "code",
   "execution_count": null,
   "metadata": {},
   "outputs": [],
   "source": [
    "# Distribution of signal counts\n",
    "plt.figure(figsize=(12, 6))\n",
    "\n",
    "plt.subplot(1, 2, 1)\n",
    "signal_activity['num_signals'].hist(bins=50, alpha=0.7)\n",
    "plt.xlabel('Number of Signals')\n",
    "plt.ylabel('Strategy Count')\n",
    "plt.title('Distribution of Signal Counts')\n",
    "\n",
    "plt.subplot(1, 2, 2)\n",
    "signal_activity['long_signals'].plot.scatter(x=signal_activity.index, y='long_signals', alpha=0.5, label='Long')\n",
    "signal_activity['short_signals'].plot.scatter(x=signal_activity.index, y='short_signals', alpha=0.5, label='Short', ax=plt.gca())\n",
    "plt.xlabel('Strategy ID')\n",
    "plt.ylabel('Signal Count')\n",
    "plt.title('Long vs Short Signals by Strategy')\n",
    "plt.legend()\n",
    "\n",
    "plt.tight_layout()\n",
    "plt.show()"
   ]
  },
  {
   "cell_type": "markdown",
   "metadata": {},
   "source": [
    "## Trade Analysis\n",
    "\n",
    "Let's extract trades from the sparse signals. A trade occurs when:\n",
    "- Signal goes from 0 to non-zero (entry)\n",
    "- Signal goes from non-zero to 0 (exit)\n",
    "- Signal reverses (exit and new entry)"
   ]
  },
  {
   "cell_type": "code",
   "execution_count": null,
   "metadata": {},
   "outputs": [],
   "source": [
    "# Extract trades using SQL window functions\n",
    "trades = ta.sql(\"\"\"\n",
    "    WITH signal_changes AS (\n",
    "        SELECT \n",
    "            strategy_id,\n",
    "            idx as bar_idx,\n",
    "            val as signal_value,\n",
    "            px as price,\n",
    "            LAG(val, 1, 0) OVER (PARTITION BY strategy_id ORDER BY idx) as prev_signal,\n",
    "            LEAD(val, 1, 0) OVER (PARTITION BY strategy_id ORDER BY idx) as next_signal,\n",
    "            LEAD(idx, 1) OVER (PARTITION BY strategy_id ORDER BY idx) as next_bar,\n",
    "            LEAD(px, 1) OVER (PARTITION BY strategy_id ORDER BY idx) as next_price\n",
    "        FROM traces\n",
    "    ),\n",
    "    entries AS (\n",
    "        SELECT \n",
    "            strategy_id,\n",
    "            bar_idx as entry_bar,\n",
    "            price as entry_price,\n",
    "            signal_value as entry_signal,\n",
    "            ROW_NUMBER() OVER (PARTITION BY strategy_id ORDER BY bar_idx) as entry_num\n",
    "        FROM signal_changes\n",
    "        WHERE signal_value != 0 AND prev_signal = 0\n",
    "    ),\n",
    "    exits AS (\n",
    "        SELECT \n",
    "            strategy_id,\n",
    "            bar_idx as exit_bar,\n",
    "            price as exit_price,\n",
    "            ROW_NUMBER() OVER (PARTITION BY strategy_id ORDER BY bar_idx) as exit_num\n",
    "        FROM signal_changes\n",
    "        WHERE signal_value = 0 AND prev_signal != 0\n",
    "    )\n",
    "    SELECT \n",
    "        e.strategy_id,\n",
    "        e.entry_bar,\n",
    "        e.entry_price,\n",
    "        e.entry_signal,\n",
    "        x.exit_bar,\n",
    "        x.exit_price,\n",
    "        (x.exit_bar - e.entry_bar) as duration_bars,\n",
    "        CASE \n",
    "            WHEN e.entry_signal > 0 THEN 'long'\n",
    "            ELSE 'short'\n",
    "        END as direction,\n",
    "        CASE \n",
    "            WHEN e.entry_signal > 0 THEN (x.exit_price - e.entry_price) / e.entry_price\n",
    "            ELSE (e.entry_price - x.exit_price) / e.entry_price\n",
    "        END as return_pct\n",
    "    FROM entries e\n",
    "    LEFT JOIN exits x \n",
    "        ON e.strategy_id = x.strategy_id \n",
    "        AND x.exit_num = e.entry_num\n",
    "    WHERE x.exit_bar IS NOT NULL\n",
    "    ORDER BY e.strategy_id, e.entry_bar\n",
    "\"\"\")\n",
    "\n",
    "print(f\"Total trades extracted: {len(trades)}\")\n",
    "trades.head()"
   ]
  },
  {
   "cell_type": "code",
   "execution_count": null,
   "metadata": {},
   "outputs": [],
   "source": [
    "# Performance summary by strategy\n",
    "performance = trades.groupby('strategy_id').agg({\n",
    "    'return_pct': ['count', 'mean', 'std', 'min', 'max'],\n",
    "    'duration_bars': 'mean'\n",
    "}).round(4)\n",
    "\n",
    "performance.columns = ['num_trades', 'avg_return', 'return_std', 'worst_trade', 'best_trade', 'avg_duration']\n",
    "performance['sharpe'] = performance['avg_return'] / performance['return_std'] * np.sqrt(252) # Annualized\n",
    "performance['win_rate'] = trades[trades['return_pct'] > 0].groupby('strategy_id').size() / performance['num_trades']\n",
    "\n",
    "# Top performers\n",
    "top_performers = performance.sort_values('sharpe', ascending=False).head(20)\n",
    "top_performers"
   ]
  },
  {
   "cell_type": "code",
   "execution_count": null,
   "metadata": {},
   "outputs": [],
   "source": [
    "# Visualize performance distribution\n",
    "fig, axes = plt.subplots(2, 2, figsize=(15, 10))\n",
    "\n",
    "# Sharpe distribution\n",
    "axes[0, 0].hist(performance['sharpe'].dropna(), bins=50, alpha=0.7, color='blue')\n",
    "axes[0, 0].axvline(performance['sharpe'].mean(), color='red', linestyle='--', label=f'Mean: {performance[\"sharpe\"].mean():.2f}')\n",
    "axes[0, 0].set_xlabel('Sharpe Ratio')\n",
    "axes[0, 0].set_ylabel('Count')\n",
    "axes[0, 0].set_title('Sharpe Ratio Distribution')\n",
    "axes[0, 0].legend()\n",
    "\n",
    "# Win rate distribution\n",
    "axes[0, 1].hist(performance['win_rate'].dropna(), bins=50, alpha=0.7, color='green')\n",
    "axes[0, 1].axvline(0.5, color='red', linestyle='--', label='50% Win Rate')\n",
    "axes[0, 1].set_xlabel('Win Rate')\n",
    "axes[0, 1].set_ylabel('Count')\n",
    "axes[0, 1].set_title('Win Rate Distribution')\n",
    "axes[0, 1].legend()\n",
    "\n",
    "# Average return vs risk\n",
    "scatter = axes[1, 0].scatter(performance['return_std'], performance['avg_return'], \n",
    "                            c=performance['sharpe'], cmap='RdYlGn', alpha=0.6, s=50)\n",
    "axes[1, 0].set_xlabel('Return Std Dev')\n",
    "axes[1, 0].set_ylabel('Average Return')\n",
    "axes[1, 0].set_title('Risk vs Return')\n",
    "plt.colorbar(scatter, ax=axes[1, 0], label='Sharpe')\n",
    "\n",
    "# Number of trades vs Sharpe\n",
    "axes[1, 1].scatter(performance['num_trades'], performance['sharpe'], alpha=0.6)\n",
    "axes[1, 1].set_xlabel('Number of Trades')\n",
    "axes[1, 1].set_ylabel('Sharpe Ratio')\n",
    "axes[1, 1].set_title('Trade Frequency vs Performance')\n",
    "\n",
    "plt.tight_layout()\n",
    "plt.show()"
   ]
  },
  {
   "cell_type": "markdown",
   "metadata": {},
   "source": [
    "## Parameter Analysis\n",
    "\n",
    "Since we ran many Keltner strategies with different parameters, let's see which parameters work best."
   ]
  },
  {
   "cell_type": "code",
   "execution_count": null,
   "metadata": {},
   "outputs": [],
   "source": [
    "# Extract parameters from metadata\n",
    "strategy_params = []\n",
    "for comp_id, comp_data in metadata['components'].items():\n",
    "    if 'strategy' in comp_id:\n",
    "        # Extract strategy ID from component name\n",
    "        strategy_id = int(comp_id.split('_')[-1])\n",
    "        \n",
    "        # For now, we'll use placeholder params since they're compiled\n",
    "        # In a real scenario, you'd have the actual period/multiplier values\n",
    "        strategy_params.append({\n",
    "            'strategy_id': strategy_id,\n",
    "            'signal_changes': comp_data['signal_changes'],\n",
    "            'compression_ratio': comp_data['compression_ratio']\n",
    "        })\n",
    "\n",
    "params_df = pd.DataFrame(strategy_params)\n",
    "\n",
    "# Merge with performance\n",
    "analysis_df = params_df.merge(performance, on='strategy_id', how='inner')\n",
    "print(f\"Strategies with both params and performance: {len(analysis_df)}\")\n",
    "analysis_df.head()"
   ]
  },
  {
   "cell_type": "code",
   "execution_count": null,
   "metadata": {},
   "outputs": [],
   "source": [
    "# Analyze relationship between signal frequency and performance\n",
    "plt.figure(figsize=(12, 5))\n",
    "\n",
    "plt.subplot(1, 2, 1)\n",
    "plt.scatter(analysis_df['signal_changes'], analysis_df['sharpe'], alpha=0.6)\n",
    "plt.xlabel('Number of Signal Changes')\n",
    "plt.ylabel('Sharpe Ratio')\n",
    "plt.title('Signal Frequency vs Performance')\n",
    "\n",
    "plt.subplot(1, 2, 2)\n",
    "plt.scatter(analysis_df['compression_ratio'], analysis_df['sharpe'], alpha=0.6)\n",
    "plt.xlabel('Compression Ratio')\n",
    "plt.ylabel('Sharpe Ratio')\n",
    "plt.title('Signal Sparsity vs Performance')\n",
    "\n",
    "plt.tight_layout()\n",
    "plt.show()"
   ]
  },
  {
   "cell_type": "markdown",
   "metadata": {},
   "source": [
    "## Filter Analysis\n",
    "\n",
    "Let's check if any strategies used filters and how they performed."
   ]
  },
  {
   "cell_type": "code",
   "execution_count": null,
   "metadata": {},
   "outputs": [],
   "source": [
    "# Group strategies by signal count ranges to identify potential filter effects\n",
    "signal_ranges = pd.cut(signal_activity['num_signals'], \n",
    "                      bins=[0, 50, 100, 150, 200, 300, 500, 1000],\n",
    "                      labels=['<50', '50-100', '100-150', '150-200', '200-300', '300-500', '>500'])\n",
    "\n",
    "signal_groups = signal_activity.groupby(signal_ranges).agg({\n",
    "    'strategy_id': 'count',\n",
    "    'num_signals': 'mean',\n",
    "    'long_signals': 'mean',\n",
    "    'short_signals': 'mean'\n",
    "}).round(0)\n",
    "\n",
    "signal_groups.columns = ['num_strategies', 'avg_signals', 'avg_long', 'avg_short']\n",
    "signal_groups"
   ]
  },
  {
   "cell_type": "markdown",
   "metadata": {},
   "source": [
    "## Best Strategies for Production\n",
    "\n",
    "Let's identify the best strategies based on multiple criteria."
   ]
  },
  {
   "cell_type": "code",
   "execution_count": null,
   "metadata": {},
   "outputs": [],
   "source": [
    "# Filter for production-ready strategies\n",
    "production_criteria = (\n",
    "    (performance['sharpe'] > 1.5) &\n",
    "    (performance['num_trades'] > 50) &\n",
    "    (performance['win_rate'] > 0.45) &\n",
    "    (performance['worst_trade'] > -0.05)  # Max 5% loss per trade\n",
    ")\n",
    "\n",
    "production_ready = performance[production_criteria].sort_values('sharpe', ascending=False)\n",
    "print(f\"Production-ready strategies: {len(production_ready)}\")\n",
    "production_ready.head(10)"
   ]
  },
  {
   "cell_type": "code",
   "execution_count": null,
   "metadata": {},
   "outputs": [],
   "source": [
    "# Export best strategies\n",
    "if len(production_ready) > 0:\n",
    "    # Get the top 5 strategies\n",
    "    best_strategies = production_ready.head(5)\n",
    "    \n",
    "    # Save to JSON for easy loading\n",
    "    export_data = {\n",
    "        'analysis_date': pd.Timestamp.now().isoformat(),\n",
    "        'criteria': {\n",
    "            'min_sharpe': 1.5,\n",
    "            'min_trades': 50,\n",
    "            'min_win_rate': 0.45,\n",
    "            'max_worst_trade': -0.05\n",
    "        },\n",
    "        'strategies': best_strategies.reset_index().to_dict('records')\n",
    "    }\n",
    "    \n",
    "    with open('production_strategies.json', 'w') as f:\n",
    "        json.dump(export_data, f, indent=2)\n",
    "    \n",
    "    print(\"Saved production strategies to production_strategies.json\")\n",
    "else:\n",
    "    print(\"No strategies met the production criteria\")"
   ]
  },
  {
   "cell_type": "markdown",
   "metadata": {},
   "source": [
    "## Custom Analysis Examples\n",
    "\n",
    "Here are some more SQL queries you can run:"
   ]
  },
  {
   "cell_type": "code",
   "execution_count": null,
   "metadata": {},
   "outputs": [],
   "source": [
    "# Example 1: Find strategies with consistent signals\n",
    "consistent = ta.sql(\"\"\"\n",
    "    WITH signal_gaps AS (\n",
    "        SELECT \n",
    "            strategy_id,\n",
    "            idx - LAG(idx) OVER (PARTITION BY strategy_id ORDER BY idx) as gap\n",
    "        FROM traces\n",
    "    )\n",
    "    SELECT \n",
    "        strategy_id,\n",
    "        AVG(gap) as avg_gap,\n",
    "        STDDEV(gap) as gap_std,\n",
    "        MAX(gap) as max_gap\n",
    "    FROM signal_gaps\n",
    "    WHERE gap IS NOT NULL\n",
    "    GROUP BY strategy_id\n",
    "    HAVING STDDEV(gap) < 100\n",
    "    ORDER BY avg_gap\n",
    "    LIMIT 10\n",
    "\"\"\")\n",
    "\n",
    "print(\"Most consistent signal generators:\")\n",
    "consistent"
   ]
  },
  {
   "cell_type": "code",
   "execution_count": null,
   "metadata": {},
   "outputs": [],
   "source": [
    "# Example 2: Price levels where most signals occur\n",
    "price_levels = ta.sql(\"\"\"\n",
    "    SELECT \n",
    "        ROUND(px / 10) * 10 as price_bucket,\n",
    "        COUNT(*) as signal_count,\n",
    "        SUM(CASE WHEN val > 0 THEN 1 ELSE 0 END) as long_signals,\n",
    "        SUM(CASE WHEN val < 0 THEN 1 ELSE 0 END) as short_signals,\n",
    "        COUNT(DISTINCT strategy_id) as active_strategies\n",
    "    FROM traces\n",
    "    GROUP BY price_bucket\n",
    "    ORDER BY signal_count DESC\n",
    "\"\"\")\n",
    "\n",
    "# Plot price level activity\n",
    "plt.figure(figsize=(10, 6))\n",
    "plt.bar(price_levels['price_bucket'], price_levels['signal_count'], width=8, alpha=0.7)\n",
    "plt.xlabel('Price Level')\n",
    "plt.ylabel('Signal Count')\n",
    "plt.title('Signal Activity by Price Level')\n",
    "plt.show()"
   ]
  },
  {
   "cell_type": "markdown",
   "metadata": {},
   "source": [
    "## Summary\n",
    "\n",
    "This notebook demonstrates how to:\n",
    "1. Load sparse signal traces using DuckDB\n",
    "2. Extract trades from signal changes\n",
    "3. Calculate performance metrics\n",
    "4. Identify production-ready strategies\n",
    "5. Run custom SQL analysis\n",
    "\n",
    "The key is that everything is just SQL queries on the parquet files!"
   ]
  }
 ],
 "metadata": {
  "kernelspec": {
   "display_name": "Python 3",
   "language": "python",
   "name": "python3"
  },
  "language_info": {
   "codemirror_mode": {
    "name": "ipython",
    "version": 3
   },
   "file_extension": ".py",
   "mimetype": "text/x-python",
   "name": "python",
   "nbconvert_exporter": "python",
   "pygments_lexer": "ipython3",
   "version": "3.8.0"
  }
 },
 "nbformat": 4,
 "nbformat_minor": 4
}