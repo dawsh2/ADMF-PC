{
 "cells": [
  {
   "cell_type": "code",
   "execution_count": 6,
   "metadata": {},
   "outputs": [
    {
     "name": "stdout",
     "output_type": "stream",
     "text": [
      "TraceAnalysis(path='results/20250622_180858', traces=2473774)\n"
     ]
    }
   ],
   "source": [
    "import sys\n",
    "sys.path.append('../../src')\n",
    "from analytics.simple_analytics import TraceAnalysis\n",
    "import pandas as pd\n",
    "\n",
    "# Load the latest results\n",
    "ta = TraceAnalysis('results/20250622_180858')\n",
    "print(ta)"
   ]
  },
  {
   "cell_type": "markdown",
   "metadata": {},
   "source": [
    "# Keltner Strategy Analysis - Latest Results\n",
    "\n",
    "Analysis of the most recent Keltner strategy backtest results."
   ]
  },
  {
   "cell_type": "markdown",
   "metadata": {},
   "source": [
    "# Keltner Strategy Analysis - Latest Results\n",
    "\n",
    "Analysis of the most recent Keltner strategy backtest results."
   ]
  },
  {
   "cell_type": "markdown",
   "metadata": {},
   "source": [
    "# Keltner Strategy Analysis - Latest Results\n",
    "\n",
    "Analysis of the most recent Keltner strategy backtest results."
   ]
  },
  {
   "cell_type": "code",
   "execution_count": null,
   "metadata": {},
   "outputs": [],
   "source": [
    "# Signal distribution\n",
    "signals = ta.sql('''\n",
    "    SELECT \n",
    "        signal_value,\n",
    "        COUNT(*) as count,\n",
    "        COUNT(DISTINCT strategy_id) as strategies_using\n",
    "    FROM traces\n",
    "    GROUP BY signal_value\n",
    "    ORDER BY signal_value\n",
    "''')\n",
    "signals"
   ]
  },
  {
   "cell_type": "code",
   "execution_count": null,
   "metadata": {},
   "outputs": [],
   "source": [
    "# Signal distribution\n",
    "signals = ta.sql('''\n",
    "    SELECT \n",
    "        signal_value,\n",
    "        COUNT(*) as count,\n",
    "        COUNT(DISTINCT strategy_id) as strategies_using\n",
    "    FROM traces\n",
    "    GROUP BY signal_value\n",
    "    ORDER BY signal_value\n",
    "''')\n",
    "signals"
   ]
  },
  {
   "cell_type": "code",
   "execution_count": null,
   "metadata": {},
   "outputs": [],
   "source": [
    "# Signal distribution\n",
    "signals = ta.sql('''\n",
    "    SELECT \n",
    "        signal_value,\n",
    "        COUNT(*) as count,\n",
    "        COUNT(DISTINCT strategy_id) as strategies_using\n",
    "    FROM traces\n",
    "    GROUP BY signal_value\n",
    "    ORDER BY signal_value\n",
    "''')\n",
    "signals"
   ]
  },
  {
   "cell_type": "markdown",
   "metadata": {},
   "source": [
    "## Strategy Activity Analysis"
   ]
  },
  {
   "cell_type": "code",
   "execution_count": null,
   "metadata": {},
   "outputs": [],
   "source": []
  },
  {
   "cell_type": "code",
   "execution_count": null,
   "metadata": {},
   "outputs": [],
   "source": [
    "# Signal distribution\n",
    "signals = ta.sql('''\n",
    "    SELECT \n",
    "        signal_value,\n",
    "        COUNT(*) as count,\n",
    "        COUNT(DISTINCT strategy_id) as strategies_using\n",
    "    FROM traces\n",
    "    GROUP BY signal_value\n",
    "    ORDER BY signal_value\n",
    "''')\n",
    "signals"
   ]
  },
  {
   "cell_type": "code",
   "execution_count": null,
   "metadata": {},
   "outputs": [],
   "source": [
    "# Most active strategies\n",
    "active = ta.sql('''\n",
    "    SELECT \n",
    "        strategy_id,\n",
    "        COUNT(*) as signal_changes,\n",
    "        MIN(bar_idx) as first_signal,\n",
    "        MAX(bar_idx) as last_signal,\n",
    "        COUNT(DISTINCT signal_value) as unique_signals\n",
    "    FROM traces\n",
    "    GROUP BY strategy_id\n",
    "    ORDER BY signal_changes DESC\n",
    "    LIMIT 10\n",
    "''')\n",
    "print(\"Most Active Strategies:\")\n",
    "active"
   ]
  },
  {
   "cell_type": "code",
   "execution_count": null,
   "metadata": {},
   "outputs": [],
   "source": [
    "# Least active strategies\n",
    "inactive = ta.sql('''\n",
    "    SELECT \n",
    "        strategy_id,\n",
    "        COUNT(*) as signal_changes\n",
    "    FROM traces\n",
    "    GROUP BY strategy_id\n",
    "    ORDER BY signal_changes ASC\n",
    "    LIMIT 10\n",
    "''')\n",
    "print(\"Least Active Strategies:\")\n",
    "inactive"
   ]
  },
  {
   "cell_type": "markdown",
   "metadata": {},
   "source": [
    "## Trade Performance Analysis"
   ]
  },
  {
   "cell_type": "code",
   "execution_count": null,
   "metadata": {},
   "outputs": [],
   "source": [
    "# Calculate performance for all strategies\n",
    "performance = ta.sql('''\n",
    "    WITH signal_changes AS (\n",
    "        SELECT \n",
    "            strategy_id,\n",
    "            bar_idx,\n",
    "            signal_value,\n",
    "            price,\n",
    "            LAG(signal_value) OVER (PARTITION BY strategy_id ORDER BY bar_idx) as prev_signal\n",
    "        FROM traces\n",
    "    ),\n",
    "    trades AS (\n",
    "        SELECT \n",
    "            strategy_id,\n",
    "            bar_idx as entry_bar,\n",
    "            price as entry_price,\n",
    "            signal_value as direction,\n",
    "            LEAD(bar_idx) OVER (PARTITION BY strategy_id ORDER BY bar_idx) as exit_bar,\n",
    "            LEAD(price) OVER (PARTITION BY strategy_id ORDER BY bar_idx) as exit_price\n",
    "        FROM signal_changes\n",
    "        WHERE signal_value != 0 AND (prev_signal = 0 OR prev_signal IS NULL)\n",
    "    ),\n",
    "    strategy_performance AS (\n",
    "        SELECT \n",
    "            strategy_id,\n",
    "            COUNT(*) as num_trades,\n",
    "            AVG((exit_price - entry_price) / entry_price * direction * 100) as avg_return_pct,\n",
    "            SUM((exit_price - entry_price) / entry_price * direction * 100) as total_return_pct,\n",
    "            SUM(CASE WHEN (exit_price - entry_price) * direction > 0 THEN 1 ELSE 0 END) as winning_trades,\n",
    "            COUNT(*) as total_trades\n",
    "        FROM trades\n",
    "        WHERE exit_bar IS NOT NULL\n",
    "        GROUP BY strategy_id\n",
    "    )\n",
    "    SELECT \n",
    "        strategy_id,\n",
    "        num_trades,\n",
    "        ROUND(avg_return_pct, 4) as avg_return_pct,\n",
    "        ROUND(total_return_pct, 2) as total_return_pct,\n",
    "        ROUND(winning_trades * 100.0 / total_trades, 2) as win_rate_pct\n",
    "    FROM strategy_performance\n",
    "    WHERE num_trades > 10\n",
    "    ORDER BY avg_return_pct DESC\n",
    "    LIMIT 20\n",
    "''')\n",
    "print(\"Top 20 Strategies by Average Return:\")\n",
    "performance"
   ]
  },
  {
   "cell_type": "markdown",
   "metadata": {},
   "source": [
    "## Signal Frequency Distribution"
   ]
  },
  {
   "cell_type": "code",
   "execution_count": null,
   "metadata": {},
   "outputs": [],
   "source": [
    "# Distribution of signal frequencies\n",
    "frequency_dist = ta.sql('''\n",
    "    WITH strategy_signals AS (\n",
    "        SELECT \n",
    "            strategy_id,\n",
    "            COUNT(*) as signal_count\n",
    "        FROM traces\n",
    "        GROUP BY strategy_id\n",
    "    )\n",
    "    SELECT \n",
    "        CASE \n",
    "            WHEN signal_count < 10 THEN '0-9'\n",
    "            WHEN signal_count < 50 THEN '10-49'\n",
    "            WHEN signal_count < 100 THEN '50-99'\n",
    "            WHEN signal_count < 200 THEN '100-199'\n",
    "            WHEN signal_count < 500 THEN '200-499'\n",
    "            ELSE '500+'\n",
    "        END as signal_range,\n",
    "        COUNT(*) as strategy_count\n",
    "    FROM strategy_signals\n",
    "    GROUP BY signal_range\n",
    "    ORDER BY MIN(signal_count)\n",
    "''')\n",
    "print(\"Distribution of Signal Frequencies:\")\n",
    "frequency_dist"
   ]
  },
  {
   "cell_type": "markdown",
   "metadata": {},
   "source": [
    "## Saved Queries for Future Use"
   ]
  },
  {
   "cell_type": "code",
   "execution_count": 5,
   "metadata": {},
   "outputs": [
    {
     "name": "stdout",
     "output_type": "stream",
     "text": [
      "Saved queries available:\n",
      "- top_performers\n",
      "- filter_by_activity\n",
      "- trade_details\n"
     ]
    }
   ],
   "source": [
    "# Save useful queries\n",
    "queries = {\n",
    "    'top_performers': '''\n",
    "        WITH signal_changes AS (\n",
    "            SELECT \n",
    "                strategy_id,\n",
    "                bar_idx,\n",
    "                signal_value,\n",
    "                price,\n",
    "                LAG(signal_value) OVER (PARTITION BY strategy_id ORDER BY bar_idx) as prev_signal\n",
    "            FROM traces\n",
    "        ),\n",
    "        trades AS (\n",
    "            SELECT \n",
    "                strategy_id,\n",
    "                bar_idx as entry_bar,\n",
    "                price as entry_price,\n",
    "                signal_value as direction,\n",
    "                LEAD(bar_idx) OVER (PARTITION BY strategy_id ORDER BY bar_idx) as exit_bar,\n",
    "                LEAD(price) OVER (PARTITION BY strategy_id ORDER BY bar_idx) as exit_price\n",
    "            FROM signal_changes\n",
    "            WHERE signal_value != 0 AND (prev_signal = 0 OR prev_signal IS NULL)\n",
    "        )\n",
    "        SELECT \n",
    "            strategy_id,\n",
    "            COUNT(*) as num_trades,\n",
    "            ROUND(AVG((exit_price - entry_price) / entry_price * direction * 100), 4) as avg_return_pct,\n",
    "            ROUND(SUM((exit_price - entry_price) / entry_price * direction * 100), 2) as total_return_pct\n",
    "        FROM trades\n",
    "        WHERE exit_bar IS NOT NULL\n",
    "        GROUP BY strategy_id\n",
    "        HAVING COUNT(*) > 10\n",
    "        ORDER BY avg_return_pct DESC\n",
    "        LIMIT 20\n",
    "    ''',\n",
    "    \n",
    "    'filter_by_activity': '''\n",
    "        SELECT \n",
    "            strategy_id,\n",
    "            COUNT(*) as signal_changes\n",
    "        FROM traces\n",
    "        GROUP BY strategy_id\n",
    "        HAVING signal_changes BETWEEN ? AND ?\n",
    "        ORDER BY strategy_id\n",
    "    ''',\n",
    "    \n",
    "    'trade_details': '''\n",
    "        WITH signal_changes AS (\n",
    "            SELECT \n",
    "                strategy_id,\n",
    "                bar_idx,\n",
    "                signal_value,\n",
    "                price,\n",
    "                LAG(signal_value) OVER (PARTITION BY strategy_id ORDER BY bar_idx) as prev_signal\n",
    "            FROM traces\n",
    "            WHERE strategy_id = ?\n",
    "        )\n",
    "        SELECT \n",
    "            bar_idx,\n",
    "            signal_value,\n",
    "            price,\n",
    "            CASE \n",
    "                WHEN signal_value != 0 AND (prev_signal = 0 OR prev_signal IS NULL) THEN 'ENTRY'\n",
    "                WHEN signal_value = 0 AND prev_signal != 0 THEN 'EXIT'\n",
    "                ELSE 'HOLD'\n",
    "            END as action\n",
    "        FROM signal_changes\n",
    "        ORDER BY bar_idx\n",
    "    '''\n",
    "}\n",
    "\n",
    "print(\"Saved queries available:\")\n",
    "for name in queries:\n",
    "    print(f\"- {name}\")"
   ]
  },
  {
   "cell_type": "markdown",
   "metadata": {},
   "source": [
    "## Export Best Strategies"
   ]
  },
  {
   "cell_type": "code",
   "execution_count": 4,
   "metadata": {},
   "outputs": [
    {
     "ename": "NameError",
     "evalue": "name 'ta' is not defined",
     "output_type": "error",
     "traceback": [
      "\u001b[31m---------------------------------------------------------------------------\u001b[39m",
      "\u001b[31mNameError\u001b[39m                                 Traceback (most recent call last)",
      "\u001b[36mCell\u001b[39m\u001b[36m \u001b[39m\u001b[32mIn[4]\u001b[39m\u001b[32m, line 2\u001b[39m\n\u001b[32m      1\u001b[39m \u001b[38;5;66;03m# Find and export the best strategies for production\u001b[39;00m\n\u001b[32m----> \u001b[39m\u001b[32m2\u001b[39m best_strategies = \u001b[43mta\u001b[49m.sql(\u001b[33m'''\u001b[39m\n\u001b[32m      3\u001b[39m \u001b[33m    WITH signal_changes AS (\u001b[39m\n\u001b[32m      4\u001b[39m \u001b[33m        SELECT \u001b[39m\n\u001b[32m      5\u001b[39m \u001b[33m            strategy_id,\u001b[39m\n\u001b[32m      6\u001b[39m \u001b[33m            bar_idx,\u001b[39m\n\u001b[32m      7\u001b[39m \u001b[33m            signal_value,\u001b[39m\n\u001b[32m      8\u001b[39m \u001b[33m            price,\u001b[39m\n\u001b[32m      9\u001b[39m \u001b[33m            LAG(signal_value) OVER (PARTITION BY strategy_id ORDER BY bar_idx) as prev_signal\u001b[39m\n\u001b[32m     10\u001b[39m \u001b[33m        FROM traces\u001b[39m\n\u001b[32m     11\u001b[39m \u001b[33m    ),\u001b[39m\n\u001b[32m     12\u001b[39m \u001b[33m    trades AS (\u001b[39m\n\u001b[32m     13\u001b[39m \u001b[33m        SELECT \u001b[39m\n\u001b[32m     14\u001b[39m \u001b[33m            strategy_id,\u001b[39m\n\u001b[32m     15\u001b[39m \u001b[33m            bar_idx as entry_bar,\u001b[39m\n\u001b[32m     16\u001b[39m \u001b[33m            price as entry_price,\u001b[39m\n\u001b[32m     17\u001b[39m \u001b[33m            signal_value as direction,\u001b[39m\n\u001b[32m     18\u001b[39m \u001b[33m            LEAD(bar_idx) OVER (PARTITION BY strategy_id ORDER BY bar_idx) as exit_bar,\u001b[39m\n\u001b[32m     19\u001b[39m \u001b[33m            LEAD(price) OVER (PARTITION BY strategy_id ORDER BY bar_idx) as exit_price\u001b[39m\n\u001b[32m     20\u001b[39m \u001b[33m        FROM signal_changes\u001b[39m\n\u001b[32m     21\u001b[39m \u001b[33m        WHERE signal_value != 0 AND (prev_signal = 0 OR prev_signal IS NULL)\u001b[39m\n\u001b[32m     22\u001b[39m \u001b[33m    ),\u001b[39m\n\u001b[32m     23\u001b[39m \u001b[33m    strategy_metrics AS (\u001b[39m\n\u001b[32m     24\u001b[39m \u001b[33m        SELECT \u001b[39m\n\u001b[32m     25\u001b[39m \u001b[33m            strategy_id,\u001b[39m\n\u001b[32m     26\u001b[39m \u001b[33m            COUNT(*) as num_trades,\u001b[39m\n\u001b[32m     27\u001b[39m \u001b[33m            AVG((exit_price - entry_price) / entry_price * direction) as avg_return,\u001b[39m\n\u001b[32m     28\u001b[39m \u001b[33m            STDDEV((exit_price - entry_price) / entry_price * direction) as return_std,\u001b[39m\n\u001b[32m     29\u001b[39m \u001b[33m            SUM(CASE WHEN (exit_price - entry_price) * direction > 0 THEN 1 ELSE 0 END) * 100.0 / COUNT(*) as win_rate\u001b[39m\n\u001b[32m     30\u001b[39m \u001b[33m        FROM trades\u001b[39m\n\u001b[32m     31\u001b[39m \u001b[33m        WHERE exit_bar IS NOT NULL\u001b[39m\n\u001b[32m     32\u001b[39m \u001b[33m        GROUP BY strategy_id\u001b[39m\n\u001b[32m     33\u001b[39m \u001b[33m    )\u001b[39m\n\u001b[32m     34\u001b[39m \u001b[33m    SELECT \u001b[39m\n\u001b[32m     35\u001b[39m \u001b[33m        strategy_id,\u001b[39m\n\u001b[32m     36\u001b[39m \u001b[33m        num_trades,\u001b[39m\n\u001b[32m     37\u001b[39m \u001b[33m        ROUND(avg_return * 100, 4) as avg_return_pct,\u001b[39m\n\u001b[32m     38\u001b[39m \u001b[33m        ROUND(win_rate, 2) as win_rate_pct,\u001b[39m\n\u001b[32m     39\u001b[39m \u001b[33m        ROUND(avg_return / NULLIF(return_std, 0) * SQRT(252 * 78), 2) as sharpe_ratio\u001b[39m\n\u001b[32m     40\u001b[39m \u001b[33m    FROM strategy_metrics\u001b[39m\n\u001b[32m     41\u001b[39m \u001b[33m    WHERE num_trades > 50\u001b[39m\n\u001b[32m     42\u001b[39m \u001b[33m        AND avg_return > 0\u001b[39m\n\u001b[32m     43\u001b[39m \u001b[33m        AND win_rate > 45\u001b[39m\n\u001b[32m     44\u001b[39m \u001b[33m    ORDER BY sharpe_ratio DESC\u001b[39m\n\u001b[32m     45\u001b[39m \u001b[33m    LIMIT 10\u001b[39m\n\u001b[32m     46\u001b[39m \u001b[33m'''\u001b[39m)\n\u001b[32m     48\u001b[39m \u001b[38;5;28mprint\u001b[39m(\u001b[33m\"\u001b[39m\u001b[33mBest strategies for production:\u001b[39m\u001b[33m\"\u001b[39m)\n",
      "\u001b[31mNameError\u001b[39m: name 'ta' is not defined"
     ]
    }
   ],
   "source": [
    "# Find and export the best strategies for production\n",
    "best_strategies = ta.sql('''\n",
    "    WITH signal_changes AS (\n",
    "        SELECT \n",
    "            strategy_id,\n",
    "            bar_idx,\n",
    "            signal_value,\n",
    "            price,\n",
    "            LAG(signal_value) OVER (PARTITION BY strategy_id ORDER BY bar_idx) as prev_signal\n",
    "        FROM traces\n",
    "    ),\n",
    "    trades AS (\n",
    "        SELECT \n",
    "            strategy_id,\n",
    "            bar_idx as entry_bar,\n",
    "            price as entry_price,\n",
    "            signal_value as direction,\n",
    "            LEAD(bar_idx) OVER (PARTITION BY strategy_id ORDER BY bar_idx) as exit_bar,\n",
    "            LEAD(price) OVER (PARTITION BY strategy_id ORDER BY bar_idx) as exit_price\n",
    "        FROM signal_changes\n",
    "        WHERE signal_value != 0 AND (prev_signal = 0 OR prev_signal IS NULL)\n",
    "    ),\n",
    "    strategy_metrics AS (\n",
    "        SELECT \n",
    "            strategy_id,\n",
    "            COUNT(*) as num_trades,\n",
    "            AVG((exit_price - entry_price) / entry_price * direction) as avg_return,\n",
    "            STDDEV((exit_price - entry_price) / entry_price * direction) as return_std,\n",
    "            SUM(CASE WHEN (exit_price - entry_price) * direction > 0 THEN 1 ELSE 0 END) * 100.0 / COUNT(*) as win_rate\n",
    "        FROM trades\n",
    "        WHERE exit_bar IS NOT NULL\n",
    "        GROUP BY strategy_id\n",
    "    )\n",
    "    SELECT \n",
    "        strategy_id,\n",
    "        num_trades,\n",
    "        ROUND(avg_return * 100, 4) as avg_return_pct,\n",
    "        ROUND(win_rate, 2) as win_rate_pct,\n",
    "        ROUND(avg_return / NULLIF(return_std, 0) * SQRT(252 * 78), 2) as sharpe_ratio\n",
    "    FROM strategy_metrics\n",
    "    WHERE num_trades > 50\n",
    "        AND avg_return > 0\n",
    "        AND win_rate > 45\n",
    "    ORDER BY sharpe_ratio DESC\n",
    "    LIMIT 10\n",
    "''')\n",
    "\n",
    "print(\"Best strategies for production:\")\n"
   ]
  },
  {
   "cell_type": "code",
   "execution_count": 2,
   "metadata": {},
   "outputs": [
    {
     "ename": "NameError",
     "evalue": "name 'best_strategies' is not defined",
     "output_type": "error",
     "traceback": [
      "\u001b[31m---------------------------------------------------------------------------\u001b[39m",
      "\u001b[31mNameError\u001b[39m                                 Traceback (most recent call last)",
      "\u001b[36mCell\u001b[39m\u001b[36m \u001b[39m\u001b[32mIn[2]\u001b[39m\u001b[32m, line 2\u001b[39m\n\u001b[32m      1\u001b[39m \u001b[38;5;66;03m# Save to file\u001b[39;00m\n\u001b[32m----> \u001b[39m\u001b[32m2\u001b[39m \u001b[38;5;28;01mif\u001b[39;00m \u001b[38;5;28mlen\u001b[39m(\u001b[43mbest_strategies\u001b[49m) > \u001b[32m0\u001b[39m:\n\u001b[32m      3\u001b[39m     best_strategies.to_json(\u001b[33m'\u001b[39m\u001b[33mbest_keltner_strategies.json\u001b[39m\u001b[33m'\u001b[39m, orient=\u001b[33m'\u001b[39m\u001b[33mrecords\u001b[39m\u001b[33m'\u001b[39m, indent=\u001b[32m2\u001b[39m)\n\u001b[32m      4\u001b[39m     \u001b[38;5;28mprint\u001b[39m(\u001b[33mf\u001b[39m\u001b[33m\"\u001b[39m\u001b[38;5;130;01m\\n\u001b[39;00m\u001b[33mSaved \u001b[39m\u001b[38;5;132;01m{\u001b[39;00m\u001b[38;5;28mlen\u001b[39m(best_strategies)\u001b[38;5;132;01m}\u001b[39;00m\u001b[33m strategies to best_keltner_strategies.json\u001b[39m\u001b[33m\"\u001b[39m)\n",
      "\u001b[31mNameError\u001b[39m: name 'best_strategies' is not defined"
     ]
    }
   ],
   "source": [
    "# Save to file\n",
    "if len(best_strategies) > 0:\n",
    "    best_strategies.to_json('best_keltner_strategies.json', orient='records', indent=2)\n",
    "    print(f\"\\nSaved {len(best_strategies)} strategies to best_keltner_strategies.json\")"
   ]
  },
  {
   "cell_type": "code",
   "execution_count": null,
   "metadata": {},
   "outputs": [],
   "source": [
    "import sys\n",
    "sys.path.append('../../src')\n",
    "from analytics.simple_analytics import TraceAnalysis\n",
    "\n",
    "ta = TraceAnalysis('results/20250622_180858')\n",
    "\n",
    "# See how many strategies you have\n",
    "ta.sql(\"SELECT COUNT(DISTINCT strategy_id) FROM traces\")\n",
    "\n",
    "# See some actual data\n",
    "ta.sql(\"SELECT * FROM traces LIMIT 10\")"
   ]
  }
 ],
 "metadata": {
  "kernelspec": {
   "display_name": "Python 3 (ipykernel)",
   "language": "python",
   "name": "python3"
  },
  "language_info": {
   "codemirror_mode": {
    "name": "ipython",
    "version": 3
   },
   "file_extension": ".py",
   "mimetype": "text/x-python",
   "name": "python",
   "nbconvert_exporter": "python",
   "pygments_lexer": "ipython3",
   "version": "3.13.2"
  }
 },
 "nbformat": 4,
 "nbformat_minor": 4
}
