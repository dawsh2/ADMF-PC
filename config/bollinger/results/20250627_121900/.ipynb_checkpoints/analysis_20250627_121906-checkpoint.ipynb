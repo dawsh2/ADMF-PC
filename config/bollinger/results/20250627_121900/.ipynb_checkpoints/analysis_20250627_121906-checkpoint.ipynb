{
 "cells": [
  {
   "cell_type": "markdown",
   "id": "ea94aee4",
   "metadata": {
    "papermill": {
     "duration": 0.003922,
     "end_time": "2025-06-27T19:19:07.955178",
     "exception": false,
     "start_time": "2025-06-27T19:19:07.951256",
     "status": "completed"
    },
    "tags": []
   },
   "source": [
    "# Analysis Template\n",
    "\n",
    "This is a minimal template. Please install the full template."
   ]
  },
  {
   "cell_type": "code",
   "execution_count": 1,
   "id": "2d6a2509",
   "metadata": {
    "execution": {
     "iopub.execute_input": "2025-06-27T19:19:07.960305Z",
     "iopub.status.busy": "2025-06-27T19:19:07.960033Z",
     "iopub.status.idle": "2025-06-27T19:19:07.964566Z",
     "shell.execute_reply": "2025-06-27T19:19:07.964103Z"
    },
    "papermill": {
     "duration": 0.007964,
     "end_time": "2025-06-27T19:19:07.965967",
     "exception": false,
     "start_time": "2025-06-27T19:19:07.958003",
     "status": "completed"
    },
    "tags": [
     "parameters"
    ]
   },
   "outputs": [],
   "source": [
    "# parameters\n",
    "run_dir = '.'\n",
    "config_name = 'test'"
   ]
  },
  {
   "cell_type": "code",
   "execution_count": 2,
   "id": "afeacc73",
   "metadata": {
    "execution": {
     "iopub.execute_input": "2025-06-27T19:19:07.968403Z",
     "iopub.status.busy": "2025-06-27T19:19:07.968210Z",
     "iopub.status.idle": "2025-06-27T19:19:07.971289Z",
     "shell.execute_reply": "2025-06-27T19:19:07.970911Z"
    },
    "papermill": {
     "duration": 0.00546,
     "end_time": "2025-06-27T19:19:07.972372",
     "exception": false,
     "start_time": "2025-06-27T19:19:07.966912",
     "status": "completed"
    },
    "tags": [
     "injected-parameters"
    ]
   },
   "outputs": [],
   "source": [
    "# Parameters\n",
    "run_dir = \"/Users/daws/ADMF-PC/config/bollinger/results/20250627_121900\"\n",
    "config_name = \"bollinger\"\n",
    "symbols = [\"SPY\"]\n",
    "timeframe = \"5m\"\n",
    "min_strategies_to_analyze = 20\n",
    "sharpe_threshold = 1.0\n",
    "correlation_threshold = 0.7\n",
    "top_n_strategies = 10\n",
    "ensemble_size = 5\n",
    "calculate_all_performance = True\n",
    "performance_limit = 100\n"
   ]
  }
 ],
 "metadata": {
  "kernelspec": {
   "display_name": "Python 3",
   "language": "python",
   "name": "python3"
  },
  "language_info": {
   "codemirror_mode": {
    "name": "ipython",
    "version": 3
   },
   "file_extension": ".py",
   "mimetype": "text/x-python",
   "name": "python",
   "nbconvert_exporter": "python",
   "pygments_lexer": "ipython3",
   "version": "3.13.5"
  },
  "papermill": {
   "default_parameters": {},
   "duration": 1.059437,
   "end_time": "2025-06-27T19:19:08.089125",
   "environment_variables": {},
   "exception": null,
   "input_path": "/Users/daws/ADMF-PC/src/analytics/templates/universal_analysis.ipynb",
   "output_path": "config/bollinger/results/20250627_121900/analysis_20250627_121906.ipynb",
   "parameters": {
    "calculate_all_performance": true,
    "config_name": "bollinger",
    "correlation_threshold": 0.7,
    "ensemble_size": 5,
    "min_strategies_to_analyze": 20,
    "performance_limit": 100,
    "run_dir": "/Users/daws/ADMF-PC/config/bollinger/results/20250627_121900",
    "sharpe_threshold": 1.0,
    "symbols": [
     "SPY"
    ],
    "timeframe": "5m",
    "top_n_strategies": 10
   },
   "start_time": "2025-06-27T19:19:07.029688",
   "version": "2.6.0"
  }
 },
 "nbformat": 4,
 "nbformat_minor": 5
}