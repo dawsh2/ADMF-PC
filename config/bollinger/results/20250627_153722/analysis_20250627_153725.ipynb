{
 "cells": [
  {
   "cell_type": "markdown",
   "id": "7d8a919e",
   "metadata": {
    "papermill": {
     "duration": 0.001208,
     "end_time": "2025-06-27T22:37:26.486467",
     "exception": false,
     "start_time": "2025-06-27T22:37:26.485259",
     "status": "completed"
    },
    "tags": []
   },
   "source": [
    "# Analysis Template\n",
    "\n",
    "This is a minimal template. Please install the full template."
   ]
  },
  {
   "cell_type": "code",
   "execution_count": 1,
   "id": "fc33e76c",
   "metadata": {
    "execution": {
     "iopub.execute_input": "2025-06-27T22:37:26.488143Z",
     "iopub.status.busy": "2025-06-27T22:37:26.488004Z",
     "iopub.status.idle": "2025-06-27T22:37:26.490690Z",
     "shell.execute_reply": "2025-06-27T22:37:26.490469Z"
    },
    "papermill": {
     "duration": 0.004233,
     "end_time": "2025-06-27T22:37:26.491350",
     "exception": false,
     "start_time": "2025-06-27T22:37:26.487117",
     "status": "completed"
    },
    "tags": [
     "parameters"
    ]
   },
   "outputs": [],
   "source": [
    "# parameters\n",
    "run_dir = '.'\n",
    "config_name = 'test'"
   ]
  },
  {
   "cell_type": "code",
   "execution_count": 2,
   "id": "6e91adb6",
   "metadata": {
    "execution": {
     "iopub.execute_input": "2025-06-27T22:37:26.492535Z",
     "iopub.status.busy": "2025-06-27T22:37:26.492434Z",
     "iopub.status.idle": "2025-06-27T22:37:26.494224Z",
     "shell.execute_reply": "2025-06-27T22:37:26.494029Z"
    },
    "papermill": {
     "duration": 0.003077,
     "end_time": "2025-06-27T22:37:26.494852",
     "exception": false,
     "start_time": "2025-06-27T22:37:26.491775",
     "status": "completed"
    },
    "tags": [
     "injected-parameters"
    ]
   },
   "outputs": [],
   "source": [
    "# Parameters\n",
    "run_dir = \"/Users/daws/ADMF-PC/config/bollinger/results/20250627_153722\"\n",
    "config_name = \"bollinger\"\n",
    "symbols = [\"SPY\"]\n",
    "timeframe = \"5m\"\n",
    "min_strategies_to_analyze = 20\n",
    "sharpe_threshold = 1.0\n",
    "correlation_threshold = 0.7\n",
    "top_n_strategies = 10\n",
    "ensemble_size = 5\n",
    "calculate_all_performance = True\n",
    "performance_limit = 100\n"
   ]
  }
 ],
 "metadata": {
  "kernelspec": {
   "display_name": "Python 3 (ipykernel)",
   "language": "python",
   "name": "python3"
  },
  "language_info": {
   "codemirror_mode": {
    "name": "ipython",
    "version": 3
   },
   "file_extension": ".py",
   "mimetype": "text/x-python",
   "name": "python",
   "nbconvert_exporter": "python",
   "pygments_lexer": "ipython3",
   "version": "3.13.5"
  },
  "papermill": {
   "default_parameters": {},
   "duration": 1.027397,
   "end_time": "2025-06-27T22:37:26.609839",
   "environment_variables": {},
   "exception": null,
   "input_path": "/Users/daws/ADMF-PC/src/analytics/templates/universal_analysis.ipynb",
   "output_path": "config/bollinger/results/20250627_153722/analysis_20250627_153725.ipynb",
   "parameters": {
    "calculate_all_performance": true,
    "config_name": "bollinger",
    "correlation_threshold": 0.7,
    "ensemble_size": 5,
    "min_strategies_to_analyze": 20,
    "performance_limit": 100,
    "run_dir": "/Users/daws/ADMF-PC/config/bollinger/results/20250627_153722",
    "sharpe_threshold": 1,
    "symbols": [
     "SPY"
    ],
    "timeframe": "5m",
    "top_n_strategies": 10
   },
   "start_time": "2025-06-27T22:37:25.582442",
   "version": "2.6.0"
  }
 },
 "nbformat": 4,
 "nbformat_minor": 5
}
