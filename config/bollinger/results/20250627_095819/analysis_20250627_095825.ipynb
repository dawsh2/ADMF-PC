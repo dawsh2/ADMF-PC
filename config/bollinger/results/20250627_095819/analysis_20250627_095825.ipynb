{
 "cells": [
  {
   "cell_type": "code",
   "execution_count": 1,
   "id": "02da9d19",
   "metadata": {
    "papermill": {
     "duration": 0.016498,
     "end_time": "2025-06-27T16:58:26.245799",
     "exception": false,
     "start_time": "2025-06-27T16:58:26.229301",
     "status": "completed"
    },
    "tags": [
     "injected-parameters"
    ]
   },
   "outputs": [],
   "source": [
    "# Parameters\n",
    "run_dir = \"/Users/daws/ADMF-PC/config/bollinger/results/20250627_095819\"\n",
    "config_name = \"bollinger\"\n",
    "symbols = [\"SPY\"]\n",
    "timeframe = \"5m\"\n",
    "min_strategies_to_analyze = 20\n",
    "sharpe_threshold = 1.0\n",
    "correlation_threshold = 0.7\n",
    "top_n_strategies = 10\n",
    "ensemble_size = 5\n",
    "calculate_all_performance = True\n",
    "performance_limit = 100\n"
   ]
  },
  {
   "cell_type": "markdown",
   "id": "460a7083",
   "metadata": {
    "papermill": {
     "duration": 0.004396,
     "end_time": "2025-06-27T16:58:26.255335",
     "exception": false,
     "start_time": "2025-06-27T16:58:26.250939",
     "status": "completed"
    },
    "tags": []
   },
   "source": [
    "# Trade & Risk Analysis Notebook\\n\\nAnalyzes trading performance through orders, fills, and position events."
   ]
  },
  {
   "cell_type": "code",
   "execution_count": 2,
   "id": "c1645b47",
   "metadata": {
    "papermill": {
     "duration": 0.439259,
     "end_time": "2025-06-27T16:58:26.698606",
     "exception": false,
     "start_time": "2025-06-27T16:58:26.259347",
     "status": "completed"
    },
    "tags": []
   },
   "outputs": [],
   "source": [
    "import pandas as pd\n",
    "import numpy as np\n",
    "import json\n",
    "from pathlib import Path\n",
    "import matplotlib.pyplot as plt\n",
    "import seaborn as sns\n",
    "from datetime import datetime\n",
    "\n",
    "pd.set_option('display.max_columns', None)\n",
    "pd.set_option('display.width', None)\n",
    "plt.style.use('seaborn-v0_8-darkgrid')"
   ]
  },
  {
   "cell_type": "code",
   "execution_count": 3,
   "id": "a93335ed",
   "metadata": {
    "papermill": {
     "duration": 0.005821,
     "end_time": "2025-06-27T16:58:26.707903",
     "exception": false,
     "start_time": "2025-06-27T16:58:26.702082",
     "status": "completed"
    },
    "tags": []
   },
   "outputs": [],
   "source": [
    "# Parameters (for papermill)\n",
    "run_dir = '.'\n",
    "config_name = 'test'\n",
    "symbols = ['SPY']\n",
    "timeframe = '5m'"
   ]
  },
  {
   "cell_type": "markdown",
   "id": "999f1089",
   "metadata": {
    "papermill": {
     "duration": 0.003119,
     "end_time": "2025-06-27T16:58:26.715147",
     "exception": false,
     "start_time": "2025-06-27T16:58:26.712028",
     "status": "completed"
    },
    "tags": []
   },
   "source": [
    "## 1. Load Trace Data"
   ]
  },
  {
   "cell_type": "code",
   "execution_count": 4,
   "id": "ec3a3e99",
   "metadata": {
    "papermill": {
     "duration": 0.007133,
     "end_time": "2025-06-27T16:58:26.725348",
     "exception": false,
     "start_time": "2025-06-27T16:58:26.718215",
     "status": "completed"
    },
    "tags": []
   },
   "outputs": [
    {
     "name": "stdout",
     "output_type": "stream",
     "text": [
      "Loaded signals: 2762 records\n",
      "Loaded orders: 547 records\n",
      "Loaded fills: 548 records\n",
      "Loaded position opens: 1 records\n",
      "Loaded position closes: 1 records\n"
     ]
    }
   ],
   "source": [
    "# Set the results directory\n",
    "results_dir = Path('.')\n",
    "traces_dir = results_dir / 'traces'\n",
    "\n",
    "# Load trace files\n",
    "traces = {}\n",
    "\n",
    "# Strategy signals\n",
    "signals_path = list(traces_dir.rglob('signals/*/*.parquet'))\n",
    "if signals_path:\n",
    "    traces['signals'] = pd.read_parquet(signals_path[0])\n",
    "    print(f\"Loaded signals: {len(traces['signals'])} records\")\n",
    "\n",
    "# Portfolio orders\n",
    "orders_path = traces_dir / 'portfolio' / 'orders' / 'portfolio_orders.parquet'\n",
    "if orders_path.exists():\n",
    "    traces['orders'] = pd.read_parquet(orders_path)\n",
    "    print(f\"Loaded orders: {len(traces['orders'])} records\")\n",
    "\n",
    "# Execution fills\n",
    "fills_path = traces_dir / 'execution' / 'fills' / 'execution_fills.parquet'\n",
    "if fills_path.exists():\n",
    "    traces['fills'] = pd.read_parquet(fills_path)\n",
    "    print(f\"Loaded fills: {len(traces['fills'])} records\")\n",
    "\n",
    "# Position events\n",
    "pos_open_path = traces_dir / 'portfolio' / 'positions_open' / 'position_open.parquet'\n",
    "if pos_open_path.exists():\n",
    "    traces['position_open'] = pd.read_parquet(pos_open_path)\n",
    "    print(f\"Loaded position opens: {len(traces['position_open'])} records\")\n",
    "\n",
    "pos_close_path = traces_dir / 'portfolio' / 'positions_close' / 'position_close.parquet'\n",
    "if pos_close_path.exists():\n",
    "    traces['position_close'] = pd.read_parquet(pos_close_path)\n",
    "    print(f\"Loaded position closes: {len(traces['position_close'])} records\")"
   ]
  },
  {
   "cell_type": "markdown",
   "id": "3db9d354",
   "metadata": {
    "papermill": {
     "duration": 0.003153,
     "end_time": "2025-06-27T16:58:26.731754",
     "exception": false,
     "start_time": "2025-06-27T16:58:26.728601",
     "status": "completed"
    },
    "tags": []
   },
   "source": [
    "## 2. Parse Metadata"
   ]
  },
  {
   "cell_type": "code",
   "execution_count": 5,
   "id": "e122108f",
   "metadata": {
    "papermill": {
     "duration": 0.006466,
     "end_time": "2025-06-27T16:58:26.741301",
     "exception": false,
     "start_time": "2025-06-27T16:58:26.734835",
     "status": "completed"
    },
    "tags": []
   },
   "outputs": [
    {
     "name": "stdout",
     "output_type": "stream",
     "text": [
      "Parsed signals metadata: ['type', 'parameters']...\n",
      "Parsed orders metadata: ['order_id', 'symbol', 'side', 'quantity', 'order_type', 'price', 'strategy_id', 'metadata']...\n",
      "Parsed fills metadata: ['fill_id', 'order_id', 'symbol', 'side', 'quantity', 'price', 'commission', 'strategy_id', 'metadata']...\n",
      "Parsed position_open metadata: ['symbol', 'strategy_id', 'quantity', 'entry_price', 'exit_price', 'exit_type', 'exit_reason', 'metadata']...\n",
      "Parsed position_close metadata: ['symbol', 'strategy_id', 'quantity', 'entry_price', 'exit_price', 'exit_type', 'exit_reason', 'metadata']...\n"
     ]
    }
   ],
   "source": [
    "# Parse JSON metadata for all trace types\n",
    "for trace_type, df in traces.items():\n",
    "    if 'metadata' in df.columns and len(df) > 0:\n",
    "        try:\n",
    "            # Parse metadata\n",
    "            metadata_parsed = df['metadata'].apply(lambda x: json.loads(x) if x else {})\n",
    "            metadata_df = pd.DataFrame(list(metadata_parsed))\n",
    "            \n",
    "            # Add parsed columns to original dataframe\n",
    "            for col in metadata_df.columns:\n",
    "                if col not in df.columns:\n",
    "                    df[col] = metadata_df[col]\n",
    "            \n",
    "            traces[trace_type] = df  # Update with parsed data\n",
    "            print(f\"Parsed {trace_type} metadata: {list(metadata_df.columns)[:10]}...\")  # Show first 10 cols\n",
    "        except Exception as e:\n",
    "            print(f\"Error parsing {trace_type} metadata: {e}\")"
   ]
  },
  {
   "cell_type": "markdown",
   "id": "ff32ca95",
   "metadata": {
    "papermill": {
     "duration": 0.003161,
     "end_time": "2025-06-27T16:58:26.747670",
     "exception": false,
     "start_time": "2025-06-27T16:58:26.744509",
     "status": "completed"
    },
    "tags": []
   },
   "source": [
    "## 3. Reconstruct Trades from Position Events"
   ]
  },
  {
   "cell_type": "code",
   "execution_count": 6,
   "id": "441f32ed",
   "metadata": {
    "papermill": {
     "duration": 0.007779,
     "end_time": "2025-06-27T16:58:26.758564",
     "exception": false,
     "start_time": "2025-06-27T16:58:26.750785",
     "status": "completed"
    },
    "tags": []
   },
   "outputs": [
    {
     "name": "stdout",
     "output_type": "stream",
     "text": [
      "Reconstructed 1 trades\n",
      "\n",
      "Trade Summary:\n",
      "       entry_bar  exit_bar  bars_held  return_pct\n",
      "count        1.0       1.0        1.0    1.000000\n",
      "mean        72.0     151.0       79.0    0.248191\n",
      "std          NaN       NaN        NaN         NaN\n",
      "min         72.0     151.0       79.0    0.248191\n",
      "25%         72.0     151.0       79.0    0.248191\n",
      "50%         72.0     151.0       79.0    0.248191\n",
      "75%         72.0     151.0       79.0    0.248191\n",
      "max         72.0     151.0       79.0    0.248191\n"
     ]
    }
   ],
   "source": [
    "# Reconstruct trades from position events\n",
    "trades_df = None\n",
    "\n",
    "if 'position_open' in traces and 'position_close' in traces:\n",
    "    opens = traces['position_open']\n",
    "    closes = traces['position_close']\n",
    "    \n",
    "    # If we have position_id, use it for matching\n",
    "    if 'position_id' in opens.columns and 'position_id' in closes.columns:\n",
    "        # Match by position_id\n",
    "        trades_df = pd.merge(\n",
    "            opens[['position_id', 'idx', 'entry_price', 'quantity', 'strategy_id']].rename(\n",
    "                columns={'idx': 'entry_bar'}\n",
    "            ),\n",
    "            closes[['position_id', 'idx', 'exit_price', 'realized_pnl', 'exit_type', 'exit_reason']].rename(\n",
    "                columns={'idx': 'exit_bar'}\n",
    "            ),\n",
    "            on='position_id',\n",
    "            how='inner'\n",
    "        )\n",
    "    else:\n",
    "        # Simple approach: assume sequential trades\n",
    "        min_len = min(len(opens), len(closes))\n",
    "        if min_len > 0:\n",
    "            trades_df = pd.DataFrame({\n",
    "                'entry_bar': opens['idx'].iloc[:min_len].values,\n",
    "                'exit_bar': closes['idx'].iloc[:min_len].values,\n",
    "                'entry_price': opens['entry_price'].iloc[:min_len].values if 'entry_price' in opens.columns else opens['px'].iloc[:min_len].values,\n",
    "                'exit_price': closes['exit_price'].iloc[:min_len].values if 'exit_price' in closes.columns else closes['px'].iloc[:min_len].values,\n",
    "                'quantity': opens['quantity'].iloc[:min_len].values if 'quantity' in opens.columns else 100,\n",
    "                'realized_pnl': closes['realized_pnl'].iloc[:min_len].values if 'realized_pnl' in closes.columns else 0,\n",
    "                'exit_type': closes['exit_type'].iloc[:min_len].values if 'exit_type' in closes.columns else 'unknown',\n",
    "                'strategy_id': opens['strategy_id'].iloc[:min_len].values if 'strategy_id' in opens.columns else 'unknown'\n",
    "            })\n",
    "    \n",
    "    if trades_df is not None and len(trades_df) > 0:\n",
    "        # Calculate additional metrics\n",
    "        trades_df['bars_held'] = trades_df['exit_bar'] - trades_df['entry_bar']\n",
    "        trades_df['return_pct'] = (trades_df['exit_price'] - trades_df['entry_price']) / trades_df['entry_price'] * 100\n",
    "        trades_df['return_per_bar'] = trades_df['return_pct'] / trades_df['bars_held'].clip(lower=1)\n",
    "        \n",
    "        print(f\"Reconstructed {len(trades_df)} trades\")\n",
    "        print(\"\\nTrade Summary:\")\n",
    "        print(trades_df[['entry_bar', 'exit_bar', 'bars_held', 'return_pct', 'exit_type']].describe())\n",
    "    else:\n",
    "        print(\"Could not reconstruct trades - missing position events or position_id\")\n",
    "else:\n",
    "    print(\"Missing position open/close events for trade reconstruction\")"
   ]
  },
  {
   "cell_type": "code",
   "execution_count": 7,
   "id": "f3b29d2d",
   "metadata": {
    "papermill": {
     "duration": 0.008867,
     "end_time": "2025-06-27T16:58:26.770735",
     "exception": false,
     "start_time": "2025-06-27T16:58:26.761868",
     "status": "completed"
    },
    "tags": []
   },
   "outputs": [
    {
     "name": "stdout",
     "output_type": "stream",
     "text": [
      "=== PERFORMANCE METRICS ===\n",
      "\n",
      "Total trades: 1\n",
      "Winning trades: 1\n",
      "Losing trades: 0\n",
      "Win rate: 100.0%\n",
      "\n",
      "Average return per trade: 0.25%\n",
      "Total return: 0.25%\n",
      "Average winning trade: 0.25%\n",
      "Average losing trade: 0.00%\n",
      "Profit factor: inf\n",
      "\n",
      "Sharpe ratio (annualized): 0.00\n",
      "Maximum drawdown: 0.0%\n",
      "\n",
      "Average bars held: 79.0\n",
      "\n",
      "Exit type breakdown:\n"
     ]
    },
    {
     "data": {
      "image/png": "[encoded data removed]",
      "text/plain": [
       "<Figure size 1200x500 with 2 Axes>"
      ]
     },
     "metadata": {},
     "output_type": "display_data"
    }
   ],
   "source": [
    "# Calculate performance metrics\n",
    "if trades_df is not None and len(trades_df) > 0:\n",
    "    print(\"=== PERFORMANCE METRICS ===\")\n",
    "    \n",
    "    # Basic metrics\n",
    "    total_trades = len(trades_df)\n",
    "    winning_trades = (trades_df['return_pct'] > 0).sum()\n",
    "    losing_trades = (trades_df['return_pct'] < 0).sum()\n",
    "    win_rate = winning_trades / total_trades if total_trades > 0 else 0\n",
    "    \n",
    "    print(f\"\\nTotal trades: {total_trades}\")\n",
    "    print(f\"Winning trades: {winning_trades}\")\n",
    "    print(f\"Losing trades: {losing_trades}\")\n",
    "    print(f\"Win rate: {win_rate:.1%}\")\n",
    "    \n",
    "    # Return metrics\n",
    "    avg_return = trades_df['return_pct'].mean()\n",
    "    total_return = trades_df['return_pct'].sum()\n",
    "    \n",
    "    if winning_trades > 0:\n",
    "        avg_win = trades_df[trades_df['return_pct'] > 0]['return_pct'].mean()\n",
    "    else:\n",
    "        avg_win = 0\n",
    "        \n",
    "    if losing_trades > 0:\n",
    "        avg_loss = trades_df[trades_df['return_pct'] < 0]['return_pct'].mean()\n",
    "    else:\n",
    "        avg_loss = 0\n",
    "    \n",
    "    profit_factor = abs(avg_win * winning_trades) / abs(avg_loss * losing_trades) if losing_trades > 0 and avg_loss != 0 else np.inf\n",
    "    \n",
    "    print(f\"\\nAverage return per trade: {avg_return:.2f}%\")\n",
    "    print(f\"Total return: {total_return:.2f}%\")\n",
    "    print(f\"Average winning trade: {avg_win:.2f}%\")\n",
    "    print(f\"Average losing trade: {avg_loss:.2f}%\")\n",
    "    print(f\"Profit factor: {profit_factor:.2f}\")\n",
    "    \n",
    "    # Risk metrics\n",
    "    returns_std = trades_df['return_pct'].std()\n",
    "    sharpe_ratio = avg_return / returns_std * np.sqrt(252) if returns_std > 0 else 0  # Annualized\n",
    "    \n",
    "    max_dd = 0\n",
    "    peak = 0\n",
    "    cumulative_returns = (1 + trades_df['return_pct'] / 100).cumprod()\n",
    "    for value in cumulative_returns:\n",
    "        if value > peak:\n",
    "            peak = value\n",
    "        dd = (peak - value) / peak\n",
    "        if dd > max_dd:\n",
    "            max_dd = dd\n",
    "    \n",
    "    print(f\"\\nSharpe ratio (annualized): {sharpe_ratio:.2f}\")\n",
    "    print(f\"Maximum drawdown: {max_dd:.1%}\")\n",
    "    \n",
    "    # Time metrics\n",
    "    avg_bars_held = trades_df['bars_held'].mean()\n",
    "    print(f\"\\nAverage bars held: {avg_bars_held:.1f}\")\n",
    "    \n",
    "    # Exit type analysis\n",
    "    if 'exit_type' in trades_df.columns:\n",
    "        print(\"\\nExit type breakdown:\")\n",
    "        exit_counts = trades_df['exit_type'].value_counts()\n",
    "        for exit_type, count in exit_counts.items():\n",
    "            pct = count / total_trades * 100\n",
    "            avg_ret = trades_df[trades_df['exit_type'] == exit_type]['return_pct'].mean()\n",
    "            print(f\"  {exit_type}: {count} trades ({pct:.1f}%), avg return: {avg_ret:.2f}%\")\n",
    "    \n",
    "    # Plot return distribution\n",
    "    plt.figure(figsize=(12, 5))\n",
    "    \n",
    "    plt.subplot(1, 2, 1)\n",
    "    plt.hist(trades_df['return_pct'], bins=30, alpha=0.7, edgecolor='black')\n",
    "    plt.axvline(0, color='red', linestyle='--', alpha=0.5)\n",
    "    plt.axvline(avg_return, color='green', linestyle='--', label=f'Mean: {avg_return:.2f}%')\n",
    "    plt.xlabel('Return (%)')\n",
    "    plt.ylabel('Frequency')\n",
    "    plt.title('Return Distribution')\n",
    "    plt.legend()\n",
    "    \n",
    "    plt.subplot(1, 2, 2)\n",
    "    cumulative_returns.plot()\n",
    "    plt.xlabel('Trade Number')\n",
    "    plt.ylabel('Cumulative Return')\n",
    "    plt.title('Equity Curve')\n",
    "    plt.grid(True)\n",
    "    \n",
    "    plt.tight_layout()\n",
    "    plt.show()\n",
    "    \n",
    "else:\n",
    "    print(\"No trades available for performance analysis\")"
   ]
  },
  {
   "cell_type": "markdown",
   "id": "aba901c5",
   "metadata": {
    "papermill": {
     "duration": 0.003756,
     "end_time": "2025-06-27T16:58:26.778465",
     "exception": false,
     "start_time": "2025-06-27T16:58:26.774709",
     "status": "completed"
    },
    "tags": []
   },
   "source": [
    "## 4. Performance Metrics"
   ]
  },
  {
   "cell_type": "markdown",
   "id": "62a84430",
   "metadata": {
    "papermill": {
     "duration": 0.003181,
     "end_time": "2025-06-27T16:58:26.785320",
     "exception": false,
     "start_time": "2025-06-27T16:58:26.782139",
     "status": "completed"
    },
    "tags": []
   },
   "source": [
    "## 4. Performance Metrics"
   ]
  },
  {
   "cell_type": "code",
   "execution_count": 8,
   "id": "740ddf02",
   "metadata": {
    "papermill": {
     "duration": 0.006374,
     "end_time": "2025-06-27T16:58:26.794882",
     "exception": false,
     "start_time": "2025-06-27T16:58:26.788508",
     "status": "completed"
    },
    "tags": []
   },
   "outputs": [
    {
     "name": "stdout",
     "output_type": "stream",
     "text": [
      "=== Risk Management Exit Analysis ===\n",
      "Total positions closed: 1\n",
      "\n",
      "Exit types:\n",
      "\n",
      "Sample exit reasons:\n",
      "  None: None\n"
     ]
    }
   ],
   "source": [
    "if 'position_close' in traces:\n",
    "    pos_close = traces['position_close']\n",
    "    print(\"=== Risk Management Exit Analysis ===\")\n",
    "    print(f\"Total positions closed: {len(pos_close)}\")\n",
    "    \n",
    "    if 'exit_type' in pos_close.columns:\n",
    "        exit_counts = pos_close['exit_type'].value_counts()\n",
    "        print(\"\\nExit types:\")\n",
    "        for exit_type, count in exit_counts.items():\n",
    "            pct = count/len(pos_close)*100\n",
    "            print(f\"  {exit_type}: {count} ({pct:.1f}%)\")\n",
    "    \n",
    "    if 'exit_reason' in pos_close.columns:\n",
    "        print(\"\\nSample exit reasons:\")\n",
    "        for i, row in pos_close.head(5).iterrows():\n",
    "            exit_type = row.get('exit_type', 'unknown')\n",
    "            exit_reason = row.get('exit_reason', 'unknown')\n",
    "            print(f\"  {exit_type}: {exit_reason}\")"
   ]
  },
  {
   "cell_type": "code",
   "execution_count": 9,
   "id": "e73f36f5",
   "metadata": {
    "papermill": {
     "duration": 0.006501,
     "end_time": "2025-06-27T16:58:26.804729",
     "exception": false,
     "start_time": "2025-06-27T16:58:26.798228",
     "status": "completed"
    },
    "tags": []
   },
   "outputs": [
    {
     "name": "stdout",
     "output_type": "stream",
     "text": [
      "=== Signal Persistence After Risk Exits ===\n"
     ]
    }
   ],
   "source": [
    "# Check if signals persist after risk exits\n",
    "if 'signals' in traces and 'position_close' in traces:\n",
    "    signals_df = traces['signals']\n",
    "    pos_close = traces['position_close']\n",
    "    \n",
    "    print(\"=== Signal Persistence After Risk Exits ===\")\n",
    "    \n",
    "    # Find risk exits\n",
    "    if 'exit_type' in pos_close.columns:\n",
    "        risk_exits = pos_close[pos_close['exit_type'].isin(['stop_loss', 'trailing_stop'])]\n",
    "        \n",
    "        if len(risk_exits) > 0:\n",
    "            print(f\"Found {len(risk_exits)} risk exits\")\n",
    "            \n",
    "            # Check first few risk exits\n",
    "            for idx, exit_row in risk_exits.head(3).iterrows():\n",
    "                exit_bar = exit_row['idx']\n",
    "                \n",
    "                # Get signals around exit\n",
    "                next_signals = signals_df[\n",
    "                    (signals_df['idx'] >= exit_bar) & \n",
    "                    (signals_df['idx'] <= exit_bar + 5)\n",
    "                ]\n",
    "                \n",
    "                if len(next_signals) > 0:\n",
    "                    print(f\"\\nExit at bar {exit_bar} ({exit_row['exit_type']}):\")\n",
    "                    for _, sig in next_signals.iterrows():\n",
    "                        print(f\"  Bar {sig['idx']}: signal = {sig['val']}\")"
   ]
  },
  {
   "cell_type": "markdown",
   "id": "1850ec0c",
   "metadata": {
    "papermill": {
     "duration": 0.003412,
     "end_time": "2025-06-27T16:58:26.811578",
     "exception": false,
     "start_time": "2025-06-27T16:58:26.808166",
     "status": "completed"
    },
    "tags": []
   },
   "source": [
    "## 5. Risk Management Exit Analysis"
   ]
  },
  {
   "cell_type": "markdown",
   "id": "c8f96a80",
   "metadata": {
    "papermill": {
     "duration": 0.003177,
     "end_time": "2025-06-27T16:58:26.817945",
     "exception": false,
     "start_time": "2025-06-27T16:58:26.814768",
     "status": "completed"
    },
    "tags": []
   },
   "source": [
    "## 8. Summary & Recommendations"
   ]
  },
  {
   "cell_type": "markdown",
   "id": "48629ab4",
   "metadata": {
    "papermill": {
     "duration": 0.00319,
     "end_time": "2025-06-27T16:58:26.824315",
     "exception": false,
     "start_time": "2025-06-27T16:58:26.821125",
     "status": "completed"
    },
    "tags": []
   },
   "source": [
    "## 5. Order Flow Analysis"
   ]
  },
  {
   "cell_type": "code",
   "execution_count": 10,
   "id": "869da42a",
   "metadata": {
    "papermill": {
     "duration": 0.006785,
     "end_time": "2025-06-27T16:58:26.834527",
     "exception": false,
     "start_time": "2025-06-27T16:58:26.827742",
     "status": "completed"
    },
    "tags": []
   },
   "outputs": [
    {
     "name": "stdout",
     "output_type": "stream",
     "text": [
      "=== Order Flow Analysis ===\n",
      "Total orders: 547\n",
      "\n",
      "Time between orders:\n",
      "  Mean: 30.3 bars\n",
      "  Median: 20.0 bars\n",
      "  Min: 1 bars\n",
      "\n",
      "Immediate re-entries (≤1 bar): 2\n"
     ]
    },
    {
     "data": {
      "image/png": "[encoded data removed]",
      "text/plain": [
       "<Figure size 1000x500 with 1 Axes>"
      ]
     },
     "metadata": {},
     "output_type": "display_data"
    }
   ],
   "source": [
    "if 'orders' in traces:\n",
    "    orders_df = traces['orders']\n",
    "    print(\"=== Order Flow Analysis ===\")\n",
    "    print(f\"Total orders: {len(orders_df)}\")\n",
    "    \n",
    "    if len(orders_df) > 1:\n",
    "        # Calculate time between orders\n",
    "        order_gaps = orders_df['idx'].diff().dropna()\n",
    "        \n",
    "        print(f\"\\nTime between orders:\")\n",
    "        print(f\"  Mean: {order_gaps.mean():.1f} bars\")\n",
    "        print(f\"  Median: {order_gaps.median():.1f} bars\")\n",
    "        print(f\"  Min: {order_gaps.min():.0f} bars\")\n",
    "        \n",
    "        # Check for immediate re-entries\n",
    "        immediate = (order_gaps <= 1).sum()\n",
    "        print(f\"\\nImmediate re-entries (≤1 bar): {immediate}\")\n",
    "        \n",
    "        # Plot distribution\n",
    "        plt.figure(figsize=(10, 5))\n",
    "        plt.hist(order_gaps, bins=50, alpha=0.7, edgecolor='black')\n",
    "        plt.axvline(order_gaps.mean(), color='red', linestyle='--', label=f'Mean: {order_gaps.mean():.1f}')\n",
    "        plt.axvline(order_gaps.median(), color='green', linestyle='--', label=f'Median: {order_gaps.median():.1f}')\n",
    "        plt.xlabel('Bars Between Orders')\n",
    "        plt.ylabel('Frequency')\n",
    "        plt.title('Time Between Orders Distribution')\n",
    "        plt.legend()\n",
    "        plt.show()"
   ]
  },
  {
   "cell_type": "markdown",
   "id": "45ea3670",
   "metadata": {
    "papermill": {
     "duration": 0.003334,
     "end_time": "2025-06-27T16:58:26.841158",
     "exception": false,
     "start_time": "2025-06-27T16:58:26.837824",
     "status": "completed"
    },
    "tags": []
   },
   "source": [
    "## 6. Trade Performance Summary"
   ]
  },
  {
   "cell_type": "code",
   "execution_count": null,
   "id": "c6daedde-417b-43fe-8611-7b9e5ec476ad",
   "metadata": {},
   "outputs": [],
   "source": []
  }
 ],
 "metadata": {
  "kernelspec": {
   "display_name": "Python (venv)",
   "language": "python",
   "name": "venv"
  },
  "language_info": {
   "codemirror_mode": {
    "name": "ipython",
    "version": 3
   },
   "file_extension": ".py",
   "mimetype": "text/x-python",
   "name": "python",
   "nbconvert_exporter": "python",
   "pygments_lexer": "ipython3",
   "version": "3.13.5"
  },
  "papermill": {
   "default_parameters": {},
   "duration": 1.644688,
   "end_time": "2025-06-27T16:58:27.060608",
   "environment_variables": {},
   "exception": null,
   "input_path": "/Users/daws/ADMF-PC/src/analytics/templates/trade_analysis_simple.ipynb",
   "output_path": "config/bollinger/results/20250627_095819/analysis_20250627_095825.ipynb",
   "parameters": {
    "calculate_all_performance": true,
    "config_name": "bollinger",
    "correlation_threshold": 0.7,
    "ensemble_size": 5,
    "min_strategies_to_analyze": 20,
    "performance_limit": 100,
    "run_dir": "/Users/daws/ADMF-PC/config/bollinger/results/20250627_095819",
    "sharpe_threshold": 1,
    "symbols": [
     "SPY"
    ],
    "timeframe": "5m",
    "top_n_strategies": 10
   },
   "start_time": "2025-06-27T16:58:25.415920",
   "version": "2.6.0"
  }
 },
 "nbformat": 4,
 "nbformat_minor": 5
}
