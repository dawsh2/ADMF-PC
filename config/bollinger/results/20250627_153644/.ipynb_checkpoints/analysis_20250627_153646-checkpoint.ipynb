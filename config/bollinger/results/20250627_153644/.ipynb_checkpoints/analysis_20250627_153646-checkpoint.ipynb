{
 "cells": [
  {
   "cell_type": "markdown",
   "id": "37dbcd6f",
   "metadata": {
    "papermill": {
     "duration": 0.001861,
     "end_time": "2025-06-27T22:36:47.905244",
     "exception": false,
     "start_time": "2025-06-27T22:36:47.903383",
     "status": "completed"
    },
    "tags": []
   },
   "source": [
    "# Analysis Template\n",
    "\n",
    "This is a minimal template. Please install the full template."
   ]
  },
  {
   "cell_type": "code",
   "execution_count": 1,
   "id": "3981305f",
   "metadata": {
    "execution": {
     "iopub.execute_input": "2025-06-27T22:36:47.908175Z",
     "iopub.status.busy": "2025-06-27T22:36:47.907918Z",
     "iopub.status.idle": "2025-06-27T22:36:47.916803Z",
     "shell.execute_reply": "2025-06-27T22:36:47.916352Z"
    },
    "papermill": {
     "duration": 0.011589,
     "end_time": "2025-06-27T22:36:47.918077",
     "exception": false,
     "start_time": "2025-06-27T22:36:47.906488",
     "status": "completed"
    },
    "tags": [
     "parameters"
    ]
   },
   "outputs": [],
   "source": [
    "# parameters\n",
    "run_dir = '.'\n",
    "config_name = 'test'"
   ]
  },
  {
   "cell_type": "code",
   "execution_count": 2,
   "id": "7765413f",
   "metadata": {
    "execution": {
     "iopub.execute_input": "2025-06-27T22:36:47.920299Z",
     "iopub.status.busy": "2025-06-27T22:36:47.920122Z",
     "iopub.status.idle": "2025-06-27T22:36:47.922779Z",
     "shell.execute_reply": "2025-06-27T22:36:47.922434Z"
    },
    "papermill": {
     "duration": 0.004742,
     "end_time": "2025-06-27T22:36:47.923658",
     "exception": false,
     "start_time": "2025-06-27T22:36:47.918916",
     "status": "completed"
    },
    "tags": [
     "injected-parameters"
    ]
   },
   "outputs": [],
   "source": [
    "# Parameters\n",
    "run_dir = \"/Users/daws/ADMF-PC/config/bollinger/results/20250627_153644\"\n",
    "config_name = \"bollinger\"\n",
    "symbols = [\"SPY\"]\n",
    "timeframe = \"5m\"\n",
    "min_strategies_to_analyze = 20\n",
    "sharpe_threshold = 1.0\n",
    "correlation_threshold = 0.7\n",
    "top_n_strategies = 10\n",
    "ensemble_size = 5\n",
    "calculate_all_performance = True\n",
    "performance_limit = 100\n"
   ]
  }
 ],
 "metadata": {
  "kernelspec": {
   "display_name": "Python 3",
   "language": "python",
   "name": "python3"
  },
  "language_info": {
   "codemirror_mode": {
    "name": "ipython",
    "version": 3
   },
   "file_extension": ".py",
   "mimetype": "text/x-python",
   "name": "python",
   "nbconvert_exporter": "python",
   "pygments_lexer": "ipython3",
   "version": "3.13.5"
  },
  "papermill": {
   "default_parameters": {},
   "duration": 1.021449,
   "end_time": "2025-06-27T22:36:48.039757",
   "environment_variables": {},
   "exception": null,
   "input_path": "/Users/daws/ADMF-PC/src/analytics/templates/universal_analysis.ipynb",
   "output_path": "config/bollinger/results/20250627_153644/analysis_20250627_153646.ipynb",
   "parameters": {
    "calculate_all_performance": true,
    "config_name": "bollinger",
    "correlation_threshold": 0.7,
    "ensemble_size": 5,
    "min_strategies_to_analyze": 20,
    "performance_limit": 100,
    "run_dir": "/Users/daws/ADMF-PC/config/bollinger/results/20250627_153644",
    "sharpe_threshold": 1.0,
    "symbols": [
     "SPY"
    ],
    "timeframe": "5m",
    "top_n_strategies": 10
   },
   "start_time": "2025-06-27T22:36:47.018308",
   "version": "2.6.0"
  }
 },
 "nbformat": 4,
 "nbformat_minor": 5
}