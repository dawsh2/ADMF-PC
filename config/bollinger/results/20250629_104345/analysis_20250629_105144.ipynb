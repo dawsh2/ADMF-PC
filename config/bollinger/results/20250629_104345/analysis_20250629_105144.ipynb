{
 "cells": [
  {
   "cell_type": "markdown",
   "id": "4ccf2466",
   "metadata": {
    "papermill": {
     "duration": 0.012984,
     "end_time": "2025-06-29T17:51:45.988154",
     "exception": false,
     "start_time": "2025-06-29T17:51:45.975170",
     "status": "completed"
    },
    "tags": []
   },
   "source": [
    "# Universal Strategy Analysis\n",
    "\n",
    "This notebook provides comprehensive analysis across all strategies tested in a parameter sweep.\n",
    "\n",
    "**Key Features:**\n",
    "- Cross-strategy performance comparison\n",
    "- Parameter sensitivity analysis\n",
    "- Stop loss and profit target analysis with CORRECT implementation\n",
    "- Correlation analysis for ensemble building\n",
    "- Regime-specific performance breakdown\n",
    "- Automatic identification of optimal strategies and ensembles"
   ]
  },
  {
   "cell_type": "code",
   "execution_count": 1,
   "id": "49471836",
   "metadata": {
    "execution": {
     "iopub.execute_input": "2025-06-29T17:51:46.003736Z",
     "iopub.status.busy": "2025-06-29T17:51:46.003416Z",
     "iopub.status.idle": "2025-06-29T17:51:46.010225Z",
     "shell.execute_reply": "2025-06-29T17:51:46.009822Z"
    },
    "papermill": {
     "duration": 0.014915,
     "end_time": "2025-06-29T17:51:46.011461",
     "exception": false,
     "start_time": "2025-06-29T17:51:45.996546",
     "status": "completed"
    },
    "tags": [
     "parameters"
    ]
   },
   "outputs": [],
   "source": [
    "# Parameters will be injected here by papermill\n",
    "# This cell is tagged with 'parameters' for papermill to recognize it\n",
    "run_dir = \".\"\n",
    "config_name = \"config\"\n",
    "symbols = [\"SPY\"]\n",
    "timeframe = \"5m\"\n",
    "min_strategies_to_analyze = 20\n",
    "sharpe_threshold = 1.0\n",
    "correlation_threshold = 0.7\n",
    "top_n_strategies = 10\n",
    "ensemble_size = 5\n",
    "calculate_all_performance = True  # Set to False to limit analysis for large sweeps\n",
    "performance_limit = 100  # If calculate_all_performance is False, limit to this many\n",
    "\n",
    "# Enhanced analysis parameters\n",
    "execution_cost_bps = 1.0  # Round-trip execution cost in basis points\n",
    "analyze_stop_losses = True  # Whether to analyze stop loss impact\n",
    "stop_loss_levels = [0.01, 0.02, 0.03, 0.04, 0.05, 0.1, 0.15, 0.2, 0.25, 0.3, 0.35, 0.4, 0.45, 0.5, 0.75, 1.0]  # Stop loss percentages\n",
    "profit_target_levels = [0.05, 0.075, 0.1, 0.15, 0.2, 0.25, 0.3, 0.4, 0.5, 0.75, 1.0]  # Profit target percentages\n",
    "verify_intraday = True  # Whether to verify intraday constraints\n",
    "market_timezone = \"America/New_York\"  # Market timezone for constraint verification"
   ]
  },
  {
   "cell_type": "code",
   "execution_count": 2,
   "id": "5ff0dcd9",
   "metadata": {
    "execution": {
     "iopub.execute_input": "2025-06-29T17:51:46.020293Z",
     "iopub.status.busy": "2025-06-29T17:51:46.020107Z",
     "iopub.status.idle": "2025-06-29T17:51:46.022899Z",
     "shell.execute_reply": "2025-06-29T17:51:46.022480Z"
    },
    "papermill": {
     "duration": 0.007917,
     "end_time": "2025-06-29T17:51:46.023819",
     "exception": false,
     "start_time": "2025-06-29T17:51:46.015902",
     "status": "completed"
    },
    "tags": [
     "injected-parameters"
    ]
   },
   "outputs": [],
   "source": [
    "# Parameters\n",
    "run_dir = \"/Users/daws/ADMF-PC/config/bollinger/results/20250629_104345\"\n",
    "config_name = \"bollinger\"\n",
    "symbols = [\"SPY\"]\n",
    "timeframe = \"5m\"\n",
    "min_strategies_to_analyze = 20\n",
    "sharpe_threshold = 1.0\n",
    "correlation_threshold = 0.7\n",
    "top_n_strategies = 10\n",
    "ensemble_size = 5\n",
    "calculate_all_performance = True\n",
    "performance_limit = 100\n"
   ]
  },
  {
   "cell_type": "markdown",
   "id": "4707c214",
   "metadata": {
    "papermill": {
     "duration": 0.003333,
     "end_time": "2025-06-29T17:51:46.030525",
     "exception": false,
     "start_time": "2025-06-29T17:51:46.027192",
     "status": "completed"
    },
    "tags": []
   },
   "source": [
    "## Setup"
   ]
  },
  {
   "cell_type": "code",
   "execution_count": 3,
   "id": "b23e1bce",
   "metadata": {
    "execution": {
     "iopub.execute_input": "2025-06-29T17:51:46.036868Z",
     "iopub.status.busy": "2025-06-29T17:51:46.036737Z",
     "iopub.status.idle": "2025-06-29T17:51:46.854628Z",
     "shell.execute_reply": "2025-06-29T17:51:46.854395Z"
    },
    "papermill": {
     "duration": 0.821884,
     "end_time": "2025-06-29T17:51:46.855394",
     "exception": false,
     "start_time": "2025-06-29T17:51:46.033510",
     "status": "completed"
    },
    "tags": []
   },
   "outputs": [
    {
     "name": "stdout",
     "output_type": "stream",
     "text": [
      "Analyzing run: 20250629_104345\n",
      "Full path: /Users/daws/ADMF-PC/config/bollinger/results/20250629_104345\n",
      "Config: bollinger\n",
      "Symbol(s): ['SPY']\n",
      "Timeframe: 5m\n"
     ]
    }
   ],
   "source": [
    "# Imports\n",
    "import pandas as pd\n",
    "import numpy as np\n",
    "import matplotlib.pyplot as plt\n",
    "import seaborn as sns\n",
    "from pathlib import Path\n",
    "import duckdb\n",
    "import json\n",
    "from datetime import datetime\n",
    "import warnings\n",
    "warnings.filterwarnings('ignore')\n",
    "\n",
    "# Configure plotting\n",
    "plt.style.use('seaborn-v0_8-darkgrid')\n",
    "plt.rcParams['figure.figsize'] = (12, 6)\n",
    "plt.rcParams['font.size'] = 10\n",
    "\n",
    "# Initialize DuckDB\n",
    "con = duckdb.connect()\n",
    "\n",
    "# Convert run_dir to Path and resolve to absolute path\n",
    "run_dir = Path(run_dir).resolve()\n",
    "print(f\"Analyzing run: {run_dir.name}\")\n",
    "print(f\"Full path: {run_dir}\")\n",
    "print(f\"Config: {config_name}\")\n",
    "print(f\"Symbol(s): {symbols}\")\n",
    "print(f\"Timeframe: {timeframe}\")"
   ]
  },
  {
   "cell_type": "code",
   "execution_count": 4,
   "id": "8355fd83",
   "metadata": {
    "execution": {
     "iopub.execute_input": "2025-06-29T17:51:46.860266Z",
     "iopub.status.busy": "2025-06-29T17:51:46.860096Z",
     "iopub.status.idle": "2025-06-29T17:51:46.867731Z",
     "shell.execute_reply": "2025-06-29T17:51:46.867501Z"
    },
    "papermill": {
     "duration": 0.010805,
     "end_time": "2025-06-29T17:51:46.868427",
     "exception": false,
     "start_time": "2025-06-29T17:51:46.857622",
     "status": "completed"
    },
    "tags": []
   },
   "outputs": [
    {
     "name": "stdout",
     "output_type": "stream",
     "text": [
      "✅ Found project root: /Users/daws/ADMF-PC\n",
      "✅ Changed working directory to: /Users/daws/ADMF-PC/src/analytics/snippets\n",
      "✅ Original working directory saved as: /Users/daws/ADMF-PC\n",
      "\n",
      "📂 Available snippets (use %run filename.py):\n",
      "  - alternative_risk_management.py\n",
      "  - analyze_bollinger_signals_directly.py\n",
      "  - check_fill_metadata.py\n",
      "  - check_notebook_entry_logic.py\n",
      "  - compare_5edc4365.py\n",
      "  - compare_trades_direct.py\n",
      "  - complete_high_frequency_analysis.py\n",
      "  - complete_stop_target_analysis.py\n",
      "  - complete_stop_target_analysis_enhanced.py\n",
      "  - comprehensive_1m_bollinger_analysis.py\n",
      "  - comprehensive_1m_bollinger_self_contained.py\n",
      "  - comprehensive_bollinger_direct.py\n",
      "  - comprehensive_bollinger_full_featured.py\n",
      "  - comprehensive_bollinger_standalone.py\n",
      "  - corrected_performance_analysis.py\n",
      "  - debug_1550_trade.py\n",
      "  - debug_analysis_target_logic.py\n",
      "  - debug_entry_exit_timing.py\n",
      "  - debug_signal_flipping.py\n",
      "  - debug_stop_loss_issues.py\n",
      "  - debug_trade3_target.py\n",
      "  - debug_trailing_stops.py\n",
      "  - detailed_trade_comparison.py\n",
      "  - diagnose_small_movements.py\n",
      "  - equity_curve_analysis.py\n",
      "  - equity_curve_with_trailing.py\n",
      "  - execution_trace_analysis.py\n",
      "  - extract_trades_fixed.py\n",
      "  - find_strategy_params.py\n",
      "  - find_trades_variable.py\n",
      "  - fixed_execution_analysis.py\n",
      "  - granular_trailing_optimization.py\n",
      "  - helpers.py\n",
      "  - high_frequency_strategy_analysis.py\n",
      "  - high_frequency_with_regime_analysis.py\n",
      "  - inspect_fills_structure.py\n",
      "  - load_and_analyze_execution.py\n",
      "  - lookahead_bias_analysis.py\n",
      "  - micro_movement_analysis.py\n",
      "  - notebook_cell_execution_analysis.py\n",
      "  - notebook_cell_trade_analysis.py\n",
      "  - notebook_entry_check.py\n",
      "  - quick_bollinger_check.py\n",
      "  - regime_parameter_optimization.py\n",
      "  - save_analysis_trades.py\n",
      "  - save_analysis_trades_simple.py\n",
      "  - save_extracted_trades.py\n",
      "  - simple_execution_analysis.py\n",
      "  - stop_loss_analysis_correct.py\n",
      "  - stop_loss_comparison.py\n",
      "  - stop_loss_regime_analysis.py\n",
      "  - stop_target_analysis_comprehensive.py\n",
      "  - test_set_validation.py\n",
      "  - trace_exact_trades.py\n",
      "  - trade_by_trade_analysis.py\n",
      "  - trade_duration_analysis.py\n",
      "  - trade_vs_bar_metrics_comparison.py\n",
      "  - trailing_stop_activation_threshold.py\n",
      "  - trailing_stop_analysis.py\n",
      "  - trailing_stop_target_analysis.py\n",
      "  - trailing_stop_target_analysis_fixed.py\n",
      "  - trailing_stop_target_analysis_no_shift.py\n",
      "  - ultra_micro_stop_analysis.py\n",
      "  - verify_execution_costs.py\n",
      "  - verify_micro_calculations.py\n",
      "  - verify_trailing_calculations.py\n",
      "\n",
      "📁 Subdirectories:\n",
      "  - ensembles/\n",
      "      %run ensembles/find_uncorrelated.py\n",
      "      %run ensembles/cross_run_ensemble.py\n",
      "      %run ensembles/optimize_weights.py\n",
      "  - exploratory/\n",
      "      %run exploratory/parameter_sweep.py\n",
      "      %run exploratory/top_performers.py\n",
      "      %run exploratory/signal_frequency.py\n",
      "  - regime/\n",
      "      %run regime/volatility_regimes.py\n",
      "  - wfv/\n",
      "      %run wfv/is_oos_comparison.py\n",
      "      %run wfv/window_selection.py\n",
      "\n",
      "💡 Usage examples:\n",
      "  %run stop_loss_analysis_correct.py\n",
      "  %run stop_target_analysis_comprehensive.py\n",
      "  %run exploratory/signal_frequency.py\n",
      "  %run ensembles/find_uncorrelated.py\n"
     ]
    }
   ],
   "source": [
    "# Setup path for loading analysis snippets\n",
    "import sys\n",
    "import os\n",
    "from pathlib import Path\n",
    "\n",
    "# Find the project root (where src/ directory is)\n",
    "current_path = Path(run_dir).resolve()\n",
    "project_root = None\n",
    "\n",
    "# Search up the directory tree for src/analytics/snippets\n",
    "for parent in current_path.parents:\n",
    "    if (parent / 'src' / 'analytics' / 'snippets').exists():\n",
    "        project_root = parent\n",
    "        break\n",
    "\n",
    "# If not found from run_dir, try from current working directory\n",
    "if not project_root:\n",
    "    cwd = Path.cwd()\n",
    "    for parent in [cwd] + list(cwd.parents):\n",
    "        if (parent / 'src' / 'analytics' / 'snippets').exists():\n",
    "            project_root = parent\n",
    "            break\n",
    "\n",
    "# Last resort: check common project locations\n",
    "if not project_root:\n",
    "    common_roots = [\n",
    "        Path('/Users/daws/ADMF-PC'),\n",
    "        Path.home() / 'ADMF-PC',\n",
    "        Path.cwd().parent.parent.parent.parent  # 4 levels up from typical results dir\n",
    "    ]\n",
    "    for root in common_roots:\n",
    "        if root.exists() and (root / 'src' / 'analytics' / 'snippets').exists():\n",
    "            project_root = root\n",
    "            break\n",
    "\n",
    "if project_root:\n",
    "    # Add to Python path if not already there\n",
    "    if str(project_root) not in sys.path:\n",
    "        sys.path.insert(0, str(project_root))\n",
    "    \n",
    "    snippets_path = project_root / 'src' / 'analytics' / 'snippets'\n",
    "    queries_path = project_root / 'src' / 'analytics' / 'queries'\n",
    "    \n",
    "    # IMPORTANT: Change working directory to snippets folder\n",
    "    # This allows %run snippet.py to work directly\n",
    "    original_cwd = os.getcwd()\n",
    "    os.chdir(snippets_path)\n",
    "    \n",
    "    print(f\"✅ Found project root: {project_root}\")\n",
    "    print(f\"✅ Changed working directory to: {snippets_path}\")\n",
    "    print(f\"✅ Original working directory saved as: {original_cwd}\")\n",
    "    \n",
    "    # List available snippets\n",
    "    print(\"\\n📂 Available snippets (use %run filename.py):\")\n",
    "    for py_file in sorted(snippets_path.glob(\"*.py\")):\n",
    "        if not py_file.name.startswith('_'):\n",
    "            print(f\"  - {py_file.name}\")\n",
    "    \n",
    "    # List subdirectories\n",
    "    subdirs = [d for d in snippets_path.iterdir() if d.is_dir() and not d.name.startswith('_')]\n",
    "    if subdirs:\n",
    "        print(\"\\n📁 Subdirectories:\")\n",
    "        for subdir in sorted(subdirs):\n",
    "            print(f\"  - {subdir.name}/\")\n",
    "            # Show a few files in each subdirectory\n",
    "            sub_files = list(subdir.glob(\"*.py\"))[:3]\n",
    "            for f in sub_files:\n",
    "                print(f\"      %run {subdir.name}/{f.name}\")\n",
    "    \n",
    "    print(\"\\n💡 Usage examples:\")\n",
    "    print(\"  %run stop_loss_analysis_correct.py\")\n",
    "    print(\"  %run stop_target_analysis_comprehensive.py\")\n",
    "    print(\"  %run exploratory/signal_frequency.py\")\n",
    "    print(\"  %run ensembles/find_uncorrelated.py\")\n",
    "    \n",
    "    # Store paths for later use\n",
    "    _snippet_paths = {\n",
    "        'project_root': project_root,\n",
    "        'snippets': snippets_path,\n",
    "        'queries': queries_path,\n",
    "        'original_cwd': original_cwd\n",
    "    }\n",
    "else:\n",
    "    print(\"⚠️ Could not find project root with src/analytics/snippets\")\n",
    "    print(f\"  Searched from: {current_path}\")\n",
    "    print(f\"  Current working directory: {Path.cwd()}\")"
   ]
  },
  {
   "cell_type": "code",
   "execution_count": 5,
   "id": "4d24d2e6",
   "metadata": {
    "execution": {
     "iopub.execute_input": "2025-06-29T17:51:46.872812Z",
     "iopub.status.busy": "2025-06-29T17:51:46.872715Z",
     "iopub.status.idle": "2025-06-29T17:51:46.876439Z",
     "shell.execute_reply": "2025-06-29T17:51:46.876231Z"
    },
    "papermill": {
     "duration": 0.006595,
     "end_time": "2025-06-29T17:51:46.877034",
     "exception": false,
     "start_time": "2025-06-29T17:51:46.870439",
     "status": "completed"
    },
    "tags": []
   },
   "outputs": [
    {
     "name": "stdout",
     "output_type": "stream",
     "text": [
      "✅ Found project root: /Users/daws/ADMF-PC\n",
      "✅ Analysis snippets available at: /Users/daws/ADMF-PC/src/analytics/snippets\n",
      "✅ SQL queries available at: /Users/daws/ADMF-PC/src/analytics/queries\n",
      "\n",
      "You can now import snippets directly:\n",
      "  from src.analytics.snippets.stop_loss_analysis_correct import calculate_stop_loss_impact\n",
      "  from src.analytics.snippets.stop_target_analysis_comprehensive import apply_stop_target\n",
      "\n",
      "Or use %load to load any snippet:\n",
      "  %load /Users/daws/ADMF-PC/src/analytics/snippets/exploratory/signal_frequency.py\n",
      "  %load /Users/daws/ADMF-PC/src/analytics/snippets/ensembles/find_uncorrelated.py\n"
     ]
    }
   ],
   "source": [
    "# Setup path for loading analysis snippets\n",
    "import sys\n",
    "from pathlib import Path\n",
    "\n",
    "# Find the project root (where src/ directory is)\n",
    "current_path = Path(run_dir).resolve()\n",
    "project_root = None\n",
    "\n",
    "# Search up the directory tree for src/analytics/snippets\n",
    "for parent in current_path.parents:\n",
    "    if (parent / 'src' / 'analytics' / 'snippets').exists():\n",
    "        project_root = parent\n",
    "        break\n",
    "\n",
    "# If not found from run_dir, try from current working directory\n",
    "if not project_root:\n",
    "    cwd = Path.cwd()\n",
    "    for parent in [cwd] + list(cwd.parents):\n",
    "        if (parent / 'src' / 'analytics' / 'snippets').exists():\n",
    "            project_root = parent\n",
    "            break\n",
    "\n",
    "# Last resort: check common project locations\n",
    "if not project_root:\n",
    "    common_roots = [\n",
    "        Path('/Users/daws/ADMF-PC'),\n",
    "        Path.home() / 'ADMF-PC',\n",
    "        Path.cwd().parent.parent.parent.parent  # 4 levels up from typical results dir\n",
    "    ]\n",
    "    for root in common_roots:\n",
    "        if root.exists() and (root / 'src' / 'analytics' / 'snippets').exists():\n",
    "            project_root = root\n",
    "            break\n",
    "\n",
    "if project_root:\n",
    "    # Add to Python path if not already there\n",
    "    if str(project_root) not in sys.path:\n",
    "        sys.path.insert(0, str(project_root))\n",
    "    snippets_path = project_root / 'src' / 'analytics' / 'snippets'\n",
    "    queries_path = project_root / 'src' / 'analytics' / 'queries'\n",
    "    print(f\"✅ Found project root: {project_root}\")\n",
    "    print(f\"✅ Analysis snippets available at: {snippets_path}\")\n",
    "    print(f\"✅ SQL queries available at: {queries_path}\")\n",
    "    \n",
    "    # Now you can import snippets as modules\n",
    "    print(\"\\nYou can now import snippets directly:\")\n",
    "    print(\"  from src.analytics.snippets.stop_loss_analysis_correct import calculate_stop_loss_impact\")\n",
    "    print(\"  from src.analytics.snippets.stop_target_analysis_comprehensive import apply_stop_target\")\n",
    "    print(\"\\nOr use %load to load any snippet:\")\n",
    "    print(\"  %load {}/src/analytics/snippets/exploratory/signal_frequency.py\".format(project_root))\n",
    "    print(\"  %load {}/src/analytics/snippets/ensembles/find_uncorrelated.py\".format(project_root))\n",
    "else:\n",
    "    print(\"⚠️ Could not find project root with src/analytics/snippets\")\n",
    "    print(f\"  Searched from: {current_path}\")\n",
    "    print(f\"  Current working directory: {Path.cwd()}\")"
   ]
  },
  {
   "cell_type": "markdown",
   "id": "0152fc7d",
   "metadata": {
    "papermill": {
     "duration": 0.001894,
     "end_time": "2025-06-29T17:51:46.880902",
     "exception": false,
     "start_time": "2025-06-29T17:51:46.879008",
     "status": "completed"
    },
    "tags": []
   },
   "source": [
    "## Enhanced Analysis Helper Functions"
   ]
  },
  {
   "cell_type": "code",
   "execution_count": 6,
   "id": "261d631b",
   "metadata": {
    "execution": {
     "iopub.execute_input": "2025-06-29T17:51:46.887657Z",
     "iopub.status.busy": "2025-06-29T17:51:46.887528Z",
     "iopub.status.idle": "2025-06-29T17:51:46.892065Z",
     "shell.execute_reply": "2025-06-29T17:51:46.891878Z"
    },
    "papermill": {
     "duration": 0.009863,
     "end_time": "2025-06-29T17:51:46.892687",
     "exception": false,
     "start_time": "2025-06-29T17:51:46.882824",
     "status": "completed"
    },
    "tags": []
   },
   "outputs": [],
   "source": [
    "# Enhanced analysis helper functions\n",
    "import pytz\n",
    "from datetime import time\n",
    "\n",
    "def extract_trades(strategy_hash, trace_path, market_data, execution_cost_bps=1.0):\n",
    "    \"\"\"\n",
    "    Extract trades from signal trace with execution costs.\n",
    "    \n",
    "    Args:\n",
    "        strategy_hash: Strategy identifier\n",
    "        trace_path: Path to trace file\n",
    "        market_data: Market price data\n",
    "        execution_cost_bps: Round-trip execution cost in basis points (default 1bp)\n",
    "    \n",
    "    Returns:\n",
    "        DataFrame with trade details including costs\n",
    "    \"\"\"\n",
    "    try:\n",
    "        signals_path = run_dir / trace_path\n",
    "        signals = pd.read_parquet(signals_path)\n",
    "        signals['ts'] = pd.to_datetime(signals['ts'])\n",
    "        \n",
    "        # Merge with market data\n",
    "        df = market_data.merge(\n",
    "            signals[['ts', 'val', 'px']], \n",
    "            left_on='timestamp', \n",
    "            right_on='ts', \n",
    "            how='left'\n",
    "        )\n",
    "        \n",
    "        # Forward fill signals\n",
    "        df['signal'] = df['val'].ffill().fillna(0)\n",
    "        df['position'] = df['signal'].replace({0: 0, 1: 1, -1: -1})\n",
    "        df['position_change'] = df['position'].diff().fillna(0)\n",
    "        \n",
    "        trades = []\n",
    "        current_trade = None\n",
    "        \n",
    "        for idx, row in df.iterrows():\n",
    "            if row['position_change'] != 0 and row['position'] != 0:\n",
    "                # New position opened\n",
    "                if current_trade is None:\n",
    "                    current_trade = {\n",
    "                        'entry_time': row['timestamp'],\n",
    "                        'entry_price': row['px'] if pd.notna(row['px']) else row['close'],\n",
    "                        'direction': row['position'],\n",
    "                        'entry_idx': idx\n",
    "                    }\n",
    "            elif current_trade is not None and (row['position'] == 0 or row['position_change'] != 0):\n",
    "                # Position closed\n",
    "                exit_price = row['px'] if pd.notna(row['px']) else row['close']\n",
    "                \n",
    "                # Avoid division by zero - check if entry price is valid\n",
    "                if current_trade['entry_price'] == 0 or pd.isna(current_trade['entry_price']):\n",
    "                    print(f\"Warning: Invalid entry price {current_trade['entry_price']} for trade at {current_trade['entry_time']}\")\n",
    "                    current_trade = None\n",
    "                    continue\n",
    "                \n",
    "                # Calculate raw return\n",
    "                if current_trade['direction'] == 1:  # Long\n",
    "                    raw_return = (exit_price - current_trade['entry_price']) / current_trade['entry_price']\n",
    "                else:  # Short\n",
    "                    raw_return = (current_trade['entry_price'] - exit_price) / current_trade['entry_price']\n",
    "                \n",
    "                # Apply execution costs\n",
    "                cost_adjustment = execution_cost_bps / 10000  # Convert bps to decimal\n",
    "                net_return = raw_return - cost_adjustment\n",
    "                \n",
    "                trade = {\n",
    "                    'strategy_hash': strategy_hash,\n",
    "                    'entry_time': current_trade['entry_time'],\n",
    "                    'exit_time': row['timestamp'],\n",
    "                    'entry_price': current_trade['entry_price'],\n",
    "                    'exit_price': exit_price,\n",
    "                    'direction': current_trade['direction'],\n",
    "                    'raw_return': raw_return,\n",
    "                    'execution_cost': cost_adjustment,\n",
    "                    'net_return': net_return,\n",
    "                    'duration_minutes': (row['timestamp'] - current_trade['entry_time']).total_seconds() / 60,\n",
    "                    'entry_idx': current_trade['entry_idx'],\n",
    "                    'exit_idx': idx\n",
    "                }\n",
    "                trades.append(trade)\n",
    "                \n",
    "                # Reset for next trade\n",
    "                current_trade = None\n",
    "                if row['position'] != 0 and row['position_change'] != 0:\n",
    "                    # Immediately open new position (reversal)\n",
    "                    current_trade = {\n",
    "                        'entry_time': row['timestamp'],\n",
    "                        'entry_price': row['px'] if pd.notna(row['px']) else row['close'],\n",
    "                        'direction': row['position'],\n",
    "                        'entry_idx': idx\n",
    "                    }\n",
    "        \n",
    "        return pd.DataFrame(trades)\n",
    "    except Exception as e:\n",
    "        print(f\"Error extracting trades for {strategy_hash[:8]}: {e}\")\n",
    "        return pd.DataFrame()"
   ]
  },
  {
   "cell_type": "code",
   "execution_count": 7,
   "id": "85290f7d",
   "metadata": {
    "execution": {
     "iopub.execute_input": "2025-06-29T17:51:46.897279Z",
     "iopub.status.busy": "2025-06-29T17:51:46.897167Z",
     "iopub.status.idle": "2025-06-29T17:51:46.901840Z",
     "shell.execute_reply": "2025-06-29T17:51:46.901644Z"
    },
    "papermill": {
     "duration": 0.007572,
     "end_time": "2025-06-29T17:51:46.902425",
     "exception": false,
     "start_time": "2025-06-29T17:51:46.894853",
     "status": "completed"
    },
    "tags": []
   },
   "outputs": [],
   "source": [
    "def calculate_stop_loss_impact(trades_df, stop_loss_levels=None, market_data=None):\n",
    "    \"\"\"\n",
    "    Calculate returns with various stop loss levels using PROPER intraday simulation.\n",
    "    \n",
    "    THIS IS THE CORRECT IMPLEMENTATION:\n",
    "    - Checks actual intraday high/low prices\n",
    "    - Exits immediately when stop is hit\n",
    "    - Stops out trades that would have been winners too\n",
    "    - Does NOT retrospectively cap losses\n",
    "    - IMPORTANT: Fixed lookahead bias - now starts checking from entry_idx+1\n",
    "    \"\"\"\n",
    "    if stop_loss_levels is None:\n",
    "        stop_loss_levels = [0.05, 0.1, 0.15, 0.2, 0.25, 0.3, 0.4, 0.5, 0.75, 1.0]\n",
    "    \n",
    "    if market_data is None:\n",
    "        raise ValueError(\"Market data is required for proper stop loss analysis!\")\n",
    "    \n",
    "    results = []\n",
    "    \n",
    "    for sl_pct in stop_loss_levels:\n",
    "        sl_decimal = sl_pct / 100\n",
    "        \n",
    "        trades_with_sl = []\n",
    "        stopped_out_count = 0\n",
    "        stopped_winners = 0  # Trades that were stopped but would have been winners\n",
    "        \n",
    "        # Process each trade with intraday stop loss\n",
    "        for _, trade in trades_df.iterrows():\n",
    "            # IMPORTANT FIX: Start from entry_idx+1 to avoid lookahead bias\n",
    "            # We cannot check the entry bar's high/low when we enter at close\n",
    "            trade_prices = market_data.iloc[int(trade['entry_idx'])+1:int(trade['exit_idx'])+1]\n",
    "            \n",
    "            if len(trade_prices) == 0:\n",
    "                continue\n",
    "                \n",
    "            entry_price = trade['entry_price']\n",
    "            direction = trade['direction']\n",
    "            original_return = trade['net_return']  # What the trade actually returned\n",
    "            \n",
    "            # Calculate stop loss price\n",
    "            if direction == 1:  # Long position\n",
    "                stop_price = entry_price * (1 - sl_decimal)\n",
    "            else:  # Short position  \n",
    "                stop_price = entry_price * (1 + sl_decimal)\n",
    "            \n",
    "            # Check if stop loss is hit\n",
    "            stopped = False\n",
    "            exit_price = trade['exit_price']\n",
    "            exit_time = trade['exit_time']\n",
    "            \n",
    "            for idx, bar in trade_prices.iterrows():\n",
    "                if direction == 1:  # Long\n",
    "                    # Check if low price hits stop\n",
    "                    if bar['low'] <= stop_price:\n",
    "                        stopped = True\n",
    "                        stopped_out_count += 1\n",
    "                        exit_price = stop_price\n",
    "                        exit_time = bar['timestamp']\n",
    "                        # Check if this would have been a winner\n",
    "                        if original_return > 0:\n",
    "                            stopped_winners += 1\n",
    "                        break\n",
    "                else:  # Short\n",
    "                    # Check if high price hits stop\n",
    "                    if bar['high'] >= stop_price:\n",
    "                        stopped = True\n",
    "                        stopped_out_count += 1\n",
    "                        exit_price = stop_price\n",
    "                        exit_time = bar['timestamp']\n",
    "                        # Check if this would have been a winner\n",
    "                        if original_return > 0:\n",
    "                            stopped_winners += 1\n",
    "                        break\n",
    "            \n",
    "            # Calculate return with actual or stopped exit\n",
    "            if direction == 1:  # Long\n",
    "                raw_return = (exit_price - entry_price) / entry_price\n",
    "            else:  # Short\n",
    "                raw_return = (entry_price - exit_price) / entry_price\n",
    "                \n",
    "            # Apply execution costs\n",
    "            net_return = raw_return - trade['execution_cost']\n",
    "            \n",
    "            trade_result = trade.copy()\n",
    "            trade_result['raw_return'] = raw_return\n",
    "            trade_result['net_return'] = net_return\n",
    "            trade_result['stopped_out'] = stopped\n",
    "            if stopped:\n",
    "                trade_result['exit_price'] = exit_price\n",
    "                trade_result['exit_time'] = exit_time\n",
    "                \n",
    "            trades_with_sl.append(trade_result)\n",
    "        \n",
    "        trades_with_sl_df = pd.DataFrame(trades_with_sl)\n",
    "        \n",
    "        if len(trades_with_sl_df) > 0:\n",
    "            # Calculate metrics with stop loss\n",
    "            total_return = trades_with_sl_df['net_return'].sum()\n",
    "            avg_return = trades_with_sl_df['net_return'].mean()\n",
    "            win_rate = (trades_with_sl_df['net_return'] > 0).mean()\n",
    "            \n",
    "            results.append({\n",
    "                'stop_loss_pct': sl_pct,\n",
    "                'total_return': total_return,\n",
    "                'avg_return_per_trade': avg_return,\n",
    "                'win_rate': win_rate,\n",
    "                'stopped_out_count': stopped_out_count,\n",
    "                'stopped_out_rate': stopped_out_count / len(trades_with_sl_df),\n",
    "                'stopped_winners': stopped_winners,\n",
    "                'stopped_winners_pct': stopped_winners / len(trades_with_sl_df) * 100,\n",
    "                'num_trades': len(trades_with_sl_df),\n",
    "                'avg_winner': trades_with_sl_df[trades_with_sl_df['net_return'] > 0]['net_return'].mean() if (trades_with_sl_df['net_return'] > 0).any() else 0,\n",
    "                'avg_loser': trades_with_sl_df[trades_with_sl_df['net_return'] <= 0]['net_return'].mean() if (trades_with_sl_df['net_return'] <= 0).any() else 0\n",
    "            })\n",
    "    \n",
    "    return pd.DataFrame(results)"
   ]
  },
  {
   "cell_type": "code",
   "execution_count": 8,
   "id": "eb388bf0",
   "metadata": {
    "execution": {
     "iopub.execute_input": "2025-06-29T17:51:46.907210Z",
     "iopub.status.busy": "2025-06-29T17:51:46.907093Z",
     "iopub.status.idle": "2025-06-29T17:51:46.911115Z",
     "shell.execute_reply": "2025-06-29T17:51:46.910902Z"
    },
    "papermill": {
     "duration": 0.007071,
     "end_time": "2025-06-29T17:51:46.911739",
     "exception": false,
     "start_time": "2025-06-29T17:51:46.904668",
     "status": "completed"
    },
    "tags": []
   },
   "outputs": [],
   "source": [
    "def apply_stop_target(trades_df, stop_pct, target_pct, market_data):\n",
    "    \"\"\"\n",
    "    Apply both stop loss and profit target to trades.\n",
    "    \n",
    "    CORRECT IMPLEMENTATION:\n",
    "    - Checks intraday prices bar by bar\n",
    "    - Exits at first target hit (stop or profit)\n",
    "    - Properly tracks which exit was triggered\n",
    "    - Works for both long and short positions\n",
    "    - IMPORTANT: Fixed lookahead bias - now starts checking from entry_idx+1\n",
    "    \"\"\"\n",
    "    if stop_pct == 0 and target_pct == 0:\n",
    "        # No modification - return original\n",
    "        return trades_df['net_return'].values, {'stop': 0, 'target': 0, 'signal': len(trades_df)}\n",
    "    \n",
    "    modified_returns = []\n",
    "    exit_types = {'stop': 0, 'target': 0, 'signal': 0}\n",
    "    stopped_winners = 0\n",
    "    \n",
    "    for _, trade in trades_df.iterrows():\n",
    "        # IMPORTANT FIX: Start from entry_idx+1 to avoid lookahead bias\n",
    "        # We cannot check the entry bar's high/low when we enter at close\n",
    "        trade_prices = market_data.iloc[int(trade['entry_idx'])+1:int(trade['exit_idx'])+1]\n",
    "        \n",
    "        if len(trade_prices) == 0:\n",
    "            modified_returns.append(trade['net_return'])\n",
    "            exit_types['signal'] += 1\n",
    "            continue\n",
    "        \n",
    "        entry_price = trade['entry_price']\n",
    "        direction = trade['direction']\n",
    "        original_return = trade['net_return']\n",
    "        \n",
    "        # Set stop and target prices\n",
    "        if direction == 1:  # Long\n",
    "            stop_price = entry_price * (1 - stop_pct/100) if stop_pct > 0 else 0\n",
    "            target_price = entry_price * (1 + target_pct/100) if target_pct > 0 else float('inf')\n",
    "        else:  # Short\n",
    "            stop_price = entry_price * (1 + stop_pct/100) if stop_pct > 0 else float('inf')\n",
    "            target_price = entry_price * (1 - target_pct/100) if target_pct > 0 else 0\n",
    "        \n",
    "        # Check each bar for exit\n",
    "        exit_price = trade['exit_price']\n",
    "        exit_type = 'signal'\n",
    "        \n",
    "        for _, bar in trade_prices.iterrows():\n",
    "            if direction == 1:  # Long\n",
    "                # Check stop first (more conservative)\n",
    "                if stop_pct > 0 and bar['low'] <= stop_price:\n",
    "                    exit_price = stop_price\n",
    "                    exit_type = 'stop'\n",
    "                    if original_return > 0:\n",
    "                        stopped_winners += 1\n",
    "                    break\n",
    "                # Then check target\n",
    "                elif target_pct > 0 and bar['high'] >= target_price:\n",
    "                    exit_price = target_price\n",
    "                    exit_type = 'target'\n",
    "                    break\n",
    "            else:  # Short\n",
    "                # Check stop first\n",
    "                if stop_pct > 0 and bar['high'] >= stop_price:\n",
    "                    exit_price = stop_price\n",
    "                    exit_type = 'stop'\n",
    "                    if original_return > 0:\n",
    "                        stopped_winners += 1\n",
    "                    break\n",
    "                # Then check target\n",
    "                elif target_pct > 0 and bar['low'] <= target_price:\n",
    "                    exit_price = target_price\n",
    "                    exit_type = 'target'\n",
    "                    break\n",
    "        \n",
    "        exit_types[exit_type] += 1\n",
    "        \n",
    "        # Calculate return\n",
    "        if direction == 1:\n",
    "            raw_return = (exit_price - entry_price) / entry_price\n",
    "        else:\n",
    "            raw_return = (entry_price - exit_price) / entry_price\n",
    "        \n",
    "        net_return = raw_return - trade['execution_cost']\n",
    "        modified_returns.append(net_return)\n",
    "    \n",
    "    # Add stopped winners info\n",
    "    exit_types['stopped_winners'] = stopped_winners\n",
    "    \n",
    "    return np.array(modified_returns), exit_types"
   ]
  },
  {
   "cell_type": "markdown",
   "id": "8f1fefff",
   "metadata": {
    "papermill": {
     "duration": 0.001977,
     "end_time": "2025-06-29T17:51:46.915680",
     "exception": false,
     "start_time": "2025-06-29T17:51:46.913703",
     "status": "completed"
    },
    "tags": []
   },
   "source": [
    "## Load Strategy Index and Market Data"
   ]
  },
  {
   "cell_type": "code",
   "execution_count": 9,
   "id": "6ef18363",
   "metadata": {
    "execution": {
     "iopub.execute_input": "2025-06-29T17:51:46.919951Z",
     "iopub.status.busy": "2025-06-29T17:51:46.919866Z",
     "iopub.status.idle": "2025-06-29T17:51:46.979405Z",
     "shell.execute_reply": "2025-06-29T17:51:46.979187Z"
    },
    "papermill": {
     "duration": 0.062456,
     "end_time": "2025-06-29T17:51:46.980085",
     "exception": false,
     "start_time": "2025-06-29T17:51:46.917629",
     "status": "completed"
    },
    "tags": []
   },
   "outputs": [
    {
     "name": "stdout",
     "output_type": "stream",
     "text": [
      "✅ Loaded 205 strategies from /Users/daws/ADMF-PC/config/bollinger/results/20250629_104345/strategy_index.parquet\n",
      "\n",
      "Strategies by type:\n",
      "  bollinger_bands: 205\n",
      "\n",
      "Columns: ['strategy_id', 'strategy_hash', 'strategy_type', 'symbol', 'timeframe', 'constraints', 'period', 'std_dev', 'trace_path']...\n"
     ]
    }
   ],
   "source": [
    "# Load strategy index - the catalog of all strategies tested\n",
    "strategy_index_path = run_dir / 'strategy_index.parquet'\n",
    "\n",
    "if strategy_index_path.exists():\n",
    "    strategy_index = pd.read_parquet(strategy_index_path)\n",
    "    print(f\"✅ Loaded {len(strategy_index)} strategies from {strategy_index_path}\")\n",
    "    \n",
    "    # Show strategy type distribution\n",
    "    by_type = strategy_index['strategy_type'].value_counts()\n",
    "    print(\"\\nStrategies by type:\")\n",
    "    for stype, count in by_type.items():\n",
    "        print(f\"  {stype}: {count}\")\n",
    "        \n",
    "    # Show sample of columns\n",
    "    print(f\"\\nColumns: {list(strategy_index.columns)[:10]}...\")\n",
    "else:\n",
    "    print(f\"❌ No strategy_index.parquet found at {strategy_index_path}\")\n",
    "    strategy_index = None"
   ]
  },
  {
   "cell_type": "code",
   "execution_count": 10,
   "id": "ecf2cdae",
   "metadata": {
    "execution": {
     "iopub.execute_input": "2025-06-29T17:51:46.984798Z",
     "iopub.status.busy": "2025-06-29T17:51:46.984693Z",
     "iopub.status.idle": "2025-06-29T17:51:47.014542Z",
     "shell.execute_reply": "2025-06-29T17:51:47.014320Z"
    },
    "papermill": {
     "duration": 0.032879,
     "end_time": "2025-06-29T17:51:47.015134",
     "exception": false,
     "start_time": "2025-06-29T17:51:46.982255",
     "status": "completed"
    },
    "tags": []
   },
   "outputs": [
    {
     "name": "stdout",
     "output_type": "stream",
     "text": [
      "✅ Loaded market data from: /Users/daws/ADMF-PC/data/SPY_5m.csv\n",
      "   Date range: 2024-03-26 13:30:00+00:00 to 2025-04-02 19:20:00+00:00\n",
      "   Total bars: 20769\n"
     ]
    }
   ],
   "source": [
    "# Load market data\n",
    "market_data = None\n",
    "for symbol in symbols:\n",
    "    try:\n",
    "        # Try different possible locations for market data\n",
    "        data_paths = [\n",
    "            run_dir / f'data/{symbol}_{timeframe}.csv',\n",
    "            run_dir / f'{symbol}_{timeframe}.csv',\n",
    "            run_dir.parent / f'data/{symbol}_{timeframe}.csv',\n",
    "            Path(f'/Users/daws/ADMF-PC/data/{symbol}_{timeframe}.csv')\n",
    "        ]\n",
    "        \n",
    "        for data_path in data_paths:\n",
    "            if data_path.exists():\n",
    "                market_data = pd.read_csv(data_path)\n",
    "                market_data['timestamp'] = pd.to_datetime(market_data['timestamp'])\n",
    "                market_data = market_data.sort_values('timestamp')\n",
    "                print(f\"✅ Loaded market data from: {data_path}\")\n",
    "                print(f\"   Date range: {market_data['timestamp'].min()} to {market_data['timestamp'].max()}\")\n",
    "                print(f\"   Total bars: {len(market_data)}\")\n",
    "                break\n",
    "        \n",
    "        if market_data is not None:\n",
    "            break\n",
    "            \n",
    "    except Exception as e:\n",
    "        print(f\"Error loading data for {symbol}: {e}\")\n",
    "\n",
    "if market_data is None:\n",
    "    print(\"❌ Could not load market data\")\n",
    "    print(\"Tried paths:\")\n",
    "    for path in data_paths:\n",
    "        print(f\"  - {path}\")"
   ]
  },
  {
   "cell_type": "markdown",
   "id": "e13fe008",
   "metadata": {
    "papermill": {
     "duration": 0.002079,
     "end_time": "2025-06-29T17:51:47.019477",
     "exception": false,
     "start_time": "2025-06-29T17:51:47.017398",
     "status": "completed"
    },
    "tags": []
   },
   "source": [
    "## Calculate Performance Metrics"
   ]
  },
  {
   "cell_type": "code",
   "execution_count": 11,
   "id": "0d59eaee",
   "metadata": {
    "execution": {
     "iopub.execute_input": "2025-06-29T17:51:47.023963Z",
     "iopub.status.busy": "2025-06-29T17:51:47.023863Z",
     "iopub.status.idle": "2025-06-29T17:51:47.027710Z",
     "shell.execute_reply": "2025-06-29T17:51:47.027494Z"
    },
    "papermill": {
     "duration": 0.006835,
     "end_time": "2025-06-29T17:51:47.028337",
     "exception": false,
     "start_time": "2025-06-29T17:51:47.021502",
     "status": "completed"
    },
    "tags": []
   },
   "outputs": [],
   "source": [
    "def calculate_performance(strategy_hash, trace_path, market_data, execution_cost_bps=1.0):\n",
    "    \"\"\"Calculate performance metrics using TRADE-BASED approach for consistency\"\"\"\n",
    "    try:\n",
    "        # Extract actual trades\n",
    "        trades = extract_trades(strategy_hash, trace_path, market_data, execution_cost_bps)\n",
    "        \n",
    "        if len(trades) == 0:\n",
    "            return {\n",
    "                'total_return': 0,\n",
    "                'sharpe_ratio': 0,\n",
    "                'max_drawdown': 0,\n",
    "                'num_trades': 0,\n",
    "                'win_rate': 0,\n",
    "                'avg_return_per_trade': 0,\n",
    "                'profit_factor': 0,\n",
    "                'total_execution_cost': 0,\n",
    "                'avg_winner': 0,\n",
    "                'avg_loser': 0\n",
    "            }\n",
    "        \n",
    "        # Calculate cumulative returns from trades\n",
    "        trades = trades.sort_values('entry_time').reset_index(drop=True)\n",
    "        trades['cum_return'] = (1 + trades['net_return']).cumprod()\n",
    "        total_return = trades['cum_return'].iloc[-1] - 1\n",
    "        \n",
    "        # Calculate Sharpe ratio from trade returns\n",
    "        if trades['net_return'].std() > 0:\n",
    "            # Annualize based on average trades per day\n",
    "            days_in_data = (trades['exit_time'].max() - trades['entry_time'].min()).days\n",
    "            if days_in_data > 0:\n",
    "                trades_per_day = len(trades) / days_in_data\n",
    "                annualization_factor = np.sqrt(252 * trades_per_day)\n",
    "            else:\n",
    "                annualization_factor = np.sqrt(252)\n",
    "            sharpe = trades['net_return'].mean() / trades['net_return'].std() * annualization_factor\n",
    "        else:\n",
    "            sharpe = 0\n",
    "            \n",
    "        # Max drawdown from trade equity curve\n",
    "        cummax = trades['cum_return'].expanding().max()\n",
    "        drawdown = (trades['cum_return'] / cummax - 1)\n",
    "        max_dd = drawdown.min()\n",
    "        \n",
    "        # Win rate and profit factor (trade-based)\n",
    "        winning_trades = trades[trades['net_return'] > 0]\n",
    "        losing_trades = trades[trades['net_return'] <= 0]\n",
    "        \n",
    "        win_rate = len(winning_trades) / len(trades)\n",
    "        \n",
    "        if len(losing_trades) > 0 and losing_trades['net_return'].sum() != 0:\n",
    "            profit_factor = winning_trades['net_return'].sum() / abs(losing_trades['net_return'].sum())\n",
    "        else:\n",
    "            profit_factor = 999.99 if len(winning_trades) > 0 else 0\n",
    "        \n",
    "        return {\n",
    "            'total_return': total_return,\n",
    "            'sharpe_ratio': sharpe,\n",
    "            'max_drawdown': max_dd,\n",
    "            'num_trades': len(trades),\n",
    "            'win_rate': win_rate,\n",
    "            'avg_return_per_trade': trades['net_return'].mean(),\n",
    "            'profit_factor': profit_factor,\n",
    "            'avg_winner': winning_trades['net_return'].mean() if len(winning_trades) > 0 else 0,\n",
    "            'avg_loser': losing_trades['net_return'].mean() if len(losing_trades) > 0 else 0,\n",
    "            'total_execution_cost': trades['execution_cost'].sum()\n",
    "        }\n",
    "    except Exception as e:\n",
    "        print(f\"Error calculating performance for {strategy_hash}: {e}\")\n",
    "        return None"
   ]
  },
  {
   "cell_type": "code",
   "execution_count": 12,
   "id": "6ec11b91",
   "metadata": {
    "execution": {
     "iopub.execute_input": "2025-06-29T17:51:47.032990Z",
     "iopub.status.busy": "2025-06-29T17:51:47.032828Z",
     "iopub.status.idle": "2025-06-29T17:52:41.611201Z",
     "shell.execute_reply": "2025-06-29T17:52:41.610925Z"
    },
    "papermill": {
     "duration": 54.581702,
     "end_time": "2025-06-29T17:52:41.612146",
     "exception": false,
     "start_time": "2025-06-29T17:51:47.030444",
     "status": "completed"
    },
    "tags": []
   },
   "outputs": [
    {
     "name": "stdout",
     "output_type": "stream",
     "text": [
      "\n",
      "Calculating performance for 205 strategies...\n",
      "Using run directory: /Users/daws/ADMF-PC/config/bollinger/results/20250629_104345\n",
      "Execution cost: 1.0 basis points round-trip\n",
      "📊 Using TRADE-BASED metrics (win rate = winning trades / total trades)\n",
      "  Progress: 0/205 (0.0%)\n"
     ]
    },
    {
     "name": "stdout",
     "output_type": "stream",
     "text": [
      "  Progress: 10/205 (4.9%)\n"
     ]
    },
    {
     "name": "stdout",
     "output_type": "stream",
     "text": [
      "  Progress: 20/205 (9.8%)\n"
     ]
    },
    {
     "name": "stdout",
     "output_type": "stream",
     "text": [
      "  Progress: 30/205 (14.6%)\n"
     ]
    },
    {
     "name": "stdout",
     "output_type": "stream",
     "text": [
      "  Progress: 40/205 (19.5%)\n"
     ]
    },
    {
     "name": "stdout",
     "output_type": "stream",
     "text": [
      "  Progress: 50/205 (24.4%)\n"
     ]
    },
    {
     "name": "stdout",
     "output_type": "stream",
     "text": [
      "  Progress: 60/205 (29.3%)\n"
     ]
    },
    {
     "name": "stdout",
     "output_type": "stream",
     "text": [
      "  Progress: 70/205 (34.1%)\n"
     ]
    },
    {
     "name": "stdout",
     "output_type": "stream",
     "text": [
      "  Progress: 80/205 (39.0%)\n"
     ]
    },
    {
     "name": "stdout",
     "output_type": "stream",
     "text": [
      "  Progress: 90/205 (43.9%)\n"
     ]
    },
    {
     "name": "stdout",
     "output_type": "stream",
     "text": [
      "  Progress: 100/205 (48.8%)\n"
     ]
    },
    {
     "name": "stdout",
     "output_type": "stream",
     "text": [
      "  Progress: 110/205 (53.7%)\n"
     ]
    },
    {
     "name": "stdout",
     "output_type": "stream",
     "text": [
      "  Progress: 120/205 (58.5%)\n"
     ]
    },
    {
     "name": "stdout",
     "output_type": "stream",
     "text": [
      "  Progress: 130/205 (63.4%)\n"
     ]
    },
    {
     "name": "stdout",
     "output_type": "stream",
     "text": [
      "  Progress: 140/205 (68.3%)\n"
     ]
    },
    {
     "name": "stdout",
     "output_type": "stream",
     "text": [
      "  Progress: 150/205 (73.2%)\n"
     ]
    },
    {
     "name": "stdout",
     "output_type": "stream",
     "text": [
      "  Progress: 160/205 (78.0%)\n"
     ]
    },
    {
     "name": "stdout",
     "output_type": "stream",
     "text": [
      "  Progress: 170/205 (82.9%)\n"
     ]
    },
    {
     "name": "stdout",
     "output_type": "stream",
     "text": [
      "  Progress: 180/205 (87.8%)\n"
     ]
    },
    {
     "name": "stdout",
     "output_type": "stream",
     "text": [
      "  Progress: 190/205 (92.7%)\n"
     ]
    },
    {
     "name": "stdout",
     "output_type": "stream",
     "text": [
      "  Progress: 200/205 (97.6%)\n"
     ]
    },
    {
     "name": "stdout",
     "output_type": "stream",
     "text": [
      "  Progress: 205/205 (100.0%)\n",
      "\n",
      "✅ Calculated performance for 205 strategies\n"
     ]
    }
   ],
   "source": [
    "# Calculate performance for all strategies with execution costs\n",
    "if strategy_index is not None and market_data is not None:\n",
    "    performance_results = []\n",
    "    \n",
    "    # Determine strategies to analyze based on parameters\n",
    "    strategies_to_analyze = strategy_index\n",
    "    \n",
    "    if not calculate_all_performance and len(strategy_index) > performance_limit:\n",
    "        print(f\"Note: Large parameter sweep detected ({len(strategy_index)} strategies)\")\n",
    "        print(f\"Limiting analysis to {performance_limit} strategies (set calculate_all_performance=True to analyze all)\")\n",
    "        \n",
    "        # Sample diverse strategies across all types\n",
    "        strategies_to_analyze = strategy_index.groupby('strategy_type').apply(\n",
    "            lambda x: x.sample(n=min(len(x), performance_limit // strategy_index['strategy_type'].nunique()), \n",
    "                             random_state=42)\n",
    "        ).reset_index(drop=True)\n",
    "    \n",
    "    print(f\"\\nCalculating performance for {len(strategies_to_analyze)} strategies...\")\n",
    "    print(f\"Using run directory: {run_dir}\")\n",
    "    print(f\"Execution cost: {execution_cost_bps} basis points round-trip\")\n",
    "    print(f\"📊 Using TRADE-BASED metrics (win rate = winning trades / total trades)\")\n",
    "    \n",
    "    for idx, row in strategies_to_analyze.iterrows():\n",
    "        if idx % 10 == 0:\n",
    "            print(f\"  Progress: {idx}/{len(strategies_to_analyze)} ({idx/len(strategies_to_analyze)*100:.1f}%)\")\n",
    "            \n",
    "        perf = calculate_performance(row['strategy_hash'], row['trace_path'], market_data, execution_cost_bps)\n",
    "        \n",
    "        if perf:\n",
    "            # Combine strategy info with performance\n",
    "            result = {**row.to_dict(), **perf}\n",
    "            performance_results.append(result)\n",
    "    \n",
    "    print(f\"  Progress: {len(strategies_to_analyze)}/{len(strategies_to_analyze)} (100.0%)\")\n",
    "    \n",
    "    performance_df = pd.DataFrame(performance_results)\n",
    "    print(f\"\\n✅ Calculated performance for {len(performance_df)} strategies\")\n",
    "else:\n",
    "    performance_df = pd.DataFrame()\n",
    "    print(\"⚠️ Skipping performance calculation\")"
   ]
  },
  {
   "cell_type": "code",
   "execution_count": 13,
   "id": "6cb65487",
   "metadata": {
    "execution": {
     "iopub.execute_input": "2025-06-29T17:52:41.622844Z",
     "iopub.status.busy": "2025-06-29T17:52:41.622586Z",
     "iopub.status.idle": "2025-06-29T17:52:41.634353Z",
     "shell.execute_reply": "2025-06-29T17:52:41.634130Z"
    },
    "papermill": {
     "duration": 0.015567,
     "end_time": "2025-06-29T17:52:41.634956",
     "exception": false,
     "start_time": "2025-06-29T17:52:41.619389",
     "status": "completed"
    },
    "tags": []
   },
   "outputs": [
    {
     "name": "stdout",
     "output_type": "stream",
     "text": [
      "\n",
      "🏆 Top 20 Strategies by Sharpe Ratio (with Win Rate & Avg Return/Trade)\n",
      "========================================================================================================================\n",
      "Rank  Strategy Type        Sharpe   Total Return Win Rate   Avg Return/Trade # Trades   Profit Factor\n",
      "------------------------------------------------------------------------------------------------------------------------\n",
      "1     bollinger_bands         0.51         0.6%      55.6%           0.013%        45        1.35\n",
      "2     bollinger_bands         0.43         0.5%      52.9%           0.007%        70        1.22\n",
      "3     bollinger_bands         0.00         0.0%       0.0%           0.000%         0        0.00\n",
      "4     bollinger_bands        -0.12        -0.2%      50.6%          -0.001%       176        0.97\n",
      "5     bollinger_bands        -0.18        -0.3%      50.9%          -0.002%       159        0.95\n",
      "6     bollinger_bands        -0.25        -0.5%      52.9%          -0.002%       187        0.94\n",
      "7     bollinger_bands        -0.27        -0.4%      50.0%          -0.003%       126        0.92\n",
      "8     bollinger_bands        -0.37        -0.6%      49.4%          -0.004%       166        0.90\n",
      "9     bollinger_bands        -0.39        -0.7%      50.0%          -0.004%       166        0.90\n",
      "10    bollinger_bands        -0.42        -0.6%      49.5%          -0.006%        99        0.86\n",
      "11    bollinger_bands        -0.64        -1.2%      49.4%          -0.005%       251        0.87\n",
      "12    bollinger_bands        -0.64        -1.2%      53.0%          -0.007%       181        0.84\n",
      "13    bollinger_bands        -0.64        -1.0%      49.0%          -0.006%       153        0.83\n",
      "14    bollinger_bands        -0.65        -1.0%      51.4%          -0.007%       146        0.83\n",
      "15    bollinger_bands        -0.75        -1.4%      52.1%          -0.008%       190        0.82\n",
      "16    bollinger_bands        -0.84        -1.3%      48.9%          -0.010%       139        0.78\n",
      "17    bollinger_bands        -0.85        -3.0%      51.4%          -0.003%      1035        0.91\n",
      "18    bollinger_bands        -0.89        -2.3%      54.5%          -0.011%       202        0.81\n",
      "19    bollinger_bands        -0.90        -2.1%      51.7%          -0.010%       203        0.79\n",
      "20    bollinger_bands        -0.90        -3.4%      54.5%          -0.004%       938        0.90\n",
      "\n",
      "📊 Overall Performance Summary:\n",
      "Total strategies analyzed: 205\n",
      "Average win rate: 56.7%\n",
      "Average return per trade: -0.011%\n",
      "Strategies with positive Sharpe: 2 (1.0%)\n",
      "Strategies with win rate > 50%: 179 (87.3%)\n",
      "\n",
      "📈 Win Rate Distribution:\n",
      "  < 30%: 0 strategies (0.0%)\n",
      "  30-40%: 0 strategies (0.0%)\n",
      "  40-45%: 0 strategies (0.0%)\n",
      "  45-50%: 25 strategies (12.2%)\n",
      "  50-55%: 51 strategies (24.9%)\n",
      "  55-60%: 71 strategies (34.6%)\n",
      "  60-70%: 57 strategies (27.8%)\n",
      "  > 70%: 0 strategies (0.0%)\n",
      "\n",
      "💰 Average Return per Trade Distribution:\n",
      "  < -0.5%: 0 strategies (0.0%)\n",
      "  -0.5% to -0.2%: 0 strategies (0.0%)\n",
      "  -0.2% to 0%: 203 strategies (99.0%)\n",
      "  0% to 0.2%: 2 strategies (1.0%)\n",
      "  0.2% to 0.5%: 0 strategies (0.0%)\n",
      "  0.5% to 1%: 0 strategies (0.0%)\n",
      "  > 1%: 0 strategies (0.0%)\n"
     ]
    }
   ],
   "source": [
    "# Display top strategies with key metrics\n",
    "if len(performance_df) > 0:\n",
    "    print(\"\\n🏆 Top 20 Strategies by Sharpe Ratio (with Win Rate & Avg Return/Trade)\")\n",
    "    print(\"=\" * 120)\n",
    "    \n",
    "    # Sort by Sharpe ratio and show top strategies\n",
    "    top_strategies = performance_df.nlargest(20, 'sharpe_ratio')\n",
    "    \n",
    "    # Display metrics in a formatted way\n",
    "    print(f\"{'Rank':<5} {'Strategy Type':<20} {'Sharpe':<8} {'Total Return':<12} {'Win Rate':<10} {'Avg Return/Trade':<16} {'# Trades':<10} {'Profit Factor':<12}\")\n",
    "    print(\"-\" * 120)\n",
    "    \n",
    "    for idx, (_, row) in enumerate(top_strategies.iterrows(), 1):\n",
    "        print(f\"{idx:<5} {row['strategy_type']:<20} {row['sharpe_ratio']:>7.2f} {row['total_return']*100:>11.1f}% {row['win_rate']*100:>9.1f}% {row['avg_return_per_trade']*100:>15.3f}% {row['num_trades']:>9} {min(row['profit_factor'], 99.99):>11.2f}\")\n",
    "    \n",
    "    # Summary statistics\n",
    "    print(\"\\n📊 Overall Performance Summary:\")\n",
    "    print(f\"Total strategies analyzed: {len(performance_df)}\")\n",
    "    print(f\"Average win rate: {performance_df['win_rate'].mean()*100:.1f}%\")\n",
    "    print(f\"Average return per trade: {performance_df['avg_return_per_trade'].mean()*100:.3f}%\")\n",
    "    print(f\"Strategies with positive Sharpe: {(performance_df['sharpe_ratio'] > 0).sum()} ({(performance_df['sharpe_ratio'] > 0).mean()*100:.1f}%)\")\n",
    "    print(f\"Strategies with win rate > 50%: {(performance_df['win_rate'] > 0.5).sum()} ({(performance_df['win_rate'] > 0.5).mean()*100:.1f}%)\")\n",
    "    \n",
    "    # Distribution analysis\n",
    "    print(\"\\n📈 Win Rate Distribution:\")\n",
    "    win_rate_bins = [0, 0.3, 0.4, 0.45, 0.5, 0.55, 0.6, 0.7, 1.0]\n",
    "    win_rate_labels = ['< 30%', '30-40%', '40-45%', '45-50%', '50-55%', '55-60%', '60-70%', '> 70%']\n",
    "    performance_df['win_rate_bin'] = pd.cut(performance_df['win_rate'], bins=win_rate_bins, labels=win_rate_labels)\n",
    "    win_rate_dist = performance_df['win_rate_bin'].value_counts().sort_index()\n",
    "    \n",
    "    for bin_label, count in win_rate_dist.items():\n",
    "        pct = count / len(performance_df) * 100\n",
    "        print(f\"  {bin_label}: {count} strategies ({pct:.1f}%)\")\n",
    "    \n",
    "    # Average return per trade distribution\n",
    "    print(\"\\n💰 Average Return per Trade Distribution:\")\n",
    "    return_bins = [-np.inf, -0.005, -0.002, 0, 0.002, 0.005, 0.01, np.inf]\n",
    "    return_labels = ['< -0.5%', '-0.5% to -0.2%', '-0.2% to 0%', '0% to 0.2%', '0.2% to 0.5%', '0.5% to 1%', '> 1%']\n",
    "    performance_df['return_bin'] = pd.cut(performance_df['avg_return_per_trade'], bins=return_bins, labels=return_labels)\n",
    "    return_dist = performance_df['return_bin'].value_counts().sort_index()\n",
    "    \n",
    "    for bin_label, count in return_dist.items():\n",
    "        pct = count / len(performance_df) * 100\n",
    "        print(f\"  {bin_label}: {count} strategies ({pct:.1f}%)\")"
   ]
  },
  {
   "cell_type": "markdown",
   "id": "a47de70c",
   "metadata": {
    "papermill": {
     "duration": 0.002554,
     "end_time": "2025-06-29T17:52:41.640537",
     "exception": false,
     "start_time": "2025-06-29T17:52:41.637983",
     "status": "completed"
    },
    "tags": []
   },
   "source": [
    "## Stop Loss and Profit Target Optimization"
   ]
  },
  {
   "cell_type": "code",
   "execution_count": 14,
   "id": "ac4c6382",
   "metadata": {
    "execution": {
     "iopub.execute_input": "2025-06-29T17:52:41.645922Z",
     "iopub.status.busy": "2025-06-29T17:52:41.645803Z",
     "iopub.status.idle": "2025-06-29T17:55:52.724954Z",
     "shell.execute_reply": "2025-06-29T17:55:52.724682Z"
    },
    "papermill": {
     "duration": 191.082893,
     "end_time": "2025-06-29T17:55:52.725877",
     "exception": false,
     "start_time": "2025-06-29T17:52:41.642984",
     "status": "completed"
    },
    "tags": []
   },
   "outputs": [
    {
     "name": "stdout",
     "output_type": "stream",
     "text": [
      "\n",
      "🎯 Optimizing Stop Loss and Profit Target for Each Strategy\n",
      "================================================================================\n",
      "\n",
      "Analyzing strategy 1/205...\n"
     ]
    },
    {
     "name": "stdout",
     "output_type": "stream",
     "text": [
      "\n",
      "Analyzing strategy 6/205...\n"
     ]
    },
    {
     "name": "stdout",
     "output_type": "stream",
     "text": [
      "\n",
      "Analyzing strategy 11/205...\n"
     ]
    },
    {
     "name": "stdout",
     "output_type": "stream",
     "text": [
      "\n",
      "Analyzing strategy 16/205...\n"
     ]
    },
    {
     "name": "stdout",
     "output_type": "stream",
     "text": [
      "\n",
      "Analyzing strategy 21/205...\n"
     ]
    },
    {
     "name": "stdout",
     "output_type": "stream",
     "text": [
      "\n",
      "Analyzing strategy 26/205...\n"
     ]
    },
    {
     "name": "stdout",
     "output_type": "stream",
     "text": [
      "\n",
      "Analyzing strategy 31/205...\n"
     ]
    },
    {
     "name": "stdout",
     "output_type": "stream",
     "text": [
      "\n",
      "Analyzing strategy 36/205...\n"
     ]
    },
    {
     "name": "stdout",
     "output_type": "stream",
     "text": [
      "\n",
      "Analyzing strategy 41/205...\n"
     ]
    },
    {
     "name": "stdout",
     "output_type": "stream",
     "text": [
      "\n",
      "Analyzing strategy 46/205...\n"
     ]
    },
    {
     "name": "stdout",
     "output_type": "stream",
     "text": [
      "\n",
      "Analyzing strategy 51/205...\n"
     ]
    },
    {
     "name": "stdout",
     "output_type": "stream",
     "text": [
      "\n",
      "Analyzing strategy 56/205...\n"
     ]
    },
    {
     "name": "stdout",
     "output_type": "stream",
     "text": [
      "\n",
      "Analyzing strategy 61/205...\n"
     ]
    },
    {
     "name": "stdout",
     "output_type": "stream",
     "text": [
      "\n",
      "Analyzing strategy 66/205...\n"
     ]
    },
    {
     "name": "stdout",
     "output_type": "stream",
     "text": [
      "\n",
      "Analyzing strategy 71/205...\n"
     ]
    },
    {
     "name": "stdout",
     "output_type": "stream",
     "text": [
      "\n",
      "Analyzing strategy 76/205...\n"
     ]
    },
    {
     "name": "stdout",
     "output_type": "stream",
     "text": [
      "\n",
      "Analyzing strategy 81/205...\n"
     ]
    },
    {
     "name": "stdout",
     "output_type": "stream",
     "text": [
      "\n",
      "Analyzing strategy 86/205...\n"
     ]
    },
    {
     "name": "stdout",
     "output_type": "stream",
     "text": [
      "\n",
      "Analyzing strategy 91/205...\n"
     ]
    },
    {
     "name": "stdout",
     "output_type": "stream",
     "text": [
      "\n",
      "Analyzing strategy 96/205...\n"
     ]
    },
    {
     "name": "stdout",
     "output_type": "stream",
     "text": [
      "\n",
      "Analyzing strategy 101/205...\n"
     ]
    },
    {
     "name": "stdout",
     "output_type": "stream",
     "text": [
      "\n",
      "Analyzing strategy 106/205...\n"
     ]
    },
    {
     "name": "stdout",
     "output_type": "stream",
     "text": [
      "\n",
      "Analyzing strategy 111/205...\n"
     ]
    },
    {
     "name": "stdout",
     "output_type": "stream",
     "text": [
      "\n",
      "Analyzing strategy 116/205...\n"
     ]
    },
    {
     "name": "stdout",
     "output_type": "stream",
     "text": [
      "\n",
      "Analyzing strategy 121/205...\n"
     ]
    },
    {
     "name": "stdout",
     "output_type": "stream",
     "text": [
      "\n",
      "Analyzing strategy 126/205...\n"
     ]
    },
    {
     "name": "stdout",
     "output_type": "stream",
     "text": [
      "\n",
      "Analyzing strategy 131/205...\n"
     ]
    },
    {
     "name": "stdout",
     "output_type": "stream",
     "text": [
      "\n",
      "Analyzing strategy 136/205...\n"
     ]
    },
    {
     "name": "stdout",
     "output_type": "stream",
     "text": [
      "\n",
      "Analyzing strategy 141/205...\n"
     ]
    },
    {
     "name": "stdout",
     "output_type": "stream",
     "text": [
      "\n",
      "Analyzing strategy 146/205...\n"
     ]
    },
    {
     "name": "stdout",
     "output_type": "stream",
     "text": [
      "\n",
      "Analyzing strategy 151/205...\n"
     ]
    },
    {
     "name": "stdout",
     "output_type": "stream",
     "text": [
      "\n",
      "Analyzing strategy 156/205...\n"
     ]
    },
    {
     "name": "stdout",
     "output_type": "stream",
     "text": [
      "\n",
      "Analyzing strategy 161/205...\n"
     ]
    },
    {
     "name": "stdout",
     "output_type": "stream",
     "text": [
      "\n",
      "Analyzing strategy 166/205...\n"
     ]
    },
    {
     "name": "stdout",
     "output_type": "stream",
     "text": [
      "\n",
      "Analyzing strategy 171/205...\n"
     ]
    },
    {
     "name": "stdout",
     "output_type": "stream",
     "text": [
      "\n",
      "Analyzing strategy 176/205...\n"
     ]
    },
    {
     "name": "stdout",
     "output_type": "stream",
     "text": [
      "\n",
      "Analyzing strategy 181/205...\n"
     ]
    },
    {
     "name": "stdout",
     "output_type": "stream",
     "text": [
      "\n",
      "Analyzing strategy 186/205...\n"
     ]
    },
    {
     "name": "stdout",
     "output_type": "stream",
     "text": [
      "\n",
      "Analyzing strategy 191/205...\n"
     ]
    },
    {
     "name": "stdout",
     "output_type": "stream",
     "text": [
      "\n",
      "Analyzing strategy 196/205...\n"
     ]
    },
    {
     "name": "stdout",
     "output_type": "stream",
     "text": [
      "\n",
      "Analyzing strategy 201/205...\n"
     ]
    },
    {
     "name": "stdout",
     "output_type": "stream",
     "text": [
      "\n",
      "✅ Optimized 204 strategies\n",
      "\n",
      "🏆 Top 10 Strategies After Stop/Target Optimization:\n",
      "============================================================================================================================================\n",
      "\n",
      "bollinger_bands - 80e0a9bf\n",
      "  Parameters: period=11, std_dev=3.0\n",
      "  Original: Sharpe=0.51, Return=0.6%, Win Rate=55.6%, Avg/Trade=0.013%\n",
      "  Optimal: Stop=0.200%, Target=0.400%\n",
      "  Result: Sharpe=0.62, Return=0.5%, Win Rate=55.6%, Avg/Trade=0.011%\n",
      "  Improvement: Sharpe +0.11, Win Rate +0.0%\n",
      "\n",
      "bollinger_bands - f211c3bb\n",
      "  Parameters: period=12, std_dev=3.0\n",
      "  Original: Sharpe=0.43, Return=0.5%, Win Rate=52.9%, Avg/Trade=0.007%\n",
      "  Optimal: Stop=0.300%, Target=0.600%\n",
      "  Result: Sharpe=0.56, Return=0.6%, Win Rate=52.9%, Avg/Trade=0.008%\n",
      "  Improvement: Sharpe +0.12, Win Rate +0.0%\n",
      "\n",
      "bollinger_bands - e5cc63fb\n",
      "  Parameters: period=22, std_dev=3.0\n",
      "  Original: Sharpe=-0.25, Return=-0.5%, Win Rate=52.9%, Avg/Trade=-0.002%\n",
      "  Optimal: Stop=0.200%, Target=0.400%\n",
      "  Result: Sharpe=0.00, Return=-0.0%, Win Rate=52.9%, Avg/Trade=0.000%\n",
      "  Improvement: Sharpe +0.25, Win Rate +0.0%\n",
      "\n",
      "bollinger_bands - 66b83892\n",
      "  Parameters: period=21, std_dev=3.0\n",
      "  Original: Sharpe=-0.12, Return=-0.2%, Win Rate=50.6%, Avg/Trade=-0.001%\n",
      "  Optimal: Stop=0.000%, Target=0.000%\n",
      "  Result: Sharpe=-0.12, Return=-0.2%, Win Rate=50.6%, Avg/Trade=-0.001%\n",
      "  Improvement: Sharpe +0.00, Win Rate +0.0%\n",
      "\n",
      "bollinger_bands - f3ee8435\n",
      "  Parameters: period=18, std_dev=3.0\n",
      "  Original: Sharpe=-0.18, Return=-0.3%, Win Rate=50.9%, Avg/Trade=-0.002%\n",
      "  Optimal: Stop=0.000%, Target=0.000%\n",
      "  Result: Sharpe=-0.18, Return=-0.3%, Win Rate=50.9%, Avg/Trade=-0.002%\n",
      "  Improvement: Sharpe +0.00, Win Rate +0.0%\n",
      "\n",
      "bollinger_bands - b1b13ffa\n",
      "  Parameters: period=14, std_dev=3.0\n",
      "  Original: Sharpe=-0.27, Return=-0.4%, Win Rate=50.0%, Avg/Trade=-0.003%\n",
      "  Optimal: Stop=0.300%, Target=0.600%\n",
      "  Result: Sharpe=-0.23, Return=-0.3%, Win Rate=50.0%, Avg/Trade=-0.003%\n",
      "  Improvement: Sharpe +0.04, Win Rate +0.0%\n",
      "\n",
      "bollinger_bands - 7d826e7e\n",
      "  Parameters: period=20, std_dev=3.0\n",
      "  Original: Sharpe=-0.37, Return=-0.6%, Win Rate=49.4%, Avg/Trade=-0.004%\n",
      "  Optimal: Stop=0.000%, Target=0.000%\n",
      "  Result: Sharpe=-0.37, Return=-0.6%, Win Rate=49.4%, Avg/Trade=-0.004%\n",
      "  Improvement: Sharpe +0.00, Win Rate +0.0%\n",
      "\n",
      "bollinger_bands - 72706250\n",
      "  Parameters: period=19, std_dev=3.0\n",
      "  Original: Sharpe=-0.39, Return=-0.7%, Win Rate=50.0%, Avg/Trade=-0.004%\n",
      "  Optimal: Stop=0.000%, Target=0.000%\n",
      "  Result: Sharpe=-0.39, Return=-0.7%, Win Rate=50.0%, Avg/Trade=-0.004%\n",
      "  Improvement: Sharpe +0.00, Win Rate +0.0%\n",
      "\n",
      "bollinger_bands - d3ced64f\n",
      "  Parameters: period=13, std_dev=3.0\n",
      "  Original: Sharpe=-0.42, Return=-0.6%, Win Rate=49.5%, Avg/Trade=-0.006%\n",
      "  Optimal: Stop=0.300%, Target=0.600%\n",
      "  Result: Sharpe=-0.39, Return=-0.5%, Win Rate=49.5%, Avg/Trade=-0.005%\n",
      "  Improvement: Sharpe +0.02, Win Rate +0.0%\n",
      "\n",
      "bollinger_bands - 3d1cbefd\n",
      "  Parameters: period=43, std_dev=2.5\n",
      "  Original: Sharpe=-1.75, Return=-6.4%, Win Rate=59.9%, Avg/Trade=-0.017%\n",
      "  Optimal: Stop=0.150%, Target=0.300%\n",
      "  Result: Sharpe=-0.40, Return=-1.0%, Win Rate=57.3%, Avg/Trade=-0.003%\n",
      "  Improvement: Sharpe +1.35, Win Rate -2.6%\n"
     ]
    }
   ],
   "source": [
    "# Optimize stop loss and profit target for each strategy\n",
    "if len(performance_df) > 0 and analyze_stop_losses:\n",
    "    print(\"\\n🎯 Optimizing Stop Loss and Profit Target for Each Strategy\")\n",
    "    print(\"=\" * 80)\n",
    "    \n",
    "    # Store optimal configurations for each strategy\n",
    "    optimal_configs = []\n",
    "    \n",
    "    # Test combinations of stop loss and profit target\n",
    "    stop_target_combinations = [\n",
    "        (0, 0),          # Baseline - no stop/target\n",
    "        (0.05, 0.10),    # 2:1 reward/risk\n",
    "        (0.075, 0.10),   # 1.33:1 \n",
    "        (0.10, 0.15),    # 1.5:1\n",
    "        (0.10, 0.20),    # 2:1\n",
    "        (0.15, 0.30),    # 2:1\n",
    "        (0.20, 0.40),    # 2:1\n",
    "        (0.25, 0.50),    # 2:1\n",
    "        (0.30, 0.60),    # 2:1\n",
    "        (0.50, 1.00),    # 2:1\n",
    "    ]\n",
    "    \n",
    "    for idx, strategy in performance_df.iterrows():\n",
    "        if idx % 5 == 0:\n",
    "            print(f\"\\nAnalyzing strategy {idx+1}/{len(performance_df)}...\")\n",
    "        \n",
    "        # Extract trades for this strategy\n",
    "        trades = extract_trades(strategy['strategy_hash'], strategy['trace_path'], market_data, execution_cost_bps)\n",
    "        \n",
    "        if len(trades) < 10:  # Skip strategies with too few trades\n",
    "            continue\n",
    "        \n",
    "        best_config = {\n",
    "            'stop': 0, \n",
    "            'target': 0, \n",
    "            'sharpe': strategy['sharpe_ratio'], \n",
    "            'return': strategy['total_return'],\n",
    "            'win_rate': strategy['win_rate'],\n",
    "            'avg_return_per_trade': strategy['avg_return_per_trade']\n",
    "        }\n",
    "        \n",
    "        # Test each stop/target combination\n",
    "        for stop_pct, target_pct in stop_target_combinations:\n",
    "            if stop_pct == 0 and target_pct == 0:\n",
    "                continue  # Skip baseline\n",
    "            \n",
    "            # Apply stop/target\n",
    "            returns, exit_types = apply_stop_target(trades, stop_pct, target_pct, market_data)\n",
    "            \n",
    "            # Calculate metrics\n",
    "            if len(returns) > 0 and returns.std() > 0:\n",
    "                sharpe = returns.mean() / returns.std() * np.sqrt(252 * len(returns) / max(1, (trades['exit_time'].max() - trades['entry_time'].min()).days))\n",
    "                total_return = (1 + returns).prod() - 1\n",
    "                win_rate = (returns > 0).mean()\n",
    "                avg_return_per_trade = returns.mean()\n",
    "                \n",
    "                # Update if better (based on Sharpe ratio)\n",
    "                if sharpe > best_config['sharpe']:\n",
    "                    best_config = {\n",
    "                        'stop': stop_pct,\n",
    "                        'target': target_pct,\n",
    "                        'sharpe': sharpe,\n",
    "                        'return': total_return,\n",
    "                        'win_rate': win_rate,\n",
    "                        'avg_return_per_trade': avg_return_per_trade,\n",
    "                        'stop_exits': exit_types['stop'],\n",
    "                        'target_exits': exit_types['target'],\n",
    "                        'stopped_winners': exit_types.get('stopped_winners', 0)\n",
    "                    }\n",
    "        \n",
    "        # Store optimal configuration\n",
    "        optimal_configs.append({\n",
    "            'strategy_hash': strategy['strategy_hash'],\n",
    "            'strategy_type': strategy['strategy_type'],\n",
    "            'original_sharpe': strategy['sharpe_ratio'],\n",
    "            'original_return': strategy['total_return'],\n",
    "            'original_win_rate': strategy['win_rate'],\n",
    "            'original_avg_return': strategy['avg_return_per_trade'],\n",
    "            'optimal_stop': best_config['stop'],\n",
    "            'optimal_target': best_config['target'],\n",
    "            'optimal_sharpe': best_config['sharpe'],\n",
    "            'optimal_return': best_config['return'],\n",
    "            'optimal_win_rate': best_config['win_rate'],\n",
    "            'optimal_avg_return': best_config['avg_return_per_trade'],\n",
    "            'sharpe_improvement': best_config['sharpe'] - strategy['sharpe_ratio'],\n",
    "            'return_improvement': best_config['return'] - strategy['total_return'],\n",
    "            'win_rate_change': best_config['win_rate'] - strategy['win_rate'],\n",
    "            'avg_return_change': best_config['avg_return_per_trade'] - strategy['avg_return_per_trade'],\n",
    "            'num_trades': strategy['num_trades'],\n",
    "            **{k: v for k, v in strategy.items() if k.startswith('param_') or k in ['period', 'std_dev', 'fast_period', 'slow_period']}\n",
    "        })\n",
    "    \n",
    "    # Convert to DataFrame\n",
    "    optimal_df = pd.DataFrame(optimal_configs)\n",
    "    \n",
    "    print(f\"\\n✅ Optimized {len(optimal_df)} strategies\")\n",
    "    \n",
    "    # Show top performers after optimization\n",
    "    print(\"\\n🏆 Top 10 Strategies After Stop/Target Optimization:\")\n",
    "    print(\"=\" * 140)\n",
    "    \n",
    "    top_optimized = optimal_df.nlargest(10, 'optimal_sharpe')\n",
    "    \n",
    "    for idx, row in top_optimized.iterrows():\n",
    "        print(f\"\\n{row['strategy_type']} - {row['strategy_hash'][:8]}\")\n",
    "        # Show parameters if available\n",
    "        param_cols = [col for col in row.index if col in ['period', 'std_dev', 'fast_period', 'slow_period']]\n",
    "        if param_cols:\n",
    "            params = ', '.join([f\"{col}={row[col]}\" for col in param_cols if pd.notna(row[col])])\n",
    "            print(f\"  Parameters: {params}\")\n",
    "        print(f\"  Original: Sharpe={row['original_sharpe']:.2f}, Return={row['original_return']*100:.1f}%, Win Rate={row['original_win_rate']*100:.1f}%, Avg/Trade={row['original_avg_return']*100:.3f}%\")\n",
    "        print(f\"  Optimal: Stop={row['optimal_stop']:.3f}%, Target={row['optimal_target']:.3f}%\")\n",
    "        print(f\"  Result: Sharpe={row['optimal_sharpe']:.2f}, Return={row['optimal_return']*100:.1f}%, Win Rate={row['optimal_win_rate']*100:.1f}%, Avg/Trade={row['optimal_avg_return']*100:.3f}%\")\n",
    "        print(f\"  Improvement: Sharpe +{row['sharpe_improvement']:.2f}, Win Rate {row['win_rate_change']*100:+.1f}%\")\n",
    "else:\n",
    "    optimal_df = pd.DataFrame()\n",
    "    print(\"⚠️ Skipping stop loss optimization\")"
   ]
  },
  {
   "cell_type": "markdown",
   "id": "fc62d0ef",
   "metadata": {
    "papermill": {
     "duration": 0.003329,
     "end_time": "2025-06-29T17:55:52.733032",
     "exception": false,
     "start_time": "2025-06-29T17:55:52.729703",
     "status": "completed"
    },
    "tags": []
   },
   "source": [
    "## Visualizations"
   ]
  },
  {
   "cell_type": "code",
   "execution_count": 15,
   "id": "8d5b2396",
   "metadata": {
    "execution": {
     "iopub.execute_input": "2025-06-29T17:55:52.740742Z",
     "iopub.status.busy": "2025-06-29T17:55:52.740603Z",
     "iopub.status.idle": "2025-06-29T17:55:52.747411Z",
     "shell.execute_reply": "2025-06-29T17:55:52.747163Z"
    },
    "papermill": {
     "duration": 0.011587,
     "end_time": "2025-06-29T17:55:52.748140",
     "exception": false,
     "start_time": "2025-06-29T17:55:52.736553",
     "status": "completed"
    },
    "tags": []
   },
   "outputs": [
    {
     "name": "stdout",
     "output_type": "stream",
     "text": [
      "\n",
      "📊 Optimized Strategies - Win Rate & Return per Trade Analysis\n",
      "============================================================================================================================================\n",
      "Rank  Strategy             Stop%   Target%  Win Rate             Avg Return/Trade          Sharpe          Total Return   \n",
      "                                            Orig → Opt           Orig → Opt                Orig → Opt      Orig → Opt     \n",
      "--------------------------------------------------------------------------------------------------------------------------------------------\n",
      "1     bollinger_bands       0.200   0.400    55.6% → 55.6%        0.013% → 0.011%      0.51 → 0.62    0.6% → 0.5%  \n",
      "2     bollinger_bands       0.300   0.600    52.9% → 52.9%        0.007% → 0.008%      0.43 → 0.56    0.5% → 0.6%  \n",
      "3     bollinger_bands       0.200   0.400    52.9% → 52.9%       -0.002% → 0.000%     -0.25 → 0.00   -0.5% → -0.0% \n",
      "4     bollinger_bands       0.000   0.000    50.6% → 50.6%       -0.001% → -0.001%    -0.12 → -0.12  -0.2% → -0.2% \n",
      "5     bollinger_bands       0.000   0.000    50.9% → 50.9%       -0.002% → -0.002%    -0.18 → -0.18  -0.3% → -0.3% \n",
      "6     bollinger_bands       0.300   0.600    50.0% → 50.0%       -0.003% → -0.003%    -0.27 → -0.23  -0.4% → -0.3% \n",
      "7     bollinger_bands       0.000   0.000    49.4% → 49.4%       -0.004% → -0.004%    -0.37 → -0.37  -0.6% → -0.6% \n",
      "8     bollinger_bands       0.000   0.000    50.0% → 50.0%       -0.004% → -0.004%    -0.39 → -0.39  -0.7% → -0.7% \n",
      "9     bollinger_bands       0.300   0.600    49.5% → 49.5%       -0.006% → -0.005%    -0.42 → -0.39  -0.6% → -0.5% \n",
      "10    bollinger_bands       0.150   0.300    59.9% → 57.3%       -0.017% → -0.003%    -1.75 → -0.40  -6.4% → -1.0% \n",
      "11    bollinger_bands       0.200   0.400    49.4% → 49.4%       -0.005% → -0.003%    -0.64 → -0.43  -1.2% → -0.7% \n",
      "12    bollinger_bands       0.200   0.400    49.1% → 49.4%       -0.006% → -0.003%    -1.03 → -0.48  -2.2% → -0.9% \n",
      "13    bollinger_bands       0.200   0.400    53.0% → 53.0%       -0.007% → -0.004%    -0.64 → -0.49  -1.2% → -0.8% \n",
      "14    bollinger_bands       0.200   0.400    49.5% → 49.8%       -0.008% → -0.003%    -1.15 → -0.53  -2.4% → -0.9% \n",
      "15    bollinger_bands       0.150   0.300    59.2% → 56.8%       -0.020% → -0.004%    -1.97 → -0.53  -7.2% → -1.3% \n",
      "16    bollinger_bands       0.250   0.500    51.7% → 51.7%       -0.013% → -0.006%    -0.96 → -0.53  -2.6% → -1.2% \n",
      "17    bollinger_bands       0.200   0.400    51.1% → 50.9%       -0.003% → -0.002%    -0.96 → -0.56  -3.4% → -1.8% \n",
      "18    bollinger_bands       0.200   0.400    53.9% → 53.4%       -0.011% → -0.005%    -1.09 → -0.59  -2.3% → -1.1% \n",
      "19    bollinger_bands       0.200   0.400    59.3% → 58.4%       -0.010% → -0.003%    -1.67 → -0.60  -7.6% → -2.1% \n",
      "20    bollinger_bands       0.200   0.400    52.6% → 52.6%       -0.009% → -0.005%    -0.90 → -0.60  -1.8% → -1.1% \n"
     ]
    }
   ],
   "source": [
    "# Display results based on available data\n",
    "if 'optimal_df' in globals() and len(optimal_df) > 0:\n",
    "    if 'original_win_rate' in optimal_df.columns:\n",
    "        # Full analysis with win rate and avg return\n",
    "        print(\"\\n📊 Optimized Strategies - Win Rate & Return per Trade Analysis\")\n",
    "        print(\"=\" * 140)\n",
    "        \n",
    "        # Sort by optimized Sharpe ratio\n",
    "        top_optimized = optimal_df.nlargest(20, 'optimal_sharpe')\n",
    "        \n",
    "        print(f\"{'Rank':<5} {'Strategy':<20} {'Stop%':<7} {'Target%':<8} {'Win Rate':<20} {'Avg Return/Trade':<25} {'Sharpe':<15} {'Total Return':<15}\")\n",
    "        print(f\"{'':5} {'':20} {'':7} {'':8} {'Orig → Opt':<20} {'Orig → Opt':<25} {'Orig → Opt':<15} {'Orig → Opt':<15}\")\n",
    "        print(\"-\" * 140)\n",
    "        \n",
    "        for idx, (_, row) in enumerate(top_optimized.iterrows(), 1):\n",
    "            # Format win rate change\n",
    "            orig_wr = f\"{row['original_win_rate']*100:.1f}%\"\n",
    "            opt_wr = f\"{row['optimal_win_rate']*100:.1f}%\"\n",
    "            wr_display = f\"{orig_wr:>8} → {opt_wr:<8}\"\n",
    "            \n",
    "            # Format avg return change\n",
    "            orig_ar = f\"{row['original_avg_return']*100:.3f}%\"\n",
    "            opt_ar = f\"{row['optimal_avg_return']*100:.3f}%\"\n",
    "            ar_display = f\"{orig_ar:>10} → {opt_ar:<10}\"\n",
    "            \n",
    "            # Format Sharpe change\n",
    "            orig_sharpe = f\"{row['original_sharpe']:.2f}\"\n",
    "            opt_sharpe = f\"{row['optimal_sharpe']:.2f}\"\n",
    "            sharpe_display = f\"{orig_sharpe:>5} → {opt_sharpe:<5}\"\n",
    "            \n",
    "            # Format total return change\n",
    "            orig_ret = f\"{row['original_return']*100:.1f}%\"\n",
    "            opt_ret = f\"{row['optimal_return']*100:.1f}%\"\n",
    "            ret_display = f\"{orig_ret:>6} → {opt_ret:<6}\"\n",
    "            \n",
    "            print(f\"{idx:<5} {row['strategy_type']:<20} {row['optimal_stop']:>6.3f} {row['optimal_target']:>7.3f} {wr_display} {ar_display} {sharpe_display} {ret_display}\")\n",
    "    else:\n",
    "        # Simplified analysis without win rate data\n",
    "        print(\"\\n📊 Optimized Strategies - Performance Analysis\")\n",
    "        print(\"=\" * 100)\n",
    "        print(\"Note: Re-run optimization cell to get win rate and avg return data\")\n",
    "        print(\"-\" * 100)\n",
    "        \n",
    "        # Sort by optimized Sharpe ratio\n",
    "        top_optimized = optimal_df.nlargest(20, 'optimal_sharpe')\n",
    "        \n",
    "        print(f\"{'Rank':<5} {'Strategy':<20} {'Stop%':<7} {'Target%':<8} {'Sharpe':<15} {'Total Return':<15} {'Improvement':<15}\")\n",
    "        print(f\"{'':5} {'':20} {'':7} {'':8} {'Orig → Opt':<15} {'Orig → Opt':<15} {'Sharpe':<15}\")\n",
    "        print(\"-\" * 100)\n",
    "        \n",
    "        for idx, (_, row) in enumerate(top_optimized.iterrows(), 1):\n",
    "            # Format Sharpe change\n",
    "            orig_sharpe = f\"{row['original_sharpe']:.2f}\"\n",
    "            opt_sharpe = f\"{row['optimal_sharpe']:.2f}\"\n",
    "            sharpe_display = f\"{orig_sharpe:>5} → {opt_sharpe:<5}\"\n",
    "            \n",
    "            # Format total return change\n",
    "            orig_ret = f\"{row['original_return']*100:.1f}%\"\n",
    "            opt_ret = f\"{row['optimal_return']*100:.1f}%\"\n",
    "            ret_display = f\"{orig_ret:>6} → {opt_ret:<6}\"\n",
    "            \n",
    "            print(f\"{idx:<5} {row['strategy_type']:<20} {row['optimal_stop']:>6.3f} {row['optimal_target']:>7.3f} {sharpe_display} {ret_display} {row['sharpe_improvement']:>14.2f}\")\n",
    "        \n",
    "        # Get win rate data from performance_df for these strategies\n",
    "        if 'performance_df' in globals():\n",
    "            print(\"\\n📈 Win Rate & Avg Return for Top Optimized Strategies (from original data):\")\n",
    "            print(\"-\" * 80)\n",
    "            for idx, (_, opt_row) in enumerate(top_optimized.head(10).iterrows(), 1):\n",
    "                # Find matching strategy in performance_df\n",
    "                perf_match = performance_df[performance_df['strategy_hash'] == opt_row['strategy_hash']]\n",
    "                if len(perf_match) > 0:\n",
    "                    perf_row = perf_match.iloc[0]\n",
    "                    print(f\"{idx}. {opt_row['strategy_type']} (Stop={opt_row['optimal_stop']:.3f}%, Target={opt_row['optimal_target']:.3f}%)\")\n",
    "                    print(f\"   Original: Win Rate={perf_row['win_rate']*100:.1f}%, Avg Return/Trade={perf_row['avg_return_per_trade']*100:.3f}%\")\n",
    "                    print(f\"   Note: Re-run optimization to see optimized win rate & avg return\")\n",
    "                    \n",
    "else:\n",
    "    print(\"No optimization results found. Please run the optimization cell first.\")"
   ]
  },
  {
   "cell_type": "code",
   "execution_count": 16,
   "id": "c600bada",
   "metadata": {
    "execution": {
     "iopub.execute_input": "2025-06-29T17:55:52.755213Z",
     "iopub.status.busy": "2025-06-29T17:55:52.755102Z",
     "iopub.status.idle": "2025-06-29T17:55:53.023484Z",
     "shell.execute_reply": "2025-06-29T17:55:53.023200Z"
    },
    "papermill": {
     "duration": 0.272851,
     "end_time": "2025-06-29T17:55:53.024313",
     "exception": false,
     "start_time": "2025-06-29T17:55:52.751462",
     "status": "completed"
    },
    "tags": []
   },
   "outputs": [
    {
     "name": "stdout",
     "output_type": "stream",
     "text": [
      "\n",
      "📊 Optimized Strategies - Win Rate & Return per Trade Analysis\n",
      "============================================================================================================================================\n",
      "Rank  Strategy             Stop%   Target%  Win Rate             Avg Return/Trade          Sharpe          Total Return   \n",
      "                                            Orig → Opt           Orig → Opt                Orig → Opt      Orig → Opt     \n",
      "--------------------------------------------------------------------------------------------------------------------------------------------\n",
      "1     bollinger_bands       0.200   0.400    55.6% → 55.6%        0.013% → 0.011%      0.51 → 0.62    0.6% → 0.5%  \n",
      "2     bollinger_bands       0.300   0.600    52.9% → 52.9%        0.007% → 0.008%      0.43 → 0.56    0.5% → 0.6%  \n",
      "3     bollinger_bands       0.200   0.400    52.9% → 52.9%       -0.002% → 0.000%     -0.25 → 0.00   -0.5% → -0.0% \n",
      "4     bollinger_bands       0.000   0.000    50.6% → 50.6%       -0.001% → -0.001%    -0.12 → -0.12  -0.2% → -0.2% \n",
      "5     bollinger_bands       0.000   0.000    50.9% → 50.9%       -0.002% → -0.002%    -0.18 → -0.18  -0.3% → -0.3% \n",
      "6     bollinger_bands       0.300   0.600    50.0% → 50.0%       -0.003% → -0.003%    -0.27 → -0.23  -0.4% → -0.3% \n",
      "7     bollinger_bands       0.000   0.000    49.4% → 49.4%       -0.004% → -0.004%    -0.37 → -0.37  -0.6% → -0.6% \n",
      "8     bollinger_bands       0.000   0.000    50.0% → 50.0%       -0.004% → -0.004%    -0.39 → -0.39  -0.7% → -0.7% \n",
      "9     bollinger_bands       0.300   0.600    49.5% → 49.5%       -0.006% → -0.005%    -0.42 → -0.39  -0.6% → -0.5% \n",
      "10    bollinger_bands       0.150   0.300    59.9% → 57.3%       -0.017% → -0.003%    -1.75 → -0.40  -6.4% → -1.0% \n",
      "11    bollinger_bands       0.200   0.400    49.4% → 49.4%       -0.005% → -0.003%    -0.64 → -0.43  -1.2% → -0.7% \n",
      "12    bollinger_bands       0.200   0.400    49.1% → 49.4%       -0.006% → -0.003%    -1.03 → -0.48  -2.2% → -0.9% \n",
      "13    bollinger_bands       0.200   0.400    53.0% → 53.0%       -0.007% → -0.004%    -0.64 → -0.49  -1.2% → -0.8% \n",
      "14    bollinger_bands       0.200   0.400    49.5% → 49.8%       -0.008% → -0.003%    -1.15 → -0.53  -2.4% → -0.9% \n",
      "15    bollinger_bands       0.150   0.300    59.2% → 56.8%       -0.020% → -0.004%    -1.97 → -0.53  -7.2% → -1.3% \n",
      "16    bollinger_bands       0.250   0.500    51.7% → 51.7%       -0.013% → -0.006%    -0.96 → -0.53  -2.6% → -1.2% \n",
      "17    bollinger_bands       0.200   0.400    51.1% → 50.9%       -0.003% → -0.002%    -0.96 → -0.56  -3.4% → -1.8% \n",
      "18    bollinger_bands       0.200   0.400    53.9% → 53.4%       -0.011% → -0.005%    -1.09 → -0.59  -2.3% → -1.1% \n",
      "19    bollinger_bands       0.200   0.400    59.3% → 58.4%       -0.010% → -0.003%    -1.67 → -0.60  -7.6% → -2.1% \n",
      "20    bollinger_bands       0.200   0.400    52.6% → 52.6%       -0.009% → -0.005%    -0.90 → -0.60  -1.8% → -1.1% \n",
      "\n",
      "📈 Optimization Impact Summary:\n",
      "Average win rate change: -0.8%\n",
      "Average return/trade change: +0.005%\n",
      "Strategies with improved win rate: 6 (2.9%)\n",
      "Strategies with improved avg return: 187 (91.7%)\n",
      "\n",
      "🌟 Biggest Improvements:\n",
      "Best win rate improvement: bollinger_bands - +0.5% (49.0% → 49.5%)\n",
      "Best avg return improvement: bollinger_bands - +0.016% (-0.020% → -0.004%)\n"
     ]
    },
    {
     "data": {
      "image/png": "[encoded data removed]",
      "text/plain": [
       "<Figure size 1500x1000 with 4 Axes>"
      ]
     },
     "metadata": {},
     "output_type": "display_data"
    }
   ],
   "source": [
    "# Display optimized strategies with win rate and return per trade\n",
    "if len(optimal_df) > 0:\n",
    "    print(\"\\n📊 Optimized Strategies - Win Rate & Return per Trade Analysis\")\n",
    "    print(\"=\" * 140)\n",
    "    \n",
    "    # Sort by optimized Sharpe ratio\n",
    "    top_optimized = optimal_df.nlargest(20, 'optimal_sharpe')\n",
    "    \n",
    "    print(f\"{'Rank':<5} {'Strategy':<20} {'Stop%':<7} {'Target%':<8} {'Win Rate':<20} {'Avg Return/Trade':<25} {'Sharpe':<15} {'Total Return':<15}\")\n",
    "    print(f\"{'':5} {'':20} {'':7} {'':8} {'Orig → Opt':<20} {'Orig → Opt':<25} {'Orig → Opt':<15} {'Orig → Opt':<15}\")\n",
    "    print(\"-\" * 140)\n",
    "    \n",
    "    for idx, (_, row) in enumerate(top_optimized.iterrows(), 1):\n",
    "        # Format win rate change\n",
    "        orig_wr = f\"{row['original_win_rate']*100:.1f}%\"\n",
    "        opt_wr = f\"{row['optimal_win_rate']*100:.1f}%\"\n",
    "        wr_display = f\"{orig_wr:>8} → {opt_wr:<8}\"\n",
    "        \n",
    "        # Format avg return change\n",
    "        orig_ar = f\"{row['original_avg_return']*100:.3f}%\"\n",
    "        opt_ar = f\"{row['optimal_avg_return']*100:.3f}%\"\n",
    "        ar_display = f\"{orig_ar:>10} → {opt_ar:<10}\"\n",
    "        \n",
    "        # Format Sharpe change\n",
    "        orig_sharpe = f\"{row['original_sharpe']:.2f}\"\n",
    "        opt_sharpe = f\"{row['optimal_sharpe']:.2f}\"\n",
    "        sharpe_display = f\"{orig_sharpe:>5} → {opt_sharpe:<5}\"\n",
    "        \n",
    "        # Format total return change\n",
    "        orig_ret = f\"{row['original_return']*100:.1f}%\"\n",
    "        opt_ret = f\"{row['optimal_return']*100:.1f}%\"\n",
    "        ret_display = f\"{orig_ret:>6} → {opt_ret:<6}\"\n",
    "        \n",
    "        print(f\"{idx:<5} {row['strategy_type']:<20} {row['optimal_stop']:>6.3f} {row['optimal_target']:>7.3f} {wr_display} {ar_display} {sharpe_display} {ret_display}\")\n",
    "    \n",
    "    # Summary statistics\n",
    "    print(\"\\n📈 Optimization Impact Summary:\")\n",
    "    print(f\"Average win rate change: {optimal_df['win_rate_change'].mean()*100:+.1f}%\")\n",
    "    print(f\"Average return/trade change: {optimal_df['avg_return_change'].mean()*100:+.3f}%\")\n",
    "    print(f\"Strategies with improved win rate: {(optimal_df['win_rate_change'] > 0).sum()} ({(optimal_df['win_rate_change'] > 0).mean()*100:.1f}%)\")\n",
    "    print(f\"Strategies with improved avg return: {(optimal_df['avg_return_change'] > 0).sum()} ({(optimal_df['avg_return_change'] > 0).mean()*100:.1f}%)\")\n",
    "    \n",
    "    # Best improvements\n",
    "    print(\"\\n🌟 Biggest Improvements:\")\n",
    "    best_wr_improvement = optimal_df.nlargest(1, 'win_rate_change').iloc[0]\n",
    "    print(f\"Best win rate improvement: {best_wr_improvement['strategy_type']} - {best_wr_improvement['win_rate_change']*100:+.1f}% \"\n",
    "          f\"({best_wr_improvement['original_win_rate']*100:.1f}% → {best_wr_improvement['optimal_win_rate']*100:.1f}%)\")\n",
    "    \n",
    "    best_ar_improvement = optimal_df.nlargest(1, 'avg_return_change').iloc[0]\n",
    "    print(f\"Best avg return improvement: {best_ar_improvement['strategy_type']} - {best_ar_improvement['avg_return_change']*100:+.3f}% \"\n",
    "          f\"({best_ar_improvement['original_avg_return']*100:.3f}% → {best_ar_improvement['optimal_avg_return']*100:.3f}%)\")\n",
    "\n",
    "# Visualize the optimization impact on win rate and return per trade\n",
    "if len(optimal_df) > 0:\n",
    "    fig, axes = plt.subplots(2, 2, figsize=(15, 10))\n",
    "    \n",
    "    # 1. Win rate: Original vs Optimized\n",
    "    ax = axes[0, 0]\n",
    "    ax.scatter(optimal_df['original_win_rate']*100, optimal_df['optimal_win_rate']*100, alpha=0.6)\n",
    "    ax.plot([0, 100], [0, 100], 'r--', alpha=0.5, label='No Change')\n",
    "    ax.set_xlabel('Original Win Rate (%)')\n",
    "    ax.set_ylabel('Optimized Win Rate (%)')\n",
    "    ax.set_title('Win Rate: Original vs Optimized')\n",
    "    ax.legend()\n",
    "    ax.grid(True, alpha=0.3)\n",
    "    \n",
    "    # 2. Avg Return per Trade: Original vs Optimized\n",
    "    ax = axes[0, 1]\n",
    "    # Filter outliers for visualization\n",
    "    mask = (abs(optimal_df['original_avg_return']) < 0.05) & (abs(optimal_df['optimal_avg_return']) < 0.05)\n",
    "    ax.scatter(optimal_df.loc[mask, 'original_avg_return']*100, \n",
    "              optimal_df.loc[mask, 'optimal_avg_return']*100, alpha=0.6)\n",
    "    # Add diagonal line\n",
    "    min_val = min(optimal_df.loc[mask, 'original_avg_return'].min()*100, \n",
    "                  optimal_df.loc[mask, 'optimal_avg_return'].min()*100)\n",
    "    max_val = max(optimal_df.loc[mask, 'original_avg_return'].max()*100,\n",
    "                  optimal_df.loc[mask, 'optimal_avg_return'].max()*100)\n",
    "    ax.plot([min_val, max_val], [min_val, max_val], 'r--', alpha=0.5, label='No Change')\n",
    "    ax.set_xlabel('Original Avg Return/Trade (%)')\n",
    "    ax.set_ylabel('Optimized Avg Return/Trade (%)')\n",
    "    ax.set_title('Average Return per Trade: Original vs Optimized')\n",
    "    ax.legend()\n",
    "    ax.grid(True, alpha=0.3)\n",
    "    \n",
    "    # 3. Win rate change distribution\n",
    "    ax = axes[1, 0]\n",
    "    ax.hist(optimal_df['win_rate_change']*100, bins=30, alpha=0.7, color='blue')\n",
    "    ax.axvline(0, color='red', linestyle='--', alpha=0.5, label='No Change')\n",
    "    ax.set_xlabel('Win Rate Change (%)')\n",
    "    ax.set_ylabel('Number of Strategies')\n",
    "    ax.set_title('Distribution of Win Rate Changes from Optimization')\n",
    "    ax.legend()\n",
    "    ax.grid(True, alpha=0.3)\n",
    "    \n",
    "    # 4. Avg return change distribution\n",
    "    ax = axes[1, 1]\n",
    "    ax.hist(optimal_df['avg_return_change']*100, bins=30, alpha=0.7, color='green')\n",
    "    ax.axvline(0, color='red', linestyle='--', alpha=0.5, label='No Change')\n",
    "    ax.set_xlabel('Avg Return/Trade Change (%)')\n",
    "    ax.set_ylabel('Number of Strategies')\n",
    "    ax.set_title('Distribution of Avg Return/Trade Changes from Optimization')\n",
    "    ax.legend()\n",
    "    ax.grid(True, alpha=0.3)\n",
    "    \n",
    "    plt.tight_layout()\n",
    "    plt.show()"
   ]
  },
  {
   "cell_type": "code",
   "execution_count": 17,
   "id": "e717ff29",
   "metadata": {
    "execution": {
     "iopub.execute_input": "2025-06-29T17:55:53.033651Z",
     "iopub.status.busy": "2025-06-29T17:55:53.033524Z",
     "iopub.status.idle": "2025-06-29T17:55:53.041799Z",
     "shell.execute_reply": "2025-06-29T17:55:53.041563Z"
    },
    "papermill": {
     "duration": 0.013266,
     "end_time": "2025-06-29T17:55:53.042378",
     "exception": false,
     "start_time": "2025-06-29T17:55:53.029112",
     "status": "completed"
    },
    "tags": []
   },
   "outputs": [
    {
     "name": "stdout",
     "output_type": "stream",
     "text": [
      "\n",
      "📊 Optimized Strategies - Performance Analysis\n",
      "====================================================================================================\n",
      "Note: Re-run optimization cell to get win rate and avg return data\n",
      "----------------------------------------------------------------------------------------------------\n",
      "Rank  Strategy             Stop%   Target%  Sharpe          Total Return    Improvement    \n",
      "                                            Orig → Opt      Orig → Opt      Sharpe         \n",
      "----------------------------------------------------------------------------------------------------\n",
      "1     bollinger_bands       0.200   0.400  0.51 → 0.62    0.6% → 0.5%             0.11\n",
      "2     bollinger_bands       0.300   0.600  0.43 → 0.56    0.5% → 0.6%             0.12\n",
      "3     bollinger_bands       0.200   0.400 -0.25 → 0.00   -0.5% → -0.0%            0.25\n",
      "4     bollinger_bands       0.000   0.000 -0.12 → -0.12  -0.2% → -0.2%            0.00\n",
      "5     bollinger_bands       0.000   0.000 -0.18 → -0.18  -0.3% → -0.3%            0.00\n",
      "6     bollinger_bands       0.300   0.600 -0.27 → -0.23  -0.4% → -0.3%            0.04\n",
      "7     bollinger_bands       0.000   0.000 -0.37 → -0.37  -0.6% → -0.6%            0.00\n",
      "8     bollinger_bands       0.000   0.000 -0.39 → -0.39  -0.7% → -0.7%            0.00\n",
      "9     bollinger_bands       0.300   0.600 -0.42 → -0.39  -0.6% → -0.5%            0.02\n",
      "10    bollinger_bands       0.150   0.300 -1.75 → -0.40  -6.4% → -1.0%            1.35\n",
      "11    bollinger_bands       0.200   0.400 -0.64 → -0.43  -1.2% → -0.7%            0.21\n",
      "12    bollinger_bands       0.200   0.400 -1.03 → -0.48  -2.2% → -0.9%            0.55\n",
      "13    bollinger_bands       0.200   0.400 -0.64 → -0.49  -1.2% → -0.8%            0.15\n",
      "14    bollinger_bands       0.200   0.400 -1.15 → -0.53  -2.4% → -0.9%            0.62\n",
      "15    bollinger_bands       0.150   0.300 -1.97 → -0.53  -7.2% → -1.3%            1.44\n",
      "16    bollinger_bands       0.250   0.500 -0.96 → -0.53  -2.6% → -1.2%            0.43\n",
      "17    bollinger_bands       0.200   0.400 -0.96 → -0.56  -3.4% → -1.8%            0.40\n",
      "18    bollinger_bands       0.200   0.400 -1.09 → -0.59  -2.3% → -1.1%            0.50\n",
      "19    bollinger_bands       0.200   0.400 -1.67 → -0.60  -7.6% → -2.1%            1.07\n",
      "20    bollinger_bands       0.200   0.400 -0.90 → -0.60  -1.8% → -1.1%            0.30\n",
      "\n",
      "📈 Win Rate & Avg Return for Top Optimized Strategies (from original data):\n",
      "--------------------------------------------------------------------------------\n",
      "Rank  Strategy             Stop%   Target%  Win Rate   Avg Return/Trade   # Trades  \n",
      "--------------------------------------------------------------------------------\n",
      "1     bollinger_bands       0.200   0.400      55.6%             0.013%        45\n",
      "2     bollinger_bands       0.300   0.600      52.9%             0.007%        70\n",
      "3     bollinger_bands       0.200   0.400      52.9%            -0.002%       187\n",
      "4     bollinger_bands       0.000   0.000      50.6%            -0.001%       176\n",
      "5     bollinger_bands       0.000   0.000      50.9%            -0.002%       159\n",
      "6     bollinger_bands       0.300   0.600      50.0%            -0.003%       126\n",
      "7     bollinger_bands       0.000   0.000      49.4%            -0.004%       166\n",
      "8     bollinger_bands       0.000   0.000      50.0%            -0.004%       166\n",
      "9     bollinger_bands       0.300   0.600      49.5%            -0.006%        99\n",
      "10    bollinger_bands       0.150   0.300      59.9%            -0.017%       379\n",
      "\n",
      "⚠️ Note: These are ORIGINAL win rates, not optimized. Re-run optimization to see how stops/targets affect win rate.\n",
      "\n",
      "📊 Optimization Summary:\n",
      "Strategies improved: 188 / 204 (92.2%)\n",
      "Average Sharpe improvement: 0.418\n",
      "Best Sharpe improvement: 1.441\n"
     ]
    }
   ],
   "source": [
    "# Safe display of optimization results with current data\n",
    "if 'optimal_df' in globals() and len(optimal_df) > 0:\n",
    "    print(\"\\n📊 Optimized Strategies - Performance Analysis\")\n",
    "    print(\"=\" * 100)\n",
    "    print(\"Note: Re-run optimization cell to get win rate and avg return data\")\n",
    "    print(\"-\" * 100)\n",
    "    \n",
    "    # Sort by optimized Sharpe ratio\n",
    "    top_optimized = optimal_df.nlargest(20, 'optimal_sharpe')\n",
    "    \n",
    "    print(f\"{'Rank':<5} {'Strategy':<20} {'Stop%':<7} {'Target%':<8} {'Sharpe':<15} {'Total Return':<15} {'Improvement':<15}\")\n",
    "    print(f\"{'':5} {'':20} {'':7} {'':8} {'Orig → Opt':<15} {'Orig → Opt':<15} {'Sharpe':<15}\")\n",
    "    print(\"-\" * 100)\n",
    "    \n",
    "    for idx, (_, row) in enumerate(top_optimized.iterrows(), 1):\n",
    "        # Format Sharpe change\n",
    "        orig_sharpe = f\"{row['original_sharpe']:.2f}\"\n",
    "        opt_sharpe = f\"{row['optimal_sharpe']:.2f}\"\n",
    "        sharpe_display = f\"{orig_sharpe:>5} → {opt_sharpe:<5}\"\n",
    "        \n",
    "        # Format total return change\n",
    "        orig_ret = f\"{row['original_return']*100:.1f}%\"\n",
    "        opt_ret = f\"{row['optimal_return']*100:.1f}%\"\n",
    "        ret_display = f\"{orig_ret:>6} → {opt_ret:<6}\"\n",
    "        \n",
    "        print(f\"{idx:<5} {row['strategy_type']:<20} {row['optimal_stop']:>6.3f} {row['optimal_target']:>7.3f} {sharpe_display} {ret_display} {row['sharpe_improvement']:>14.2f}\")\n",
    "    \n",
    "    # Get win rate data from performance_df for these strategies\n",
    "    if 'performance_df' in globals():\n",
    "        print(\"\\n📈 Win Rate & Avg Return for Top Optimized Strategies (from original data):\")\n",
    "        print(\"-\" * 80)\n",
    "        print(f\"{'Rank':<5} {'Strategy':<20} {'Stop%':<7} {'Target%':<8} {'Win Rate':<10} {'Avg Return/Trade':<18} {'# Trades':<10}\")\n",
    "        print(\"-\" * 80)\n",
    "        \n",
    "        for idx, (_, opt_row) in enumerate(top_optimized.head(10).iterrows(), 1):\n",
    "            # Find matching strategy in performance_df\n",
    "            perf_match = performance_df[performance_df['strategy_hash'] == opt_row['strategy_hash']]\n",
    "            if len(perf_match) > 0:\n",
    "                perf_row = perf_match.iloc[0]\n",
    "                print(f\"{idx:<5} {opt_row['strategy_type']:<20} {opt_row['optimal_stop']:>6.3f} {opt_row['optimal_target']:>7.3f} \"\n",
    "                      f\"{perf_row['win_rate']*100:>9.1f}% {perf_row['avg_return_per_trade']*100:>17.3f}% {perf_row['num_trades']:>9}\")\n",
    "        \n",
    "        print(\"\\n⚠️ Note: These are ORIGINAL win rates, not optimized. Re-run optimization to see how stops/targets affect win rate.\")\n",
    "        \n",
    "        # Show summary of what optimization achieved\n",
    "        print(f\"\\n📊 Optimization Summary:\")\n",
    "        print(f\"Strategies improved: {(optimal_df['sharpe_improvement'] > 0).sum()} / {len(optimal_df)} ({(optimal_df['sharpe_improvement'] > 0).mean()*100:.1f}%)\")\n",
    "        print(f\"Average Sharpe improvement: {optimal_df['sharpe_improvement'].mean():.3f}\")\n",
    "        print(f\"Best Sharpe improvement: {optimal_df['sharpe_improvement'].max():.3f}\")\n",
    "else:\n",
    "    print(\"No optimization results found. Please run the optimization cell first.\")"
   ]
  },
  {
   "cell_type": "code",
   "execution_count": 18,
   "id": "d622bf43",
   "metadata": {
    "execution": {
     "iopub.execute_input": "2025-06-29T17:55:53.050713Z",
     "iopub.status.busy": "2025-06-29T17:55:53.050597Z",
     "iopub.status.idle": "2025-06-29T17:55:53.057591Z",
     "shell.execute_reply": "2025-06-29T17:55:53.057386Z"
    },
    "papermill": {
     "duration": 0.011806,
     "end_time": "2025-06-29T17:55:53.058172",
     "exception": false,
     "start_time": "2025-06-29T17:55:53.046366",
     "status": "completed"
    },
    "tags": []
   },
   "outputs": [
    {
     "name": "stdout",
     "output_type": "stream",
     "text": [
      "💰 PROFITABILITY ANALYSIS\n",
      "================================================================================\n",
      "Strategies with positive avg return per trade: 2 / 205 (1.0%)\n",
      "\n",
      "Top 10 Actually Profitable Strategies:\n",
      "----------------------------------------------------------------------------------------------------\n",
      "Rank  Strategy             Avg Return/Trade   Win Rate   # Trades   Total Return    Sharpe    \n",
      "----------------------------------------------------------------------------------------------------\n",
      "1     bollinger_bands                 0.0127%      55.6%        45           0.57%      0.51\n",
      "2     bollinger_bands                 0.0074%      52.9%        70           0.51%      0.43\n",
      "\n",
      "📊 Execution Cost Impact Analysis:\n",
      "Execution cost: 1.0 basis points (0.010%) round-trip\n",
      "\n",
      "What if there were NO execution costs?\n",
      "Strategies that would be profitable: 82 / 205 (40.0%)\n",
      "\n",
      "📈 Distribution of Average Returns per Trade:\n",
      "Best: 0.0127%\n",
      "75th percentile: -0.0084%\n",
      "Median: -0.0111%\n",
      "25th percentile: -0.0138%\n",
      "Worst: -0.0231%\n",
      "\n",
      "🤔 Is 'optimization' just reducing trades?\n",
      "Average trades for top 10 'optimized' strategies: 157\n",
      "Average trades for all strategies: 900\n"
     ]
    }
   ],
   "source": [
    "# Verify if ANY strategies are actually profitable\n",
    "if 'performance_df' in globals() and len(performance_df) > 0:\n",
    "    print(\"💰 PROFITABILITY ANALYSIS\")\n",
    "    print(\"=\" * 80)\n",
    "    \n",
    "    # Basic profitability stats\n",
    "    profitable_strategies = performance_df[performance_df['avg_return_per_trade'] > 0]\n",
    "    print(f\"Strategies with positive avg return per trade: {len(profitable_strategies)} / {len(performance_df)} ({len(profitable_strategies)/len(performance_df)*100:.1f}%)\")\n",
    "    \n",
    "    if len(profitable_strategies) > 0:\n",
    "        print(f\"\\nTop 10 Actually Profitable Strategies:\")\n",
    "        print(\"-\" * 100)\n",
    "        print(f\"{'Rank':<5} {'Strategy':<20} {'Avg Return/Trade':<18} {'Win Rate':<10} {'# Trades':<10} {'Total Return':<15} {'Sharpe':<10}\")\n",
    "        print(\"-\" * 100)\n",
    "        \n",
    "        top_profitable = profitable_strategies.nlargest(10, 'avg_return_per_trade')\n",
    "        for idx, (_, row) in enumerate(top_profitable.iterrows(), 1):\n",
    "            print(f\"{idx:<5} {row['strategy_type']:<20} {row['avg_return_per_trade']*100:>17.4f}% {row['win_rate']*100:>9.1f}% \"\n",
    "                  f\"{row['num_trades']:>9} {row['total_return']*100:>14.2f}% {row['sharpe_ratio']:>9.2f}\")\n",
    "    else:\n",
    "        print(\"\\n⚠️ NO STRATEGIES ARE PROFITABLE ON AVERAGE!\")\n",
    "    \n",
    "    # Analyze the impact of execution costs\n",
    "    print(f\"\\n📊 Execution Cost Impact Analysis:\")\n",
    "    print(f\"Execution cost: {execution_cost_bps} basis points ({execution_cost_bps/100:.3f}%) round-trip\")\n",
    "    \n",
    "    # Calculate what returns would be without execution costs\n",
    "    print(f\"\\nWhat if there were NO execution costs?\")\n",
    "    no_cost_returns = performance_df['avg_return_per_trade'] + (execution_cost_bps / 10000)\n",
    "    profitable_without_costs = (no_cost_returns > 0).sum()\n",
    "    print(f\"Strategies that would be profitable: {profitable_without_costs} / {len(performance_df)} ({profitable_without_costs/len(performance_df)*100:.1f}%)\")\n",
    "    \n",
    "    # Distribution of average returns\n",
    "    print(f\"\\n📈 Distribution of Average Returns per Trade:\")\n",
    "    print(f\"Best: {performance_df['avg_return_per_trade'].max()*100:.4f}%\")\n",
    "    print(f\"75th percentile: {performance_df['avg_return_per_trade'].quantile(0.75)*100:.4f}%\")\n",
    "    print(f\"Median: {performance_df['avg_return_per_trade'].median()*100:.4f}%\")\n",
    "    print(f\"25th percentile: {performance_df['avg_return_per_trade'].quantile(0.25)*100:.4f}%\")\n",
    "    print(f\"Worst: {performance_df['avg_return_per_trade'].min()*100:.4f}%\")\n",
    "    \n",
    "    # Check if the \"optimization\" is just reducing trade count\n",
    "    if 'optimal_df' in globals():\n",
    "        print(f\"\\n🤔 Is 'optimization' just reducing trades?\")\n",
    "        top_10_optimized = optimal_df.nlargest(10, 'optimal_sharpe')\n",
    "        avg_trades = performance_df[performance_df['strategy_hash'].isin(top_10_optimized['strategy_hash'])]['num_trades'].mean()\n",
    "        print(f\"Average trades for top 10 'optimized' strategies: {avg_trades:.0f}\")\n",
    "        print(f\"Average trades for all strategies: {performance_df['num_trades'].mean():.0f}\")"
   ]
  },
  {
   "cell_type": "code",
   "execution_count": 19,
   "id": "3bc83292",
   "metadata": {
    "execution": {
     "iopub.execute_input": "2025-06-29T17:55:53.067403Z",
     "iopub.status.busy": "2025-06-29T17:55:53.067286Z",
     "iopub.status.idle": "2025-06-29T17:55:53.325590Z",
     "shell.execute_reply": "2025-06-29T17:55:53.325320Z"
    },
    "papermill": {
     "duration": 0.263608,
     "end_time": "2025-06-29T17:55:53.326314",
     "exception": false,
     "start_time": "2025-06-29T17:55:53.062706",
     "status": "completed"
    },
    "tags": []
   },
   "outputs": [
    {
     "name": "stdout",
     "output_type": "stream",
     "text": [
      "🔍 INVESTIGATING OPTIMIZATION DISCREPANCY\n",
      "================================================================================\n",
      "Analyzing top 'optimized' strategy: 80e0a9bf\n",
      "Claims: 0.6% → 0.5%\n",
      "\n",
      "Actual original performance:\n",
      "  Total return: 0.57%\n",
      "  Avg return/trade: 0.0127%\n",
      "  Number of trades: 45\n",
      "  Win rate: 55.6%\n",
      "\n",
      "Compounded return calculation:\n",
      "  (1 + 0.000127)^45 - 1 = 0.57%\n",
      "  Actual total return: 0.57%\n",
      "  Match? YES\n",
      "\n",
      "📊 Manual Stop/Target Check:\n",
      "Let's see what happens with 0.075% stop and 0.1% target...\n"
     ]
    },
    {
     "name": "stdout",
     "output_type": "stream",
     "text": [
      "\n",
      "Original trades analysis:\n",
      "  Number of trades: 45\n",
      "  Average return: 0.0127%\n",
      "  Win rate: 55.6%\n",
      "  Total return (sum): 0.57%\n",
      "  Total return (compound): 0.57%\n",
      "\n",
      "With 0.075% stop and 0.1% target:\n",
      "  Exit types: {'stop': 17, 'target': 8, 'signal': 20, 'stopped_winners': 4}\n",
      "  Average return: -0.0089%\n",
      "  Win rate: 48.9%\n",
      "  Total return (sum): -0.40%\n",
      "  Total return (compound): -0.40%\n",
      "\n",
      "🔍 Sample trades with stops:\n",
      "  Trade 1:  -0.091% →  -0.085% (STOPPED)\n",
      "  Trade 2:   0.008% →   0.090% (UNCHANGED)\n",
      "  Trade 3:  -0.019% →   0.090% (UNCHANGED)\n",
      "  Trade 4:  -0.074% →  -0.085% (UNCHANGED)\n",
      "  Trade 5:  -0.017% →  -0.017% (UNCHANGED)\n",
      "\n",
      "⚠️ HYPOTHESIS: The optimization might be using a flawed stop loss implementation!\n",
      "If stops are capping losses retrospectively instead of simulating actual exits,\n",
      "it would explain why negative strategies suddenly become profitable.\n"
     ]
    }
   ],
   "source": [
    "# Investigate the optimization discrepancy\n",
    "if 'optimal_df' in globals() and 'performance_df' in globals():\n",
    "    print(\"🔍 INVESTIGATING OPTIMIZATION DISCREPANCY\")\n",
    "    print(\"=\" * 80)\n",
    "    \n",
    "    # Pick the top \"optimized\" strategy\n",
    "    top_strategy = optimal_df.nlargest(1, 'optimal_sharpe').iloc[0]\n",
    "    print(f\"Analyzing top 'optimized' strategy: {top_strategy['strategy_hash'][:8]}\")\n",
    "    print(f\"Claims: {top_strategy['original_return']*100:.1f}% → {top_strategy['optimal_return']*100:.1f}%\")\n",
    "    \n",
    "    # Get the actual performance data\n",
    "    actual_perf = performance_df[performance_df['strategy_hash'] == top_strategy['strategy_hash']]\n",
    "    if len(actual_perf) > 0:\n",
    "        actual = actual_perf.iloc[0]\n",
    "        print(f\"\\nActual original performance:\")\n",
    "        print(f\"  Total return: {actual['total_return']*100:.2f}%\")\n",
    "        print(f\"  Avg return/trade: {actual['avg_return_per_trade']*100:.4f}%\")\n",
    "        print(f\"  Number of trades: {actual['num_trades']}\")\n",
    "        print(f\"  Win rate: {actual['win_rate']*100:.1f}%\")\n",
    "        \n",
    "        # Calculate what the return SHOULD be with compounding\n",
    "        compounded_return = (1 + actual['avg_return_per_trade']) ** actual['num_trades'] - 1\n",
    "        print(f\"\\nCompounded return calculation:\")\n",
    "        print(f\"  (1 + {actual['avg_return_per_trade']:.6f})^{actual['num_trades']} - 1 = {compounded_return*100:.2f}%\")\n",
    "        print(f\"  Actual total return: {actual['total_return']*100:.2f}%\")\n",
    "        print(f\"  Match? {'YES' if abs(compounded_return - actual['total_return']) < 0.01 else 'NO'}\")\n",
    "    \n",
    "    # Let's manually check one optimization\n",
    "    print(\"\\n📊 Manual Stop/Target Check:\")\n",
    "    print(\"Let's see what happens with 0.075% stop and 0.1% target...\")\n",
    "    \n",
    "    # Extract trades for this strategy\n",
    "    trades = extract_trades(top_strategy['strategy_hash'], \n",
    "                          strategy_index[strategy_index['strategy_hash'] == top_strategy['strategy_hash']].iloc[0]['trace_path'],\n",
    "                          market_data, \n",
    "                          execution_cost_bps)\n",
    "    \n",
    "    if len(trades) > 0:\n",
    "        print(f\"\\nOriginal trades analysis:\")\n",
    "        print(f\"  Number of trades: {len(trades)}\")\n",
    "        print(f\"  Average return: {trades['net_return'].mean()*100:.4f}%\")\n",
    "        print(f\"  Win rate: {(trades['net_return'] > 0).mean()*100:.1f}%\")\n",
    "        print(f\"  Total return (sum): {trades['net_return'].sum()*100:.2f}%\")\n",
    "        print(f\"  Total return (compound): {((1 + trades['net_return']).prod() - 1)*100:.2f}%\")\n",
    "        \n",
    "        # Apply stop/target\n",
    "        returns_with_stops, exit_types = apply_stop_target(trades, 0.075, 0.1, market_data)\n",
    "        \n",
    "        print(f\"\\nWith 0.075% stop and 0.1% target:\")\n",
    "        print(f\"  Exit types: {exit_types}\")\n",
    "        print(f\"  Average return: {returns_with_stops.mean()*100:.4f}%\")\n",
    "        print(f\"  Win rate: {(returns_with_stops > 0).mean()*100:.1f}%\")\n",
    "        print(f\"  Total return (sum): {returns_with_stops.sum()*100:.2f}%\")\n",
    "        print(f\"  Total return (compound): {((1 + returns_with_stops).prod() - 1)*100:.2f}%\")\n",
    "        \n",
    "        # Show some example trades\n",
    "        print(f\"\\n🔍 Sample trades with stops:\")\n",
    "        for i in range(min(5, len(trades))):\n",
    "            orig_return = trades.iloc[i]['net_return']\n",
    "            new_return = returns_with_stops[i]\n",
    "            print(f\"  Trade {i+1}: {orig_return*100:>7.3f}% → {new_return*100:>7.3f}% \"\n",
    "                  f\"({'STOPPED' if abs(new_return) < abs(orig_return) else 'UNCHANGED'})\")\n",
    "\n",
    "print(\"\\n⚠️ HYPOTHESIS: The optimization might be using a flawed stop loss implementation!\")\n",
    "print(\"If stops are capping losses retrospectively instead of simulating actual exits,\")\n",
    "print(\"it would explain why negative strategies suddenly become profitable.\")"
   ]
  },
  {
   "cell_type": "code",
   "execution_count": 1,
   "id": "9605a72f",
   "metadata": {
    "papermill": {
     "duration": 0.011196,
     "end_time": "2025-06-29T17:55:53.341801",
     "exception": false,
     "start_time": "2025-06-29T17:55:53.330605",
     "status": "completed"
    },
    "tags": []
   },
   "outputs": [
    {
     "name": "stdout",
     "output_type": "stream",
     "text": [
      "No optimization results found. Please run the optimization first.\n"
     ]
    }
   ],
   "source": [
    "# Get top performer parameters\n",
    "if 'optimal_df' in globals() and len(optimal_df) > 0:\n",
    "    # Get the best strategy after optimization\n",
    "    best_strategy = optimal_df.nlargest(1, 'optimal_sharpe').iloc[0]\n",
    "    \n",
    "    print(\"🏆 TOP PERFORMER AFTER OPTIMIZATION:\")\n",
    "    print(\"=\" * 80)\n",
    "    print(f\"Strategy Type: {best_strategy['strategy_type']}\")\n",
    "    print(f\"Strategy Hash: {best_strategy['strategy_hash']}\")\n",
    "    print(f\"\\nOptimal Risk Parameters:\")\n",
    "    print(f\"  Stop Loss: {best_strategy['optimal_stop']:.3f}%\")\n",
    "    print(f\"  Profit Target: {best_strategy['optimal_target']:.3f}%\")\n",
    "    \n",
    "    print(f\"\\nPerformance:\")\n",
    "    print(f\"  Optimized Sharpe: {best_strategy['optimal_sharpe']:.2f}\")\n",
    "    print(f\"  Optimized Return: {best_strategy['optimal_return']*100:.2f}%\")\n",
    "    print(f\"  Original Sharpe: {best_strategy['original_sharpe']:.2f}\")\n",
    "    print(f\"  Original Return: {best_strategy['original_return']*100:.2f}%\")\n",
    "    print(f\"  Sharpe Improvement: +{best_strategy['sharpe_improvement']:.2f}\")\n",
    "    \n",
    "    # Get strategy parameters if available\n",
    "    param_cols = [col for col in best_strategy.index if col not in ['strategy_hash', 'strategy_type', \n",
    "                                                                     'original_sharpe', 'original_return',\n",
    "                                                                     'optimal_stop', 'optimal_target',\n",
    "                                                                     'optimal_sharpe', 'optimal_return',\n",
    "                                                                     'sharpe_improvement', 'return_improvement',\n",
    "                                                                     'num_trades']]\n",
    "    \n",
    "    if param_cols:\n",
    "        print(f\"\\nStrategy Parameters:\")\n",
    "        for param in param_cols:\n",
    "            if pd.notna(best_strategy[param]):\n",
    "                print(f\"  {param}: {best_strategy[param]}\")\n",
    "    \n",
    "    # Get win rate from performance_df if available\n",
    "    if 'performance_df' in globals():\n",
    "        perf_match = performance_df[performance_df['strategy_hash'] == best_strategy['strategy_hash']]\n",
    "        if len(perf_match) > 0:\n",
    "            perf_data = perf_match.iloc[0]\n",
    "            print(f\"\\nOriginal Trading Metrics:\")\n",
    "            print(f\"  Win Rate: {perf_data['win_rate']*100:.1f}%\")\n",
    "            print(f\"  Avg Return per Trade: {perf_data['avg_return_per_trade']*100:.3f}%\")\n",
    "            print(f\"  Number of Trades: {perf_data['num_trades']}\")\n",
    "            print(f\"  Profit Factor: {perf_data['profit_factor']:.2f}\")\n",
    "    \n",
    "    # Create command to run this strategy\n",
    "    print(f\"\\n📋 To run this strategy in your system:\")\n",
    "    print(f\"Strategy Hash: {best_strategy['strategy_hash']}\")\n",
    "    print(f\"Stop Loss: {best_strategy['optimal_stop']:.3f}%\")\n",
    "    print(f\"Profit Target: {best_strategy['optimal_target']:.3f}%\")\n",
    "    \n",
    "    # Also show top 5 for comparison\n",
    "    print(\"\\n\\n📊 Top 5 Strategies After Optimization:\")\n",
    "    print(\"-\" * 80)\n",
    "    top_5 = optimal_df.nlargest(5, 'optimal_sharpe')\n",
    "    for idx, (_, row) in enumerate(top_5.iterrows(), 1):\n",
    "        print(f\"{idx}. {row['strategy_type']} - Sharpe: {row['optimal_sharpe']:.2f}, \"\n",
    "              f\"Stop: {row['optimal_stop']:.3f}%, Target: {row['optimal_target']:.3f}%\")\n",
    "        # Show parameters if it's bollinger_bands\n",
    "        if row['strategy_type'] == 'bollinger_bands' and 'period' in row and pd.notna(row['period']):\n",
    "            print(f\"   Parameters: period={row['period']}, std_dev={row['std_dev']}\")\n",
    "else:\n",
    "    print(\"No optimization results found. Please run the optimization first.\")"
   ]
  },
  {
   "cell_type": "code",
   "execution_count": 2,
   "id": "59492a99",
   "metadata": {
    "papermill": {
     "duration": 0.192785,
     "end_time": "2025-06-29T17:55:53.538899",
     "exception": false,
     "start_time": "2025-06-29T17:55:53.346114",
     "status": "completed"
    },
    "tags": []
   },
   "outputs": [
    {
     "ename": "NameError",
     "evalue": "name 'optimal_df' is not defined",
     "output_type": "error",
     "traceback": [
      "\u001b[31m---------------------------------------------------------------------------\u001b[39m",
      "\u001b[31mNameError\u001b[39m                                 Traceback (most recent call last)",
      "\u001b[36mCell\u001b[39m\u001b[36m \u001b[39m\u001b[32mIn[2]\u001b[39m\u001b[32m, line 2\u001b[39m\n\u001b[32m      1\u001b[39m \u001b[38;5;66;03m# Visualization of optimization results\u001b[39;00m\n\u001b[32m----> \u001b[39m\u001b[32m2\u001b[39m \u001b[38;5;28;01mif\u001b[39;00m \u001b[38;5;28mlen\u001b[39m(\u001b[43moptimal_df\u001b[49m) > \u001b[32m0\u001b[39m:\n\u001b[32m      3\u001b[39m     fig, axes = plt.subplots(\u001b[32m2\u001b[39m, \u001b[32m2\u001b[39m, figsize=(\u001b[32m15\u001b[39m, \u001b[32m10\u001b[39m))\n\u001b[32m      5\u001b[39m     \u001b[38;5;66;03m# 1. Sharpe improvement distribution\u001b[39;00m\n",
      "\u001b[31mNameError\u001b[39m: name 'optimal_df' is not defined"
     ]
    }
   ],
   "source": [
    "# Visualization of optimization results\n",
    "if len(optimal_df) > 0:\n",
    "    fig, axes = plt.subplots(2, 2, figsize=(15, 10))\n",
    "    \n",
    "    # 1. Sharpe improvement distribution\n",
    "    ax = axes[0, 0]\n",
    "    ax.hist(optimal_df['sharpe_improvement'], bins=30, alpha=0.7, color='green')\n",
    "    ax.axvline(0, color='red', linestyle='--', alpha=0.5)\n",
    "    ax.set_xlabel('Sharpe Ratio Improvement')\n",
    "    ax.set_ylabel('Count')\n",
    "    ax.set_title('Distribution of Sharpe Improvements from Optimal Stop/Target')\n",
    "    \n",
    "    # 2. Optimal stop/target scatter\n",
    "    ax = axes[0, 1]\n",
    "    scatter = ax.scatter(optimal_df['optimal_stop'], optimal_df['optimal_target'], \n",
    "                        c=optimal_df['optimal_sharpe'], cmap='viridis', alpha=0.6, s=50)\n",
    "    plt.colorbar(scatter, ax=ax, label='Optimal Sharpe')\n",
    "    ax.set_xlabel('Optimal Stop Loss %')\n",
    "    ax.set_ylabel('Optimal Profit Target %')\n",
    "    ax.set_title('Optimal Stop/Target Configurations')\n",
    "    \n",
    "    # 3. Original vs Optimized Sharpe\n",
    "    ax = axes[1, 0]\n",
    "    ax.scatter(optimal_df['original_sharpe'], optimal_df['optimal_sharpe'], alpha=0.5)\n",
    "    # Add diagonal line\n",
    "    min_val = min(optimal_df['original_sharpe'].min(), optimal_df['optimal_sharpe'].min())\n",
    "    max_val = max(optimal_df['original_sharpe'].max(), optimal_df['optimal_sharpe'].max())\n",
    "    ax.plot([min_val, max_val], [min_val, max_val], 'r--', alpha=0.5)\n",
    "    ax.set_xlabel('Original Sharpe Ratio')\n",
    "    ax.set_ylabel('Optimized Sharpe Ratio')\n",
    "    ax.set_title('Sharpe Ratio: Original vs Optimized')\n",
    "    ax.grid(True, alpha=0.3)\n",
    "    \n",
    "    # 4. Stop/Target usage statistics\n",
    "    ax = axes[1, 1]\n",
    "    stop_target_counts = optimal_df.groupby(['optimal_stop', 'optimal_target']).size()\n",
    "    top_configs = stop_target_counts.nlargest(10)\n",
    "    \n",
    "    labels = [f\"{s:.3f}/{t:.3f}\" for (s, t) in top_configs.index]\n",
    "    ax.bar(range(len(top_configs)), top_configs.values)\n",
    "    ax.set_xticks(range(len(top_configs)))\n",
    "    ax.set_xticklabels(labels, rotation=45, ha='right')\n",
    "    ax.set_ylabel('Number of Strategies')\n",
    "    ax.set_title('Most Common Optimal Stop/Target Configurations')\n",
    "    \n",
    "    plt.tight_layout()\n",
    "    plt.show()\n",
    "    \n",
    "    # Summary statistics\n",
    "    print(\"\\n📊 Optimization Summary:\")\n",
    "    print(f\"Strategies improved: {(optimal_df['sharpe_improvement'] > 0).sum()} / {len(optimal_df)} ({(optimal_df['sharpe_improvement'] > 0).mean()*100:.1f}%)\")\n",
    "    print(f\"Average Sharpe improvement: {optimal_df['sharpe_improvement'].mean():.3f}\")\n",
    "    print(f\"Best improvement: {optimal_df['sharpe_improvement'].max():.3f}\")\n",
    "    print(f\"\\nMost common optimal configurations:\")\n",
    "    for (stop, target), count in top_configs.head(5).items():\n",
    "        print(f\"  Stop={stop:.3f}%, Target={target:.3f}%: {count} strategies\")"
   ]
  },
  {
   "cell_type": "markdown",
   "id": "6c43b03c",
   "metadata": {
    "papermill": {
     "duration": 0.005251,
     "end_time": "2025-06-29T17:55:53.549265",
     "exception": false,
     "start_time": "2025-06-29T17:55:53.544014",
     "status": "completed"
    },
    "tags": []
   },
   "source": [
    "## Cleanup"
   ]
  },
  {
   "cell_type": "code",
   "execution_count": 3,
   "id": "0920b46d",
   "metadata": {
    "papermill": {
     "duration": 0.007915,
     "end_time": "2025-06-29T17:55:53.562319",
     "exception": false,
     "start_time": "2025-06-29T17:55:53.554404",
     "status": "completed"
    },
    "tags": []
   },
   "outputs": [],
   "source": [
    "# Restore original working directory if needed\n",
    "if '_snippet_paths' in globals() and 'original_cwd' in _snippet_paths:\n",
    "    os.chdir(_snippet_paths['original_cwd'])\n",
    "    print(f\"✅ Restored working directory to: {os.getcwd()}\")"
   ]
  },
  {
   "cell_type": "markdown",
   "id": "3507ac06",
   "metadata": {
    "papermill": {
     "duration": 0.004681,
     "end_time": "2025-06-29T17:55:53.572015",
     "exception": false,
     "start_time": "2025-06-29T17:55:53.567334",
     "status": "completed"
    },
    "tags": []
   },
   "source": [
    "## Export Results"
   ]
  },
  {
   "cell_type": "code",
   "execution_count": 4,
   "id": "870ad58b",
   "metadata": {
    "papermill": {
     "duration": 0.014849,
     "end_time": "2025-06-29T17:55:53.591588",
     "exception": false,
     "start_time": "2025-06-29T17:55:53.576739",
     "status": "completed"
    },
    "tags": []
   },
   "outputs": [
    {
     "ename": "NameError",
     "evalue": "name 'optimal_df' is not defined",
     "output_type": "error",
     "traceback": [
      "\u001b[31m---------------------------------------------------------------------------\u001b[39m",
      "\u001b[31mNameError\u001b[39m                                 Traceback (most recent call last)",
      "\u001b[36mCell\u001b[39m\u001b[36m \u001b[39m\u001b[32mIn[4]\u001b[39m\u001b[32m, line 2\u001b[39m\n\u001b[32m      1\u001b[39m \u001b[38;5;66;03m# Export optimized results\u001b[39;00m\n\u001b[32m----> \u001b[39m\u001b[32m2\u001b[39m \u001b[38;5;28;01mif\u001b[39;00m \u001b[38;5;28mlen\u001b[39m(\u001b[43moptimal_df\u001b[49m) > \u001b[32m0\u001b[39m:\n\u001b[32m      3\u001b[39m     \u001b[38;5;66;03m# Save optimization results\u001b[39;00m\n\u001b[32m      4\u001b[39m     optimal_df.to_csv(run_dir / \u001b[33m'\u001b[39m\u001b[33mstrategy_optimization_results.csv\u001b[39m\u001b[33m'\u001b[39m, index=\u001b[38;5;28;01mFalse\u001b[39;00m)\n\u001b[32m      6\u001b[39m     \u001b[38;5;66;03m# Create recommendations file\u001b[39;00m\n",
      "\u001b[31mNameError\u001b[39m: name 'optimal_df' is not defined"
     ]
    }
   ],
   "source": [
    "# Export optimized results\n",
    "if len(optimal_df) > 0:\n",
    "    # Save optimization results\n",
    "    optimal_df.to_csv(run_dir / 'strategy_optimization_results.csv', index=False)\n",
    "    \n",
    "    # Create recommendations file\n",
    "    recommendations = {\n",
    "        'run_info': {\n",
    "            'run_id': run_dir.name,\n",
    "            'config_name': config_name,\n",
    "            'generated_at': datetime.now().isoformat(),\n",
    "            'total_strategies': len(strategy_index) if strategy_index is not None else 0,\n",
    "            'strategies_analyzed': len(performance_df),\n",
    "            'strategies_optimized': len(optimal_df),\n",
    "            'execution_cost_bps': execution_cost_bps\n",
    "        },\n",
    "        'best_optimized': {},\n",
    "        'top_10_optimized': []\n",
    "    }\n",
    "    \n",
    "    # Best overall after optimization\n",
    "    if len(optimal_df) > 0:\n",
    "        best = optimal_df.nlargest(1, 'optimal_sharpe').iloc[0]\n",
    "        recommendations['best_optimized'] = {\n",
    "            'strategy_hash': best['strategy_hash'],\n",
    "            'strategy_type': best['strategy_type'],\n",
    "            'optimal_stop_pct': float(best['optimal_stop']),\n",
    "            'optimal_target_pct': float(best['optimal_target']),\n",
    "            'optimal_sharpe': float(best['optimal_sharpe']),\n",
    "            'optimal_return': float(best['optimal_return']),\n",
    "            'original_sharpe': float(best['original_sharpe']),\n",
    "            'sharpe_improvement': float(best['sharpe_improvement']),\n",
    "            'parameters': {k: float(v) if pd.notna(v) else None \n",
    "                          for k, v in best.items() \n",
    "                          if k in ['period', 'std_dev', 'fast_period', 'slow_period']}\n",
    "        }\n",
    "        \n",
    "        # Top 10\n",
    "        for idx, row in optimal_df.nlargest(10, 'optimal_sharpe').iterrows():\n",
    "            recommendations['top_10_optimized'].append({\n",
    "                'rank': len(recommendations['top_10_optimized']) + 1,\n",
    "                'strategy_hash': row['strategy_hash'],\n",
    "                'strategy_type': row['strategy_type'],\n",
    "                'optimal_stop_pct': float(row['optimal_stop']),\n",
    "                'optimal_target_pct': float(row['optimal_target']),\n",
    "                'optimal_sharpe': float(row['optimal_sharpe']),\n",
    "                'optimal_return': float(row['optimal_return'])\n",
    "            })\n",
    "    \n",
    "    # Save recommendations\n",
    "    with open(run_dir / 'optimized_recommendations.json', 'w') as f:\n",
    "        json.dump(recommendations, f, indent=2)\n",
    "    \n",
    "    print(\"\\n✅ Results exported:\")\n",
    "    print(f\"  - strategy_optimization_results.csv\")\n",
    "    print(f\"  - optimized_recommendations.json\")\n",
    "    print(f\"\\nYou can now run these optimized strategies through your event-driven system with:\")\n",
    "    print(f\"  Strategy: {recommendations['best_optimized']['strategy_hash']}\")\n",
    "    print(f\"  Stop Loss: {recommendations['best_optimized']['optimal_stop_pct']:.3f}%\")\n",
    "    print(f\"  Profit Target: {recommendations['best_optimized']['optimal_target_pct']:.3f}%\")\n",
    "else:\n",
    "    print(\"⚠️ No results to export\")"
   ]
  },
  {
   "cell_type": "code",
   "execution_count": null,
   "id": "f83f7bfb-a88b-4479-a483-1bb466ae7956",
   "metadata": {},
   "outputs": [],
   "source": []
  },
  {
   "cell_type": "code",
   "execution_count": null,
   "id": "2ae6a81c-6fa0-439d-a590-c38aa8c56b6d",
   "metadata": {},
   "outputs": [],
   "source": []
  },
  {
   "cell_type": "code",
   "execution_count": null,
   "id": "ea5a8610-2c62-4e7e-9d9c-eab21470fc7a",
   "metadata": {},
   "outputs": [],
   "source": []
  },
  {
   "cell_type": "code",
   "execution_count": null,
   "id": "56a3b3cb-e8f1-4e94-801f-f54ea1a032a3",
   "metadata": {},
   "outputs": [],
   "source": []
  },
  {
   "cell_type": "code",
   "execution_count": 5,
   "id": "cb1e5a98-ac16-4490-b327-635c01bd166a",
   "metadata": {},
   "outputs": [
    {
     "ename": "Exception",
     "evalue": "File `'regime_parameter_optimization.py'` not found.",
     "output_type": "error",
     "traceback": [
      "\u001b[31m---------------------------------------------------------------------------\u001b[39m",
      "\u001b[31mOSError\u001b[39m                                   Traceback (most recent call last)",
      "\u001b[36mFile \u001b[39m\u001b[32m/opt/homebrew/Cellar/jupyterlab/4.4.3_3/libexec/lib/python3.13/site-packages/IPython/core/magics/execution.py:727\u001b[39m, in \u001b[36mExecutionMagics.run\u001b[39m\u001b[34m(self, parameter_s, runner, file_finder)\u001b[39m\n\u001b[32m    726\u001b[39m     fpath = arg_lst[\u001b[32m0\u001b[39m]\n\u001b[32m--> \u001b[39m\u001b[32m727\u001b[39m     filename = \u001b[43mfile_finder\u001b[49m\u001b[43m(\u001b[49m\u001b[43mfpath\u001b[49m\u001b[43m)\u001b[49m\n\u001b[32m    728\u001b[39m \u001b[38;5;28;01mexcept\u001b[39;00m \u001b[38;5;167;01mIndexError\u001b[39;00m \u001b[38;5;28;01mas\u001b[39;00m e:\n",
      "\u001b[36mFile \u001b[39m\u001b[32m/opt/homebrew/Cellar/jupyterlab/4.4.3_3/libexec/lib/python3.13/site-packages/IPython/utils/path.py:90\u001b[39m, in \u001b[36mget_py_filename\u001b[39m\u001b[34m(name)\u001b[39m\n\u001b[32m     89\u001b[39m         \u001b[38;5;28;01mreturn\u001b[39;00m py_name\n\u001b[32m---> \u001b[39m\u001b[32m90\u001b[39m \u001b[38;5;28;01mraise\u001b[39;00m \u001b[38;5;167;01mIOError\u001b[39;00m(\u001b[33m\"\u001b[39m\u001b[33mFile `\u001b[39m\u001b[38;5;132;01m%r\u001b[39;00m\u001b[33m` not found.\u001b[39m\u001b[33m\"\u001b[39m % name)\n",
      "\u001b[31mOSError\u001b[39m: File `'regime_parameter_optimization.py'` not found.",
      "\nThe above exception was the direct cause of the following exception:\n",
      "\u001b[31mException\u001b[39m                                 Traceback (most recent call last)",
      "\u001b[36mCell\u001b[39m\u001b[36m \u001b[39m\u001b[32mIn[5]\u001b[39m\u001b[32m, line 1\u001b[39m\n\u001b[32m----> \u001b[39m\u001b[32m1\u001b[39m \u001b[43mget_ipython\u001b[49m\u001b[43m(\u001b[49m\u001b[43m)\u001b[49m\u001b[43m.\u001b[49m\u001b[43mrun_line_magic\u001b[49m\u001b[43m(\u001b[49m\u001b[33;43m'\u001b[39;49m\u001b[33;43mrun\u001b[39;49m\u001b[33;43m'\u001b[39;49m\u001b[43m,\u001b[49m\u001b[43m \u001b[49m\u001b[33;43m'\u001b[39;49m\u001b[33;43mregime_parameter_optimization.py\u001b[39;49m\u001b[33;43m'\u001b[39;49m\u001b[43m)\u001b[49m\n",
      "\u001b[36mFile \u001b[39m\u001b[32m/opt/homebrew/Cellar/jupyterlab/4.4.3_3/libexec/lib/python3.13/site-packages/IPython/core/interactiveshell.py:2488\u001b[39m, in \u001b[36mInteractiveShell.run_line_magic\u001b[39m\u001b[34m(self, magic_name, line, _stack_depth)\u001b[39m\n\u001b[32m   2486\u001b[39m     kwargs[\u001b[33m'\u001b[39m\u001b[33mlocal_ns\u001b[39m\u001b[33m'\u001b[39m] = \u001b[38;5;28mself\u001b[39m.get_local_scope(stack_depth)\n\u001b[32m   2487\u001b[39m \u001b[38;5;28;01mwith\u001b[39;00m \u001b[38;5;28mself\u001b[39m.builtin_trap:\n\u001b[32m-> \u001b[39m\u001b[32m2488\u001b[39m     result = \u001b[43mfn\u001b[49m\u001b[43m(\u001b[49m\u001b[43m*\u001b[49m\u001b[43margs\u001b[49m\u001b[43m,\u001b[49m\u001b[43m \u001b[49m\u001b[43m*\u001b[49m\u001b[43m*\u001b[49m\u001b[43mkwargs\u001b[49m\u001b[43m)\u001b[49m\n\u001b[32m   2490\u001b[39m \u001b[38;5;66;03m# The code below prevents the output from being displayed\u001b[39;00m\n\u001b[32m   2491\u001b[39m \u001b[38;5;66;03m# when using magics with decorator @output_can_be_silenced\u001b[39;00m\n\u001b[32m   2492\u001b[39m \u001b[38;5;66;03m# when the last Python token in the expression is a ';'.\u001b[39;00m\n\u001b[32m   2493\u001b[39m \u001b[38;5;28;01mif\u001b[39;00m \u001b[38;5;28mgetattr\u001b[39m(fn, magic.MAGIC_OUTPUT_CAN_BE_SILENCED, \u001b[38;5;28;01mFalse\u001b[39;00m):\n",
      "\u001b[36mFile \u001b[39m\u001b[32m/opt/homebrew/Cellar/jupyterlab/4.4.3_3/libexec/lib/python3.13/site-packages/IPython/core/magics/execution.py:738\u001b[39m, in \u001b[36mExecutionMagics.run\u001b[39m\u001b[34m(self, parameter_s, runner, file_finder)\u001b[39m\n\u001b[32m    736\u001b[39m     \u001b[38;5;28;01mif\u001b[39;00m os.name == \u001b[33m'\u001b[39m\u001b[33mnt\u001b[39m\u001b[33m'\u001b[39m \u001b[38;5;129;01mand\u001b[39;00m re.match(\u001b[33mr\u001b[39m\u001b[33m\"\u001b[39m\u001b[33m^\u001b[39m\u001b[33m'\u001b[39m\u001b[33m.*\u001b[39m\u001b[33m'\u001b[39m\u001b[33m$\u001b[39m\u001b[33m\"\u001b[39m,fpath):\n\u001b[32m    737\u001b[39m         warn(\u001b[33m'\u001b[39m\u001b[33mFor Windows, use double quotes to wrap a filename: \u001b[39m\u001b[38;5;132;01m%r\u001b[39;00m\u001b[33mun \u001b[39m\u001b[33m\"\u001b[39m\u001b[33mmypath\u001b[39m\u001b[38;5;130;01m\\\\\u001b[39;00m\u001b[33mmyfile.py\u001b[39m\u001b[33m\"\u001b[39m\u001b[33m'\u001b[39m)\n\u001b[32m--> \u001b[39m\u001b[32m738\u001b[39m     \u001b[38;5;28;01mraise\u001b[39;00m \u001b[38;5;167;01mException\u001b[39;00m(msg) \u001b[38;5;28;01mfrom\u001b[39;00m\u001b[38;5;250m \u001b[39m\u001b[34;01me\u001b[39;00m\n\u001b[32m    739\u001b[39m \u001b[38;5;28;01mexcept\u001b[39;00m \u001b[38;5;167;01mTypeError\u001b[39;00m:\n\u001b[32m    740\u001b[39m     \u001b[38;5;28;01mif\u001b[39;00m fpath \u001b[38;5;129;01min\u001b[39;00m sys.meta_path:\n",
      "\u001b[31mException\u001b[39m: File `'regime_parameter_optimization.py'` not found."
     ]
    }
   ],
   "source": [
    "%run regime_parameter_optimization.py"
   ]
  },
  {
   "cell_type": "code",
   "execution_count": 6,
   "id": "6b07c7f8-e140-46ec-88ee-bc730891bc3a",
   "metadata": {},
   "outputs": [
    {
     "ename": "Exception",
     "evalue": "File `'regime/volatility_regimes.py'` not found.",
     "output_type": "error",
     "traceback": [
      "\u001b[31m---------------------------------------------------------------------------\u001b[39m",
      "\u001b[31mOSError\u001b[39m                                   Traceback (most recent call last)",
      "\u001b[36mFile \u001b[39m\u001b[32m/opt/homebrew/Cellar/jupyterlab/4.4.3_3/libexec/lib/python3.13/site-packages/IPython/core/magics/execution.py:727\u001b[39m, in \u001b[36mExecutionMagics.run\u001b[39m\u001b[34m(self, parameter_s, runner, file_finder)\u001b[39m\n\u001b[32m    726\u001b[39m     fpath = arg_lst[\u001b[32m0\u001b[39m]\n\u001b[32m--> \u001b[39m\u001b[32m727\u001b[39m     filename = \u001b[43mfile_finder\u001b[49m\u001b[43m(\u001b[49m\u001b[43mfpath\u001b[49m\u001b[43m)\u001b[49m\n\u001b[32m    728\u001b[39m \u001b[38;5;28;01mexcept\u001b[39;00m \u001b[38;5;167;01mIndexError\u001b[39;00m \u001b[38;5;28;01mas\u001b[39;00m e:\n",
      "\u001b[36mFile \u001b[39m\u001b[32m/opt/homebrew/Cellar/jupyterlab/4.4.3_3/libexec/lib/python3.13/site-packages/IPython/utils/path.py:90\u001b[39m, in \u001b[36mget_py_filename\u001b[39m\u001b[34m(name)\u001b[39m\n\u001b[32m     89\u001b[39m         \u001b[38;5;28;01mreturn\u001b[39;00m py_name\n\u001b[32m---> \u001b[39m\u001b[32m90\u001b[39m \u001b[38;5;28;01mraise\u001b[39;00m \u001b[38;5;167;01mIOError\u001b[39;00m(\u001b[33m\"\u001b[39m\u001b[33mFile `\u001b[39m\u001b[38;5;132;01m%r\u001b[39;00m\u001b[33m` not found.\u001b[39m\u001b[33m\"\u001b[39m % name)\n",
      "\u001b[31mOSError\u001b[39m: File `'regime/volatility_regimes.py'` not found.",
      "\nThe above exception was the direct cause of the following exception:\n",
      "\u001b[31mException\u001b[39m                                 Traceback (most recent call last)",
      "\u001b[36mCell\u001b[39m\u001b[36m \u001b[39m\u001b[32mIn[6]\u001b[39m\u001b[32m, line 1\u001b[39m\n\u001b[32m----> \u001b[39m\u001b[32m1\u001b[39m \u001b[43mget_ipython\u001b[49m\u001b[43m(\u001b[49m\u001b[43m)\u001b[49m\u001b[43m.\u001b[49m\u001b[43mrun_line_magic\u001b[49m\u001b[43m(\u001b[49m\u001b[33;43m'\u001b[39;49m\u001b[33;43mrun\u001b[39;49m\u001b[33;43m'\u001b[39;49m\u001b[43m,\u001b[49m\u001b[43m \u001b[49m\u001b[33;43m'\u001b[39;49m\u001b[33;43mregime/volatility_regimes.py\u001b[39;49m\u001b[33;43m'\u001b[39;49m\u001b[43m)\u001b[49m\n",
      "\u001b[36mFile \u001b[39m\u001b[32m/opt/homebrew/Cellar/jupyterlab/4.4.3_3/libexec/lib/python3.13/site-packages/IPython/core/interactiveshell.py:2488\u001b[39m, in \u001b[36mInteractiveShell.run_line_magic\u001b[39m\u001b[34m(self, magic_name, line, _stack_depth)\u001b[39m\n\u001b[32m   2486\u001b[39m     kwargs[\u001b[33m'\u001b[39m\u001b[33mlocal_ns\u001b[39m\u001b[33m'\u001b[39m] = \u001b[38;5;28mself\u001b[39m.get_local_scope(stack_depth)\n\u001b[32m   2487\u001b[39m \u001b[38;5;28;01mwith\u001b[39;00m \u001b[38;5;28mself\u001b[39m.builtin_trap:\n\u001b[32m-> \u001b[39m\u001b[32m2488\u001b[39m     result = \u001b[43mfn\u001b[49m\u001b[43m(\u001b[49m\u001b[43m*\u001b[49m\u001b[43margs\u001b[49m\u001b[43m,\u001b[49m\u001b[43m \u001b[49m\u001b[43m*\u001b[49m\u001b[43m*\u001b[49m\u001b[43mkwargs\u001b[49m\u001b[43m)\u001b[49m\n\u001b[32m   2490\u001b[39m \u001b[38;5;66;03m# The code below prevents the output from being displayed\u001b[39;00m\n\u001b[32m   2491\u001b[39m \u001b[38;5;66;03m# when using magics with decorator @output_can_be_silenced\u001b[39;00m\n\u001b[32m   2492\u001b[39m \u001b[38;5;66;03m# when the last Python token in the expression is a ';'.\u001b[39;00m\n\u001b[32m   2493\u001b[39m \u001b[38;5;28;01mif\u001b[39;00m \u001b[38;5;28mgetattr\u001b[39m(fn, magic.MAGIC_OUTPUT_CAN_BE_SILENCED, \u001b[38;5;28;01mFalse\u001b[39;00m):\n",
      "\u001b[36mFile \u001b[39m\u001b[32m/opt/homebrew/Cellar/jupyterlab/4.4.3_3/libexec/lib/python3.13/site-packages/IPython/core/magics/execution.py:738\u001b[39m, in \u001b[36mExecutionMagics.run\u001b[39m\u001b[34m(self, parameter_s, runner, file_finder)\u001b[39m\n\u001b[32m    736\u001b[39m     \u001b[38;5;28;01mif\u001b[39;00m os.name == \u001b[33m'\u001b[39m\u001b[33mnt\u001b[39m\u001b[33m'\u001b[39m \u001b[38;5;129;01mand\u001b[39;00m re.match(\u001b[33mr\u001b[39m\u001b[33m\"\u001b[39m\u001b[33m^\u001b[39m\u001b[33m'\u001b[39m\u001b[33m.*\u001b[39m\u001b[33m'\u001b[39m\u001b[33m$\u001b[39m\u001b[33m\"\u001b[39m,fpath):\n\u001b[32m    737\u001b[39m         warn(\u001b[33m'\u001b[39m\u001b[33mFor Windows, use double quotes to wrap a filename: \u001b[39m\u001b[38;5;132;01m%r\u001b[39;00m\u001b[33mun \u001b[39m\u001b[33m\"\u001b[39m\u001b[33mmypath\u001b[39m\u001b[38;5;130;01m\\\\\u001b[39;00m\u001b[33mmyfile.py\u001b[39m\u001b[33m\"\u001b[39m\u001b[33m'\u001b[39m)\n\u001b[32m--> \u001b[39m\u001b[32m738\u001b[39m     \u001b[38;5;28;01mraise\u001b[39;00m \u001b[38;5;167;01mException\u001b[39;00m(msg) \u001b[38;5;28;01mfrom\u001b[39;00m\u001b[38;5;250m \u001b[39m\u001b[34;01me\u001b[39;00m\n\u001b[32m    739\u001b[39m \u001b[38;5;28;01mexcept\u001b[39;00m \u001b[38;5;167;01mTypeError\u001b[39;00m:\n\u001b[32m    740\u001b[39m     \u001b[38;5;28;01mif\u001b[39;00m fpath \u001b[38;5;129;01min\u001b[39;00m sys.meta_path:\n",
      "\u001b[31mException\u001b[39m: File `'regime/volatility_regimes.py'` not found."
     ]
    }
   ],
   "source": [
    "%run regime/volatility_regimes.py"
   ]
  },
  {
   "cell_type": "code",
   "execution_count": null,
   "id": "35506896-5b91-4d8c-8345-f23f237e5481",
   "metadata": {},
   "outputs": [],
   "source": []
  }
 ],
 "metadata": {
  "kernelspec": {
   "display_name": "Python 3 (ipykernel)",
   "language": "python",
   "name": "python3"
  },
  "language_info": {
   "codemirror_mode": {
    "name": "ipython",
    "version": 3
   },
   "file_extension": ".py",
   "mimetype": "text/x-python",
   "name": "python",
   "nbconvert_exporter": "python",
   "pygments_lexer": "ipython3",
   "version": "3.13.5"
  },
  "papermill": {
   "default_parameters": {},
   "duration": 248.739406,
   "end_time": "2025-06-29T17:55:53.813271",
   "environment_variables": {},
   "exception": null,
   "input_path": "/Users/daws/ADMF-PC/src/analytics/templates/universal_analysis.ipynb",
   "output_path": "config/bollinger/results/20250629_104345/analysis_20250629_105144.ipynb",
   "parameters": {
    "calculate_all_performance": true,
    "config_name": "bollinger",
    "correlation_threshold": 0.7,
    "ensemble_size": 5,
    "min_strategies_to_analyze": 20,
    "performance_limit": 100,
    "run_dir": "/Users/daws/ADMF-PC/config/bollinger/results/20250629_104345",
    "sharpe_threshold": 1,
    "symbols": [
     "SPY"
    ],
    "timeframe": "5m",
    "top_n_strategies": 10
   },
   "start_time": "2025-06-29T17:51:45.073865",
   "version": "2.6.0"
  }
 },
 "nbformat": 4,
 "nbformat_minor": 5
}
