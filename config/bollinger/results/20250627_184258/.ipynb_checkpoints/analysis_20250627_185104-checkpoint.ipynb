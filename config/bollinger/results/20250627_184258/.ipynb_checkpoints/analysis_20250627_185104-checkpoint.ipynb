{
 "cells": [
  {
   "cell_type": "markdown",
   "id": "436fe78a",
   "metadata": {
    "papermill": {
     "duration": 0.009197,
     "end_time": "2025-06-28T01:51:05.690460",
     "exception": false,
     "start_time": "2025-06-28T01:51:05.681263",
     "status": "completed"
    },
    "tags": []
   },
   "outputs": [],
   "source": [
    "# Universal Strategy Analysis\n",
    "\n",
    "This notebook provides comprehensive analysis across all strategies tested in a parameter sweep.\n",
    "\n",
    "**Key Features:**\n",
    "- Cross-strategy performance comparison\n",
    "- Parameter sensitivity analysis\n",
    "- Stop loss and profit target analysis with CORRECT implementation\n",
    "- Correlation analysis for ensemble building\n",
    "- Regime-specific performance breakdown\n",
    "- Automatic identification of optimal strategies and ensembles"
   ]
  },
  {
   "cell_type": "code",
   "execution_count": 1,
   "id": "afddd873",
   "metadata": {
    "execution": {
     "iopub.execute_input": "2025-06-28T01:51:05.700604Z",
     "iopub.status.busy": "2025-06-28T01:51:05.700361Z",
     "iopub.status.idle": "2025-06-28T01:51:05.705749Z",
     "shell.execute_reply": "2025-06-28T01:51:05.705400Z"
    },
    "papermill": {
     "duration": 0.010313,
     "end_time": "2025-06-28T01:51:05.706841",
     "exception": false,
     "start_time": "2025-06-28T01:51:05.696528",
     "status": "completed"
    },
    "tags": [
     "parameters"
    ]
   },
   "outputs": [],
   "source": [
    "# Parameters will be injected here by papermill\n",
    "# This cell is tagged with 'parameters' for papermill to recognize it\n",
    "run_dir = \".\"\n",
    "config_name = \"config\"\n",
    "symbols = [\"SPY\"]\n",
    "timeframe = \"5m\"\n",
    "min_strategies_to_analyze = 20\n",
    "sharpe_threshold = 1.0\n",
    "correlation_threshold = 0.7\n",
    "top_n_strategies = 10\n",
    "ensemble_size = 5\n",
    "calculate_all_performance = True  # Set to False to limit analysis for large sweeps\n",
    "performance_limit = 100  # If calculate_all_performance is False, limit to this many\n",
    "\n",
    "# Enhanced analysis parameters\n",
    "execution_cost_bps = 1.0  # Round-trip execution cost in basis points\n",
    "analyze_stop_losses = True  # Whether to analyze stop loss impact\n",
    "stop_loss_levels = [0.01, 0.02, 0.03, 0.04, 0.05, 0.1, 0.15, 0.2, 0.25, 0.3, 0.35, 0.4, 0.45, 0.5, 0.75, 1.0]  # Stop loss percentages\n",
    "verify_intraday = True  # Whether to verify intraday constraints\n",
    "market_timezone = \"America/New_York\"  # Market timezone for constraint verification"
   ]
  },
  {
   "cell_type": "code",
   "execution_count": 2,
   "id": "caff4899",
   "metadata": {
    "execution": {
     "iopub.execute_input": "2025-06-28T01:51:05.712663Z",
     "iopub.status.busy": "2025-06-28T01:51:05.712511Z",
     "iopub.status.idle": "2025-06-28T01:51:05.714989Z",
     "shell.execute_reply": "2025-06-28T01:51:05.714696Z"
    },
    "papermill": {
     "duration": 0.006094,
     "end_time": "2025-06-28T01:51:05.715888",
     "exception": false,
     "start_time": "2025-06-28T01:51:05.709794",
     "status": "completed"
    },
    "tags": [
     "injected-parameters"
    ]
   },
   "outputs": [],
   "source": [
    "# Parameters\n",
    "run_dir = \"/Users/daws/ADMF-PC/config/bollinger/results/20250627_184258\"\n",
    "config_name = \"bollinger\"\n",
    "symbols = [\"SPY\"]\n",
    "timeframe = \"5m\"\n",
    "min_strategies_to_analyze = 20\n",
    "sharpe_threshold = 1.0\n",
    "correlation_threshold = 0.7\n",
    "top_n_strategies = 10\n",
    "ensemble_size = 5\n",
    "calculate_all_performance = True\n",
    "performance_limit = 100\n"
   ]
  },
  {
   "cell_type": "markdown",
   "id": "36765a3d",
   "metadata": {
    "papermill": {
     "duration": 0.002902,
     "end_time": "2025-06-28T01:51:05.721085",
     "exception": false,
     "start_time": "2025-06-28T01:51:05.718183",
     "status": "completed"
    },
    "tags": []
   },
   "source": [
    "## Setup"
   ]
  },
  {
   "cell_type": "code",
   "execution_count": 3,
   "id": "bfdb64d5",
   "metadata": {
    "execution": {
     "iopub.execute_input": "2025-06-28T01:51:05.725329Z",
     "iopub.status.busy": "2025-06-28T01:51:05.725207Z",
     "iopub.status.idle": "2025-06-28T01:51:06.467621Z",
     "shell.execute_reply": "2025-06-28T01:51:06.467390Z"
    },
    "papermill": {
     "duration": 0.745248,
     "end_time": "2025-06-28T01:51:06.468286",
     "exception": false,
     "start_time": "2025-06-28T01:51:05.723038",
     "status": "completed"
    },
    "tags": []
   },
   "outputs": [
    {
     "name": "stdout",
     "output_type": "stream",
     "text": [
      "Analyzing run: 20250627_184258\n",
      "Full path: /Users/daws/ADMF-PC/config/bollinger/results/20250627_184258\n",
      "Config: bollinger\n",
      "Symbol(s): ['SPY']\n",
      "Timeframe: 5m\n"
     ]
    }
   ],
   "source": [
    "# Imports\n",
    "import pandas as pd\n",
    "import numpy as np\n",
    "import matplotlib.pyplot as plt\n",
    "import seaborn as sns\n",
    "from pathlib import Path\n",
    "import duckdb\n",
    "import json\n",
    "from datetime import datetime\n",
    "import warnings\n",
    "warnings.filterwarnings('ignore')\n",
    "\n",
    "# Configure plotting\n",
    "plt.style.use('seaborn-v0_8-darkgrid')\n",
    "plt.rcParams['figure.figsize'] = (12, 6)\n",
    "plt.rcParams['font.size'] = 10\n",
    "\n",
    "# Initialize DuckDB\n",
    "con = duckdb.connect()\n",
    "\n",
    "# Convert run_dir to Path and resolve to absolute path\n",
    "run_dir = Path(run_dir).resolve()\n",
    "print(f\"Analyzing run: {run_dir.name}\")\n",
    "print(f\"Full path: {run_dir}\")\n",
    "print(f\"Config: {config_name}\")\n",
    "print(f\"Symbol(s): {symbols}\")\n",
    "print(f\"Timeframe: {timeframe}\")"
   ]
  },
  {
   "cell_type": "markdown",
   "id": "21196a8e",
   "metadata": {
    "papermill": {
     "duration": 0.001603,
     "end_time": "2025-06-28T01:51:06.471922",
     "exception": false,
     "start_time": "2025-06-28T01:51:06.470319",
     "status": "completed"
    },
    "tags": []
   },
   "source": [
    "## Critical Functions - Stop Loss and Trade Extraction\n",
    "\n",
    "**IMPORTANT**: These functions implement stop loss and profit target analysis CORRECTLY by checking intraday price movements. They do NOT use the flawed retrospective capping approach."
   ]
  },
  {
   "cell_type": "code",
   "execution_count": 4,
   "id": "f2d1b782",
   "metadata": {
    "execution": {
     "iopub.execute_input": "2025-06-28T01:51:06.475311Z",
     "iopub.status.busy": "2025-06-28T01:51:06.475148Z",
     "iopub.status.idle": "2025-06-28T01:51:06.479727Z",
     "shell.execute_reply": "2025-06-28T01:51:06.479530Z"
    },
    "papermill": {
     "duration": 0.006937,
     "end_time": "2025-06-28T01:51:06.480379",
     "exception": false,
     "start_time": "2025-06-28T01:51:06.473442",
     "status": "completed"
    },
    "tags": []
   },
   "outputs": [],
   "source": [
    "def extract_trades(strategy_hash, trace_path, market_data, execution_cost_bps=1.0):\n",
    "    \"\"\"\n",
    "    Extract trades from signal trace with execution costs.\n",
    "    \n",
    "    Args:\n",
    "        strategy_hash: Strategy identifier\n",
    "        trace_path: Path to trace file\n",
    "        market_data: Market price data\n",
    "        execution_cost_bps: Round-trip execution cost in basis points (default 1bp)\n",
    "    \n",
    "    Returns:\n",
    "        DataFrame with trade details including costs\n",
    "    \"\"\"\n",
    "    try:\n",
    "        signals_path = run_dir / trace_path\n",
    "        signals = pd.read_parquet(signals_path)\n",
    "        signals['ts'] = pd.to_datetime(signals['ts'])\n",
    "        \n",
    "        # Merge with market data\n",
    "        df = market_data.merge(\n",
    "            signals[['ts', 'val', 'px']], \n",
    "            left_on='timestamp', \n",
    "            right_on='ts', \n",
    "            how='left'\n",
    "        )\n",
    "        \n",
    "        # Forward fill signals\n",
    "        df['signal'] = df['val'].ffill().fillna(0)\n",
    "        df['position'] = df['signal'].replace({0: 0, 1: 1, -1: -1})\n",
    "        df['position_change'] = df['position'].diff().fillna(0)\n",
    "        \n",
    "        trades = []\n",
    "        current_trade = None\n",
    "        \n",
    "        for idx, row in df.iterrows():\n",
    "            if row['position_change'] != 0 and row['position'] != 0:\n",
    "                # New position opened\n",
    "                if current_trade is None:\n",
    "                    current_trade = {\n",
    "                        'entry_time': row['timestamp'],\n",
    "                        'entry_price': row['px'] if pd.notna(row['px']) else row['close'],\n",
    "                        'direction': row['position'],\n",
    "                        'entry_idx': idx\n",
    "                    }\n",
    "            elif current_trade is not None and (row['position'] == 0 or row['position_change'] != 0):\n",
    "                # Position closed\n",
    "                exit_price = row['px'] if pd.notna(row['px']) else row['close']\n",
    "                \n",
    "                # Avoid division by zero - check if entry price is valid\n",
    "                if current_trade['entry_price'] == 0 or pd.isna(current_trade['entry_price']):\n",
    "                    print(f\"Warning: Invalid entry price {current_trade['entry_price']} for trade at {current_trade['entry_time']}\")\n",
    "                    current_trade = None\n",
    "                    continue\n",
    "                \n",
    "                # Calculate raw return\n",
    "                if current_trade['direction'] == 1:  # Long\n",
    "                    raw_return = (exit_price - current_trade['entry_price']) / current_trade['entry_price']\n",
    "                else:  # Short\n",
    "                    raw_return = (current_trade['entry_price'] - exit_price) / current_trade['entry_price']\n",
    "                \n",
    "                # Apply execution costs\n",
    "                cost_adjustment = execution_cost_bps / 10000  # Convert bps to decimal\n",
    "                net_return = raw_return - cost_adjustment\n",
    "                \n",
    "                trade = {\n",
    "                    'strategy_hash': strategy_hash,\n",
    "                    'entry_time': current_trade['entry_time'],\n",
    "                    'exit_time': row['timestamp'],\n",
    "                    'entry_price': current_trade['entry_price'],\n",
    "                    'exit_price': exit_price,\n",
    "                    'direction': current_trade['direction'],\n",
    "                    'raw_return': raw_return,\n",
    "                    'execution_cost': cost_adjustment,\n",
    "                    'net_return': net_return,\n",
    "                    'duration_minutes': (row['timestamp'] - current_trade['entry_time']).total_seconds() / 60,\n",
    "                    'entry_idx': current_trade['entry_idx'],\n",
    "                    'exit_idx': idx\n",
    "                }\n",
    "                trades.append(trade)\n",
    "                \n",
    "                # Reset for next trade\n",
    "                current_trade = None\n",
    "                if row['position'] != 0 and row['position_change'] != 0:\n",
    "                    # Immediately open new position (reversal)\n",
    "                    current_trade = {\n",
    "                        'entry_time': row['timestamp'],\n",
    "                        'entry_price': row['px'] if pd.notna(row['px']) else row['close'],\n",
    "                        'direction': row['position'],\n",
    "                        'entry_idx': idx\n",
    "                    }\n",
    "        \n",
    "        return pd.DataFrame(trades)\n",
    "    except Exception as e:\n",
    "        print(f\"Error extracting trades for {strategy_hash[:8]}: {e}\")\n",
    "        return pd.DataFrame()"
   ]
  },
  {
   "cell_type": "code",
   "execution_count": 5,
   "id": "9121fe43",
   "metadata": {
    "execution": {
     "iopub.execute_input": "2025-06-28T01:51:06.483636Z",
     "iopub.status.busy": "2025-06-28T01:51:06.483527Z",
     "iopub.status.idle": "2025-06-28T01:51:06.489487Z",
     "shell.execute_reply": "2025-06-28T01:51:06.489269Z"
    },
    "papermill": {
     "duration": 0.008287,
     "end_time": "2025-06-28T01:51:06.490096",
     "exception": false,
     "start_time": "2025-06-28T01:51:06.481809",
     "status": "completed"
    },
    "tags": []
   },
   "outputs": [],
   "source": [
    "def calculate_stop_loss_impact(trades_df, stop_loss_levels=None, market_data=None):\n",
    "    \"\"\"\n",
    "    Calculate returns with various stop loss levels using PROPER intraday simulation.\n",
    "    \n",
    "    THIS IS THE CORRECT IMPLEMENTATION:\n",
    "    - Checks actual intraday high/low prices\n",
    "    - Exits immediately when stop is hit\n",
    "    - Stops out trades that would have been winners too\n",
    "    - Does NOT retrospectively cap losses\n",
    "    \n",
    "    Args:\n",
    "        trades_df: DataFrame of trades (must include entry_idx and exit_idx)\n",
    "        stop_loss_levels: List of stop loss percentages (default 0.05% to 1%)\n",
    "        market_data: Market data for intraday price movements\n",
    "    \n",
    "    Returns:\n",
    "        DataFrame with returns for each stop loss level\n",
    "    \"\"\"\n",
    "    if stop_loss_levels is None:\n",
    "        stop_loss_levels = [0.05, 0.1, 0.15, 0.2, 0.25, 0.3, 0.4, 0.5, 0.75, 1.0]\n",
    "    \n",
    "    if market_data is None:\n",
    "        raise ValueError(\"Market data is required for proper stop loss analysis!\")\n",
    "    \n",
    "    results = []\n",
    "    \n",
    "    for sl_pct in stop_loss_levels:\n",
    "        sl_decimal = sl_pct / 100\n",
    "        \n",
    "        trades_with_sl = []\n",
    "        stopped_out_count = 0\n",
    "        stopped_winners = 0  # Trades that were stopped but would have been winners\n",
    "        \n",
    "        # Process each trade with intraday stop loss\n",
    "        for _, trade in trades_df.iterrows():\n",
    "            # Get intraday prices for this trade\n",
    "            trade_prices = market_data.iloc[int(trade['entry_idx']):int(trade['exit_idx'])+1]\n",
    "            \n",
    "            if len(trade_prices) == 0:\n",
    "                continue\n",
    "                \n",
    "            entry_price = trade['entry_price']\n",
    "            direction = trade['direction']\n",
    "            original_return = trade['net_return']  # What the trade actually returned\n",
    "            \n",
    "            # Calculate stop loss price\n",
    "            if direction == 1:  # Long position\n",
    "                stop_price = entry_price * (1 - sl_decimal)\n",
    "            else:  # Short position  \n",
    "                stop_price = entry_price * (1 + sl_decimal)\n",
    "            \n",
    "            # Check if stop loss is hit\n",
    "            stopped = False\n",
    "            exit_price = trade['exit_price']\n",
    "            exit_time = trade['exit_time']\n",
    "            \n",
    "            for idx, bar in trade_prices.iterrows():\n",
    "                if direction == 1:  # Long\n",
    "                    # Check if low price hits stop\n",
    "                    if bar['low'] <= stop_price:\n",
    "                        stopped = True\n",
    "                        stopped_out_count += 1\n",
    "                        exit_price = stop_price\n",
    "                        exit_time = bar['timestamp']\n",
    "                        # Check if this would have been a winner\n",
    "                        if original_return > 0:\n",
    "                            stopped_winners += 1\n",
    "                        break\n",
    "                else:  # Short\n",
    "                    # Check if high price hits stop\n",
    "                    if bar['high'] >= stop_price:\n",
    "                        stopped = True\n",
    "                        stopped_out_count += 1\n",
    "                        exit_price = stop_price\n",
    "                        exit_time = bar['timestamp']\n",
    "                        # Check if this would have been a winner\n",
    "                        if original_return > 0:\n",
    "                            stopped_winners += 1\n",
    "                        break\n",
    "            \n",
    "            # Calculate return with actual or stopped exit\n",
    "            if direction == 1:  # Long\n",
    "                raw_return = (exit_price - entry_price) / entry_price\n",
    "            else:  # Short\n",
    "                raw_return = (entry_price - exit_price) / entry_price\n",
    "                \n",
    "            # Apply execution costs\n",
    "            net_return = raw_return - trade['execution_cost']\n",
    "            \n",
    "            trade_result = trade.copy()\n",
    "            trade_result['raw_return'] = raw_return\n",
    "            trade_result['net_return'] = net_return\n",
    "            trade_result['stopped_out'] = stopped\n",
    "            if stopped:\n",
    "                trade_result['exit_price'] = exit_price\n",
    "                trade_result['exit_time'] = exit_time\n",
    "                \n",
    "            trades_with_sl.append(trade_result)\n",
    "        \n",
    "        trades_with_sl_df = pd.DataFrame(trades_with_sl)\n",
    "        \n",
    "        if len(trades_with_sl_df) > 0:\n",
    "            # Calculate metrics with stop loss\n",
    "            total_return = trades_with_sl_df['net_return'].sum()\n",
    "            avg_return = trades_with_sl_df['net_return'].mean()\n",
    "            win_rate = (trades_with_sl_df['net_return'] > 0).mean()\n",
    "            \n",
    "            results.append({\n",
    "                'stop_loss_pct': sl_pct,\n",
    "                'total_return': total_return,\n",
    "                'avg_return_per_trade': avg_return,\n",
    "                'win_rate': win_rate,\n",
    "                'stopped_out_count': stopped_out_count,\n",
    "                'stopped_out_rate': stopped_out_count / len(trades_with_sl_df),\n",
    "                'stopped_winners': stopped_winners,\n",
    "                'stopped_winners_pct': stopped_winners / len(trades_with_sl_df) * 100,\n",
    "                'num_trades': len(trades_with_sl_df),\n",
    "                'avg_winner': trades_with_sl_df[trades_with_sl_df['net_return'] > 0]['net_return'].mean() if (trades_with_sl_df['net_return'] > 0).any() else 0,\n",
    "                'avg_loser': trades_with_sl_df[trades_with_sl_df['net_return'] <= 0]['net_return'].mean() if (trades_with_sl_df['net_return'] <= 0).any() else 0\n",
    "            })\n",
    "    \n",
    "    return pd.DataFrame(results)\n",
    "\n",
    "# WARNING: This is the FLAWED implementation - DO NOT USE!\n",
    "# Kept here only for educational purposes to show what NOT to do\n",
    "def calculate_stop_loss_impact_WRONG(trades_df, stop_loss_levels):\n",
    "    \"\"\"\n",
    "    THIS IS THE WRONG WAY TO IMPLEMENT STOP LOSSES!\n",
    "    \n",
    "    This flawed method:\n",
    "    - Only looks at final returns\n",
    "    - Retrospectively caps losses\n",
    "    - Doesn't check intraday prices\n",
    "    - Makes results look artificially better\n",
    "    - Doesn't stop out winning trades\n",
    "    \n",
    "    DO NOT USE THIS METHOD!\n",
    "    \"\"\"\n",
    "    results = []\n",
    "    \n",
    "    for sl_pct in stop_loss_levels:\n",
    "        sl_decimal = sl_pct / 100\n",
    "        \n",
    "        trades_with_sl = trades_df.copy()\n",
    "        stopped_out_count = 0\n",
    "        \n",
    "        # WRONG: Only caps losses after the fact\n",
    "        for idx, trade in trades_with_sl.iterrows():\n",
    "            if trade['raw_return'] < -sl_decimal:\n",
    "                # This is wrong! It pretends the loss was smaller\n",
    "                trades_with_sl.loc[idx, 'raw_return'] = -sl_decimal\n",
    "                trades_with_sl.loc[idx, 'net_return'] = -sl_decimal - trade['execution_cost']\n",
    "                stopped_out_count += 1\n",
    "        \n",
    "        # Results will be artificially better than reality\n",
    "        total_return = trades_with_sl['net_return'].sum()\n",
    "        avg_return = trades_with_sl['net_return'].mean()\n",
    "        win_rate = (trades_with_sl['net_return'] > 0).mean()\n",
    "        \n",
    "        results.append({\n",
    "            'stop_loss_pct': sl_pct,\n",
    "            'total_return': total_return,\n",
    "            'avg_return_per_trade': avg_return,\n",
    "            'win_rate': win_rate,\n",
    "            'stopped_out_count': stopped_out_count,\n",
    "            'stopped_out_rate': stopped_out_count / len(trades_with_sl) if len(trades_with_sl) > 0 else 0,\n",
    "            'num_trades': len(trades_with_sl),\n",
    "            'WARNING': 'FLAWED METHOD - DO NOT USE!'\n",
    "        })\n",
    "    \n",
    "    return pd.DataFrame(results)"
   ]
  },
  {
   "cell_type": "code",
   "execution_count": 6,
   "id": "c140f5c8",
   "metadata": {
    "execution": {
     "iopub.execute_input": "2025-06-28T01:51:06.493257Z",
     "iopub.status.busy": "2025-06-28T01:51:06.493156Z",
     "iopub.status.idle": "2025-06-28T01:51:06.496995Z",
     "shell.execute_reply": "2025-06-28T01:51:06.496787Z"
    },
    "papermill": {
     "duration": 0.00605,
     "end_time": "2025-06-28T01:51:06.497566",
     "exception": false,
     "start_time": "2025-06-28T01:51:06.491516",
     "status": "completed"
    },
    "tags": []
   },
   "outputs": [],
   "source": [
    "def apply_stop_target(trades_df, stop_pct, target_pct, market_data):\n",
    "    \"\"\"\n",
    "    Apply both stop loss and profit target to trades.\n",
    "    \n",
    "    CORRECT IMPLEMENTATION:\n",
    "    - Checks intraday prices bar by bar\n",
    "    - Exits at first target hit (stop or profit)\n",
    "    - Properly tracks which exit was triggered\n",
    "    - Works for both long and short positions\n",
    "    \n",
    "    Args:\n",
    "        trades_df: DataFrame of trades\n",
    "        stop_pct: Stop loss percentage (e.g., 0.1 for 0.1%)\n",
    "        target_pct: Profit target percentage (e.g., 0.2 for 0.2%)\n",
    "        market_data: Market data with OHLC prices\n",
    "    \n",
    "    Returns:\n",
    "        Tuple of (modified_returns_array, exit_types_dict)\n",
    "    \"\"\"\n",
    "    if stop_pct == 0 and target_pct == 0:\n",
    "        # No modification - return original\n",
    "        return trades_df['net_return'].values, {'stop': 0, 'target': 0, 'signal': len(trades_df)}\n",
    "    \n",
    "    modified_returns = []\n",
    "    exit_types = {'stop': 0, 'target': 0, 'signal': 0}\n",
    "    stopped_winners = 0\n",
    "    \n",
    "    for _, trade in trades_df.iterrows():\n",
    "        trade_prices = market_data.iloc[int(trade['entry_idx']):int(trade['exit_idx'])+1]\n",
    "        \n",
    "        if len(trade_prices) == 0:\n",
    "            modified_returns.append(trade['net_return'])\n",
    "            exit_types['signal'] += 1\n",
    "            continue\n",
    "        \n",
    "        entry_price = trade['entry_price']\n",
    "        direction = trade['direction']\n",
    "        original_return = trade['net_return']\n",
    "        \n",
    "        # Set stop and target prices\n",
    "        if direction == 1:  # Long\n",
    "            stop_price = entry_price * (1 - stop_pct/100) if stop_pct > 0 else 0\n",
    "            target_price = entry_price * (1 + target_pct/100) if target_pct > 0 else float('inf')\n",
    "        else:  # Short\n",
    "            stop_price = entry_price * (1 + stop_pct/100) if stop_pct > 0 else float('inf')\n",
    "            target_price = entry_price * (1 - target_pct/100) if target_pct > 0 else 0\n",
    "        \n",
    "        # Check each bar for exit\n",
    "        exit_price = trade['exit_price']\n",
    "        exit_type = 'signal'\n",
    "        \n",
    "        for _, bar in trade_prices.iterrows():\n",
    "            if direction == 1:  # Long\n",
    "                # Check stop first (more conservative)\n",
    "                if stop_pct > 0 and bar['low'] <= stop_price:\n",
    "                    exit_price = stop_price\n",
    "                    exit_type = 'stop'\n",
    "                    if original_return > 0:\n",
    "                        stopped_winners += 1\n",
    "                    break\n",
    "                # Then check target\n",
    "                elif target_pct > 0 and bar['high'] >= target_price:\n",
    "                    exit_price = target_price\n",
    "                    exit_type = 'target'\n",
    "                    break\n",
    "            else:  # Short\n",
    "                # Check stop first\n",
    "                if stop_pct > 0 and bar['high'] >= stop_price:\n",
    "                    exit_price = stop_price\n",
    "                    exit_type = 'stop'\n",
    "                    if original_return > 0:\n",
    "                        stopped_winners += 1\n",
    "                    break\n",
    "                # Then check target\n",
    "                elif target_pct > 0 and bar['low'] <= target_price:\n",
    "                    exit_price = target_price\n",
    "                    exit_type = 'target'\n",
    "                    break\n",
    "        \n",
    "        exit_types[exit_type] += 1\n",
    "        \n",
    "        # Calculate return\n",
    "        if direction == 1:\n",
    "            raw_return = (exit_price - entry_price) / entry_price\n",
    "        else:\n",
    "            raw_return = (entry_price - exit_price) / entry_price\n",
    "        \n",
    "        net_return = raw_return - trade['execution_cost']\n",
    "        modified_returns.append(net_return)\n",
    "    \n",
    "    # Add stopped winners info\n",
    "    exit_types['stopped_winners'] = stopped_winners\n",
    "    \n",
    "    return np.array(modified_returns), exit_types"
   ]
  },
  {
   "cell_type": "markdown",
   "id": "ed4592c5",
   "metadata": {
    "papermill": {
     "duration": 0.001367,
     "end_time": "2025-06-28T01:51:06.500344",
     "exception": false,
     "start_time": "2025-06-28T01:51:06.498977",
     "status": "completed"
    },
    "tags": []
   },
   "source": [
    "## Load Strategy Index and Market Data"
   ]
  },
  {
   "cell_type": "code",
   "execution_count": 7,
   "id": "05f5d7c2",
   "metadata": {
    "execution": {
     "iopub.execute_input": "2025-06-28T01:51:06.503353Z",
     "iopub.status.busy": "2025-06-28T01:51:06.503272Z",
     "iopub.status.idle": "2025-06-28T01:51:06.560026Z",
     "shell.execute_reply": "2025-06-28T01:51:06.559798Z"
    },
    "papermill": {
     "duration": 0.059021,
     "end_time": "2025-06-28T01:51:06.560673",
     "exception": false,
     "start_time": "2025-06-28T01:51:06.501652",
     "status": "completed"
    },
    "tags": []
   },
   "outputs": [
    {
     "name": "stdout",
     "output_type": "stream",
     "text": [
      "✅ Loaded 205 strategies\n"
     ]
    }
   ],
   "source": [
    "# Load strategy index\n",
    "strategy_index_path = run_dir / 'strategy_index.parquet'\n",
    "if strategy_index_path.exists():\n",
    "    strategy_index = pd.read_parquet(strategy_index_path)\n",
    "    print(f\"✅ Loaded {len(strategy_index)} strategies\")\n",
    "else:\n",
    "    print(\"❌ No strategy_index.parquet found\")\n",
    "    strategy_index = None\n",
    "\n",
    "# Load market data\n",
    "market_data = None\n",
    "# Add market data loading logic here"
   ]
  },
  {
   "cell_type": "markdown",
   "id": "1c234eea",
   "metadata": {
    "papermill": {
     "duration": 0.001436,
     "end_time": "2025-06-28T01:51:06.563602",
     "exception": false,
     "start_time": "2025-06-28T01:51:06.562166",
     "status": "completed"
    },
    "tags": []
   },
   "source": [
    "## Calculate Performance Metrics"
   ]
  },
  {
   "cell_type": "code",
   "execution_count": 8,
   "id": "cb11ffd6",
   "metadata": {
    "execution": {
     "iopub.execute_input": "2025-06-28T01:51:06.566769Z",
     "iopub.status.busy": "2025-06-28T01:51:06.566673Z",
     "iopub.status.idle": "2025-06-28T01:51:06.569089Z",
     "shell.execute_reply": "2025-06-28T01:51:06.568833Z"
    },
    "papermill": {
     "duration": 0.004743,
     "end_time": "2025-06-28T01:51:06.569698",
     "exception": false,
     "start_time": "2025-06-28T01:51:06.564955",
     "status": "completed"
    },
    "tags": []
   },
   "outputs": [],
   "source": [
    "# Calculate performance for all strategies\n",
    "# Add performance calculation logic here\n",
    "performance_df = pd.DataFrame()  # Placeholder"
   ]
  },
  {
   "cell_type": "markdown",
   "id": "4323881b",
   "metadata": {
    "papermill": {
     "duration": 0.001409,
     "end_time": "2025-06-28T01:51:06.574612",
     "exception": false,
     "start_time": "2025-06-28T01:51:06.573203",
     "status": "completed"
    },
    "tags": []
   },
   "source": [
    "## Stop Loss Analysis\n",
    "\n",
    "This section demonstrates the CORRECT way to analyze stop losses:\n",
    "1. Extract trades with entry/exit indices\n",
    "2. Use intraday price data to check if stops are hit\n",
    "3. Track trades that would have been winners but got stopped out\n",
    "4. Compare with the flawed method to show the difference"
   ]
  },
  {
   "cell_type": "code",
   "execution_count": 9,
   "id": "c1d63de2",
   "metadata": {
    "execution": {
     "iopub.execute_input": "2025-06-28T01:51:06.577762Z",
     "iopub.status.busy": "2025-06-28T01:51:06.577666Z",
     "iopub.status.idle": "2025-06-28T01:51:06.580618Z",
     "shell.execute_reply": "2025-06-28T01:51:06.580411Z"
    },
    "papermill": {
     "duration": 0.00525,
     "end_time": "2025-06-28T01:51:06.581211",
     "exception": false,
     "start_time": "2025-06-28T01:51:06.575961",
     "status": "completed"
    },
    "tags": []
   },
   "outputs": [
    {
     "name": "stdout",
     "output_type": "stream",
     "text": [
      "No data for stop loss analysis\n"
     ]
    }
   ],
   "source": [
    "# Example stop loss analysis for top strategy\n",
    "if len(performance_df) > 0 and analyze_stop_losses:\n",
    "    top_strategy = performance_df.iloc[0]\n",
    "    \n",
    "    # Extract trades\n",
    "    trades = extract_trades(\n",
    "        top_strategy['strategy_hash'], \n",
    "        top_strategy['trace_path'], \n",
    "        market_data, \n",
    "        execution_cost_bps\n",
    "    )\n",
    "    \n",
    "    if len(trades) > 0:\n",
    "        print(f\"Analyzing {len(trades)} trades for stop loss impact...\")\n",
    "        \n",
    "        # CORRECT method\n",
    "        sl_impact_correct = calculate_stop_loss_impact(trades, stop_loss_levels, market_data)\n",
    "        \n",
    "        # WRONG method (for comparison)\n",
    "        sl_impact_wrong = calculate_stop_loss_impact_WRONG(trades, stop_loss_levels)\n",
    "        \n",
    "        # Show the difference\n",
    "        print(\"\\n🚨 Comparison of Methods:\")\n",
    "        print(\"Stop Loss | Correct Method | Wrong Method | Difference\")\n",
    "        print(\"-\" * 60)\n",
    "        \n",
    "        for sl in stop_loss_levels[:5]:  # Show first 5\n",
    "            correct_return = sl_impact_correct[sl_impact_correct['stop_loss_pct'] == sl]['total_return'].iloc[0]\n",
    "            wrong_return = sl_impact_wrong[sl_impact_wrong['stop_loss_pct'] == sl]['total_return'].iloc[0]\n",
    "            diff = wrong_return - correct_return\n",
    "            \n",
    "            print(f\"{sl:>8.2f}% | {correct_return:>13.2%} | {wrong_return:>11.2%} | {diff:>+10.2%}\")\n",
    "        \n",
    "        # Show stopped winners\n",
    "        print(f\"\\n📊 Trades stopped out that would have been winners:\")\n",
    "        for _, row in sl_impact_correct.iterrows():\n",
    "            if row['stopped_winners'] > 0:\n",
    "                print(f\"  {row['stop_loss_pct']:.2f}% stop: {row['stopped_winners']} winners stopped ({row['stopped_winners_pct']:.1f}% of all trades)\")\n",
    "else:\n",
    "    print(\"No data for stop loss analysis\")"
   ]
  }
 ],
 "metadata": {
  "kernelspec": {
   "display_name": "Python 3",
   "language": "python",
   "name": "python3"
  },
  "language_info": {
   "codemirror_mode": {
    "name": "ipython",
    "version": 3
   },
   "file_extension": ".py",
   "mimetype": "text/x-python",
   "name": "python",
   "nbconvert_exporter": "python",
   "pygments_lexer": "ipython3",
   "version": "3.13.5"
  },
  "papermill": {
   "default_parameters": {},
   "duration": 2.019385,
   "end_time": "2025-06-28T01:51:06.798643",
   "environment_variables": {},
   "exception": null,
   "input_path": "/Users/daws/ADMF-PC/src/analytics/templates/universal_analysis.ipynb",
   "output_path": "config/bollinger/results/20250627_184258/analysis_20250627_185104.ipynb",
   "parameters": {
    "calculate_all_performance": true,
    "config_name": "bollinger",
    "correlation_threshold": 0.7,
    "ensemble_size": 5,
    "min_strategies_to_analyze": 20,
    "performance_limit": 100,
    "run_dir": "/Users/daws/ADMF-PC/config/bollinger/results/20250627_184258",
    "sharpe_threshold": 1.0,
    "symbols": [
     "SPY"
    ],
    "timeframe": "5m",
    "top_n_strategies": 10
   },
   "start_time": "2025-06-28T01:51:04.779258",
   "version": "2.6.0"
  }
 },
 "nbformat": 4,
 "nbformat_minor": 5
}