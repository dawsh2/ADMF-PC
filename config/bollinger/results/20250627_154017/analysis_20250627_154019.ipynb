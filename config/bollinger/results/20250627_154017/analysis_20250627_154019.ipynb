{
 "cells": [
  {
   "cell_type": "markdown",
   "id": "794e012c",
   "metadata": {
    "papermill": {
     "duration": 0.001445,
     "end_time": "2025-06-27T22:40:20.682381",
     "exception": false,
     "start_time": "2025-06-27T22:40:20.680936",
     "status": "completed"
    },
    "tags": []
   },
   "source": [
    "# Analysis Template\n",
    "\n",
    "This is a minimal template. Please install the full template."
   ]
  },
  {
   "cell_type": "code",
   "execution_count": 1,
   "id": "c7af63dd",
   "metadata": {
    "execution": {
     "iopub.execute_input": "2025-06-27T22:40:20.684578Z",
     "iopub.status.busy": "2025-06-27T22:40:20.684417Z",
     "iopub.status.idle": "2025-06-27T22:40:20.687193Z",
     "shell.execute_reply": "2025-06-27T22:40:20.686928Z"
    },
    "papermill": {
     "duration": 0.004537,
     "end_time": "2025-06-27T22:40:20.687972",
     "exception": false,
     "start_time": "2025-06-27T22:40:20.683435",
     "status": "completed"
    },
    "tags": [
     "parameters"
    ]
   },
   "outputs": [],
   "source": [
    "# parameters\n",
    "run_dir = '.'\n",
    "config_name = 'test'"
   ]
  },
  {
   "cell_type": "code",
   "execution_count": 2,
   "id": "90f0a08e",
   "metadata": {
    "execution": {
     "iopub.execute_input": "2025-06-27T22:40:20.689421Z",
     "iopub.status.busy": "2025-06-27T22:40:20.689310Z",
     "iopub.status.idle": "2025-06-27T22:40:20.691374Z",
     "shell.execute_reply": "2025-06-27T22:40:20.691111Z"
    },
    "papermill": {
     "duration": 0.003602,
     "end_time": "2025-06-27T22:40:20.692101",
     "exception": false,
     "start_time": "2025-06-27T22:40:20.688499",
     "status": "completed"
    },
    "tags": [
     "injected-parameters"
    ]
   },
   "outputs": [],
   "source": [
    "# Parameters\n",
    "run_dir = \"/Users/daws/ADMF-PC/config/bollinger/results/20250627_154017\"\n",
    "config_name = \"bollinger\"\n",
    "symbols = [\"SPY\"]\n",
    "timeframe = \"5m\"\n",
    "min_strategies_to_analyze = 20\n",
    "sharpe_threshold = 1.0\n",
    "correlation_threshold = 0.7\n",
    "top_n_strategies = 10\n",
    "ensemble_size = 5\n",
    "calculate_all_performance = True\n",
    "performance_limit = 100\n"
   ]
  }
 ],
 "metadata": {
  "kernelspec": {
   "display_name": "Python 3",
   "language": "python",
   "name": "python3"
  },
  "language_info": {
   "codemirror_mode": {
    "name": "ipython",
    "version": 3
   },
   "file_extension": ".py",
   "mimetype": "text/x-python",
   "name": "python",
   "nbconvert_exporter": "python",
   "pygments_lexer": "ipython3",
   "version": "3.13.5"
  },
  "papermill": {
   "default_parameters": {},
   "duration": 0.994754,
   "end_time": "2025-06-27T22:40:20.806702",
   "environment_variables": {},
   "exception": null,
   "input_path": "/Users/daws/ADMF-PC/src/analytics/templates/universal_analysis.ipynb",
   "output_path": "config/bollinger/results/20250627_154017/analysis_20250627_154019.ipynb",
   "parameters": {
    "calculate_all_performance": true,
    "config_name": "bollinger",
    "correlation_threshold": 0.7,
    "ensemble_size": 5,
    "min_strategies_to_analyze": 20,
    "performance_limit": 100,
    "run_dir": "/Users/daws/ADMF-PC/config/bollinger/results/20250627_154017",
    "sharpe_threshold": 1.0,
    "symbols": [
     "SPY"
    ],
    "timeframe": "5m",
    "top_n_strategies": 10
   },
   "start_time": "2025-06-27T22:40:19.811948",
   "version": "2.6.0"
  }
 },
 "nbformat": 4,
 "nbformat_minor": 5
}