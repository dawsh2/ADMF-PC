{
 "cells": [
  {
   "cell_type": "markdown",
   "id": "da380958",
   "metadata": {
    "papermill": {
     "duration": 0.004975,
     "end_time": "2025-06-28T02:02:58.512588",
     "exception": false,
     "start_time": "2025-06-28T02:02:58.507613",
     "status": "completed"
    },
    "tags": []
   },
   "source": [
    "# Universal Strategy Analysis\n",
    "\n",
    "This notebook provides comprehensive analysis across all strategies tested in a parameter sweep.\n",
    "\n",
    "**Key Features:**\n",
    "- Cross-strategy performance comparison\n",
    "- Parameter sensitivity analysis\n",
    "- Stop loss and profit target analysis with CORRECT implementation\n",
    "- Correlation analysis for ensemble building\n",
    "- Regime-specific performance breakdown\n",
    "- Automatic identification of optimal strategies and ensembles"
   ]
  },
  {
   "cell_type": "code",
   "execution_count": 1,
   "id": "207830ab",
   "metadata": {
    "execution": {
     "iopub.execute_input": "2025-06-28T02:02:58.520873Z",
     "iopub.status.busy": "2025-06-28T02:02:58.520677Z",
     "iopub.status.idle": "2025-06-28T02:02:58.526250Z",
     "shell.execute_reply": "2025-06-28T02:02:58.525905Z"
    },
    "papermill": {
     "duration": 0.009819,
     "end_time": "2025-06-28T02:02:58.527238",
     "exception": false,
     "start_time": "2025-06-28T02:02:58.517419",
     "status": "completed"
    },
    "tags": [
     "parameters"
    ]
   },
   "outputs": [],
   "source": [
    "# Parameters will be injected here by papermill\n",
    "# This cell is tagged with 'parameters' for papermill to recognize it\n",
    "run_dir = \".\"\n",
    "config_name = \"config\"\n",
    "symbols = [\"SPY\"]\n",
    "timeframe = \"5m\"\n",
    "min_strategies_to_analyze = 20\n",
    "sharpe_threshold = 1.0\n",
    "correlation_threshold = 0.7\n",
    "top_n_strategies = 10\n",
    "ensemble_size = 5\n",
    "calculate_all_performance = True  # Set to False to limit analysis for large sweeps\n",
    "performance_limit = 100  # If calculate_all_performance is False, limit to this many\n",
    "\n",
    "# Enhanced analysis parameters\n",
    "execution_cost_bps = 1.0  # Round-trip execution cost in basis points\n",
    "analyze_stop_losses = True  # Whether to analyze stop loss impact\n",
    "stop_loss_levels = [0.01, 0.02, 0.03, 0.04, 0.05, 0.1, 0.15, 0.2, 0.25, 0.3, 0.35, 0.4, 0.45, 0.5, 0.75, 1.0]  # Stop loss percentages\n",
    "profit_target_levels = [0.05, 0.075, 0.1, 0.15, 0.2, 0.25, 0.3, 0.4, 0.5, 0.75, 1.0]  # Profit target percentages\n",
    "verify_intraday = True  # Whether to verify intraday constraints\n",
    "market_timezone = \"America/New_York\"  # Market timezone for constraint verification"
   ]
  },
  {
   "cell_type": "code",
   "execution_count": 2,
   "id": "7a0d899e",
   "metadata": {
    "execution": {
     "iopub.execute_input": "2025-06-28T02:02:58.532089Z",
     "iopub.status.busy": "2025-06-28T02:02:58.531942Z",
     "iopub.status.idle": "2025-06-28T02:02:58.534240Z",
     "shell.execute_reply": "2025-06-28T02:02:58.533972Z"
    },
    "papermill": {
     "duration": 0.005428,
     "end_time": "2025-06-28T02:02:58.535037",
     "exception": false,
     "start_time": "2025-06-28T02:02:58.529609",
     "status": "completed"
    },
    "tags": [
     "injected-parameters"
    ]
   },
   "outputs": [],
   "source": [
    "# Parameters\n",
    "run_dir = \"/Users/daws/ADMF-PC/config/bollinger/results/20250627_185448\"\n",
    "config_name = \"bollinger\"\n",
    "symbols = [\"SPY\"]\n",
    "timeframe = \"5m\"\n",
    "min_strategies_to_analyze = 20\n",
    "sharpe_threshold = 1.0\n",
    "correlation_threshold = 0.7\n",
    "top_n_strategies = 10\n",
    "ensemble_size = 5\n",
    "calculate_all_performance = True\n",
    "performance_limit = 100\n"
   ]
  },
  {
   "cell_type": "markdown",
   "id": "892ae63d",
   "metadata": {
    "papermill": {
     "duration": 0.001752,
     "end_time": "2025-06-28T02:02:58.538748",
     "exception": false,
     "start_time": "2025-06-28T02:02:58.536996",
     "status": "completed"
    },
    "tags": []
   },
   "source": [
    "## Setup"
   ]
  },
  {
   "cell_type": "code",
   "execution_count": 3,
   "id": "268c7417",
   "metadata": {
    "execution": {
     "iopub.execute_input": "2025-06-28T02:02:58.542896Z",
     "iopub.status.busy": "2025-06-28T02:02:58.542772Z",
     "iopub.status.idle": "2025-06-28T02:02:59.289065Z",
     "shell.execute_reply": "2025-06-28T02:02:59.288799Z"
    },
    "papermill": {
     "duration": 0.749035,
     "end_time": "2025-06-28T02:02:59.289722",
     "exception": false,
     "start_time": "2025-06-28T02:02:58.540687",
     "status": "completed"
    },
    "tags": []
   },
   "outputs": [
    {
     "name": "stdout",
     "output_type": "stream",
     "text": [
      "Analyzing run: 20250627_185448\n",
      "Full path: /Users/daws/ADMF-PC/config/bollinger/results/20250627_185448\n",
      "Config: bollinger\n",
      "Symbol(s): ['SPY']\n",
      "Timeframe: 5m\n"
     ]
    }
   ],
   "source": [
    "# Imports\n",
    "import pandas as pd\n",
    "import numpy as np\n",
    "import matplotlib.pyplot as plt\n",
    "import seaborn as sns\n",
    "from pathlib import Path\n",
    "import duckdb\n",
    "import json\n",
    "from datetime import datetime\n",
    "import warnings\n",
    "warnings.filterwarnings('ignore')\n",
    "\n",
    "# Configure plotting\n",
    "plt.style.use('seaborn-v0_8-darkgrid')\n",
    "plt.rcParams['figure.figsize'] = (12, 6)\n",
    "plt.rcParams['font.size'] = 10\n",
    "\n",
    "# Initialize DuckDB\n",
    "con = duckdb.connect()\n",
    "\n",
    "# Convert run_dir to Path and resolve to absolute path\n",
    "run_dir = Path(run_dir).resolve()\n",
    "print(f\"Analyzing run: {run_dir.name}\")\n",
    "print(f\"Full path: {run_dir}\")\n",
    "print(f\"Config: {config_name}\")\n",
    "print(f\"Symbol(s): {symbols}\")\n",
    "print(f\"Timeframe: {timeframe}\")"
   ]
  },
  {
   "cell_type": "markdown",
   "id": "ce93dbb5",
   "metadata": {
    "papermill": {
     "duration": 0.001411,
     "end_time": "2025-06-28T02:02:59.292694",
     "exception": false,
     "start_time": "2025-06-28T02:02:59.291283",
     "status": "completed"
    },
    "tags": []
   },
   "source": [
    "## Setup Path for Analytics Snippets"
   ]
  },
  {
   "cell_type": "markdown",
   "id": "f83d4e63",
   "metadata": {
    "papermill": {
     "duration": 0.001251,
     "end_time": "2025-06-28T02:02:59.295193",
     "exception": false,
     "start_time": "2025-06-28T02:02:59.293942",
     "status": "completed"
    },
    "tags": []
   },
   "source": [
    "## Enhanced Analysis Helper Functions"
   ]
  },
  {
   "cell_type": "code",
   "execution_count": 4,
   "id": "a0addf42",
   "metadata": {
    "execution": {
     "iopub.execute_input": "2025-06-28T02:02:59.298339Z",
     "iopub.status.busy": "2025-06-28T02:02:59.298106Z",
     "iopub.status.idle": "2025-06-28T02:02:59.303019Z",
     "shell.execute_reply": "2025-06-28T02:02:59.302783Z"
    },
    "papermill": {
     "duration": 0.00723,
     "end_time": "2025-06-28T02:02:59.303654",
     "exception": false,
     "start_time": "2025-06-28T02:02:59.296424",
     "status": "completed"
    },
    "tags": []
   },
   "outputs": [],
   "source": [
    "# Enhanced analysis helper functions\n",
    "import pytz\n",
    "from datetime import time\n",
    "\n",
    "def extract_trades(strategy_hash, trace_path, market_data, execution_cost_bps=1.0):\n",
    "    \"\"\"\n",
    "    Extract trades from signal trace with execution costs.\n",
    "    \n",
    "    Args:\n",
    "        strategy_hash: Strategy identifier\n",
    "        trace_path: Path to trace file\n",
    "        market_data: Market price data\n",
    "        execution_cost_bps: Round-trip execution cost in basis points (default 1bp)\n",
    "    \n",
    "    Returns:\n",
    "        DataFrame with trade details including costs\n",
    "    \"\"\"\n",
    "    try:\n",
    "        signals_path = run_dir / trace_path\n",
    "        signals = pd.read_parquet(signals_path)\n",
    "        signals['ts'] = pd.to_datetime(signals['ts'])\n",
    "        \n",
    "        # Merge with market data\n",
    "        df = market_data.merge(\n",
    "            signals[['ts', 'val', 'px']], \n",
    "            left_on='timestamp', \n",
    "            right_on='ts', \n",
    "            how='left'\n",
    "        )\n",
    "        \n",
    "        # Forward fill signals\n",
    "        df['signal'] = df['val'].ffill().fillna(0)\n",
    "        df['position'] = df['signal'].replace({0: 0, 1: 1, -1: -1})\n",
    "        df['position_change'] = df['position'].diff().fillna(0)\n",
    "        \n",
    "        trades = []\n",
    "        current_trade = None\n",
    "        \n",
    "        for idx, row in df.iterrows():\n",
    "            if row['position_change'] != 0 and row['position'] != 0:\n",
    "                # New position opened\n",
    "                if current_trade is None:\n",
    "                    current_trade = {\n",
    "                        'entry_time': row['timestamp'],\n",
    "                        'entry_price': row['px'] if pd.notna(row['px']) else row['close'],\n",
    "                        'direction': row['position'],\n",
    "                        'entry_idx': idx\n",
    "                    }\n",
    "            elif current_trade is not None and (row['position'] == 0 or row['position_change'] != 0):\n",
    "                # Position closed\n",
    "                exit_price = row['px'] if pd.notna(row['px']) else row['close']\n",
    "                \n",
    "                # Avoid division by zero - check if entry price is valid\n",
    "                if current_trade['entry_price'] == 0 or pd.isna(current_trade['entry_price']):\n",
    "                    print(f\"Warning: Invalid entry price {current_trade['entry_price']} for trade at {current_trade['entry_time']}\")\n",
    "                    current_trade = None\n",
    "                    continue\n",
    "                \n",
    "                # Calculate raw return\n",
    "                if current_trade['direction'] == 1:  # Long\n",
    "                    raw_return = (exit_price - current_trade['entry_price']) / current_trade['entry_price']\n",
    "                else:  # Short\n",
    "                    raw_return = (current_trade['entry_price'] - exit_price) / current_trade['entry_price']\n",
    "                \n",
    "                # Apply execution costs\n",
    "                cost_adjustment = execution_cost_bps / 10000  # Convert bps to decimal\n",
    "                net_return = raw_return - cost_adjustment\n",
    "                \n",
    "                trade = {\n",
    "                    'strategy_hash': strategy_hash,\n",
    "                    'entry_time': current_trade['entry_time'],\n",
    "                    'exit_time': row['timestamp'],\n",
    "                    'entry_price': current_trade['entry_price'],\n",
    "                    'exit_price': exit_price,\n",
    "                    'direction': current_trade['direction'],\n",
    "                    'raw_return': raw_return,\n",
    "                    'execution_cost': cost_adjustment,\n",
    "                    'net_return': net_return,\n",
    "                    'duration_minutes': (row['timestamp'] - current_trade['entry_time']).total_seconds() / 60,\n",
    "                    'entry_idx': current_trade['entry_idx'],\n",
    "                    'exit_idx': idx\n",
    "                }\n",
    "                trades.append(trade)\n",
    "                \n",
    "                # Reset for next trade\n",
    "                current_trade = None\n",
    "                if row['position'] != 0 and row['position_change'] != 0:\n",
    "                    # Immediately open new position (reversal)\n",
    "                    current_trade = {\n",
    "                        'entry_time': row['timestamp'],\n",
    "                        'entry_price': row['px'] if pd.notna(row['px']) else row['close'],\n",
    "                        'direction': row['position'],\n",
    "                        'entry_idx': idx\n",
    "                    }\n",
    "        \n",
    "        return pd.DataFrame(trades)\n",
    "    except Exception as e:\n",
    "        print(f\"Error extracting trades for {strategy_hash[:8]}: {e}\")\n",
    "        return pd.DataFrame()"
   ]
  },
  {
   "cell_type": "code",
   "execution_count": 5,
   "id": "221db03e",
   "metadata": {
    "execution": {
     "iopub.execute_input": "2025-06-28T02:02:59.306780Z",
     "iopub.status.busy": "2025-06-28T02:02:59.306661Z",
     "iopub.status.idle": "2025-06-28T02:02:59.311388Z",
     "shell.execute_reply": "2025-06-28T02:02:59.311182Z"
    },
    "papermill": {
     "duration": 0.007022,
     "end_time": "2025-06-28T02:02:59.312042",
     "exception": false,
     "start_time": "2025-06-28T02:02:59.305020",
     "status": "completed"
    },
    "tags": []
   },
   "outputs": [],
   "source": [
    "def calculate_stop_loss_impact(trades_df, stop_loss_levels=None, market_data=None):\n",
    "    \"\"\"\n",
    "    Calculate returns with various stop loss levels using PROPER intraday simulation.\n",
    "    \n",
    "    THIS IS THE CORRECT IMPLEMENTATION:\n",
    "    - Checks actual intraday high/low prices\n",
    "    - Exits immediately when stop is hit\n",
    "    - Stops out trades that would have been winners too\n",
    "    - Does NOT retrospectively cap losses\n",
    "    \"\"\"\n",
    "    if stop_loss_levels is None:\n",
    "        stop_loss_levels = [0.05, 0.1, 0.15, 0.2, 0.25, 0.3, 0.4, 0.5, 0.75, 1.0]\n",
    "    \n",
    "    if market_data is None:\n",
    "        raise ValueError(\"Market data is required for proper stop loss analysis!\")\n",
    "    \n",
    "    results = []\n",
    "    \n",
    "    for sl_pct in stop_loss_levels:\n",
    "        sl_decimal = sl_pct / 100\n",
    "        \n",
    "        trades_with_sl = []\n",
    "        stopped_out_count = 0\n",
    "        stopped_winners = 0  # Trades that were stopped but would have been winners\n",
    "        \n",
    "        # Process each trade with intraday stop loss\n",
    "        for _, trade in trades_df.iterrows():\n",
    "            # Get intraday prices for this trade\n",
    "            trade_prices = market_data.iloc[int(trade['entry_idx']):int(trade['exit_idx'])+1]\n",
    "            \n",
    "            if len(trade_prices) == 0:\n",
    "                continue\n",
    "                \n",
    "            entry_price = trade['entry_price']\n",
    "            direction = trade['direction']\n",
    "            original_return = trade['net_return']  # What the trade actually returned\n",
    "            \n",
    "            # Calculate stop loss price\n",
    "            if direction == 1:  # Long position\n",
    "                stop_price = entry_price * (1 - sl_decimal)\n",
    "            else:  # Short position  \n",
    "                stop_price = entry_price * (1 + sl_decimal)\n",
    "            \n",
    "            # Check if stop loss is hit\n",
    "            stopped = False\n",
    "            exit_price = trade['exit_price']\n",
    "            exit_time = trade['exit_time']\n",
    "            \n",
    "            for idx, bar in trade_prices.iterrows():\n",
    "                if direction == 1:  # Long\n",
    "                    # Check if low price hits stop\n",
    "                    if bar['low'] <= stop_price:\n",
    "                        stopped = True\n",
    "                        stopped_out_count += 1\n",
    "                        exit_price = stop_price\n",
    "                        exit_time = bar['timestamp']\n",
    "                        # Check if this would have been a winner\n",
    "                        if original_return > 0:\n",
    "                            stopped_winners += 1\n",
    "                        break\n",
    "                else:  # Short\n",
    "                    # Check if high price hits stop\n",
    "                    if bar['high'] >= stop_price:\n",
    "                        stopped = True\n",
    "                        stopped_out_count += 1\n",
    "                        exit_price = stop_price\n",
    "                        exit_time = bar['timestamp']\n",
    "                        # Check if this would have been a winner\n",
    "                        if original_return > 0:\n",
    "                            stopped_winners += 1\n",
    "                        break\n",
    "            \n",
    "            # Calculate return with actual or stopped exit\n",
    "            if direction == 1:  # Long\n",
    "                raw_return = (exit_price - entry_price) / entry_price\n",
    "            else:  # Short\n",
    "                raw_return = (entry_price - exit_price) / entry_price\n",
    "                \n",
    "            # Apply execution costs\n",
    "            net_return = raw_return - trade['execution_cost']\n",
    "            \n",
    "            trade_result = trade.copy()\n",
    "            trade_result['raw_return'] = raw_return\n",
    "            trade_result['net_return'] = net_return\n",
    "            trade_result['stopped_out'] = stopped\n",
    "            if stopped:\n",
    "                trade_result['exit_price'] = exit_price\n",
    "                trade_result['exit_time'] = exit_time\n",
    "                \n",
    "            trades_with_sl.append(trade_result)\n",
    "        \n",
    "        trades_with_sl_df = pd.DataFrame(trades_with_sl)\n",
    "        \n",
    "        if len(trades_with_sl_df) > 0:\n",
    "            # Calculate metrics with stop loss\n",
    "            total_return = trades_with_sl_df['net_return'].sum()\n",
    "            avg_return = trades_with_sl_df['net_return'].mean()\n",
    "            win_rate = (trades_with_sl_df['net_return'] > 0).mean()\n",
    "            \n",
    "            results.append({\n",
    "                'stop_loss_pct': sl_pct,\n",
    "                'total_return': total_return,\n",
    "                'avg_return_per_trade': avg_return,\n",
    "                'win_rate': win_rate,\n",
    "                'stopped_out_count': stopped_out_count,\n",
    "                'stopped_out_rate': stopped_out_count / len(trades_with_sl_df),\n",
    "                'stopped_winners': stopped_winners,\n",
    "                'stopped_winners_pct': stopped_winners / len(trades_with_sl_df) * 100,\n",
    "                'num_trades': len(trades_with_sl_df),\n",
    "                'avg_winner': trades_with_sl_df[trades_with_sl_df['net_return'] > 0]['net_return'].mean() if (trades_with_sl_df['net_return'] > 0).any() else 0,\n",
    "                'avg_loser': trades_with_sl_df[trades_with_sl_df['net_return'] <= 0]['net_return'].mean() if (trades_with_sl_df['net_return'] <= 0).any() else 0\n",
    "            })\n",
    "    \n",
    "    return pd.DataFrame(results)"
   ]
  },
  {
   "cell_type": "code",
   "execution_count": 6,
   "id": "880c2944",
   "metadata": {
    "execution": {
     "iopub.execute_input": "2025-06-28T02:02:59.315157Z",
     "iopub.status.busy": "2025-06-28T02:02:59.315043Z",
     "iopub.status.idle": "2025-06-28T02:02:59.318930Z",
     "shell.execute_reply": "2025-06-28T02:02:59.318701Z"
    },
    "papermill": {
     "duration": 0.006108,
     "end_time": "2025-06-28T02:02:59.319514",
     "exception": false,
     "start_time": "2025-06-28T02:02:59.313406",
     "status": "completed"
    },
    "tags": []
   },
   "outputs": [],
   "source": [
    "def apply_stop_target(trades_df, stop_pct, target_pct, market_data):\n",
    "    \"\"\"\n",
    "    Apply both stop loss and profit target to trades.\n",
    "    \n",
    "    CORRECT IMPLEMENTATION:\n",
    "    - Checks intraday prices bar by bar\n",
    "    - Exits at first target hit (stop or profit)\n",
    "    - Properly tracks which exit was triggered\n",
    "    - Works for both long and short positions\n",
    "    \"\"\"\n",
    "    if stop_pct == 0 and target_pct == 0:\n",
    "        # No modification - return original\n",
    "        return trades_df['net_return'].values, {'stop': 0, 'target': 0, 'signal': len(trades_df)}\n",
    "    \n",
    "    modified_returns = []\n",
    "    exit_types = {'stop': 0, 'target': 0, 'signal': 0}\n",
    "    stopped_winners = 0\n",
    "    \n",
    "    for _, trade in trades_df.iterrows():\n",
    "        trade_prices = market_data.iloc[int(trade['entry_idx']):int(trade['exit_idx'])+1]\n",
    "        \n",
    "        if len(trade_prices) == 0:\n",
    "            modified_returns.append(trade['net_return'])\n",
    "            exit_types['signal'] += 1\n",
    "            continue\n",
    "        \n",
    "        entry_price = trade['entry_price']\n",
    "        direction = trade['direction']\n",
    "        original_return = trade['net_return']\n",
    "        \n",
    "        # Set stop and target prices\n",
    "        if direction == 1:  # Long\n",
    "            stop_price = entry_price * (1 - stop_pct/100) if stop_pct > 0 else 0\n",
    "            target_price = entry_price * (1 + target_pct/100) if target_pct > 0 else float('inf')\n",
    "        else:  # Short\n",
    "            stop_price = entry_price * (1 + stop_pct/100) if stop_pct > 0 else float('inf')\n",
    "            target_price = entry_price * (1 - target_pct/100) if target_pct > 0 else 0\n",
    "        \n",
    "        # Check each bar for exit\n",
    "        exit_price = trade['exit_price']\n",
    "        exit_type = 'signal'\n",
    "        \n",
    "        for _, bar in trade_prices.iterrows():\n",
    "            if direction == 1:  # Long\n",
    "                # Check stop first (more conservative)\n",
    "                if stop_pct > 0 and bar['low'] <= stop_price:\n",
    "                    exit_price = stop_price\n",
    "                    exit_type = 'stop'\n",
    "                    if original_return > 0:\n",
    "                        stopped_winners += 1\n",
    "                    break\n",
    "                # Then check target\n",
    "                elif target_pct > 0 and bar['high'] >= target_price:\n",
    "                    exit_price = target_price\n",
    "                    exit_type = 'target'\n",
    "                    break\n",
    "            else:  # Short\n",
    "                # Check stop first\n",
    "                if stop_pct > 0 and bar['high'] >= stop_price:\n",
    "                    exit_price = stop_price\n",
    "                    exit_type = 'stop'\n",
    "                    if original_return > 0:\n",
    "                        stopped_winners += 1\n",
    "                    break\n",
    "                # Then check target\n",
    "                elif target_pct > 0 and bar['low'] <= target_price:\n",
    "                    exit_price = target_price\n",
    "                    exit_type = 'target'\n",
    "                    break\n",
    "        \n",
    "        exit_types[exit_type] += 1\n",
    "        \n",
    "        # Calculate return\n",
    "        if direction == 1:\n",
    "            raw_return = (exit_price - entry_price) / entry_price\n",
    "        else:\n",
    "            raw_return = (entry_price - exit_price) / entry_price\n",
    "        \n",
    "        net_return = raw_return - trade['execution_cost']\n",
    "        modified_returns.append(net_return)\n",
    "    \n",
    "    # Add stopped winners info\n",
    "    exit_types['stopped_winners'] = stopped_winners\n",
    "    \n",
    "    return np.array(modified_returns), exit_types"
   ]
  },
  {
   "cell_type": "markdown",
   "id": "d5d3d19b",
   "metadata": {
    "papermill": {
     "duration": 0.00136,
     "end_time": "2025-06-28T02:02:59.322285",
     "exception": false,
     "start_time": "2025-06-28T02:02:59.320925",
     "status": "completed"
    },
    "tags": []
   },
   "source": [
    "## Load Strategy Index and Market Data"
   ]
  },
  {
   "cell_type": "code",
   "execution_count": 7,
   "id": "4a98c734",
   "metadata": {
    "execution": {
     "iopub.execute_input": "2025-06-28T02:02:59.325253Z",
     "iopub.status.busy": "2025-06-28T02:02:59.325166Z",
     "iopub.status.idle": "2025-06-28T02:02:59.387336Z",
     "shell.execute_reply": "2025-06-28T02:02:59.387102Z"
    },
    "papermill": {
     "duration": 0.064418,
     "end_time": "2025-06-28T02:02:59.388012",
     "exception": false,
     "start_time": "2025-06-28T02:02:59.323594",
     "status": "completed"
    },
    "tags": []
   },
   "outputs": [
    {
     "name": "stdout",
     "output_type": "stream",
     "text": [
      "✅ Loaded 205 strategies from /Users/daws/ADMF-PC/config/bollinger/results/20250627_185448/strategy_index.parquet\n",
      "\n",
      "Strategies by type:\n",
      "  bollinger_bands: 205\n",
      "\n",
      "Columns: ['strategy_id', 'strategy_hash', 'strategy_type', 'symbol', 'timeframe', 'constraints', 'period', 'std_dev', 'trace_path']...\n"
     ]
    }
   ],
   "source": [
    "# Load strategy index - the catalog of all strategies tested\n",
    "strategy_index_path = run_dir / 'strategy_index.parquet'\n",
    "\n",
    "if strategy_index_path.exists():\n",
    "    strategy_index = pd.read_parquet(strategy_index_path)\n",
    "    print(f\"✅ Loaded {len(strategy_index)} strategies from {strategy_index_path}\")\n",
    "    \n",
    "    # Show strategy type distribution\n",
    "    by_type = strategy_index['strategy_type'].value_counts()\n",
    "    print(\"\\nStrategies by type:\")\n",
    "    for stype, count in by_type.items():\n",
    "        print(f\"  {stype}: {count}\")\n",
    "        \n",
    "    # Show sample of columns\n",
    "    print(f\"\\nColumns: {list(strategy_index.columns)[:10]}...\")\n",
    "else:\n",
    "    print(f\"❌ No strategy_index.parquet found at {strategy_index_path}\")\n",
    "    strategy_index = None"
   ]
  },
  {
   "cell_type": "code",
   "execution_count": 8,
   "id": "d80f033f",
   "metadata": {
    "execution": {
     "iopub.execute_input": "2025-06-28T02:02:59.391345Z",
     "iopub.status.busy": "2025-06-28T02:02:59.391240Z",
     "iopub.status.idle": "2025-06-28T02:02:59.424563Z",
     "shell.execute_reply": "2025-06-28T02:02:59.424370Z"
    },
    "papermill": {
     "duration": 0.035659,
     "end_time": "2025-06-28T02:02:59.425183",
     "exception": false,
     "start_time": "2025-06-28T02:02:59.389524",
     "status": "completed"
    },
    "tags": []
   },
   "outputs": [
    {
     "name": "stdout",
     "output_type": "stream",
     "text": [
      "✅ Loaded market data from: /Users/daws/ADMF-PC/data/SPY_5m.csv\n",
      "   Date range: 2024-03-26 13:30:00+00:00 to 2025-04-02 19:20:00+00:00\n",
      "   Total bars: 20769\n"
     ]
    }
   ],
   "source": [
    "# Load market data\n",
    "market_data = None\n",
    "for symbol in symbols:\n",
    "    try:\n",
    "        # Try different possible locations for market data\n",
    "        data_paths = [\n",
    "            run_dir / f'data/{symbol}_{timeframe}.csv',\n",
    "            run_dir / f'{symbol}_{timeframe}.csv',\n",
    "            run_dir.parent / f'data/{symbol}_{timeframe}.csv',\n",
    "            Path(f'/Users/daws/ADMF-PC/data/{symbol}_{timeframe}.csv')\n",
    "        ]\n",
    "        \n",
    "        for data_path in data_paths:\n",
    "            if data_path.exists():\n",
    "                market_data = pd.read_csv(data_path)\n",
    "                market_data['timestamp'] = pd.to_datetime(market_data['timestamp'])\n",
    "                market_data = market_data.sort_values('timestamp')\n",
    "                print(f\"✅ Loaded market data from: {data_path}\")\n",
    "                print(f\"   Date range: {market_data['timestamp'].min()} to {market_data['timestamp'].max()}\")\n",
    "                print(f\"   Total bars: {len(market_data)}\")\n",
    "                break\n",
    "        \n",
    "        if market_data is not None:\n",
    "            break\n",
    "            \n",
    "    except Exception as e:\n",
    "        print(f\"Error loading data for {symbol}: {e}\")\n",
    "\n",
    "if market_data is None:\n",
    "    print(\"❌ Could not load market data\")\n",
    "    print(\"Tried paths:\")\n",
    "    for path in data_paths:\n",
    "        print(f\"  - {path}\")"
   ]
  },
  {
   "cell_type": "markdown",
   "id": "86a99db0",
   "metadata": {
    "papermill": {
     "duration": 0.001452,
     "end_time": "2025-06-28T02:02:59.428221",
     "exception": false,
     "start_time": "2025-06-28T02:02:59.426769",
     "status": "completed"
    },
    "tags": []
   },
   "source": [
    "## Calculate Performance Metrics"
   ]
  },
  {
   "cell_type": "code",
   "execution_count": 9,
   "id": "3a17a121",
   "metadata": {
    "execution": {
     "iopub.execute_input": "2025-06-28T02:02:59.431580Z",
     "iopub.status.busy": "2025-06-28T02:02:59.431465Z",
     "iopub.status.idle": "2025-06-28T02:02:59.435277Z",
     "shell.execute_reply": "2025-06-28T02:02:59.435068Z"
    },
    "papermill": {
     "duration": 0.006348,
     "end_time": "2025-06-28T02:02:59.435896",
     "exception": false,
     "start_time": "2025-06-28T02:02:59.429548",
     "status": "completed"
    },
    "tags": []
   },
   "outputs": [],
   "source": [
    "def calculate_performance(strategy_hash, trace_path, market_data, execution_cost_bps=1.0):\n",
    "    \"\"\"Calculate performance metrics using TRADE-BASED approach for consistency\"\"\"\n",
    "    try:\n",
    "        # Extract actual trades\n",
    "        trades = extract_trades(strategy_hash, trace_path, market_data, execution_cost_bps)\n",
    "        \n",
    "        if len(trades) == 0:\n",
    "            return {\n",
    "                'total_return': 0,\n",
    "                'sharpe_ratio': 0,\n",
    "                'max_drawdown': 0,\n",
    "                'num_trades': 0,\n",
    "                'win_rate': 0,\n",
    "                'avg_return_per_trade': 0,\n",
    "                'profit_factor': 0,\n",
    "                'total_execution_cost': 0\n",
    "            }\n",
    "        \n",
    "        # Calculate cumulative returns from trades\n",
    "        trades = trades.sort_values('entry_time').reset_index(drop=True)\n",
    "        trades['cum_return'] = (1 + trades['net_return']).cumprod()\n",
    "        total_return = trades['cum_return'].iloc[-1] - 1\n",
    "        \n",
    "        # Calculate Sharpe ratio from trade returns\n",
    "        if trades['net_return'].std() > 0:\n",
    "            # Annualize based on average trades per day\n",
    "            days_in_data = (trades['exit_time'].max() - trades['entry_time'].min()).days\n",
    "            if days_in_data > 0:\n",
    "                trades_per_day = len(trades) / days_in_data\n",
    "                annualization_factor = np.sqrt(252 * trades_per_day)\n",
    "            else:\n",
    "                annualization_factor = np.sqrt(252)\n",
    "            sharpe = trades['net_return'].mean() / trades['net_return'].std() * annualization_factor\n",
    "        else:\n",
    "            sharpe = 0\n",
    "            \n",
    "        # Max drawdown from trade equity curve\n",
    "        cummax = trades['cum_return'].expanding().max()\n",
    "        drawdown = (trades['cum_return'] / cummax - 1)\n",
    "        max_dd = drawdown.min()\n",
    "        \n",
    "        # Win rate and profit factor (trade-based)\n",
    "        winning_trades = trades[trades['net_return'] > 0]\n",
    "        losing_trades = trades[trades['net_return'] <= 0]\n",
    "        \n",
    "        win_rate = len(winning_trades) / len(trades)\n",
    "        \n",
    "        if len(losing_trades) > 0 and losing_trades['net_return'].sum() != 0:\n",
    "            profit_factor = winning_trades['net_return'].sum() / abs(losing_trades['net_return'].sum())\n",
    "        else:\n",
    "            profit_factor = 999.99 if len(winning_trades) > 0 else 0\n",
    "        \n",
    "        return {\n",
    "            'total_return': total_return,\n",
    "            'sharpe_ratio': sharpe,\n",
    "            'max_drawdown': max_dd,\n",
    "            'num_trades': len(trades),\n",
    "            'win_rate': win_rate,\n",
    "            'avg_return_per_trade': trades['net_return'].mean(),\n",
    "            'profit_factor': profit_factor,\n",
    "            'avg_winner': winning_trades['net_return'].mean() if len(winning_trades) > 0 else 0,\n",
    "            'avg_loser': losing_trades['net_return'].mean() if len(losing_trades) > 0 else 0,\n",
    "            'total_execution_cost': trades['execution_cost'].sum()\n",
    "        }\n",
    "    except Exception as e:\n",
    "        print(f\"Error calculating performance for {strategy_hash}: {e}\")\n",
    "        return None"
   ]
  },
  {
   "cell_type": "code",
   "execution_count": 10,
   "id": "9b2dab0a",
   "metadata": {
    "execution": {
     "iopub.execute_input": "2025-06-28T02:02:59.439465Z",
     "iopub.status.busy": "2025-06-28T02:02:59.439371Z",
     "iopub.status.idle": "2025-06-28T02:03:55.436467Z",
     "shell.execute_reply": "2025-06-28T02:03:55.436070Z"
    },
    "papermill": {
     "duration": 55.999868,
     "end_time": "2025-06-28T02:03:55.437461",
     "exception": false,
     "start_time": "2025-06-28T02:02:59.437593",
     "status": "completed"
    },
    "tags": []
   },
   "outputs": [
    {
     "name": "stdout",
     "output_type": "stream",
     "text": [
      "\n",
      "Calculating performance for 205 strategies...\n",
      "Using run directory: /Users/daws/ADMF-PC/config/bollinger/results/20250627_185448\n",
      "Execution cost: 1.0 basis points round-trip\n",
      "📊 Using TRADE-BASED metrics (win rate = winning trades / total trades)\n",
      "  Progress: 0/205 (0.0%)\n"
     ]
    },
    {
     "name": "stdout",
     "output_type": "stream",
     "text": [
      "  Progress: 10/205 (4.9%)\n"
     ]
    },
    {
     "name": "stdout",
     "output_type": "stream",
     "text": [
      "  Progress: 20/205 (9.8%)\n"
     ]
    },
    {
     "name": "stdout",
     "output_type": "stream",
     "text": [
      "  Progress: 30/205 (14.6%)\n"
     ]
    },
    {
     "name": "stdout",
     "output_type": "stream",
     "text": [
      "  Progress: 40/205 (19.5%)\n"
     ]
    },
    {
     "name": "stdout",
     "output_type": "stream",
     "text": [
      "  Progress: 50/205 (24.4%)\n"
     ]
    },
    {
     "name": "stdout",
     "output_type": "stream",
     "text": [
      "  Progress: 60/205 (29.3%)\n"
     ]
    },
    {
     "name": "stdout",
     "output_type": "stream",
     "text": [
      "  Progress: 70/205 (34.1%)\n"
     ]
    },
    {
     "name": "stdout",
     "output_type": "stream",
     "text": [
      "  Progress: 80/205 (39.0%)\n"
     ]
    },
    {
     "name": "stdout",
     "output_type": "stream",
     "text": [
      "  Progress: 90/205 (43.9%)\n"
     ]
    },
    {
     "name": "stdout",
     "output_type": "stream",
     "text": [
      "  Progress: 100/205 (48.8%)\n"
     ]
    },
    {
     "name": "stdout",
     "output_type": "stream",
     "text": [
      "  Progress: 110/205 (53.7%)\n"
     ]
    },
    {
     "name": "stdout",
     "output_type": "stream",
     "text": [
      "  Progress: 120/205 (58.5%)\n"
     ]
    },
    {
     "name": "stdout",
     "output_type": "stream",
     "text": [
      "  Progress: 130/205 (63.4%)\n"
     ]
    },
    {
     "name": "stdout",
     "output_type": "stream",
     "text": [
      "  Progress: 140/205 (68.3%)\n"
     ]
    },
    {
     "name": "stdout",
     "output_type": "stream",
     "text": [
      "  Progress: 150/205 (73.2%)\n"
     ]
    },
    {
     "name": "stdout",
     "output_type": "stream",
     "text": [
      "  Progress: 160/205 (78.0%)\n"
     ]
    },
    {
     "name": "stdout",
     "output_type": "stream",
     "text": [
      "  Progress: 170/205 (82.9%)\n"
     ]
    },
    {
     "name": "stdout",
     "output_type": "stream",
     "text": [
      "  Progress: 180/205 (87.8%)\n"
     ]
    },
    {
     "name": "stdout",
     "output_type": "stream",
     "text": [
      "  Progress: 190/205 (92.7%)\n"
     ]
    },
    {
     "name": "stdout",
     "output_type": "stream",
     "text": [
      "  Progress: 200/205 (97.6%)\n"
     ]
    },
    {
     "name": "stdout",
     "output_type": "stream",
     "text": [
      "  Progress: 205/205 (100.0%)\n",
      "\n",
      "✅ Calculated performance for 205 strategies\n"
     ]
    }
   ],
   "source": [
    "# Calculate performance for all strategies with execution costs\n",
    "if strategy_index is not None and market_data is not None:\n",
    "    performance_results = []\n",
    "    \n",
    "    # Determine strategies to analyze based on parameters\n",
    "    strategies_to_analyze = strategy_index\n",
    "    \n",
    "    if not calculate_all_performance and len(strategy_index) > performance_limit:\n",
    "        print(f\"Note: Large parameter sweep detected ({len(strategy_index)} strategies)\")\n",
    "        print(f\"Limiting analysis to {performance_limit} strategies (set calculate_all_performance=True to analyze all)\")\n",
    "        \n",
    "        # Sample diverse strategies across all types\n",
    "        strategies_to_analyze = strategy_index.groupby('strategy_type').apply(\n",
    "            lambda x: x.sample(n=min(len(x), performance_limit // strategy_index['strategy_type'].nunique()), \n",
    "                             random_state=42)\n",
    "        ).reset_index(drop=True)\n",
    "    \n",
    "    print(f\"\\nCalculating performance for {len(strategies_to_analyze)} strategies...\")\n",
    "    print(f\"Using run directory: {run_dir}\")\n",
    "    print(f\"Execution cost: {execution_cost_bps} basis points round-trip\")\n",
    "    print(f\"📊 Using TRADE-BASED metrics (win rate = winning trades / total trades)\")\n",
    "    \n",
    "    for idx, row in strategies_to_analyze.iterrows():\n",
    "        if idx % 10 == 0:\n",
    "            print(f\"  Progress: {idx}/{len(strategies_to_analyze)} ({idx/len(strategies_to_analyze)*100:.1f}%)\")\n",
    "            \n",
    "        perf = calculate_performance(row['strategy_hash'], row['trace_path'], market_data, execution_cost_bps)\n",
    "        \n",
    "        if perf:\n",
    "            # Combine strategy info with performance\n",
    "            result = {**row.to_dict(), **perf}\n",
    "            performance_results.append(result)\n",
    "    \n",
    "    print(f\"  Progress: {len(strategies_to_analyze)}/{len(strategies_to_analyze)} (100.0%)\")\n",
    "    \n",
    "    performance_df = pd.DataFrame(performance_results)\n",
    "    print(f\"\\n✅ Calculated performance for {len(performance_df)} strategies\")\n",
    "else:\n",
    "    performance_df = pd.DataFrame()\n",
    "    print(\"⚠️ Skipping performance calculation\")"
   ]
  },
  {
   "cell_type": "markdown",
   "id": "f2525ee0",
   "metadata": {
    "papermill": {
     "duration": 0.00197,
     "end_time": "2025-06-28T02:03:55.443400",
     "exception": false,
     "start_time": "2025-06-28T02:03:55.441430",
     "status": "completed"
    },
    "tags": []
   },
   "source": [
    "## Stop Loss and Profit Target Optimization"
   ]
  },
  {
   "cell_type": "code",
   "execution_count": 11,
   "id": "50532700",
   "metadata": {
    "execution": {
     "iopub.execute_input": "2025-06-28T02:03:55.447691Z",
     "iopub.status.busy": "2025-06-28T02:03:55.447540Z",
     "iopub.status.idle": "2025-06-28T02:07:25.869145Z",
     "shell.execute_reply": "2025-06-28T02:07:25.868885Z"
    },
    "papermill": {
     "duration": 210.424887,
     "end_time": "2025-06-28T02:07:25.870036",
     "exception": false,
     "start_time": "2025-06-28T02:03:55.445149",
     "status": "completed"
    },
    "tags": []
   },
   "outputs": [
    {
     "name": "stdout",
     "output_type": "stream",
     "text": [
      "\n",
      "🎯 Optimizing Stop Loss and Profit Target for Each Strategy\n",
      "================================================================================\n",
      "\n",
      "Analyzing strategy 1/205...\n"
     ]
    },
    {
     "name": "stdout",
     "output_type": "stream",
     "text": [
      "\n",
      "Analyzing strategy 6/205...\n"
     ]
    },
    {
     "name": "stdout",
     "output_type": "stream",
     "text": [
      "\n",
      "Analyzing strategy 11/205...\n"
     ]
    },
    {
     "name": "stdout",
     "output_type": "stream",
     "text": [
      "\n",
      "Analyzing strategy 16/205...\n"
     ]
    },
    {
     "name": "stdout",
     "output_type": "stream",
     "text": [
      "\n",
      "Analyzing strategy 21/205...\n"
     ]
    },
    {
     "name": "stdout",
     "output_type": "stream",
     "text": [
      "\n",
      "Analyzing strategy 26/205...\n"
     ]
    },
    {
     "name": "stdout",
     "output_type": "stream",
     "text": [
      "\n",
      "Analyzing strategy 31/205...\n"
     ]
    },
    {
     "name": "stdout",
     "output_type": "stream",
     "text": [
      "\n",
      "Analyzing strategy 36/205...\n"
     ]
    },
    {
     "name": "stdout",
     "output_type": "stream",
     "text": [
      "\n",
      "Analyzing strategy 41/205...\n"
     ]
    },
    {
     "name": "stdout",
     "output_type": "stream",
     "text": [
      "\n",
      "Analyzing strategy 46/205...\n"
     ]
    },
    {
     "name": "stdout",
     "output_type": "stream",
     "text": [
      "\n",
      "Analyzing strategy 51/205...\n"
     ]
    },
    {
     "name": "stdout",
     "output_type": "stream",
     "text": [
      "\n",
      "Analyzing strategy 56/205...\n"
     ]
    },
    {
     "name": "stdout",
     "output_type": "stream",
     "text": [
      "\n",
      "Analyzing strategy 61/205...\n"
     ]
    },
    {
     "name": "stdout",
     "output_type": "stream",
     "text": [
      "\n",
      "Analyzing strategy 66/205...\n"
     ]
    },
    {
     "name": "stdout",
     "output_type": "stream",
     "text": [
      "\n",
      "Analyzing strategy 71/205...\n"
     ]
    },
    {
     "name": "stdout",
     "output_type": "stream",
     "text": [
      "\n",
      "Analyzing strategy 76/205...\n"
     ]
    },
    {
     "name": "stdout",
     "output_type": "stream",
     "text": [
      "\n",
      "Analyzing strategy 81/205...\n"
     ]
    },
    {
     "name": "stdout",
     "output_type": "stream",
     "text": [
      "\n",
      "Analyzing strategy 86/205...\n"
     ]
    },
    {
     "name": "stdout",
     "output_type": "stream",
     "text": [
      "\n",
      "Analyzing strategy 91/205...\n"
     ]
    },
    {
     "name": "stdout",
     "output_type": "stream",
     "text": [
      "\n",
      "Analyzing strategy 96/205...\n"
     ]
    },
    {
     "name": "stdout",
     "output_type": "stream",
     "text": [
      "\n",
      "Analyzing strategy 101/205...\n"
     ]
    },
    {
     "name": "stdout",
     "output_type": "stream",
     "text": [
      "\n",
      "Analyzing strategy 106/205...\n"
     ]
    },
    {
     "name": "stdout",
     "output_type": "stream",
     "text": [
      "\n",
      "Analyzing strategy 111/205...\n"
     ]
    },
    {
     "name": "stdout",
     "output_type": "stream",
     "text": [
      "\n",
      "Analyzing strategy 116/205...\n"
     ]
    },
    {
     "name": "stdout",
     "output_type": "stream",
     "text": [
      "\n",
      "Analyzing strategy 121/205...\n"
     ]
    },
    {
     "name": "stdout",
     "output_type": "stream",
     "text": [
      "\n",
      "Analyzing strategy 126/205...\n"
     ]
    },
    {
     "name": "stdout",
     "output_type": "stream",
     "text": [
      "\n",
      "Analyzing strategy 131/205...\n"
     ]
    },
    {
     "name": "stdout",
     "output_type": "stream",
     "text": [
      "\n",
      "Analyzing strategy 136/205...\n"
     ]
    },
    {
     "name": "stdout",
     "output_type": "stream",
     "text": [
      "\n",
      "Analyzing strategy 141/205...\n"
     ]
    },
    {
     "name": "stdout",
     "output_type": "stream",
     "text": [
      "\n",
      "Analyzing strategy 146/205...\n"
     ]
    },
    {
     "name": "stdout",
     "output_type": "stream",
     "text": [
      "\n",
      "Analyzing strategy 151/205...\n"
     ]
    },
    {
     "name": "stdout",
     "output_type": "stream",
     "text": [
      "\n",
      "Analyzing strategy 156/205...\n"
     ]
    },
    {
     "name": "stdout",
     "output_type": "stream",
     "text": [
      "\n",
      "Analyzing strategy 161/205...\n"
     ]
    },
    {
     "name": "stdout",
     "output_type": "stream",
     "text": [
      "\n",
      "Analyzing strategy 166/205...\n"
     ]
    },
    {
     "name": "stdout",
     "output_type": "stream",
     "text": [
      "\n",
      "Analyzing strategy 171/205...\n"
     ]
    },
    {
     "name": "stdout",
     "output_type": "stream",
     "text": [
      "\n",
      "Analyzing strategy 176/205...\n"
     ]
    },
    {
     "name": "stdout",
     "output_type": "stream",
     "text": [
      "\n",
      "Analyzing strategy 181/205...\n"
     ]
    },
    {
     "name": "stdout",
     "output_type": "stream",
     "text": [
      "\n",
      "Analyzing strategy 186/205...\n"
     ]
    },
    {
     "name": "stdout",
     "output_type": "stream",
     "text": [
      "\n",
      "Analyzing strategy 191/205...\n"
     ]
    },
    {
     "name": "stdout",
     "output_type": "stream",
     "text": [
      "\n",
      "Analyzing strategy 196/205...\n"
     ]
    },
    {
     "name": "stdout",
     "output_type": "stream",
     "text": [
      "\n",
      "Analyzing strategy 201/205...\n"
     ]
    },
    {
     "name": "stdout",
     "output_type": "stream",
     "text": [
      "\n",
      "✅ Optimized 204 strategies\n",
      "\n",
      "🏆 Top 10 Strategies After Stop/Target Optimization:\n",
      "================================================================================\n",
      "\n",
      "bollinger_bands - 5edc4365\n",
      "  Parameters: period=10, std_dev=2.0\n",
      "  Original: Sharpe=-1.76, Return=-6.0%\n",
      "  Optimal: Stop=0.075%, Target=0.100%\n",
      "  Result: Sharpe=14.30, Return=40.3%\n",
      "  Improvement: Sharpe +16.06\n",
      "\n",
      "bollinger_bands - b9277649\n",
      "  Parameters: period=11, std_dev=2.0\n",
      "  Original: Sharpe=-0.96, Return=-3.4%\n",
      "  Optimal: Stop=0.075%, Target=0.100%\n",
      "  Result: Sharpe=14.26, Return=40.4%\n",
      "  Improvement: Sharpe +15.21\n",
      "\n",
      "bollinger_bands - 3bee7e1f\n",
      "  Parameters: period=10, std_dev=1.5\n",
      "  Original: Sharpe=-1.43, Return=-7.4%\n",
      "  Optimal: Stop=0.075%, Target=0.100%\n",
      "  Result: Sharpe=14.07, Return=65.3%\n",
      "  Improvement: Sharpe +15.49\n",
      "\n",
      "bollinger_bands - 7ffc4afa\n",
      "  Parameters: period=11, std_dev=1.5\n",
      "  Original: Sharpe=-1.48, Return=-7.7%\n",
      "  Optimal: Stop=0.075%, Target=0.100%\n",
      "  Result: Sharpe=13.92, Return=62.8%\n",
      "  Improvement: Sharpe +15.40\n",
      "\n",
      "bollinger_bands - 3f61275a\n",
      "  Parameters: period=12, std_dev=2.0\n",
      "  Original: Sharpe=-0.85, Return=-3.0%\n",
      "  Optimal: Stop=0.075%, Target=0.100%\n",
      "  Result: Sharpe=13.53, Return=38.3%\n",
      "  Improvement: Sharpe +14.38\n",
      "\n",
      "bollinger_bands - de310b1d\n",
      "  Parameters: period=15, std_dev=2.0\n",
      "  Original: Sharpe=-1.26, Return=-4.4%\n",
      "  Optimal: Stop=0.075%, Target=0.100%\n",
      "  Result: Sharpe=13.16, Return=36.5%\n",
      "  Improvement: Sharpe +14.42\n",
      "\n",
      "bollinger_bands - f1ad6d1f\n",
      "  Parameters: period=14, std_dev=2.0\n",
      "  Original: Sharpe=-1.10, Return=-3.9%\n",
      "  Optimal: Stop=0.075%, Target=0.100%\n",
      "  Result: Sharpe=13.05, Return=36.0%\n",
      "  Improvement: Sharpe +14.15\n",
      "\n",
      "bollinger_bands - 6312bf78\n",
      "  Parameters: period=13, std_dev=1.5\n",
      "  Original: Sharpe=-1.95, Return=-10.3%\n",
      "  Optimal: Stop=0.075%, Target=0.100%\n",
      "  Result: Sharpe=12.81, Return=55.0%\n",
      "  Improvement: Sharpe +14.76\n",
      "\n",
      "bollinger_bands - f9a95a9e\n",
      "  Parameters: period=12, std_dev=1.5\n",
      "  Original: Sharpe=-2.26, Return=-11.5%\n",
      "  Optimal: Stop=0.075%, Target=0.100%\n",
      "  Result: Sharpe=12.58, Return=54.6%\n",
      "  Improvement: Sharpe +14.84\n",
      "\n",
      "bollinger_bands - 7ac75d9a\n",
      "  Parameters: period=14, std_dev=1.5\n",
      "  Original: Sharpe=-1.72, Return=-9.5%\n",
      "  Optimal: Stop=0.075%, Target=0.100%\n",
      "  Result: Sharpe=12.57, Return=52.9%\n",
      "  Improvement: Sharpe +14.30\n"
     ]
    }
   ],
   "source": [
    "# Optimize stop loss and profit target for each strategy\n",
    "if len(performance_df) > 0 and analyze_stop_losses:\n",
    "    print(\"\\n🎯 Optimizing Stop Loss and Profit Target for Each Strategy\")\n",
    "    print(\"=\" * 80)\n",
    "    \n",
    "    # Store optimal configurations for each strategy\n",
    "    optimal_configs = []\n",
    "    \n",
    "    # Test combinations of stop loss and profit target\n",
    "    stop_target_combinations = [\n",
    "        (0, 0),          # Baseline - no stop/target\n",
    "        (0.05, 0.10),    # 2:1 reward/risk\n",
    "        (0.075, 0.10),   # 1.33:1 \n",
    "        (0.10, 0.15),    # 1.5:1\n",
    "        (0.10, 0.20),    # 2:1\n",
    "        (0.15, 0.30),    # 2:1\n",
    "        (0.20, 0.40),    # 2:1\n",
    "        (0.25, 0.50),    # 2:1\n",
    "        (0.30, 0.60),    # 2:1\n",
    "        (0.50, 1.00),    # 2:1\n",
    "    ]\n",
    "    \n",
    "    for idx, strategy in performance_df.iterrows():\n",
    "        if idx % 5 == 0:\n",
    "            print(f\"\\nAnalyzing strategy {idx+1}/{len(performance_df)}...\")\n",
    "        \n",
    "        # Extract trades for this strategy\n",
    "        trades = extract_trades(strategy['strategy_hash'], strategy['trace_path'], market_data, execution_cost_bps)\n",
    "        \n",
    "        if len(trades) < 10:  # Skip strategies with too few trades\n",
    "            continue\n",
    "        \n",
    "        best_config = {'stop': 0, 'target': 0, 'sharpe': strategy['sharpe_ratio'], 'return': strategy['total_return']}\n",
    "        \n",
    "        # Test each stop/target combination\n",
    "        for stop_pct, target_pct in stop_target_combinations:\n",
    "            if stop_pct == 0 and target_pct == 0:\n",
    "                continue  # Skip baseline\n",
    "            \n",
    "            # Apply stop/target\n",
    "            returns, exit_types = apply_stop_target(trades, stop_pct, target_pct, market_data)\n",
    "            \n",
    "            # Calculate metrics\n",
    "            if len(returns) > 0 and returns.std() > 0:\n",
    "                sharpe = returns.mean() / returns.std() * np.sqrt(252 * len(returns) / max(1, (trades['exit_time'].max() - trades['entry_time'].min()).days))\n",
    "                total_return = (1 + returns).prod() - 1\n",
    "                \n",
    "                # Update if better\n",
    "                if sharpe > best_config['sharpe']:\n",
    "                    best_config = {\n",
    "                        'stop': stop_pct,\n",
    "                        'target': target_pct,\n",
    "                        'sharpe': sharpe,\n",
    "                        'return': total_return,\n",
    "                        'stop_exits': exit_types['stop'],\n",
    "                        'target_exits': exit_types['target'],\n",
    "                        'stopped_winners': exit_types.get('stopped_winners', 0)\n",
    "                    }\n",
    "        \n",
    "        # Store optimal configuration\n",
    "        optimal_configs.append({\n",
    "            'strategy_hash': strategy['strategy_hash'],\n",
    "            'strategy_type': strategy['strategy_type'],\n",
    "            'original_sharpe': strategy['sharpe_ratio'],\n",
    "            'original_return': strategy['total_return'],\n",
    "            'optimal_stop': best_config['stop'],\n",
    "            'optimal_target': best_config['target'],\n",
    "            'optimal_sharpe': best_config['sharpe'],\n",
    "            'optimal_return': best_config['return'],\n",
    "            'sharpe_improvement': best_config['sharpe'] - strategy['sharpe_ratio'],\n",
    "            'return_improvement': best_config['return'] - strategy['total_return'],\n",
    "            'num_trades': strategy['num_trades'],\n",
    "            **{k: v for k, v in strategy.items() if k.startswith('param_') or k in ['period', 'std_dev', 'fast_period', 'slow_period']}\n",
    "        })\n",
    "    \n",
    "    # Convert to DataFrame\n",
    "    optimal_df = pd.DataFrame(optimal_configs)\n",
    "    \n",
    "    print(f\"\\n✅ Optimized {len(optimal_df)} strategies\")\n",
    "    \n",
    "    # Show top performers after optimization\n",
    "    print(\"\\n🏆 Top 10 Strategies After Stop/Target Optimization:\")\n",
    "    print(\"=\" * 80)\n",
    "    \n",
    "    top_optimized = optimal_df.nlargest(10, 'optimal_sharpe')\n",
    "    \n",
    "    for idx, row in top_optimized.iterrows():\n",
    "        print(f\"\\n{row['strategy_type']} - {row['strategy_hash'][:8]}\")\n",
    "        # Show parameters if available\n",
    "        param_cols = [col for col in row.index if col in ['period', 'std_dev', 'fast_period', 'slow_period']]\n",
    "        if param_cols:\n",
    "            params = ', '.join([f\"{col}={row[col]}\" for col in param_cols if pd.notna(row[col])])\n",
    "            print(f\"  Parameters: {params}\")\n",
    "        print(f\"  Original: Sharpe={row['original_sharpe']:.2f}, Return={row['original_return']*100:.1f}%\")\n",
    "        print(f\"  Optimal: Stop={row['optimal_stop']:.3f}%, Target={row['optimal_target']:.3f}%\")\n",
    "        print(f\"  Result: Sharpe={row['optimal_sharpe']:.2f}, Return={row['optimal_return']*100:.1f}%\")\n",
    "        print(f\"  Improvement: Sharpe +{row['sharpe_improvement']:.2f}\")\n",
    "else:\n",
    "    optimal_df = pd.DataFrame()\n",
    "    print(\"⚠️ Skipping stop loss optimization\")"
   ]
  },
  {
   "cell_type": "markdown",
   "id": "32d3c12c",
   "metadata": {
    "papermill": {
     "duration": 0.003161,
     "end_time": "2025-06-28T02:07:25.876573",
     "exception": false,
     "start_time": "2025-06-28T02:07:25.873412",
     "status": "completed"
    },
    "tags": []
   },
   "source": [
    "## Visualizations"
   ]
  },
  {
   "cell_type": "code",
   "execution_count": 12,
   "id": "b6cfeb2e",
   "metadata": {
    "execution": {
     "iopub.execute_input": "2025-06-28T02:07:25.882993Z",
     "iopub.status.busy": "2025-06-28T02:07:25.882866Z",
     "iopub.status.idle": "2025-06-28T02:07:26.164927Z",
     "shell.execute_reply": "2025-06-28T02:07:26.164572Z"
    },
    "papermill": {
     "duration": 0.286596,
     "end_time": "2025-06-28T02:07:26.166083",
     "exception": false,
     "start_time": "2025-06-28T02:07:25.879487",
     "status": "completed"
    },
    "tags": []
   },
   "outputs": [
    {
     "data": {
      "image/png": "[encoded data removed]",
      "text/plain": [
       "<Figure size 1500x1000 with 5 Axes>"
      ]
     },
     "metadata": {},
     "output_type": "display_data"
    },
    {
     "name": "stdout",
     "output_type": "stream",
     "text": [
      "\n",
      "📊 Optimization Summary:\n",
      "Strategies improved: 204 / 204 (100.0%)\n",
      "Average Sharpe improvement: 9.873\n",
      "Best improvement: 16.065\n",
      "\n",
      "Most common optimal configurations:\n",
      "  Stop=0.075%, Target=0.100%: 170 strategies\n",
      "  Stop=0.050%, Target=0.100%: 30 strategies\n",
      "  Stop=0.100%, Target=0.150%: 4 strategies\n"
     ]
    }
   ],
   "source": [
    "# Visualization of optimization results\n",
    "if len(optimal_df) > 0:\n",
    "    fig, axes = plt.subplots(2, 2, figsize=(15, 10))\n",
    "    \n",
    "    # 1. Sharpe improvement distribution\n",
    "    ax = axes[0, 0]\n",
    "    ax.hist(optimal_df['sharpe_improvement'], bins=30, alpha=0.7, color='green')\n",
    "    ax.axvline(0, color='red', linestyle='--', alpha=0.5)\n",
    "    ax.set_xlabel('Sharpe Ratio Improvement')\n",
    "    ax.set_ylabel('Count')\n",
    "    ax.set_title('Distribution of Sharpe Improvements from Optimal Stop/Target')\n",
    "    \n",
    "    # 2. Optimal stop/target scatter\n",
    "    ax = axes[0, 1]\n",
    "    scatter = ax.scatter(optimal_df['optimal_stop'], optimal_df['optimal_target'], \n",
    "                        c=optimal_df['optimal_sharpe'], cmap='viridis', alpha=0.6, s=50)\n",
    "    plt.colorbar(scatter, ax=ax, label='Optimal Sharpe')\n",
    "    ax.set_xlabel('Optimal Stop Loss %')\n",
    "    ax.set_ylabel('Optimal Profit Target %')\n",
    "    ax.set_title('Optimal Stop/Target Configurations')\n",
    "    \n",
    "    # 3. Original vs Optimized Sharpe\n",
    "    ax = axes[1, 0]\n",
    "    ax.scatter(optimal_df['original_sharpe'], optimal_df['optimal_sharpe'], alpha=0.5)\n",
    "    # Add diagonal line\n",
    "    min_val = min(optimal_df['original_sharpe'].min(), optimal_df['optimal_sharpe'].min())\n",
    "    max_val = max(optimal_df['original_sharpe'].max(), optimal_df['optimal_sharpe'].max())\n",
    "    ax.plot([min_val, max_val], [min_val, max_val], 'r--', alpha=0.5)\n",
    "    ax.set_xlabel('Original Sharpe Ratio')\n",
    "    ax.set_ylabel('Optimized Sharpe Ratio')\n",
    "    ax.set_title('Sharpe Ratio: Original vs Optimized')\n",
    "    ax.grid(True, alpha=0.3)\n",
    "    \n",
    "    # 4. Stop/Target usage statistics\n",
    "    ax = axes[1, 1]\n",
    "    stop_target_counts = optimal_df.groupby(['optimal_stop', 'optimal_target']).size()\n",
    "    top_configs = stop_target_counts.nlargest(10)\n",
    "    \n",
    "    labels = [f\"{s:.3f}/{t:.3f}\" for (s, t) in top_configs.index]\n",
    "    ax.bar(range(len(top_configs)), top_configs.values)\n",
    "    ax.set_xticks(range(len(top_configs)))\n",
    "    ax.set_xticklabels(labels, rotation=45, ha='right')\n",
    "    ax.set_ylabel('Number of Strategies')\n",
    "    ax.set_title('Most Common Optimal Stop/Target Configurations')\n",
    "    \n",
    "    plt.tight_layout()\n",
    "    plt.show()\n",
    "    \n",
    "    # Summary statistics\n",
    "    print(\"\\n📊 Optimization Summary:\")\n",
    "    print(f\"Strategies improved: {(optimal_df['sharpe_improvement'] > 0).sum()} / {len(optimal_df)} ({(optimal_df['sharpe_improvement'] > 0).mean()*100:.1f}%)\")\n",
    "    print(f\"Average Sharpe improvement: {optimal_df['sharpe_improvement'].mean():.3f}\")\n",
    "    print(f\"Best improvement: {optimal_df['sharpe_improvement'].max():.3f}\")\n",
    "    print(f\"\\nMost common optimal configurations:\")\n",
    "    for (stop, target), count in top_configs.head(5).items():\n",
    "        print(f\"  Stop={stop:.3f}%, Target={target:.3f}%: {count} strategies\")"
   ]
  },
  {
   "cell_type": "markdown",
   "id": "8b020905",
   "metadata": {
    "papermill": {
     "duration": 0.014425,
     "end_time": "2025-06-28T02:07:26.184382",
     "exception": false,
     "start_time": "2025-06-28T02:07:26.169957",
     "status": "completed"
    },
    "tags": []
   },
   "source": [
    "## Export Results"
   ]
  },
  {
   "cell_type": "code",
   "execution_count": 13,
   "id": "b9becdc9",
   "metadata": {
    "execution": {
     "iopub.execute_input": "2025-06-28T02:07:26.192435Z",
     "iopub.status.busy": "2025-06-28T02:07:26.192288Z",
     "iopub.status.idle": "2025-06-28T02:07:26.203299Z",
     "shell.execute_reply": "2025-06-28T02:07:26.203020Z"
    },
    "papermill": {
     "duration": 0.01611,
     "end_time": "2025-06-28T02:07:26.204138",
     "exception": false,
     "start_time": "2025-06-28T02:07:26.188028",
     "status": "completed"
    },
    "tags": []
   },
   "outputs": [
    {
     "name": "stdout",
     "output_type": "stream",
     "text": [
      "\n",
      "✅ Results exported:\n",
      "  - strategy_optimization_results.csv\n",
      "  - optimized_recommendations.json\n",
      "\n",
      "You can now run these optimized strategies through your event-driven system with:\n",
      "  Strategy: 5edc43651004\n",
      "  Stop Loss: 0.075%\n",
      "  Profit Target: 0.100%\n"
     ]
    }
   ],
   "source": [
    "# Export optimized results\n",
    "if len(optimal_df) > 0:\n",
    "    # Save optimization results\n",
    "    optimal_df.to_csv(run_dir / 'strategy_optimization_results.csv', index=False)\n",
    "    \n",
    "    # Create recommendations file\n",
    "    recommendations = {\n",
    "        'run_info': {\n",
    "            'run_id': run_dir.name,\n",
    "            'config_name': config_name,\n",
    "            'generated_at': datetime.now().isoformat(),\n",
    "            'total_strategies': len(strategy_index) if strategy_index is not None else 0,\n",
    "            'strategies_analyzed': len(performance_df),\n",
    "            'strategies_optimized': len(optimal_df),\n",
    "            'execution_cost_bps': execution_cost_bps\n",
    "        },\n",
    "        'best_optimized': {},\n",
    "        'top_10_optimized': []\n",
    "    }\n",
    "    \n",
    "    # Best overall after optimization\n",
    "    if len(optimal_df) > 0:\n",
    "        best = optimal_df.nlargest(1, 'optimal_sharpe').iloc[0]\n",
    "        recommendations['best_optimized'] = {\n",
    "            'strategy_hash': best['strategy_hash'],\n",
    "            'strategy_type': best['strategy_type'],\n",
    "            'optimal_stop_pct': float(best['optimal_stop']),\n",
    "            'optimal_target_pct': float(best['optimal_target']),\n",
    "            'optimal_sharpe': float(best['optimal_sharpe']),\n",
    "            'optimal_return': float(best['optimal_return']),\n",
    "            'original_sharpe': float(best['original_sharpe']),\n",
    "            'sharpe_improvement': float(best['sharpe_improvement']),\n",
    "            'parameters': {k: float(v) if pd.notna(v) else None \n",
    "                          for k, v in best.items() \n",
    "                          if k in ['period', 'std_dev', 'fast_period', 'slow_period']}\n",
    "        }\n",
    "        \n",
    "        # Top 10\n",
    "        for idx, row in optimal_df.nlargest(10, 'optimal_sharpe').iterrows():\n",
    "            recommendations['top_10_optimized'].append({\n",
    "                'rank': len(recommendations['top_10_optimized']) + 1,\n",
    "                'strategy_hash': row['strategy_hash'],\n",
    "                'strategy_type': row['strategy_type'],\n",
    "                'optimal_stop_pct': float(row['optimal_stop']),\n",
    "                'optimal_target_pct': float(row['optimal_target']),\n",
    "                'optimal_sharpe': float(row['optimal_sharpe']),\n",
    "                'optimal_return': float(row['optimal_return'])\n",
    "            })\n",
    "    \n",
    "    # Save recommendations\n",
    "    with open(run_dir / 'optimized_recommendations.json', 'w') as f:\n",
    "        json.dump(recommendations, f, indent=2)\n",
    "    \n",
    "    print(\"\\n✅ Results exported:\")\n",
    "    print(f\"  - strategy_optimization_results.csv\")\n",
    "    print(f\"  - optimized_recommendations.json\")\n",
    "    print(f\"\\nYou can now run these optimized strategies through your event-driven system with:\")\n",
    "    print(f\"  Strategy: {recommendations['best_optimized']['strategy_hash']}\")\n",
    "    print(f\"  Stop Loss: {recommendations['best_optimized']['optimal_stop_pct']:.3f}%\")\n",
    "    print(f\"  Profit Target: {recommendations['best_optimized']['optimal_target_pct']:.3f}%\")\n",
    "else:\n",
    "    print(\"⚠️ No results to export\")"
   ]
  }
 ],
 "metadata": {
  "kernelspec": {
   "display_name": "Python 3",
   "language": "python",
   "name": "python3"
  },
  "language_info": {
   "codemirror_mode": {
    "name": "ipython",
    "version": 3
   },
   "file_extension": ".py",
   "mimetype": "text/x-python",
   "name": "python",
   "nbconvert_exporter": "python",
   "pygments_lexer": "ipython3",
   "version": "3.13.5"
  },
  "papermill": {
   "default_parameters": {},
   "duration": 268.91167,
   "end_time": "2025-06-28T02:07:26.526864",
   "environment_variables": {},
   "exception": null,
   "input_path": "/Users/daws/ADMF-PC/src/analytics/templates/universal_analysis.ipynb",
   "output_path": "config/bollinger/results/20250627_185448/analysis_20250627_190257.ipynb",
   "parameters": {
    "calculate_all_performance": true,
    "config_name": "bollinger",
    "correlation_threshold": 0.7,
    "ensemble_size": 5,
    "min_strategies_to_analyze": 20,
    "performance_limit": 100,
    "run_dir": "/Users/daws/ADMF-PC/config/bollinger/results/20250627_185448",
    "sharpe_threshold": 1.0,
    "symbols": [
     "SPY"
    ],
    "timeframe": "5m",
    "top_n_strategies": 10
   },
   "start_time": "2025-06-28T02:02:57.615194",
   "version": "2.6.0"
  }
 },
 "nbformat": 4,
 "nbformat_minor": 5
}