{
 "cells": [
  {
   "cell_type": "markdown",
   "id": "e59e20c7",
   "metadata": {
    "tags": [
     "papermill-error-cell-tag"
    ]
   },
   "source": [
    "<span style=\"color:red; font-family:Helvetica Neue, Helvetica, Arial, sans-serif; font-size:2em;\">An Exception was encountered at '<a href=\"#papermill-error-cell\">In [17]</a>'.</span>"
   ]
  },
  {
   "cell_type": "markdown",
   "id": "374e1ce7",
   "metadata": {
    "papermill": {
     "duration": 0.012037,
     "end_time": "2025-06-25T20:50:07.530774",
     "exception": false,
     "start_time": "2025-06-25T20:50:07.518737",
     "status": "completed"
    },
    "tags": []
   },
   "source": [
    "# Universal Strategy Analysis\n",
    "\n",
    "This notebook provides comprehensive analysis across all strategies tested in a parameter sweep.\n",
    "\n",
    "**Key Features:**\n",
    "- Cross-strategy performance comparison\n",
    "- Parameter sensitivity analysis\n",
    "- Correlation analysis for ensemble building\n",
    "- Regime-specific performance breakdown\n",
    "- Automatic identification of optimal strategies and ensembles"
   ]
  },
  {
   "cell_type": "code",
   "execution_count": 1,
   "id": "b0dba917",
   "metadata": {
    "execution": {
     "iopub.execute_input": "2025-06-25T20:50:07.547275Z",
     "iopub.status.busy": "2025-06-25T20:50:07.546828Z",
     "iopub.status.idle": "2025-06-25T20:50:07.553574Z",
     "shell.execute_reply": "2025-06-25T20:50:07.552963Z"
    },
    "papermill": {
     "duration": 0.016386,
     "end_time": "2025-06-25T20:50:07.555071",
     "exception": false,
     "start_time": "2025-06-25T20:50:07.538685",
     "status": "completed"
    },
    "tags": [
     "parameters"
    ]
   },
   "outputs": [],
   "source": [
    "# Parameters will be injected here by papermill\n",
    "# This cell is tagged with 'parameters' for papermill to recognize it\n",
    "run_dir = \".\"\n",
    "config_name = \"config\"\n",
    "symbols = [\"SPY\"]\n",
    "timeframe = \"5m\"\n",
    "min_strategies_to_analyze = 20\n",
    "sharpe_threshold = 1.0\n",
    "correlation_threshold = 0.7\n",
    "top_n_strategies = 10\n",
    "ensemble_size = 5\n",
    "calculate_all_performance = True  # Set to False to limit analysis for large sweeps\n",
    "performance_limit = 100  # If calculate_all_performance is False, limit to this many\n",
    "\n",
    "# Enhanced analysis parameters\n",
    "execution_cost_bps = 1.0  # Round-trip execution cost in basis points\n",
    "analyze_stop_losses = True  # Whether to analyze stop loss impact\n",
    "stop_loss_levels = [0.05, 0.1, 0.15, 0.2, 0.25, 0.3, 0.4, 0.5, 0.75, 1.0]  # Stop loss percentages\n",
    "verify_intraday = True  # Whether to verify intraday constraints\n",
    "market_timezone = \"America/New_York\"  # Market timezone for constraint verification"
   ]
  },
  {
   "cell_type": "code",
   "execution_count": 2,
   "id": "f0403b93",
   "metadata": {
    "execution": {
     "iopub.execute_input": "2025-06-25T20:50:07.564799Z",
     "iopub.status.busy": "2025-06-25T20:50:07.564432Z",
     "iopub.status.idle": "2025-06-25T20:50:07.567844Z",
     "shell.execute_reply": "2025-06-25T20:50:07.567428Z"
    },
    "papermill": {
     "duration": 0.009111,
     "end_time": "2025-06-25T20:50:07.569005",
     "exception": false,
     "start_time": "2025-06-25T20:50:07.559894",
     "status": "completed"
    },
    "tags": [
     "injected-parameters"
    ]
   },
   "outputs": [],
   "source": [
    "# Parameters\n",
    "run_dir = \"/Users/daws/ADMF-PC/config/bollinger/results/20250625_134802\"\n",
    "config_name = \"bollinger\"\n",
    "symbols = [\"SPY_5m\"]\n",
    "timeframe = \"5m\"\n",
    "min_strategies_to_analyze = 20\n",
    "sharpe_threshold = 1.0\n",
    "correlation_threshold = 0.7\n",
    "top_n_strategies = 10\n",
    "ensemble_size = 5\n",
    "calculate_all_performance = True\n",
    "performance_limit = 100\n"
   ]
  },
  {
   "cell_type": "markdown",
   "id": "d681bbf5",
   "metadata": {
    "papermill": {
     "duration": 0.003115,
     "end_time": "2025-06-25T20:50:07.576687",
     "exception": false,
     "start_time": "2025-06-25T20:50:07.573572",
     "status": "completed"
    },
    "tags": []
   },
   "source": [
    "## Setup"
   ]
  },
  {
   "cell_type": "code",
   "execution_count": 3,
   "id": "c9608218",
   "metadata": {
    "execution": {
     "iopub.execute_input": "2025-06-25T20:50:07.583236Z",
     "iopub.status.busy": "2025-06-25T20:50:07.583060Z",
     "iopub.status.idle": "2025-06-25T20:50:08.332613Z",
     "shell.execute_reply": "2025-06-25T20:50:08.332350Z"
    },
    "papermill": {
     "duration": 0.753513,
     "end_time": "2025-06-25T20:50:08.333263",
     "exception": false,
     "start_time": "2025-06-25T20:50:07.579750",
     "status": "completed"
    },
    "tags": []
   },
   "outputs": [
    {
     "name": "stdout",
     "output_type": "stream",
     "text": [
      "Analyzing run: 20250625_134802\n",
      "Full path: /Users/daws/ADMF-PC/config/bollinger/results/20250625_134802\n",
      "Config: bollinger\n",
      "Symbol(s): ['SPY_5m']\n",
      "Timeframe: 5m\n"
     ]
    }
   ],
   "source": [
    "# Imports\n",
    "import pandas as pd\n",
    "import numpy as np\n",
    "import matplotlib.pyplot as plt\n",
    "import seaborn as sns\n",
    "from pathlib import Path\n",
    "import duckdb\n",
    "import json\n",
    "from datetime import datetime\n",
    "import warnings\n",
    "warnings.filterwarnings('ignore')\n",
    "\n",
    "# Configure plotting\n",
    "plt.style.use('seaborn-v0_8-darkgrid')\n",
    "plt.rcParams['figure.figsize'] = (12, 6)\n",
    "plt.rcParams['font.size'] = 10\n",
    "\n",
    "# Initialize DuckDB\n",
    "con = duckdb.connect()\n",
    "\n",
    "# Convert run_dir to Path and resolve to absolute path\n",
    "run_dir = Path(run_dir).resolve()\n",
    "print(f\"Analyzing run: {run_dir.name}\")\n",
    "print(f\"Full path: {run_dir}\")\n",
    "print(f\"Config: {config_name}\")\n",
    "print(f\"Symbol(s): {symbols}\")\n",
    "print(f\"Timeframe: {timeframe}\")"
   ]
  },
  {
   "cell_type": "code",
   "execution_count": 4,
   "id": "d28ee376",
   "metadata": {
    "execution": {
     "iopub.execute_input": "2025-06-25T20:50:08.337851Z",
     "iopub.status.busy": "2025-06-25T20:50:08.337691Z",
     "iopub.status.idle": "2025-06-25T20:50:08.347354Z",
     "shell.execute_reply": "2025-06-25T20:50:08.347123Z"
    },
    "papermill": {
     "duration": 0.01238,
     "end_time": "2025-06-25T20:50:08.347979",
     "exception": false,
     "start_time": "2025-06-25T20:50:08.335599",
     "status": "completed"
    },
    "tags": []
   },
   "outputs": [],
   "source": [
    "# Enhanced analysis helper functions\n",
    "import pytz\n",
    "from datetime import time\n",
    "\n",
    "def extract_trades(strategy_hash, trace_path, market_data, execution_cost_bps=1.0):\n",
    "    \"\"\"\n",
    "    Extract trades from signal trace with execution costs.\n",
    "    \n",
    "    Args:\n",
    "        strategy_hash: Strategy identifier\n",
    "        trace_path: Path to trace file\n",
    "        market_data: Market price data\n",
    "        execution_cost_bps: Round-trip execution cost in basis points (default 1bp)\n",
    "    \n",
    "    Returns:\n",
    "        DataFrame with trade details including costs\n",
    "    \"\"\"\n",
    "    try:\n",
    "        signals_path = run_dir / trace_path\n",
    "        signals = pd.read_parquet(signals_path)\n",
    "        signals['ts'] = pd.to_datetime(signals['ts'])\n",
    "        \n",
    "        # Merge with market data\n",
    "        df = market_data.merge(\n",
    "            signals[['ts', 'val', 'px']], \n",
    "            left_on='timestamp', \n",
    "            right_on='ts', \n",
    "            how='left'\n",
    "        )\n",
    "        \n",
    "        # Forward fill signals\n",
    "        df['signal'] = df['val'].ffill().fillna(0)\n",
    "        df['position'] = df['signal'].replace({0: 0, 1: 1, -1: -1})\n",
    "        df['position_change'] = df['position'].diff().fillna(0)\n",
    "        \n",
    "        trades = []\n",
    "        current_trade = None\n",
    "        \n",
    "        for idx, row in df.iterrows():\n",
    "            if row['position_change'] != 0 and row['position'] != 0:\n",
    "                # New position opened\n",
    "                if current_trade is None:\n",
    "                    current_trade = {\n",
    "                        'entry_time': row['timestamp'],\n",
    "                        'entry_price': row['px'] if pd.notna(row['px']) else row['close'],\n",
    "                        'direction': row['position'],\n",
    "                        'entry_idx': idx\n",
    "                    }\n",
    "            elif current_trade is not None and (row['position'] == 0 or row['position_change'] != 0):\n",
    "                # Position closed\n",
    "                exit_price = row['px'] if pd.notna(row['px']) else row['close']\n",
    "                \n",
    "                # Avoid division by zero - check if entry price is valid\n",
    "                if current_trade['entry_price'] == 0 or pd.isna(current_trade['entry_price']):\n",
    "                    print(f\"Warning: Invalid entry price {current_trade['entry_price']} for trade at {current_trade['entry_time']}\")\n",
    "                    current_trade = None\n",
    "                    continue\n",
    "                \n",
    "                # Calculate raw return\n",
    "                if current_trade['direction'] == 1:  # Long\n",
    "                    raw_return = (exit_price - current_trade['entry_price']) / current_trade['entry_price']\n",
    "                else:  # Short\n",
    "                    raw_return = (current_trade['entry_price'] - exit_price) / current_trade['entry_price']\n",
    "                \n",
    "                # Apply execution costs\n",
    "                cost_adjustment = execution_cost_bps / 10000  # Convert bps to decimal\n",
    "                net_return = raw_return - cost_adjustment\n",
    "                \n",
    "                trade = {\n",
    "                    'strategy_hash': strategy_hash,\n",
    "                    'entry_time': current_trade['entry_time'],\n",
    "                    'exit_time': row['timestamp'],\n",
    "                    'entry_price': current_trade['entry_price'],\n",
    "                    'exit_price': exit_price,\n",
    "                    'direction': current_trade['direction'],\n",
    "                    'raw_return': raw_return,\n",
    "                    'execution_cost': cost_adjustment,\n",
    "                    'net_return': net_return,\n",
    "                    'duration_minutes': (row['timestamp'] - current_trade['entry_time']).total_seconds() / 60\n",
    "                }\n",
    "                trades.append(trade)\n",
    "                \n",
    "                # Reset for next trade\n",
    "                current_trade = None\n",
    "                if row['position'] != 0 and row['position_change'] != 0:\n",
    "                    # Immediately open new position (reversal)\n",
    "                    current_trade = {\n",
    "                        'entry_time': row['timestamp'],\n",
    "                        'entry_price': row['px'] if pd.notna(row['px']) else row['close'],\n",
    "                        'direction': row['position'],\n",
    "                        'entry_idx': idx\n",
    "                    }\n",
    "        \n",
    "        return pd.DataFrame(trades)\n",
    "    except Exception as e:\n",
    "        print(f\"Error extracting trades for {strategy_hash[:8]}: {e}\")\n",
    "        return pd.DataFrame()\n",
    "\n",
    "def calculate_stop_loss_impact(trades_df, stop_loss_levels=None):\n",
    "    \"\"\"\n",
    "    Calculate returns with various stop loss levels.\n",
    "    \n",
    "    Args:\n",
    "        trades_df: DataFrame of trades\n",
    "        stop_loss_levels: List of stop loss percentages (default 0.05% to 1%)\n",
    "    \n",
    "    Returns:\n",
    "        DataFrame with returns for each stop loss level\n",
    "    \"\"\"\n",
    "    if stop_loss_levels is None:\n",
    "        stop_loss_levels = [0.05, 0.1, 0.15, 0.2, 0.25, 0.3, 0.4, 0.5, 0.75, 1.0]\n",
    "    \n",
    "    results = []\n",
    "    \n",
    "    for sl_pct in stop_loss_levels:\n",
    "        sl_decimal = sl_pct / 100\n",
    "        \n",
    "        trades_with_sl = trades_df.copy()\n",
    "        stopped_out_count = 0\n",
    "        \n",
    "        # Apply stop loss to each trade\n",
    "        for idx, trade in trades_with_sl.iterrows():\n",
    "            if trade['raw_return'] < -sl_decimal:\n",
    "                trades_with_sl.loc[idx, 'raw_return'] = -sl_decimal\n",
    "                trades_with_sl.loc[idx, 'net_return'] = -sl_decimal - trade['execution_cost']\n",
    "                stopped_out_count += 1\n",
    "        \n",
    "        # Calculate metrics with stop loss\n",
    "        total_return = trades_with_sl['net_return'].sum()\n",
    "        avg_return = trades_with_sl['net_return'].mean()\n",
    "        win_rate = (trades_with_sl['net_return'] > 0).mean()\n",
    "        \n",
    "        results.append({\n",
    "            'stop_loss_pct': sl_pct,\n",
    "            'total_return': total_return,\n",
    "            'avg_return_per_trade': avg_return,\n",
    "            'win_rate': win_rate,\n",
    "            'stopped_out_count': stopped_out_count,\n",
    "            'stopped_out_rate': stopped_out_count / len(trades_with_sl) if len(trades_with_sl) > 0 else 0,\n",
    "            'num_trades': len(trades_with_sl)\n",
    "        })\n",
    "    \n",
    "    return pd.DataFrame(results)\n",
    "\n",
    "def verify_intraday_constraint(trades_df, market_tz='America/New_York'):\n",
    "    \"\"\"\n",
    "    Verify that trades respect intraday constraints.\n",
    "    \n",
    "    Args:\n",
    "        trades_df: DataFrame of trades\n",
    "        market_tz: Market timezone (default NYSE)\n",
    "    \n",
    "    Returns:\n",
    "        Dictionary with constraint verification results\n",
    "    \"\"\"\n",
    "    if len(trades_df) == 0:\n",
    "        return {\n",
    "            'total_trades': 0,\n",
    "            'overnight_positions': 0,\n",
    "            'overnight_position_pct': 0,\n",
    "            'after_hours_entries': 0,\n",
    "            'after_hours_exits': 0,\n",
    "            'fully_intraday': 0,\n",
    "            'avg_trade_duration_minutes': 0,\n",
    "            'max_trade_duration_minutes': 0,\n",
    "            'trades_over_390_minutes': 0\n",
    "        }\n",
    "    \n",
    "    # Convert to market timezone\n",
    "    market_tz_obj = pytz.timezone(market_tz)\n",
    "    \n",
    "    trades_df = trades_df.copy()\n",
    "    \n",
    "    # Handle timezone conversion properly\n",
    "    # First check if timestamps are already timezone-aware\n",
    "    entry_times = pd.to_datetime(trades_df['entry_time'])\n",
    "    exit_times = pd.to_datetime(trades_df['exit_time'])\n",
    "    \n",
    "    if entry_times.dt.tz is not None:\n",
    "        # Already timezone-aware, just convert\n",
    "        trades_df['entry_time_mkt'] = entry_times.dt.tz_convert(market_tz_obj)\n",
    "    else:\n",
    "        # Timezone-naive, localize first then convert\n",
    "        trades_df['entry_time_mkt'] = entry_times.dt.tz_localize('UTC').dt.tz_convert(market_tz_obj)\n",
    "    \n",
    "    if exit_times.dt.tz is not None:\n",
    "        # Already timezone-aware, just convert\n",
    "        trades_df['exit_time_mkt'] = exit_times.dt.tz_convert(market_tz_obj)\n",
    "    else:\n",
    "        # Timezone-naive, localize first then convert\n",
    "        trades_df['exit_time_mkt'] = exit_times.dt.tz_localize('UTC').dt.tz_convert(market_tz_obj)\n",
    "    \n",
    "    # Market hours (9:30 AM - 4:00 PM ET)\n",
    "    market_open = time(9, 30)\n",
    "    market_close = time(16, 0)\n",
    "    \n",
    "    # Check for overnight positions\n",
    "    trades_df['entry_date'] = trades_df['entry_time_mkt'].dt.date\n",
    "    trades_df['exit_date'] = trades_df['exit_time_mkt'].dt.date\n",
    "    trades_df['overnight'] = trades_df['entry_date'] != trades_df['exit_date']\n",
    "    \n",
    "    # Check for after-hours trades\n",
    "    trades_df['entry_time_only'] = trades_df['entry_time_mkt'].dt.time\n",
    "    trades_df['exit_time_only'] = trades_df['exit_time_mkt'].dt.time\n",
    "    \n",
    "    trades_df['after_hours_entry'] = (\n",
    "        (trades_df['entry_time_only'] < market_open) | \n",
    "        (trades_df['entry_time_only'] >= market_close)\n",
    "    )\n",
    "    trades_df['after_hours_exit'] = (\n",
    "        (trades_df['exit_time_only'] < market_open) | \n",
    "        (trades_df['exit_time_only'] >= market_close)\n",
    "    )\n",
    "    \n",
    "    results = {\n",
    "        'total_trades': len(trades_df),\n",
    "        'overnight_positions': trades_df['overnight'].sum(),\n",
    "        'overnight_position_pct': trades_df['overnight'].mean() * 100,\n",
    "        'after_hours_entries': trades_df['after_hours_entry'].sum(),\n",
    "        'after_hours_exits': trades_df['after_hours_exit'].sum(),\n",
    "        'fully_intraday': (~trades_df['overnight']).sum(),\n",
    "        'avg_trade_duration_minutes': trades_df['duration_minutes'].mean(),\n",
    "        'max_trade_duration_minutes': trades_df['duration_minutes'].max(),\n",
    "        'trades_over_390_minutes': (trades_df['duration_minutes'] > 390).sum()  # Full trading day\n",
    "    }\n",
    "    \n",
    "    # Add hourly breakdown\n",
    "    trades_df['entry_hour'] = trades_df['entry_time_mkt'].dt.hour\n",
    "    trades_df['exit_hour'] = trades_df['exit_time_mkt'].dt.hour\n",
    "    \n",
    "    results['entries_by_hour'] = trades_df['entry_hour'].value_counts().to_dict()\n",
    "    results['exits_by_hour'] = trades_df['exit_hour'].value_counts().to_dict()\n",
    "    \n",
    "    return results"
   ]
  },
  {
   "cell_type": "code",
   "execution_count": 5,
   "id": "30cf850a",
   "metadata": {
    "execution": {
     "iopub.execute_input": "2025-06-25T20:50:08.351979Z",
     "iopub.status.busy": "2025-06-25T20:50:08.351886Z",
     "iopub.status.idle": "2025-06-25T20:50:08.355432Z",
     "shell.execute_reply": "2025-06-25T20:50:08.355221Z"
    },
    "papermill": {
     "duration": 0.006053,
     "end_time": "2025-06-25T20:50:08.356066",
     "exception": false,
     "start_time": "2025-06-25T20:50:08.350013",
     "status": "completed"
    },
    "tags": []
   },
   "outputs": [
    {
     "name": "stdout",
     "output_type": "stream",
     "text": [
      "✅ Found project root: /Users/daws/ADMF-PC\n",
      "✅ Analysis snippets available at: /Users/daws/ADMF-PC/src/analytics/snippets\n",
      "✅ SQL queries available at: /Users/daws/ADMF-PC/src/analytics/queries\n",
      "\n",
      "Use %load to load any snippet, e.g.:\n",
      "  %load /Users/daws/ADMF-PC/src/analytics/snippets/exploratory/signal_frequency.py\n",
      "  %load /Users/daws/ADMF-PC/src/analytics/snippets/ensembles/find_uncorrelated.py\n"
     ]
    }
   ],
   "source": [
    "# Setup path for loading analysis snippets\n",
    "import sys\n",
    "from pathlib import Path\n",
    "\n",
    "# Find the project root (where src/ directory is)\n",
    "current_path = Path(run_dir).resolve()\n",
    "project_root = None\n",
    "\n",
    "# Search up the directory tree for src/analytics/snippets\n",
    "for parent in current_path.parents:\n",
    "    if (parent / 'src' / 'analytics' / 'snippets').exists():\n",
    "        project_root = parent\n",
    "        break\n",
    "\n",
    "# If not found from run_dir, try from current working directory\n",
    "if not project_root:\n",
    "    cwd = Path.cwd()\n",
    "    for parent in [cwd] + list(cwd.parents):\n",
    "        if (parent / 'src' / 'analytics' / 'snippets').exists():\n",
    "            project_root = parent\n",
    "            break\n",
    "\n",
    "# Last resort: check common project locations\n",
    "if not project_root:\n",
    "    common_roots = [\n",
    "        Path('/Users/daws/ADMF-PC'),\n",
    "        Path.home() / 'ADMF-PC',\n",
    "        Path.cwd().parent.parent.parent.parent  # 4 levels up from typical results dir\n",
    "    ]\n",
    "    for root in common_roots:\n",
    "        if root.exists() and (root / 'src' / 'analytics' / 'snippets').exists():\n",
    "            project_root = root\n",
    "            break\n",
    "\n",
    "if project_root:\n",
    "    # Add to Python path if not already there\n",
    "    if str(project_root) not in sys.path:\n",
    "        sys.path.insert(0, str(project_root))\n",
    "    snippets_path = project_root / 'src' / 'analytics' / 'snippets'\n",
    "    queries_path = project_root / 'src' / 'analytics' / 'queries'\n",
    "    print(f\"✅ Found project root: {project_root}\")\n",
    "    print(f\"✅ Analysis snippets available at: {snippets_path}\")\n",
    "    print(f\"✅ SQL queries available at: {queries_path}\")\n",
    "    print(\"\\nUse %load to load any snippet, e.g.:\")\n",
    "    print(\"  %load {}/src/analytics/snippets/exploratory/signal_frequency.py\".format(project_root))\n",
    "    print(\"  %load {}/src/analytics/snippets/ensembles/find_uncorrelated.py\".format(project_root))\n",
    "else:\n",
    "    print(\"⚠️ Could not find project root with src/analytics/snippets\")\n",
    "    print(f\"  Searched from: {current_path}\")\n",
    "    print(f\"  Current working directory: {Path.cwd()}\")"
   ]
  },
  {
   "cell_type": "markdown",
   "id": "e87d9b8c",
   "metadata": {
    "papermill": {
     "duration": 0.001568,
     "end_time": "2025-06-25T20:50:08.359674",
     "exception": false,
     "start_time": "2025-06-25T20:50:08.358106",
     "status": "completed"
    },
    "tags": []
   },
   "source": [
    "## Load Strategy Index"
   ]
  },
  {
   "cell_type": "code",
   "execution_count": 6,
   "id": "37228c6c",
   "metadata": {
    "execution": {
     "iopub.execute_input": "2025-06-25T20:50:08.363440Z",
     "iopub.status.busy": "2025-06-25T20:50:08.363354Z",
     "iopub.status.idle": "2025-06-25T20:50:08.425785Z",
     "shell.execute_reply": "2025-06-25T20:50:08.425562Z"
    },
    "papermill": {
     "duration": 0.064969,
     "end_time": "2025-06-25T20:50:08.426445",
     "exception": false,
     "start_time": "2025-06-25T20:50:08.361476",
     "status": "completed"
    },
    "tags": []
   },
   "outputs": [
    {
     "name": "stdout",
     "output_type": "stream",
     "text": [
      "✅ Loaded 205 strategies from /Users/daws/ADMF-PC/config/bollinger/results/20250625_134802/strategy_index.parquet\n",
      "\n",
      "Strategies by type:\n",
      "  bollinger_bands: 205\n",
      "\n",
      "Columns: ['strategy_id', 'strategy_hash', 'strategy_type', 'symbol', 'timeframe', 'constraints', 'period', 'std_dev', 'trace_path']...\n"
     ]
    }
   ],
   "source": [
    "# Load strategy index - the catalog of all strategies tested\n",
    "strategy_index_path = run_dir / 'strategy_index.parquet'\n",
    "\n",
    "if strategy_index_path.exists():\n",
    "    strategy_index = pd.read_parquet(strategy_index_path)\n",
    "    print(f\"✅ Loaded {len(strategy_index)} strategies from {strategy_index_path}\")\n",
    "    \n",
    "    # Show strategy type distribution\n",
    "    by_type = strategy_index['strategy_type'].value_counts()\n",
    "    print(\"\\nStrategies by type:\")\n",
    "    for stype, count in by_type.items():\n",
    "        print(f\"  {stype}: {count}\")\n",
    "        \n",
    "    # Show sample of columns\n",
    "    print(f\"\\nColumns: {list(strategy_index.columns)[:10]}...\")\n",
    "else:\n",
    "    print(f\"❌ No strategy_index.parquet found at {strategy_index_path}\")\n",
    "    strategy_index = None"
   ]
  },
  {
   "cell_type": "code",
   "execution_count": 7,
   "id": "bf5dba9c",
   "metadata": {
    "execution": {
     "iopub.execute_input": "2025-06-25T20:50:08.430717Z",
     "iopub.status.busy": "2025-06-25T20:50:08.430598Z",
     "iopub.status.idle": "2025-06-25T20:50:08.434455Z",
     "shell.execute_reply": "2025-06-25T20:50:08.434239Z"
    },
    "papermill": {
     "duration": 0.006556,
     "end_time": "2025-06-25T20:50:08.435047",
     "exception": false,
     "start_time": "2025-06-25T20:50:08.428491",
     "status": "completed"
    },
    "tags": []
   },
   "outputs": [],
   "source": [
    "def calculate_performance(strategy_hash, trace_path, market_data, execution_cost_bps=1.0):\n",
    "    \"\"\"Calculate performance metrics for a strategy with execution costs\"\"\"\n",
    "    try:\n",
    "        # Always use the global run_dir which is already resolved to absolute path\n",
    "        signals_path = run_dir / trace_path\n",
    "            \n",
    "        # Load sparse signals\n",
    "        signals = pd.read_parquet(signals_path)\n",
    "        signals['ts'] = pd.to_datetime(signals['ts'])\n",
    "        \n",
    "        # Merge with market data\n",
    "        df = market_data.merge(\n",
    "            signals[['ts', 'val']], \n",
    "            left_on='timestamp', \n",
    "            right_on='ts', \n",
    "            how='left'\n",
    "        )\n",
    "        \n",
    "        # Forward fill signals (sparse to dense)\n",
    "        df['signal'] = df['val'].ffill().fillna(0)\n",
    "        \n",
    "        # Calculate returns\n",
    "        df['returns'] = df['close'].pct_change()\n",
    "        df['strategy_returns'] = df['returns'] * df['signal'].shift(1)\n",
    "        \n",
    "        # Count trades for execution cost calculation\n",
    "        df['position'] = df['signal']\n",
    "        df['position_change'] = df['position'].diff().fillna(0)\n",
    "        trades = (df['position_change'] != 0).sum()\n",
    "        \n",
    "        # Apply execution costs\n",
    "        # Each trade incurs cost (half on entry, half on exit)\n",
    "        cost_per_return = (execution_cost_bps / 10000) * trades / len(df[df['strategy_returns'] != 0])\n",
    "        df['strategy_returns_net'] = df['strategy_returns'] - cost_per_return\n",
    "        df['cum_returns'] = (1 + df['strategy_returns_net']).cumprod()\n",
    "        \n",
    "        # Metrics (using net returns)\n",
    "        total_return = df['cum_returns'].iloc[-1] - 1\n",
    "        \n",
    "        if df['strategy_returns_net'].std() > 0:\n",
    "            sharpe = df['strategy_returns_net'].mean() / df['strategy_returns_net'].std() * np.sqrt(252 * 78)\n",
    "        else:\n",
    "            sharpe = 0\n",
    "            \n",
    "        cummax = df['cum_returns'].expanding().max()\n",
    "        drawdown = (df['cum_returns'] / cummax - 1)\n",
    "        max_dd = drawdown.min()\n",
    "        \n",
    "        # Calculate win rate\n",
    "        positive_returns = df[df['strategy_returns_net'] > 0]['strategy_returns_net']\n",
    "        negative_returns = df[df['strategy_returns_net'] < 0]['strategy_returns_net']\n",
    "        win_rate = len(positive_returns) / (len(positive_returns) + len(negative_returns)) if (len(positive_returns) + len(negative_returns)) > 0 else 0\n",
    "        \n",
    "        return {\n",
    "            'total_return': total_return,\n",
    "            'sharpe_ratio': sharpe,\n",
    "            'max_drawdown': max_dd,\n",
    "            'num_trades': trades,\n",
    "            'win_rate': win_rate,\n",
    "            'avg_return_per_trade': total_return / trades if trades > 0 else 0,\n",
    "            'total_execution_cost': (execution_cost_bps / 10000) * trades,\n",
    "            'df': df  # For later analysis\n",
    "        }\n",
    "    except Exception as e:\n",
    "        print(f\"Error calculating performance for {strategy_hash}: {e}\")\n",
    "        return None"
   ]
  },
  {
   "cell_type": "code",
   "execution_count": 8,
   "id": "be61dbf8",
   "metadata": {
    "execution": {
     "iopub.execute_input": "2025-06-25T20:50:08.439593Z",
     "iopub.status.busy": "2025-06-25T20:50:08.439476Z",
     "iopub.status.idle": "2025-06-25T20:50:08.446397Z",
     "shell.execute_reply": "2025-06-25T20:50:08.446195Z"
    },
    "papermill": {
     "duration": 0.009584,
     "end_time": "2025-06-25T20:50:08.446972",
     "exception": false,
     "start_time": "2025-06-25T20:50:08.437388",
     "status": "completed"
    },
    "tags": []
   },
   "outputs": [
    {
     "name": "stdout",
     "output_type": "stream",
     "text": [
      "✅ Loaded market data from: data/SPY_5m.parquet\n",
      "   Shape: (20769, 6)\n"
     ]
    }
   ],
   "source": [
    "# Load market data\n",
    "# First, try to create a symlink to data directory for easier access\n",
    "try:\n",
    "    data_symlink = Path('data')\n",
    "    if not data_symlink.exists():\n",
    "        # Try to find the project root and create symlink\n",
    "        project_root = None\n",
    "        # Extract actual symbol from data configuration\n",
    "        # Handle case where config has 'data: SPY_5m' instead of just symbol\n",
    "        if symbols and len(symbols) > 0:\n",
    "            symbol = symbols[0]\n",
    "            # If symbol contains underscore and timeframe, extract just the symbol part\n",
    "            if '_' in symbol and symbol.endswith(f'_{timeframe}'):\n",
    "                symbol = symbol.replace(f'_{timeframe}', '')\n",
    "        else:\n",
    "            symbol = 'SPY'  # Default fallback\n",
    "            \n",
    "        for parent in [Path.cwd()] + list(Path.cwd().parents):\n",
    "            if (parent / 'data' / f'{symbol}_{timeframe}.parquet').exists():\n",
    "                project_root = parent\n",
    "                break\n",
    "        \n",
    "        if project_root:\n",
    "            data_symlink.symlink_to(project_root / 'data')\n",
    "            print(f\"✅ Created symlink to data directory: {project_root / 'data'}\")\n",
    "except Exception as e:\n",
    "    print(f\"Note: Could not create data symlink: {e}\")\n",
    "\n",
    "# Extract actual symbol from data configuration\n",
    "# Handle case where config has 'data: SPY_5m' instead of just symbol\n",
    "if symbols and len(symbols) > 0:\n",
    "    symbol = symbols[0]\n",
    "    # If symbol contains underscore and timeframe, extract just the symbol part\n",
    "    if '_' in symbol and symbol.endswith(f'_{timeframe}'):\n",
    "        symbol = symbol.replace(f'_{timeframe}', '')\n",
    "else:\n",
    "    symbol = 'SPY'  # Default fallback\n",
    "\n",
    "# Try multiple paths to find market data\n",
    "market_data_paths = [\n",
    "    Path(f'data/{symbol}_{timeframe}.parquet'),\n",
    "    Path(f'../data/{symbol}_{timeframe}.parquet'),\n",
    "    Path(f'../../data/{symbol}_{timeframe}.parquet'),\n",
    "    Path(f'../../../data/{symbol}_{timeframe}.parquet'),\n",
    "    Path(f'../../../../data/{symbol}_{timeframe}.parquet'),\n",
    "    # Also try absolute path as fallback\n",
    "    Path(f'/Users/daws/ADMF-PC/data/{symbol}_{timeframe}.parquet'),\n",
    "]\n",
    "\n",
    "market_data = None\n",
    "for path in market_data_paths:\n",
    "    if path.exists():\n",
    "        market_data = pd.read_parquet(path)\n",
    "        print(f'✅ Loaded market data from: {path}')\n",
    "        print(f'   Shape: {market_data.shape}')\n",
    "        break\n",
    "\n",
    "if market_data is None:\n",
    "    print('❌ Could not find market data file')\n",
    "    print(f'   Searched for: {symbol}_{timeframe}.parquet')\n",
    "    print(f'   In directories:')\n",
    "    for path in market_data_paths:\n",
    "        print(f'     - {path.resolve() if path.exists() else path}')"
   ]
  },
  {
   "cell_type": "code",
   "execution_count": 9,
   "id": "0ff0fe6f",
   "metadata": {
    "execution": {
     "iopub.execute_input": "2025-06-25T20:50:08.451395Z",
     "iopub.status.busy": "2025-06-25T20:50:08.451282Z",
     "iopub.status.idle": "2025-06-25T20:50:11.680151Z",
     "shell.execute_reply": "2025-06-25T20:50:11.679872Z"
    },
    "papermill": {
     "duration": 3.231582,
     "end_time": "2025-06-25T20:50:11.680869",
     "exception": false,
     "start_time": "2025-06-25T20:50:08.449287",
     "status": "completed"
    },
    "tags": []
   },
   "outputs": [
    {
     "name": "stdout",
     "output_type": "stream",
     "text": [
      "\n",
      "Calculating performance for 205 strategies...\n",
      "Using run directory: /Users/daws/ADMF-PC/config/bollinger/results/20250625_134802\n",
      "Execution cost: 1.0 basis points round-trip\n",
      "  Progress: 0/205 (0.0%)\n"
     ]
    },
    {
     "name": "stdout",
     "output_type": "stream",
     "text": [
      "  Progress: 10/205 (4.9%)\n"
     ]
    },
    {
     "name": "stdout",
     "output_type": "stream",
     "text": [
      "  Progress: 20/205 (9.8%)\n"
     ]
    },
    {
     "name": "stdout",
     "output_type": "stream",
     "text": [
      "  Progress: 30/205 (14.6%)\n"
     ]
    },
    {
     "name": "stdout",
     "output_type": "stream",
     "text": [
      "  Progress: 40/205 (19.5%)\n"
     ]
    },
    {
     "name": "stdout",
     "output_type": "stream",
     "text": [
      "  Progress: 50/205 (24.4%)\n"
     ]
    },
    {
     "name": "stdout",
     "output_type": "stream",
     "text": [
      "  Progress: 60/205 (29.3%)\n"
     ]
    },
    {
     "name": "stdout",
     "output_type": "stream",
     "text": [
      "  Progress: 70/205 (34.1%)\n"
     ]
    },
    {
     "name": "stdout",
     "output_type": "stream",
     "text": [
      "  Progress: 80/205 (39.0%)\n"
     ]
    },
    {
     "name": "stdout",
     "output_type": "stream",
     "text": [
      "  Progress: 90/205 (43.9%)\n"
     ]
    },
    {
     "name": "stdout",
     "output_type": "stream",
     "text": [
      "  Progress: 100/205 (48.8%)\n"
     ]
    },
    {
     "name": "stdout",
     "output_type": "stream",
     "text": [
      "  Progress: 110/205 (53.7%)\n"
     ]
    },
    {
     "name": "stdout",
     "output_type": "stream",
     "text": [
      "  Progress: 120/205 (58.5%)\n"
     ]
    },
    {
     "name": "stdout",
     "output_type": "stream",
     "text": [
      "  Progress: 130/205 (63.4%)\n"
     ]
    },
    {
     "name": "stdout",
     "output_type": "stream",
     "text": [
      "  Progress: 140/205 (68.3%)\n"
     ]
    },
    {
     "name": "stdout",
     "output_type": "stream",
     "text": [
      "  Progress: 150/205 (73.2%)\n"
     ]
    },
    {
     "name": "stdout",
     "output_type": "stream",
     "text": [
      "  Progress: 160/205 (78.0%)\n"
     ]
    },
    {
     "name": "stdout",
     "output_type": "stream",
     "text": [
      "  Progress: 170/205 (82.9%)\n"
     ]
    },
    {
     "name": "stdout",
     "output_type": "stream",
     "text": [
      "  Progress: 180/205 (87.8%)\n"
     ]
    },
    {
     "name": "stdout",
     "output_type": "stream",
     "text": [
      "  Progress: 190/205 (92.7%)\n"
     ]
    },
    {
     "name": "stdout",
     "output_type": "stream",
     "text": [
      "  Progress: 200/205 (97.6%)\n"
     ]
    },
    {
     "name": "stdout",
     "output_type": "stream",
     "text": [
      "  Progress: 205/205 (100.0%)\n",
      "\n",
      "✅ Calculated performance for 205 strategies\n",
      "💾 Saved performance metrics to: /Users/daws/ADMF-PC/config/bollinger/results/20250625_134802/performance_metrics.parquet\n"
     ]
    }
   ],
   "source": [
    "# Calculate performance for all strategies with execution costs\n",
    "if strategy_index is not None and market_data is not None:\n",
    "    performance_results = []\n",
    "    \n",
    "    # Determine strategies to analyze based on parameters\n",
    "    strategies_to_analyze = strategy_index\n",
    "    \n",
    "    if not calculate_all_performance and len(strategy_index) > performance_limit:\n",
    "        print(f\"Note: Large parameter sweep detected ({len(strategy_index)} strategies)\")\n",
    "        print(f\"Limiting analysis to {performance_limit} strategies (set calculate_all_performance=True to analyze all)\")\n",
    "        \n",
    "        # Sample diverse strategies across all types\n",
    "        strategies_to_analyze = strategy_index.groupby('strategy_type').apply(\n",
    "            lambda x: x.sample(n=min(len(x), performance_limit // strategy_index['strategy_type'].nunique()), \n",
    "                             random_state=42)\n",
    "        ).reset_index(drop=True)\n",
    "    \n",
    "    print(f\"\\nCalculating performance for {len(strategies_to_analyze)} strategies...\")\n",
    "    print(f\"Using run directory: {run_dir}\")\n",
    "    print(f\"Execution cost: {execution_cost_bps} basis points round-trip\")\n",
    "    \n",
    "    # Check if we already have cached performance metrics\n",
    "    cached_performance_path = run_dir / 'performance_metrics.parquet'\n",
    "    if cached_performance_path.exists() and calculate_all_performance:\n",
    "        print(f\"📂 Found cached performance metrics, loading...\")\n",
    "        performance_df = pd.read_parquet(cached_performance_path)\n",
    "        print(f\"✅ Loaded performance for {len(performance_df)} strategies from cache\")\n",
    "    else:\n",
    "        # Calculate performance\n",
    "        for idx, row in strategies_to_analyze.iterrows():\n",
    "            if idx % 10 == 0:\n",
    "                print(f\"  Progress: {idx}/{len(strategies_to_analyze)} ({idx/len(strategies_to_analyze)*100:.1f}%)\")\n",
    "                \n",
    "            perf = calculate_performance(row['strategy_hash'], row['trace_path'], market_data, execution_cost_bps)\n",
    "            \n",
    "            if perf:\n",
    "                # Combine strategy info with performance\n",
    "                result = {**row.to_dict(), **perf}\n",
    "                # Remove the full dataframe from results\n",
    "                result.pop('df', None)\n",
    "                performance_results.append(result)\n",
    "        \n",
    "        print(f\"  Progress: {len(strategies_to_analyze)}/{len(strategies_to_analyze)} (100.0%)\")\n",
    "        \n",
    "        performance_df = pd.DataFrame(performance_results)\n",
    "        print(f\"\\n✅ Calculated performance for {len(performance_df)} strategies\")\n",
    "        \n",
    "        # Save performance results for future use (only if we calculated all)\n",
    "        if calculate_all_performance and len(performance_df) == len(strategy_index):\n",
    "            performance_df.to_parquet(cached_performance_path)\n",
    "            print(f\"💾 Saved performance metrics to: {cached_performance_path}\")\n",
    "else:\n",
    "    performance_df = pd.DataFrame()\n",
    "    print(\"⚠️ Skipping performance calculation\")"
   ]
  },
  {
   "cell_type": "markdown",
   "id": "ea2ba313",
   "metadata": {
    "papermill": {
     "duration": 0.002919,
     "end_time": "2025-06-25T20:50:11.687258",
     "exception": false,
     "start_time": "2025-06-25T20:50:11.684339",
     "status": "completed"
    },
    "tags": []
   },
   "source": [
    "## Cross-Strategy Performance Analysis"
   ]
  },
  {
   "cell_type": "code",
   "execution_count": 10,
   "id": "3044b36b",
   "metadata": {
    "execution": {
     "iopub.execute_input": "2025-06-25T20:50:11.692555Z",
     "iopub.status.busy": "2025-06-25T20:50:11.692440Z",
     "iopub.status.idle": "2025-06-25T20:50:11.698296Z",
     "shell.execute_reply": "2025-06-25T20:50:11.698084Z"
    },
    "papermill": {
     "duration": 0.009025,
     "end_time": "2025-06-25T20:50:11.698904",
     "exception": false,
     "start_time": "2025-06-25T20:50:11.689879",
     "status": "completed"
    },
    "tags": []
   },
   "outputs": [
    {
     "name": "stdout",
     "output_type": "stream",
     "text": [
      "\n",
      "🏆 Top 10 Strategies (All Types) - After 1.0bps Execution Costs:\n",
      "==========================================================================================\n",
      "\n",
      "bollinger_bands - 79624e63\n",
      "  Sharpe: 0.00 | Return: 0.0% | Drawdown: 0.0%\n",
      "  Win Rate: 0.0% | Avg Return/Trade: 0.000% | Trades: 0\n",
      "  Total Execution Cost: 0.00%\n",
      "  Params: period: 10 | std_dev: 3.0\n",
      "\n",
      "bollinger_bands - 982f1900\n",
      "  Sharpe: -1.56 | Return: -18.5% | Drawdown: -20.7%\n",
      "  Win Rate: 28.1% | Avg Return/Trade: -0.008% | Trades: 2399\n",
      "  Total Execution Cost: 23.99%\n",
      "  Params: period: 41 | std_dev: 1.0\n",
      "\n",
      "bollinger_bands - e220d2e7\n",
      "  Sharpe: -1.57 | Return: -18.6% | Drawdown: -21.0%\n",
      "  Win Rate: 28.2% | Avg Return/Trade: -0.008% | Trades: 2342\n",
      "  Total Execution Cost: 23.42%\n",
      "  Params: period: 42 | std_dev: 1.0\n",
      "\n",
      "bollinger_bands - b3883b4a\n",
      "  Sharpe: -1.60 | Return: -19.0% | Drawdown: -21.1%\n",
      "  Win Rate: 28.1% | Avg Return/Trade: -0.008% | Trades: 2437\n",
      "  Total Execution Cost: 24.37%\n",
      "  Params: period: 40 | std_dev: 1.0\n",
      "\n",
      "bollinger_bands - 62d9cb19\n",
      "  Sharpe: -1.67 | Return: -19.4% | Drawdown: -22.6%\n",
      "  Win Rate: 28.9% | Avg Return/Trade: -0.009% | Trades: 2140\n",
      "  Total Execution Cost: 21.40%\n",
      "  Params: period: 50 | std_dev: 1.0\n",
      "\n",
      "bollinger_bands - ed91ff08\n",
      "  Sharpe: -1.68 | Return: -19.7% | Drawdown: -22.6%\n",
      "  Win Rate: 28.5% | Avg Return/Trade: -0.009% | Trades: 2287\n",
      "  Total Execution Cost: 22.87%\n",
      "  Params: period: 45 | std_dev: 1.0\n",
      "\n",
      "bollinger_bands - fc33d532\n",
      "  Sharpe: -1.75 | Return: -20.3% | Drawdown: -23.3%\n",
      "  Win Rate: 28.8% | Avg Return/Trade: -0.009% | Trades: 2154\n",
      "  Total Execution Cost: 21.54%\n",
      "  Params: period: 49 | std_dev: 1.0\n",
      "\n",
      "bollinger_bands - 35ec37df\n",
      "  Sharpe: -1.76 | Return: -20.4% | Drawdown: -23.5%\n",
      "  Win Rate: 28.7% | Avg Return/Trade: -0.009% | Trades: 2178\n",
      "  Total Execution Cost: 21.78%\n",
      "  Params: period: 48 | std_dev: 1.0\n",
      "\n",
      "bollinger_bands - eda5c120\n",
      "  Sharpe: -1.78 | Return: -20.6% | Drawdown: -22.8%\n",
      "  Win Rate: 28.3% | Avg Return/Trade: -0.009% | Trades: 2311\n",
      "  Total Execution Cost: 23.11%\n",
      "  Params: period: 44 | std_dev: 1.0\n",
      "\n",
      "bollinger_bands - cf7e04d7\n",
      "  Sharpe: -1.79 | Return: -20.8% | Drawdown: -22.9%\n",
      "  Win Rate: 28.3% | Avg Return/Trade: -0.009% | Trades: 2312\n",
      "  Total Execution Cost: 23.12%\n",
      "  Params: period: 43 | std_dev: 1.0\n"
     ]
    }
   ],
   "source": [
    "if len(performance_df) > 0:\n",
    "    # Top performers across ALL strategy types\n",
    "    top_overall = performance_df.nlargest(top_n_strategies, 'sharpe_ratio')\n",
    "    \n",
    "    print(f\"\\n🏆 Top {top_n_strategies} Strategies (All Types) - After {execution_cost_bps}bps Execution Costs:\")\n",
    "    print(\"=\" * 90)\n",
    "    \n",
    "    # Look for parameter columns (both with and without param_ prefix for compatibility)\n",
    "    all_param_cols = []\n",
    "    # Check for param_ prefixed columns\n",
    "    param_prefixed_cols = [col for col in top_overall.columns if col.startswith('param_')]\n",
    "    # Check for direct parameter columns (per trace-updates.md)\n",
    "    direct_param_cols = ['period', 'std_dev', 'fast_period', 'slow_period', 'multiplier', 'exit_threshold']\n",
    "    available_param_cols = [col for col in direct_param_cols if col in top_overall.columns]\n",
    "    \n",
    "    # Use whichever we find\n",
    "    if available_param_cols:\n",
    "        all_param_cols = available_param_cols\n",
    "    elif param_prefixed_cols:\n",
    "        all_param_cols = param_prefixed_cols\n",
    "    \n",
    "    for idx, row in top_overall.iterrows():\n",
    "        # Determine identifier to show\n",
    "        strategy_identifier = row.get('strategy_id', 'unknown')\n",
    "        if 'strategy_hash' in row and pd.notna(row['strategy_hash']):\n",
    "            # Check if all strategies have the same hash\n",
    "            if performance_df['strategy_hash'].nunique() > 1:\n",
    "                # Use hash if they're unique\n",
    "                strategy_identifier = row['strategy_hash'][:8]\n",
    "        \n",
    "        print(f\"\\n{row['strategy_type']} - {strategy_identifier}\")\n",
    "        print(f\"  Sharpe: {row['sharpe_ratio']:.2f} | Return: {row['total_return']:.1%} | Drawdown: {row['max_drawdown']:.1%}\")\n",
    "        print(f\"  Win Rate: {row['win_rate']:.1%} | Avg Return/Trade: {row['avg_return_per_trade']*100:.3f}% | Trades: {row['num_trades']}\")\n",
    "        print(f\"  Total Execution Cost: {row['total_execution_cost']*100:.2f}%\")\n",
    "        \n",
    "        # Show parameters\n",
    "        if all_param_cols:\n",
    "            # Filter out null parameters\n",
    "            valid_params = []\n",
    "            for col in all_param_cols[:5]:  # Show up to 5 parameters\n",
    "                if col in row and pd.notna(row[col]):\n",
    "                    param_name = col.replace('param_', '') if col.startswith('param_') else col\n",
    "                    valid_params.append(f\"{param_name}: {row[col]}\")\n",
    "            \n",
    "            if valid_params:\n",
    "                print(f\"  Params: {' | '.join(valid_params)}\")"
   ]
  },
  {
   "cell_type": "markdown",
   "id": "2b7140f5",
   "metadata": {
    "papermill": {
     "duration": 0.002636,
     "end_time": "2025-06-25T20:50:11.703675",
     "exception": false,
     "start_time": "2025-06-25T20:50:11.701039",
     "status": "completed"
    },
    "tags": []
   },
   "source": [
    "## Visualizations"
   ]
  },
  {
   "cell_type": "code",
   "execution_count": 11,
   "id": "92a29aa7",
   "metadata": {
    "execution": {
     "iopub.execute_input": "2025-06-25T20:50:11.708680Z",
     "iopub.status.busy": "2025-06-25T20:50:11.708562Z",
     "iopub.status.idle": "2025-06-25T20:50:12.017728Z",
     "shell.execute_reply": "2025-06-25T20:50:12.017521Z"
    },
    "papermill": {
     "duration": 0.31261,
     "end_time": "2025-06-25T20:50:12.018362",
     "exception": false,
     "start_time": "2025-06-25T20:50:11.705752",
     "status": "completed"
    },
    "tags": []
   },
   "outputs": [
    {
     "data": {
      "image/png": "[encoded data removed]",
      "text/plain": [
       "<Figure size 1500x1000 with 6 Axes>"
      ]
     },
     "metadata": {},
     "output_type": "display_data"
    },
    {
     "name": "stdout",
     "output_type": "stream",
     "text": [
      "\n",
      "📈 Parameter Analysis:\n",
      "Correlation between period and Sharpe: 0.410\n",
      "Correlation between std_dev and Sharpe: -0.665\n",
      "\n",
      "🎯 Performance by Parameter Ranges:\n",
      "\n",
      "Top performing period x std_dev ranges:\n",
      "                                mean       std  count\n",
      "period       std_dev                                 \n",
      "(42.0, 50.0] (0.998, 1.4]  -1.763989  0.065457      8\n",
      "(34.0, 42.0] (0.998, 1.4]  -3.752311  1.804360      8\n",
      "(26.0, 34.0] (0.998, 1.4]  -5.562152  0.377961      8\n",
      "(18.0, 26.0] (0.998, 1.4]  -7.555498  0.819285      8\n",
      "(42.0, 50.0] (1.4, 1.8]    -8.908233  0.469538      8\n",
      "(34.0, 42.0] (1.4, 1.8]    -9.773435  0.371836      8\n",
      "(9.96, 18.0] (0.998, 1.4] -11.032084  1.326541      9\n",
      "(26.0, 34.0] (1.4, 1.8]   -11.145939  0.470270      8\n",
      "(18.0, 26.0] (1.4, 1.8]   -13.849787  1.510567      8\n",
      "(42.0, 50.0] (1.8, 2.2]   -19.604076  0.870527      8\n"
     ]
    }
   ],
   "source": [
    "# Visualizations for single or multiple strategy types\n",
    "if len(performance_df) > 0:\n",
    "    if performance_df['strategy_type'].nunique() > 1:\n",
    "        # Multiple strategy types - original visualization\n",
    "        plt.figure(figsize=(14, 6))\n",
    "        \n",
    "        # Box plot of Sharpe by type\n",
    "        plt.subplot(1, 2, 1)\n",
    "        performance_df.boxplot(column='sharpe_ratio', by='strategy_type', ax=plt.gca())\n",
    "        plt.xticks(rotation=45, ha='right')\n",
    "        plt.title('Sharpe Ratio Distribution by Strategy Type')\n",
    "        plt.suptitle('')  # Remove default title\n",
    "        plt.ylabel('Sharpe Ratio')\n",
    "        \n",
    "        # Scatter: Return vs Sharpe\n",
    "        plt.subplot(1, 2, 2)\n",
    "        for stype in performance_df['strategy_type'].unique():\n",
    "            mask = performance_df['strategy_type'] == stype\n",
    "            plt.scatter(performance_df.loc[mask, 'total_return'], \n",
    "                       performance_df.loc[mask, 'sharpe_ratio'],\n",
    "                       label=stype, alpha=0.6)\n",
    "        plt.xlabel('Total Return')\n",
    "        plt.ylabel('Sharpe Ratio')\n",
    "        plt.title('Return vs Risk-Adjusted Return')\n",
    "        plt.legend(bbox_to_anchor=(1.05, 1), loc='upper left')\n",
    "        plt.grid(True, alpha=0.3)\n",
    "        \n",
    "        plt.tight_layout()\n",
    "        plt.show()\n",
    "    else:\n",
    "        # Single strategy type - parameter analysis visualization\n",
    "        plt.figure(figsize=(15, 10))\n",
    "        \n",
    "        # 1. Sharpe ratio distribution\n",
    "        plt.subplot(2, 2, 1)\n",
    "        performance_df['sharpe_ratio'].hist(bins=20, alpha=0.7, color='blue')\n",
    "        plt.axvline(performance_df['sharpe_ratio'].mean(), color='red', linestyle='--', label=f'Mean: {performance_df[\"sharpe_ratio\"].mean():.2f}')\n",
    "        plt.axvline(performance_df['sharpe_ratio'].median(), color='green', linestyle='--', label=f'Median: {performance_df[\"sharpe_ratio\"].median():.2f}')\n",
    "        plt.xlabel('Sharpe Ratio')\n",
    "        plt.ylabel('Count')\n",
    "        plt.title('Sharpe Ratio Distribution')\n",
    "        plt.legend()\n",
    "        \n",
    "        # 2. Return vs Sharpe scatter\n",
    "        plt.subplot(2, 2, 2)\n",
    "        # Determine which parameters exist (check both naming conventions)\n",
    "        param_cols = [col for col in performance_df.columns if col.startswith('param_')]\n",
    "        direct_param_cols = ['period', 'std_dev', 'fast_period', 'slow_period', 'multiplier', 'exit_threshold']\n",
    "        available_param_cols = [col for col in direct_param_cols if col in performance_df.columns]\n",
    "        \n",
    "        # Use direct parameter names if available, otherwise fall back to param_ prefix\n",
    "        if available_param_cols:\n",
    "            param_cols = available_param_cols\n",
    "        \n",
    "        if len(param_cols) >= 2:\n",
    "            # Use first two parameters for visualization\n",
    "            scatter = plt.scatter(performance_df['total_return'], \n",
    "                                 performance_df['sharpe_ratio'],\n",
    "                                 c=performance_df[param_cols[0]], \n",
    "                                 cmap='viridis',\n",
    "                                 s=performance_df[param_cols[1]]*50 if performance_df[param_cols[1]].max() < 10 else 50,\n",
    "                                 alpha=0.6)\n",
    "            plt.colorbar(scatter, label=param_cols[0].replace('param_', ''))\n",
    "            plt.title(f'Return vs Risk-Adjusted Return\\n(Color={param_cols[0].replace(\"param_\", \"\")}, Size={param_cols[1].replace(\"param_\", \"\")})')\n",
    "        else:\n",
    "            plt.scatter(performance_df['total_return'], \n",
    "                       performance_df['sharpe_ratio'],\n",
    "                       alpha=0.6)\n",
    "            plt.title('Return vs Risk-Adjusted Return')\n",
    "        plt.xlabel('Total Return')\n",
    "        plt.ylabel('Sharpe Ratio')\n",
    "        plt.grid(True, alpha=0.3)\n",
    "        \n",
    "        # 3. Parameter heatmap (if enough data and two numeric parameters)\n",
    "        if len(performance_df) > 10 and len(param_cols) >= 2:\n",
    "            plt.subplot(2, 2, 3)\n",
    "            try:\n",
    "                # Create pivot table for heatmap\n",
    "                pivot_sharpe = performance_df.pivot_table(\n",
    "                    values='sharpe_ratio', \n",
    "                    index=param_cols[0], \n",
    "                    columns=param_cols[1],\n",
    "                    aggfunc='mean'\n",
    "                )\n",
    "                if not pivot_sharpe.empty and pivot_sharpe.shape[0] > 1 and pivot_sharpe.shape[1] > 1:\n",
    "                    sns.heatmap(pivot_sharpe, cmap='RdYlGn', center=0, \n",
    "                               cbar_kws={'label': 'Sharpe Ratio'})\n",
    "                    plt.title(f'Sharpe Ratio by {param_cols[0].replace(\"param_\", \"\")} and {param_cols[1].replace(\"param_\", \"\")}')\n",
    "            except:\n",
    "                plt.text(0.5, 0.5, 'Not enough data for heatmap', \n",
    "                        ha='center', va='center', transform=plt.gca().transAxes)\n",
    "        \n",
    "        # 4. Box plot of returns\n",
    "        plt.subplot(2, 2, 4)\n",
    "        performance_df.boxplot(column=['total_return', 'sharpe_ratio'])\n",
    "        plt.xticks(rotation=45)\n",
    "        plt.title('Performance Metrics Distribution')\n",
    "        plt.ylabel('Value')\n",
    "        \n",
    "        plt.tight_layout()\n",
    "        plt.show()\n",
    "        \n",
    "        # Additional parameter analysis\n",
    "        if param_cols:\n",
    "            print(\"\\n📈 Parameter Analysis:\")\n",
    "            for param in param_cols[:3]:  # Analyze first 3 parameters\n",
    "                if param in performance_df.columns and performance_df[param].notna().any():\n",
    "                    corr = performance_df[param].corr(performance_df['sharpe_ratio'])\n",
    "                    param_display = param.replace('param_', '')\n",
    "                    print(f\"Correlation between {param_display} and Sharpe: {corr:.3f}\")\n",
    "            \n",
    "            # Group by parameter ranges to find stable regions\n",
    "            if len(param_cols) >= 2 and len(performance_df) > 20:\n",
    "                print(\"\\n🎯 Performance by Parameter Ranges:\")\n",
    "                try:\n",
    "                    # Find numeric parameter columns\n",
    "                    numeric_params = []\n",
    "                    for col in param_cols:\n",
    "                        if pd.api.types.is_numeric_dtype(performance_df[col]) and performance_df[col].notna().sum() > 0:\n",
    "                            numeric_params.append(col)\n",
    "                    \n",
    "                    if len(numeric_params) >= 2:\n",
    "                        # Create bins for numeric parameters\n",
    "                        param1_groups = pd.cut(performance_df[numeric_params[0]], bins=5)\n",
    "                        param2_groups = pd.cut(performance_df[numeric_params[1]], bins=5)\n",
    "                        \n",
    "                        param_summary = performance_df.groupby([param1_groups, param2_groups])['sharpe_ratio'].agg(['mean', 'std', 'count'])\n",
    "                        param_summary = param_summary[param_summary['count'] > 0].sort_values('mean', ascending=False)\n",
    "                        \n",
    "                        # Display with clean parameter names\n",
    "                        param1_name = numeric_params[0].replace('param_', '')\n",
    "                        param2_name = numeric_params[1].replace('param_', '')\n",
    "                        print(f\"\\nTop performing {param1_name} x {param2_name} ranges:\")\n",
    "                        print(param_summary.head(10))\n",
    "                    else:\n",
    "                        print(\"Not enough numeric parameters for range analysis\")\n",
    "                except Exception as e:\n",
    "                    print(f\"Could not create parameter range analysis: {e}\")"
   ]
  },
  {
   "cell_type": "markdown",
   "id": "d93185f6",
   "metadata": {
    "papermill": {
     "duration": 0.003528,
     "end_time": "2025-06-25T20:50:12.025899",
     "exception": false,
     "start_time": "2025-06-25T20:50:12.022371",
     "status": "completed"
    },
    "tags": []
   },
   "source": [
    "## Correlation Analysis for Ensemble Building"
   ]
  },
  {
   "cell_type": "code",
   "execution_count": 12,
   "id": "73473856",
   "metadata": {
    "execution": {
     "iopub.execute_input": "2025-06-25T20:50:12.032969Z",
     "iopub.status.busy": "2025-06-25T20:50:12.032780Z",
     "iopub.status.idle": "2025-06-25T20:50:12.035391Z",
     "shell.execute_reply": "2025-06-25T20:50:12.035172Z"
    },
    "papermill": {
     "duration": 0.006649,
     "end_time": "2025-06-25T20:50:12.036019",
     "exception": false,
     "start_time": "2025-06-25T20:50:12.029370",
     "status": "completed"
    },
    "tags": []
   },
   "outputs": [],
   "source": [
    "def calculate_strategy_correlations(strategies_df, market_data, run_dir):\n",
    "    \"\"\"Calculate correlation matrix between strategies\"\"\"\n",
    "    returns_dict = {}\n",
    "    \n",
    "    for idx, row in strategies_df.iterrows():\n",
    "        try:\n",
    "            # Use the global run_dir\n",
    "            signals_path = run_dir / row['trace_path']\n",
    "            signals = pd.read_parquet(signals_path)\n",
    "            signals['ts'] = pd.to_datetime(signals['ts'])\n",
    "            \n",
    "            # Merge and calculate returns\n",
    "            df = market_data.merge(signals[['ts', 'val']], left_on='timestamp', right_on='ts', how='left')\n",
    "            df['signal'] = df['val'].ffill().fillna(0)\n",
    "            df['returns'] = df['close'].pct_change()\n",
    "            df['strategy_returns'] = df['returns'] * df['signal'].shift(1)\n",
    "            \n",
    "            returns_dict[row['strategy_hash']] = df['strategy_returns']\n",
    "        except:\n",
    "            pass\n",
    "    \n",
    "    # Create returns DataFrame and calculate correlation\n",
    "    if returns_dict:\n",
    "        returns_df = pd.DataFrame(returns_dict)\n",
    "        return returns_df.corr()\n",
    "    return pd.DataFrame()"
   ]
  },
  {
   "cell_type": "markdown",
   "id": "e6f47fe1",
   "metadata": {
    "papermill": {
     "duration": 0.002908,
     "end_time": "2025-06-25T20:50:12.042176",
     "exception": false,
     "start_time": "2025-06-25T20:50:12.039268",
     "status": "completed"
    },
    "tags": []
   },
   "source": [
    "## Enhanced Analysis: Stop Loss Impact & Trade Verification"
   ]
  },
  {
   "cell_type": "code",
   "execution_count": 13,
   "id": "fa8d4ab6",
   "metadata": {
    "execution": {
     "iopub.execute_input": "2025-06-25T20:50:12.048315Z",
     "iopub.status.busy": "2025-06-25T20:50:12.048196Z",
     "iopub.status.idle": "2025-06-25T20:50:14.444746Z",
     "shell.execute_reply": "2025-06-25T20:50:14.444494Z"
    },
    "papermill": {
     "duration": 2.400639,
     "end_time": "2025-06-25T20:50:14.445650",
     "exception": false,
     "start_time": "2025-06-25T20:50:12.045011",
     "status": "completed"
    },
    "tags": []
   },
   "outputs": [
    {
     "name": "stdout",
     "output_type": "stream",
     "text": [
      "\n",
      "📊 Stop Loss Impact Analysis\n",
      "============================================================\n",
      "\n",
      "Analyzing stop losses for strategy 1: bollinger_bands - 79624e63\n"
     ]
    },
    {
     "name": "stdout",
     "output_type": "stream",
     "text": [
      "\n",
      "Analyzing stop losses for strategy 2: bollinger_bands - 982f1900\n"
     ]
    },
    {
     "name": "stdout",
     "output_type": "stream",
     "text": [
      "  Current total return: -0.11%\n",
      "  Optimal stop loss: 0.05% → Return: 58.37%\n",
      "  Improvement: 58.49%\n",
      "  Trades stopped out: 210.0 (17.7%)\n",
      "\n",
      "Analyzing stop losses for strategy 3: bollinger_bands - e220d2e7\n"
     ]
    },
    {
     "name": "stdout",
     "output_type": "stream",
     "text": [
      "  Current total return: 0.24%\n",
      "  Optimal stop loss: 0.05% → Return: 58.28%\n",
      "  Improvement: 58.04%\n",
      "  Trades stopped out: 206.0 (17.8%)\n",
      "\n",
      "Analyzing stop losses for strategy 4: bollinger_bands - b3883b4a\n"
     ]
    },
    {
     "name": "stdout",
     "output_type": "stream",
     "text": [
      "  Current total return: -0.55%\n",
      "  Optimal stop loss: 0.05% → Return: 59.04%\n",
      "  Improvement: 59.59%\n",
      "  Trades stopped out: 212.0 (17.6%)\n",
      "\n",
      "Analyzing stop losses for strategy 5: bollinger_bands - 62d9cb19\n"
     ]
    },
    {
     "name": "stdout",
     "output_type": "stream",
     "text": [
      "  Current total return: -6.72%\n",
      "  Optimal stop loss: 0.05% → Return: 51.45%\n",
      "  Improvement: 58.17%\n",
      "  Trades stopped out: 188.0 (17.8%)\n"
     ]
    },
    {
     "data": {
      "image/png": "[encoded data removed]",
      "text/plain": [
       "<Figure size 1200x800 with 2 Axes>"
      ]
     },
     "metadata": {},
     "output_type": "display_data"
    },
    {
     "name": "stdout",
     "output_type": "stream",
     "text": [
      "\n",
      "🎯 Stop Loss Recommendations:\n",
      "Based on the analysis across top strategies:\n",
      "• Conservative (minimize large losses): 0.25% stop loss\n",
      "• Balanced (optimize return/risk): 0.50% stop loss\n",
      "• Aggressive (maximize returns): 1.00% stop loss or no stop\n"
     ]
    }
   ],
   "source": [
    "# Stop Loss Analysis for Top Strategies\n",
    "if analyze_stop_losses and len(performance_df) > 0 and len(top_overall) > 0:\n",
    "    print(\"\\n📊 Stop Loss Impact Analysis\")\n",
    "    print(\"=\" * 60)\n",
    "    \n",
    "    stop_loss_results = {}\n",
    "    \n",
    "    # Analyze top 5 strategies\n",
    "    for idx, (_, strategy) in enumerate(top_overall.head(5).iterrows()):\n",
    "        print(f\"\\nAnalyzing stop losses for strategy {idx+1}: {strategy['strategy_type']} - {strategy['strategy_hash'][:8]}\")\n",
    "        \n",
    "        # Extract trades for this strategy\n",
    "        trades = extract_trades(strategy['strategy_hash'], strategy['trace_path'], market_data, execution_cost_bps)\n",
    "        \n",
    "        if len(trades) > 0:\n",
    "            # Calculate stop loss impact\n",
    "            sl_impact = calculate_stop_loss_impact(trades, stop_loss_levels)\n",
    "            stop_loss_results[strategy['strategy_hash']] = sl_impact\n",
    "            \n",
    "            # Find optimal stop loss\n",
    "            optimal_sl = sl_impact.loc[sl_impact['total_return'].idxmax()]\n",
    "            current_return = trades['net_return'].sum()\n",
    "            \n",
    "            print(f\"  Current total return: {current_return*100:.2f}%\")\n",
    "            print(f\"  Optimal stop loss: {optimal_sl['stop_loss_pct']:.2f}% → Return: {optimal_sl['total_return']*100:.2f}%\")\n",
    "            print(f\"  Improvement: {(optimal_sl['total_return'] - current_return)*100:.2f}%\")\n",
    "            print(f\"  Trades stopped out: {optimal_sl['stopped_out_count']} ({optimal_sl['stopped_out_rate']*100:.1f}%)\")\n",
    "    \n",
    "    # Visualize stop loss impact\n",
    "    if stop_loss_results:\n",
    "        plt.figure(figsize=(12, 8))\n",
    "        \n",
    "        # Plot for each strategy\n",
    "        for i, (hash_id, sl_df) in enumerate(stop_loss_results.items()):\n",
    "            plt.subplot(2, 1, 1)\n",
    "            plt.plot(sl_df['stop_loss_pct'], sl_df['total_return'] * 100, \n",
    "                    label=f'Strategy {i+1}', marker='o', markersize=4)\n",
    "        \n",
    "        plt.xlabel('Stop Loss (%)')\n",
    "        plt.ylabel('Total Return (%)')\n",
    "        plt.title('Stop Loss Impact on Total Returns')\n",
    "        plt.legend()\n",
    "        plt.grid(True, alpha=0.3)\n",
    "        \n",
    "        # Win rate impact\n",
    "        plt.subplot(2, 1, 2)\n",
    "        for i, (hash_id, sl_df) in enumerate(stop_loss_results.items()):\n",
    "            plt.plot(sl_df['stop_loss_pct'], sl_df['win_rate'] * 100, \n",
    "                    label=f'Strategy {i+1}', marker='o', markersize=4)\n",
    "        \n",
    "        plt.xlabel('Stop Loss (%)')\n",
    "        plt.ylabel('Win Rate (%)')\n",
    "        plt.title('Stop Loss Impact on Win Rate')\n",
    "        plt.legend()\n",
    "        plt.grid(True, alpha=0.3)\n",
    "        \n",
    "        plt.tight_layout()\n",
    "        plt.show()\n",
    "        \n",
    "        # Summary recommendations\n",
    "        print(\"\\n🎯 Stop Loss Recommendations:\")\n",
    "        print(\"Based on the analysis across top strategies:\")\n",
    "        print(\"• Conservative (minimize large losses): 0.25% stop loss\")\n",
    "        print(\"• Balanced (optimize return/risk): 0.50% stop loss\")\n",
    "        print(\"• Aggressive (maximize returns): 1.00% stop loss or no stop\")\n",
    "else:\n",
    "    print(\"\\n⚠️ Skipping stop loss analysis\")"
   ]
  },
  {
   "cell_type": "code",
   "execution_count": 14,
   "id": "f293245d",
   "metadata": {
    "execution": {
     "iopub.execute_input": "2025-06-25T20:50:14.455833Z",
     "iopub.status.busy": "2025-06-25T20:50:14.455721Z",
     "iopub.status.idle": "2025-06-25T20:50:17.643251Z",
     "shell.execute_reply": "2025-06-25T20:50:17.642966Z"
    },
    "papermill": {
     "duration": 3.19429,
     "end_time": "2025-06-25T20:50:17.643953",
     "exception": false,
     "start_time": "2025-06-25T20:50:14.449663",
     "status": "completed"
    },
    "tags": []
   },
   "outputs": [
    {
     "name": "stdout",
     "output_type": "stream",
     "text": [
      "\n",
      "⏰ Intraday Constraint Verification\n",
      "============================================================\n",
      "Market timezone: America/New_York\n"
     ]
    },
    {
     "name": "stdout",
     "output_type": "stream",
     "text": [
      "\n",
      "⚠️ Strategy 2 has constraint violations:\n",
      "   Overnight positions: 97 (8.2%)\n",
      "   After-hours entries: 16\n",
      "   After-hours exits: 21\n",
      "   Avg duration: 164.8 minutes\n",
      "   Max duration: 5465.0 minutes\n",
      "   Trades > 390 min: 97\n"
     ]
    },
    {
     "name": "stdout",
     "output_type": "stream",
     "text": [
      "\n",
      "⚠️ Strategy 3 has constraint violations:\n",
      "   Overnight positions: 99 (8.6%)\n",
      "   After-hours entries: 17\n",
      "   After-hours exits: 19\n",
      "   Avg duration: 168.2 minutes\n",
      "   Max duration: 5460.0 minutes\n",
      "   Trades > 390 min: 99\n"
     ]
    },
    {
     "name": "stdout",
     "output_type": "stream",
     "text": [
      "\n",
      "⚠️ Strategy 4 has constraint violations:\n",
      "   Overnight positions: 98 (8.1%)\n",
      "   After-hours entries: 15\n",
      "   After-hours exits: 19\n",
      "   Avg duration: 166.5 minutes\n",
      "   Max duration: 5470.0 minutes\n",
      "   Trades > 390 min: 98\n"
     ]
    },
    {
     "name": "stdout",
     "output_type": "stream",
     "text": [
      "\n",
      "⚠️ Strategy 5 has constraint violations:\n",
      "   Overnight positions: 103 (9.7%)\n",
      "   After-hours entries: 16\n",
      "   After-hours exits: 12\n",
      "   Avg duration: 192.0 minutes\n",
      "   Max duration: 5450.0 minutes\n",
      "   Trades > 390 min: 103\n"
     ]
    },
    {
     "name": "stdout",
     "output_type": "stream",
     "text": [
      "\n",
      "⚠️ Strategy 6 has constraint violations:\n",
      "   Overnight positions: 102 (9.0%)\n",
      "   After-hours entries: 15\n",
      "   After-hours exits: 14\n",
      "   Avg duration: 175.5 minutes\n",
      "   Max duration: 5460.0 minutes\n",
      "   Trades > 390 min: 102\n"
     ]
    },
    {
     "name": "stdout",
     "output_type": "stream",
     "text": [
      "\n",
      "⚠️ Strategy 7 has constraint violations:\n",
      "   Overnight positions: 103 (9.7%)\n",
      "   After-hours entries: 17\n",
      "   After-hours exits: 13\n",
      "   Avg duration: 190.6 minutes\n",
      "   Max duration: 5455.0 minutes\n",
      "   Trades > 390 min: 103\n"
     ]
    },
    {
     "name": "stdout",
     "output_type": "stream",
     "text": [
      "\n",
      "⚠️ Strategy 8 has constraint violations:\n",
      "   Overnight positions: 102 (9.5%)\n",
      "   After-hours entries: 16\n",
      "   After-hours exits: 14\n",
      "   Avg duration: 187.3 minutes\n",
      "   Max duration: 5455.0 minutes\n",
      "   Trades > 390 min: 102\n"
     ]
    },
    {
     "name": "stdout",
     "output_type": "stream",
     "text": [
      "\n",
      "⚠️ Strategy 9 has constraint violations:\n",
      "   Overnight positions: 100 (8.8%)\n",
      "   After-hours entries: 17\n",
      "   After-hours exits: 16\n",
      "   Avg duration: 171.6 minutes\n",
      "   Max duration: 5460.0 minutes\n",
      "   Trades > 390 min: 100\n"
     ]
    },
    {
     "name": "stdout",
     "output_type": "stream",
     "text": [
      "\n",
      "⚠️ Strategy 10 has constraint violations:\n",
      "   Overnight positions: 99 (8.7%)\n",
      "   After-hours entries: 18\n",
      "   After-hours exits: 19\n",
      "   Avg duration: 170.4 minutes\n",
      "   Max duration: 5460.0 minutes\n",
      "   Trades > 390 min: 99\n",
      "\n",
      "⚠️ Found 9 strategies with constraint violations\n",
      "\n",
      "Violation Summary:\n",
      "                  strategy  overnight  overnight_pct  after_hours_entries  after_hours_exits\n",
      "bollinger_bands - 982f1900         97       8.185654                   16                 21\n",
      "bollinger_bands - e220d2e7         99       8.556612                   17                 19\n",
      "bollinger_bands - b3883b4a         98       8.139535                   15                 19\n",
      "bollinger_bands - 62d9cb19        103       9.744560                   16                 12\n",
      "bollinger_bands - ed91ff08        102       9.026549                   15                 14\n",
      "bollinger_bands - fc33d532        103       9.680451                   17                 13\n",
      "bollinger_bands - 35ec37df        102       9.479554                   16                 14\n",
      "bollinger_bands - eda5c120        100       8.756567                   17                 16\n",
      "bollinger_bands - cf7e04d7         99       8.661417                   18                 19\n"
     ]
    }
   ],
   "source": [
    "# Intraday Constraint Verification\n",
    "if verify_intraday and len(performance_df) > 0 and len(top_overall) > 0:\n",
    "    print(\"\\n⏰ Intraday Constraint Verification\")\n",
    "    print(\"=\" * 60)\n",
    "    print(f\"Market timezone: {market_timezone}\")\n",
    "    \n",
    "    constraint_violations = []\n",
    "    \n",
    "    # Check top 10 strategies\n",
    "    for idx, (_, strategy) in enumerate(top_overall.head(10).iterrows()):\n",
    "        # Extract trades\n",
    "        trades = extract_trades(strategy['strategy_hash'], strategy['trace_path'], market_data, execution_cost_bps)\n",
    "        \n",
    "        if len(trades) > 0:\n",
    "            # Verify constraints\n",
    "            constraints = verify_intraday_constraint(trades, market_timezone)\n",
    "            \n",
    "            if constraints['overnight_positions'] > 0 or constraints['after_hours_entries'] > 0 or constraints['after_hours_exits'] > 0:\n",
    "                constraint_violations.append({\n",
    "                    'strategy': f\"{strategy['strategy_type']} - {strategy['strategy_hash'][:8]}\",\n",
    "                    'overnight': constraints['overnight_positions'],\n",
    "                    'overnight_pct': constraints['overnight_position_pct'],\n",
    "                    'after_hours_entries': constraints['after_hours_entries'],\n",
    "                    'after_hours_exits': constraints['after_hours_exits']\n",
    "                })\n",
    "                \n",
    "                print(f\"\\n⚠️ Strategy {idx+1} has constraint violations:\")\n",
    "                print(f\"   Overnight positions: {constraints['overnight_positions']} ({constraints['overnight_position_pct']:.1f}%)\")\n",
    "                print(f\"   After-hours entries: {constraints['after_hours_entries']}\")\n",
    "                print(f\"   After-hours exits: {constraints['after_hours_exits']}\")\n",
    "            else:\n",
    "                print(f\"\\n✅ Strategy {idx+1}: All trades respect intraday constraints\")\n",
    "            \n",
    "            # Show trade duration statistics\n",
    "            print(f\"   Avg duration: {constraints['avg_trade_duration_minutes']:.1f} minutes\")\n",
    "            print(f\"   Max duration: {constraints['max_trade_duration_minutes']:.1f} minutes\")\n",
    "            print(f\"   Trades > 390 min: {constraints['trades_over_390_minutes']}\")\n",
    "    \n",
    "    # Summary\n",
    "    if constraint_violations:\n",
    "        print(f\"\\n⚠️ Found {len(constraint_violations)} strategies with constraint violations\")\n",
    "        violations_df = pd.DataFrame(constraint_violations)\n",
    "        print(\"\\nViolation Summary:\")\n",
    "        print(violations_df.to_string(index=False))\n",
    "    else:\n",
    "        print(\"\\n✅ All top 10 strategies respect intraday constraints!\")\n",
    "    \n",
    "    # Visualize entry/exit times for a sample strategy\n",
    "    if len(top_overall) > 0:\n",
    "        sample_strategy = top_overall.iloc[0]\n",
    "        sample_trades = extract_trades(sample_strategy['strategy_hash'], sample_strategy['trace_path'], market_data, execution_cost_bps)\n",
    "        \n",
    "        if len(sample_trades) > 0:\n",
    "            sample_constraints = verify_intraday_constraint(sample_trades, market_timezone)\n",
    "            \n",
    "            if 'entries_by_hour' in sample_constraints and sample_constraints['entries_by_hour']:\n",
    "                plt.figure(figsize=(12, 5))\n",
    "                \n",
    "                # Entry times\n",
    "                plt.subplot(1, 2, 1)\n",
    "                hours = sorted(sample_constraints['entries_by_hour'].keys())\n",
    "                counts = [sample_constraints['entries_by_hour'][h] for h in hours]\n",
    "                plt.bar(hours, counts)\n",
    "                plt.axvline(9.5, color='red', linestyle='--', alpha=0.5, label='Market Open')\n",
    "                plt.axvline(16, color='red', linestyle='--', alpha=0.5, label='Market Close')\n",
    "                plt.xlabel('Hour of Day')\n",
    "                plt.ylabel('Number of Entries')\n",
    "                plt.title('Trade Entry Times (Top Strategy)')\n",
    "                plt.legend()\n",
    "                plt.grid(True, alpha=0.3)\n",
    "                \n",
    "                # Exit times\n",
    "                plt.subplot(1, 2, 2)\n",
    "                if 'exits_by_hour' in sample_constraints and sample_constraints['exits_by_hour']:\n",
    "                    hours = sorted(sample_constraints['exits_by_hour'].keys())\n",
    "                    counts = [sample_constraints['exits_by_hour'][h] for h in hours]\n",
    "                    plt.bar(hours, counts)\n",
    "                    plt.axvline(9.5, color='red', linestyle='--', alpha=0.5, label='Market Open')\n",
    "                    plt.axvline(16, color='red', linestyle='--', alpha=0.5, label='Market Close')\n",
    "                    plt.xlabel('Hour of Day')\n",
    "                    plt.ylabel('Number of Exits')\n",
    "                    plt.title('Trade Exit Times (Top Strategy)')\n",
    "                    plt.legend()\n",
    "                    plt.grid(True, alpha=0.3)\n",
    "                \n",
    "                plt.tight_layout()\n",
    "                plt.show()\n",
    "else:\n",
    "    print(\"\\n⚠️ Skipping intraday constraint verification\")"
   ]
  },
  {
   "cell_type": "code",
   "execution_count": 15,
   "id": "0f120dd5",
   "metadata": {
    "execution": {
     "iopub.execute_input": "2025-06-25T20:50:17.653986Z",
     "iopub.status.busy": "2025-06-25T20:50:17.653878Z",
     "iopub.status.idle": "2025-06-25T20:50:17.895906Z",
     "shell.execute_reply": "2025-06-25T20:50:17.895658Z"
    },
    "papermill": {
     "duration": 0.247663,
     "end_time": "2025-06-25T20:50:17.897016",
     "exception": false,
     "start_time": "2025-06-25T20:50:17.649353",
     "status": "completed"
    },
    "tags": []
   },
   "outputs": [
    {
     "name": "stdout",
     "output_type": "stream",
     "text": [
      "\n",
      "🔗 Calculating correlations among top strategies...\n",
      "Processing 10 strategies...\n",
      "  Loading signals: 0/10\n",
      "  Loading signals: 5/10\n",
      "✅ Loaded returns for 10 strategies\n",
      "Calculating correlation matrix...\n",
      "✅ Found 0 uncorrelated pairs (correlation < 0.7)\n"
     ]
    },
    {
     "data": {
      "image/png": "[encoded data removed]",
      "text/plain": [
       "<Figure size 1000x800 with 2 Axes>"
      ]
     },
     "metadata": {},
     "output_type": "display_data"
    },
    {
     "name": "stdout",
     "output_type": "stream",
     "text": [
      "\n",
      "Correlation Statistics:\n",
      "  Mean correlation: nan\n",
      "  Median correlation: nan\n",
      "  Min correlation: nan\n",
      "  Max correlation: nan\n"
     ]
    }
   ],
   "source": [
    "# Optimized correlation calculation with progress tracking\n",
    "if len(performance_df) > 0 and len(top_overall) > 1:\n",
    "    print(\"\\n🔗 Calculating correlations among top strategies...\")\n",
    "    print(f\"Processing {len(top_overall)} strategies...\")\n",
    "    \n",
    "    # First, load all returns data in one pass\n",
    "    returns_dict = {}\n",
    "    \n",
    "    for idx, (_, row) in enumerate(top_overall.iterrows()):\n",
    "        if idx % 5 == 0:\n",
    "            print(f\"  Loading signals: {idx}/{len(top_overall)}\")\n",
    "            \n",
    "        try:\n",
    "            signals_path = run_dir / row['trace_path']\n",
    "            \n",
    "            # Load signals\n",
    "            signals = pd.read_parquet(signals_path)\n",
    "            signals['ts'] = pd.to_datetime(signals['ts'])\n",
    "            \n",
    "            # Merge with market data (already in memory)\n",
    "            df = market_data.merge(\n",
    "                signals[['ts', 'val']], \n",
    "                left_on='timestamp', \n",
    "                right_on='ts', \n",
    "                how='left'\n",
    "            )\n",
    "            df['signal'] = df['val'].ffill().fillna(0)\n",
    "            \n",
    "            # Calculate strategy returns only once\n",
    "            df['returns'] = df['close'].pct_change()\n",
    "            df['strategy_returns'] = df['returns'] * df['signal'].shift(1)\n",
    "            \n",
    "            returns_dict[row['strategy_hash']] = df['strategy_returns'].values\n",
    "        except Exception as e:\n",
    "            print(f\"  Warning: Could not load {row['strategy_hash'][:8]}: {e}\")\n",
    "    \n",
    "    print(f\"✅ Loaded returns for {len(returns_dict)} strategies\")\n",
    "    \n",
    "    if len(returns_dict) >= 2:\n",
    "        # Convert to DataFrame for correlation calculation\n",
    "        returns_df = pd.DataFrame(returns_dict)\n",
    "        \n",
    "        # Calculate correlation matrix (this is fast once data is loaded)\n",
    "        print(\"Calculating correlation matrix...\")\n",
    "        corr_matrix = returns_df.corr()\n",
    "        \n",
    "        # Find uncorrelated pairs\n",
    "        uncorrelated_pairs = []\n",
    "        n = len(corr_matrix)\n",
    "        total_pairs = n * (n - 1) // 2\n",
    "        \n",
    "        pair_count = 0\n",
    "        for i in range(n):\n",
    "            for j in range(i+1, n):\n",
    "                pair_count += 1\n",
    "                    \n",
    "                corr_val = corr_matrix.iloc[i, j]\n",
    "                if abs(corr_val) < correlation_threshold:\n",
    "                    uncorrelated_pairs.append({\n",
    "                        'strategy1': corr_matrix.index[i],\n",
    "                        'strategy2': corr_matrix.columns[j],\n",
    "                        'correlation': corr_val\n",
    "                    })\n",
    "        \n",
    "        print(f\"✅ Found {len(uncorrelated_pairs)} uncorrelated pairs (correlation < {correlation_threshold})\")\n",
    "        \n",
    "        # Visualize correlation matrix\n",
    "        if len(corr_matrix) <= 20:\n",
    "            plt.figure(figsize=(10, 8))\n",
    "            # Only show annotations if matrix is small enough\n",
    "            show_annot = len(corr_matrix) <= 10\n",
    "            sns.heatmap(corr_matrix, cmap='coolwarm', center=0, vmin=-1, vmax=1, \n",
    "                       xticklabels=[h[:8] for h in corr_matrix.columns],\n",
    "                       yticklabels=[h[:8] for h in corr_matrix.index],\n",
    "                       annot=show_annot, fmt='.2f' if show_annot else None)\n",
    "            plt.title('Strategy Correlation Matrix')\n",
    "            plt.tight_layout()\n",
    "            plt.show()\n",
    "            \n",
    "            # Show correlation statistics\n",
    "            corr_values = corr_matrix.values[np.triu_indices_from(corr_matrix.values, k=1)]\n",
    "            print(f\"\\nCorrelation Statistics:\")\n",
    "            print(f\"  Mean correlation: {np.mean(corr_values):.3f}\")\n",
    "            print(f\"  Median correlation: {np.median(corr_values):.3f}\")\n",
    "            print(f\"  Min correlation: {np.min(corr_values):.3f}\")\n",
    "            print(f\"  Max correlation: {np.max(corr_values):.3f}\")\n",
    "        else:\n",
    "            print(f\"Skipping heatmap visualization (too many strategies: {len(corr_matrix)})\")\n",
    "    else:\n",
    "        print(\"❌ Not enough strategies loaded for correlation analysis\")"
   ]
  },
  {
   "cell_type": "markdown",
   "id": "1000a26f",
   "metadata": {
    "papermill": {
     "duration": 0.004429,
     "end_time": "2025-06-25T20:50:17.906156",
     "exception": false,
     "start_time": "2025-06-25T20:50:17.901727",
     "status": "completed"
    },
    "tags": []
   },
   "source": [
    "## Ensemble Recommendations"
   ]
  },
  {
   "cell_type": "code",
   "execution_count": 16,
   "id": "07d5d9c0",
   "metadata": {
    "execution": {
     "iopub.execute_input": "2025-06-25T20:50:17.915254Z",
     "iopub.status.busy": "2025-06-25T20:50:17.915145Z",
     "iopub.status.idle": "2025-06-25T20:50:17.919406Z",
     "shell.execute_reply": "2025-06-25T20:50:17.919205Z"
    },
    "papermill": {
     "duration": 0.009573,
     "end_time": "2025-06-25T20:50:17.920031",
     "exception": false,
     "start_time": "2025-06-25T20:50:17.910458",
     "status": "completed"
    },
    "tags": []
   },
   "outputs": [
    {
     "name": "stdout",
     "output_type": "stream",
     "text": [
      "\n",
      "🎯 Recommended Ensemble (2 strategies):\n",
      "================================================================================\n",
      "\n",
      "5. bollinger_bands - 79624e63\n",
      "   Sharpe: 0.00 | Return: 0.0%\n",
      "\n",
      "156. bollinger_bands - 982f1900\n",
      "   Sharpe: -1.56 | Return: -18.5%\n",
      "\n",
      "Ensemble Statistics:\n",
      "  Average Sharpe: -0.78\n",
      "  Average Return: -9.2%\n",
      "  Strategy Types: bollinger_bands\n"
     ]
    }
   ],
   "source": [
    "# Build optimal ensemble\n",
    "if len(performance_df) > 0 and 'corr_matrix' in locals() and not corr_matrix.empty:\n",
    "    # Start with best strategy\n",
    "    ensemble = [top_overall.iloc[0]['strategy_hash']]\n",
    "    ensemble_data = [top_overall.iloc[0]]\n",
    "    \n",
    "    # Add uncorrelated strategies\n",
    "    for idx, candidate in top_overall.iloc[1:].iterrows():\n",
    "        if len(ensemble) >= ensemble_size:\n",
    "            break\n",
    "            \n",
    "        # Check correlation with existing ensemble members\n",
    "        candidate_hash = candidate['strategy_hash']\n",
    "        if candidate_hash in corr_matrix.columns:\n",
    "            max_corr = 0\n",
    "            for existing in ensemble:\n",
    "                if existing in corr_matrix.index:\n",
    "                    corr = abs(corr_matrix.loc[existing, candidate_hash])\n",
    "                    max_corr = max(max_corr, corr)\n",
    "            \n",
    "            if max_corr < correlation_threshold:\n",
    "                ensemble.append(candidate_hash)\n",
    "                ensemble_data.append(candidate)\n",
    "    \n",
    "    print(f\"\\n🎯 Recommended Ensemble ({len(ensemble)} strategies):\")\n",
    "    print(\"=\" * 80)\n",
    "    \n",
    "    ensemble_df = pd.DataFrame(ensemble_data)\n",
    "    for idx, row in ensemble_df.iterrows():\n",
    "        print(f\"\\n{idx+1}. {row['strategy_type']} - {row['strategy_hash'][:8]}\")\n",
    "        print(f\"   Sharpe: {row['sharpe_ratio']:.2f} | Return: {row['total_return']:.1%}\")\n",
    "    \n",
    "    # Calculate ensemble metrics\n",
    "    print(f\"\\nEnsemble Statistics:\")\n",
    "    print(f\"  Average Sharpe: {ensemble_df['sharpe_ratio'].mean():.2f}\")\n",
    "    print(f\"  Average Return: {ensemble_df['total_return'].mean():.1%}\")\n",
    "    print(f\"  Strategy Types: {', '.join(ensemble_df['strategy_type'].unique())}\")"
   ]
  },
  {
   "cell_type": "markdown",
   "id": "bb75c44e",
   "metadata": {
    "tags": [
     "papermill-error-cell-tag"
    ]
   },
   "source": [
    "<span id=\"papermill-error-cell\" style=\"color:red; font-family:Helvetica Neue, Helvetica, Arial, sans-serif; font-size:2em;\">Execution using papermill encountered an exception here and stopped:</span>"
   ]
  },
  {
   "cell_type": "code",
   "execution_count": 17,
   "id": "818caec0",
   "metadata": {
    "execution": {
     "iopub.execute_input": "2025-06-25T20:50:17.929339Z",
     "iopub.status.busy": "2025-06-25T20:50:17.929223Z",
     "iopub.status.idle": "2025-06-25T20:50:18.105158Z",
     "shell.execute_reply": "2025-06-25T20:50:18.104692Z"
    },
    "papermill": {
     "duration": 0.181291,
     "end_time": "2025-06-25T20:50:18.105828",
     "exception": true,
     "start_time": "2025-06-25T20:50:17.924537",
     "status": "failed"
    },
    "tags": []
   },
   "outputs": [
    {
     "ename": "TypeError",
     "evalue": "Object of type int64 is not JSON serializable",
     "output_type": "error",
     "traceback": [
      "\u001b[31m---------------------------------------------------------------------------\u001b[39m",
      "\u001b[31mTypeError\u001b[39m                                 Traceback (most recent call last)",
      "\u001b[36mCell\u001b[39m\u001b[36m \u001b[39m\u001b[32mIn[17]\u001b[39m\u001b[32m, line 77\u001b[39m\n\u001b[32m     75\u001b[39m \u001b[38;5;66;03m# Save files\u001b[39;00m\n\u001b[32m     76\u001b[39m \u001b[38;5;28;01mwith\u001b[39;00m \u001b[38;5;28mopen\u001b[39m(run_dir / \u001b[33m'\u001b[39m\u001b[33mrecommendations.json\u001b[39m\u001b[33m'\u001b[39m, \u001b[33m'\u001b[39m\u001b[33mw\u001b[39m\u001b[33m'\u001b[39m) \u001b[38;5;28;01mas\u001b[39;00m f:\n\u001b[32m---> \u001b[39m\u001b[32m77\u001b[39m     \u001b[43mjson\u001b[49m\u001b[43m.\u001b[49m\u001b[43mdump\u001b[49m\u001b[43m(\u001b[49m\u001b[43mrecommendations\u001b[49m\u001b[43m,\u001b[49m\u001b[43m \u001b[49m\u001b[43mf\u001b[49m\u001b[43m,\u001b[49m\u001b[43m \u001b[49m\u001b[43mindent\u001b[49m\u001b[43m=\u001b[49m\u001b[32;43m2\u001b[39;49m\u001b[43m)\u001b[49m\n\u001b[32m     79\u001b[39m performance_df.to_csv(run_dir / \u001b[33m'\u001b[39m\u001b[33mperformance_analysis.csv\u001b[39m\u001b[33m'\u001b[39m, index=\u001b[38;5;28;01mFalse\u001b[39;00m)\n\u001b[32m     81\u001b[39m \u001b[38;5;66;03m# Also save enhanced metrics\u001b[39;00m\n",
      "\u001b[36mFile \u001b[39m\u001b[32m/opt/homebrew/Cellar/python@3.13/3.13.5/Frameworks/Python.framework/Versions/3.13/lib/python3.13/json/__init__.py:179\u001b[39m, in \u001b[36mdump\u001b[39m\u001b[34m(obj, fp, skipkeys, ensure_ascii, check_circular, allow_nan, cls, indent, separators, default, sort_keys, **kw)\u001b[39m\n\u001b[32m    173\u001b[39m     iterable = \u001b[38;5;28mcls\u001b[39m(skipkeys=skipkeys, ensure_ascii=ensure_ascii,\n\u001b[32m    174\u001b[39m         check_circular=check_circular, allow_nan=allow_nan, indent=indent,\n\u001b[32m    175\u001b[39m         separators=separators,\n\u001b[32m    176\u001b[39m         default=default, sort_keys=sort_keys, **kw).iterencode(obj)\n\u001b[32m    177\u001b[39m \u001b[38;5;66;03m# could accelerate with writelines in some versions of Python, at\u001b[39;00m\n\u001b[32m    178\u001b[39m \u001b[38;5;66;03m# a debuggability cost\u001b[39;00m\n\u001b[32m--> \u001b[39m\u001b[32m179\u001b[39m \u001b[43m\u001b[49m\u001b[38;5;28;43;01mfor\u001b[39;49;00m\u001b[43m \u001b[49m\u001b[43mchunk\u001b[49m\u001b[43m \u001b[49m\u001b[38;5;129;43;01min\u001b[39;49;00m\u001b[43m \u001b[49m\u001b[43miterable\u001b[49m\u001b[43m:\u001b[49m\n\u001b[32m    180\u001b[39m \u001b[43m    \u001b[49m\u001b[43mfp\u001b[49m\u001b[43m.\u001b[49m\u001b[43mwrite\u001b[49m\u001b[43m(\u001b[49m\u001b[43mchunk\u001b[49m\u001b[43m)\u001b[49m\n",
      "\u001b[36mFile \u001b[39m\u001b[32m/opt/homebrew/Cellar/python@3.13/3.13.5/Frameworks/Python.framework/Versions/3.13/lib/python3.13/json/encoder.py:433\u001b[39m, in \u001b[36m_make_iterencode.<locals>._iterencode\u001b[39m\u001b[34m(o, _current_indent_level)\u001b[39m\n\u001b[32m    431\u001b[39m     \u001b[38;5;28;01myield from\u001b[39;00m _iterencode_list(o, _current_indent_level)\n\u001b[32m    432\u001b[39m \u001b[38;5;28;01melif\u001b[39;00m \u001b[38;5;28misinstance\u001b[39m(o, \u001b[38;5;28mdict\u001b[39m):\n\u001b[32m--> \u001b[39m\u001b[32m433\u001b[39m     \u001b[38;5;28;01myield from\u001b[39;00m _iterencode_dict(o, _current_indent_level)\n\u001b[32m    434\u001b[39m \u001b[38;5;28;01melse\u001b[39;00m:\n\u001b[32m    435\u001b[39m     \u001b[38;5;28;01mif\u001b[39;00m markers \u001b[38;5;129;01mis\u001b[39;00m \u001b[38;5;129;01mnot\u001b[39;00m \u001b[38;5;28;01mNone\u001b[39;00m:\n",
      "\u001b[36mFile \u001b[39m\u001b[32m/opt/homebrew/Cellar/python@3.13/3.13.5/Frameworks/Python.framework/Versions/3.13/lib/python3.13/json/encoder.py:407\u001b[39m, in \u001b[36m_make_iterencode.<locals>._iterencode_dict\u001b[39m\u001b[34m(dct, _current_indent_level)\u001b[39m\n\u001b[32m    405\u001b[39m         \u001b[38;5;28;01melse\u001b[39;00m:\n\u001b[32m    406\u001b[39m             chunks = _iterencode(value, _current_indent_level)\n\u001b[32m--> \u001b[39m\u001b[32m407\u001b[39m         \u001b[38;5;28;01myield from\u001b[39;00m chunks\n\u001b[32m    408\u001b[39m \u001b[38;5;28;01mif\u001b[39;00m \u001b[38;5;129;01mnot\u001b[39;00m first \u001b[38;5;129;01mand\u001b[39;00m newline_indent \u001b[38;5;129;01mis\u001b[39;00m \u001b[38;5;129;01mnot\u001b[39;00m \u001b[38;5;28;01mNone\u001b[39;00m:\n\u001b[32m    409\u001b[39m     _current_indent_level -= \u001b[32m1\u001b[39m\n",
      "\u001b[36mFile \u001b[39m\u001b[32m/opt/homebrew/Cellar/python@3.13/3.13.5/Frameworks/Python.framework/Versions/3.13/lib/python3.13/json/encoder.py:407\u001b[39m, in \u001b[36m_make_iterencode.<locals>._iterencode_dict\u001b[39m\u001b[34m(dct, _current_indent_level)\u001b[39m\n\u001b[32m    405\u001b[39m         \u001b[38;5;28;01melse\u001b[39;00m:\n\u001b[32m    406\u001b[39m             chunks = _iterencode(value, _current_indent_level)\n\u001b[32m--> \u001b[39m\u001b[32m407\u001b[39m         \u001b[38;5;28;01myield from\u001b[39;00m chunks\n\u001b[32m    408\u001b[39m \u001b[38;5;28;01mif\u001b[39;00m \u001b[38;5;129;01mnot\u001b[39;00m first \u001b[38;5;129;01mand\u001b[39;00m newline_indent \u001b[38;5;129;01mis\u001b[39;00m \u001b[38;5;129;01mnot\u001b[39;00m \u001b[38;5;28;01mNone\u001b[39;00m:\n\u001b[32m    409\u001b[39m     _current_indent_level -= \u001b[32m1\u001b[39m\n",
      "\u001b[36mFile \u001b[39m\u001b[32m/opt/homebrew/Cellar/python@3.13/3.13.5/Frameworks/Python.framework/Versions/3.13/lib/python3.13/json/encoder.py:407\u001b[39m, in \u001b[36m_make_iterencode.<locals>._iterencode_dict\u001b[39m\u001b[34m(dct, _current_indent_level)\u001b[39m\n\u001b[32m    405\u001b[39m         \u001b[38;5;28;01melse\u001b[39;00m:\n\u001b[32m    406\u001b[39m             chunks = _iterencode(value, _current_indent_level)\n\u001b[32m--> \u001b[39m\u001b[32m407\u001b[39m         \u001b[38;5;28;01myield from\u001b[39;00m chunks\n\u001b[32m    408\u001b[39m \u001b[38;5;28;01mif\u001b[39;00m \u001b[38;5;129;01mnot\u001b[39;00m first \u001b[38;5;129;01mand\u001b[39;00m newline_indent \u001b[38;5;129;01mis\u001b[39;00m \u001b[38;5;129;01mnot\u001b[39;00m \u001b[38;5;28;01mNone\u001b[39;00m:\n\u001b[32m    409\u001b[39m     _current_indent_level -= \u001b[32m1\u001b[39m\n",
      "\u001b[36mFile \u001b[39m\u001b[32m/opt/homebrew/Cellar/python@3.13/3.13.5/Frameworks/Python.framework/Versions/3.13/lib/python3.13/json/encoder.py:440\u001b[39m, in \u001b[36m_make_iterencode.<locals>._iterencode\u001b[39m\u001b[34m(o, _current_indent_level)\u001b[39m\n\u001b[32m    438\u001b[39m         \u001b[38;5;28;01mraise\u001b[39;00m \u001b[38;5;167;01mValueError\u001b[39;00m(\u001b[33m\"\u001b[39m\u001b[33mCircular reference detected\u001b[39m\u001b[33m\"\u001b[39m)\n\u001b[32m    439\u001b[39m     markers[markerid] = o\n\u001b[32m--> \u001b[39m\u001b[32m440\u001b[39m o = \u001b[43m_default\u001b[49m\u001b[43m(\u001b[49m\u001b[43mo\u001b[49m\u001b[43m)\u001b[49m\n\u001b[32m    441\u001b[39m \u001b[38;5;28;01myield from\u001b[39;00m _iterencode(o, _current_indent_level)\n\u001b[32m    442\u001b[39m \u001b[38;5;28;01mif\u001b[39;00m markers \u001b[38;5;129;01mis\u001b[39;00m \u001b[38;5;129;01mnot\u001b[39;00m \u001b[38;5;28;01mNone\u001b[39;00m:\n",
      "\u001b[36mFile \u001b[39m\u001b[32m/opt/homebrew/Cellar/python@3.13/3.13.5/Frameworks/Python.framework/Versions/3.13/lib/python3.13/json/encoder.py:180\u001b[39m, in \u001b[36mJSONEncoder.default\u001b[39m\u001b[34m(self, o)\u001b[39m\n\u001b[32m    161\u001b[39m \u001b[38;5;28;01mdef\u001b[39;00m\u001b[38;5;250m \u001b[39m\u001b[34mdefault\u001b[39m(\u001b[38;5;28mself\u001b[39m, o):\n\u001b[32m    162\u001b[39m \u001b[38;5;250m    \u001b[39m\u001b[33;03m\"\"\"Implement this method in a subclass such that it returns\u001b[39;00m\n\u001b[32m    163\u001b[39m \u001b[33;03m    a serializable object for ``o``, or calls the base implementation\u001b[39;00m\n\u001b[32m    164\u001b[39m \u001b[33;03m    (to raise a ``TypeError``).\u001b[39;00m\n\u001b[32m   (...)\u001b[39m\u001b[32m    178\u001b[39m \n\u001b[32m    179\u001b[39m \u001b[33;03m    \"\"\"\u001b[39;00m\n\u001b[32m--> \u001b[39m\u001b[32m180\u001b[39m     \u001b[38;5;28;01mraise\u001b[39;00m \u001b[38;5;167;01mTypeError\u001b[39;00m(\u001b[33mf\u001b[39m\u001b[33m'\u001b[39m\u001b[33mObject of type \u001b[39m\u001b[38;5;132;01m{\u001b[39;00mo.\u001b[34m__class__\u001b[39m.\u001b[34m__name__\u001b[39m\u001b[38;5;132;01m}\u001b[39;00m\u001b[33m \u001b[39m\u001b[33m'\u001b[39m\n\u001b[32m    181\u001b[39m                     \u001b[33mf\u001b[39m\u001b[33m'\u001b[39m\u001b[33mis not JSON serializable\u001b[39m\u001b[33m'\u001b[39m)\n",
      "\u001b[31mTypeError\u001b[39m: Object of type int64 is not JSON serializable"
     ]
    }
   ],
   "source": [
    "# Export recommendations with enhanced metrics\n",
    "if len(performance_df) > 0:\n",
    "    recommendations = {\n",
    "        'run_info': {\n",
    "            'run_id': run_dir.name,\n",
    "            'config_name': config_name,\n",
    "            'generated_at': datetime.now().isoformat(),\n",
    "            'total_strategies': len(strategy_index) if strategy_index is not None else 0,\n",
    "            'strategies_analyzed': len(performance_df),\n",
    "            'execution_cost_bps': execution_cost_bps\n",
    "        },\n",
    "        'best_individual': {},\n",
    "        'best_by_type': {},\n",
    "        'ensemble': [],\n",
    "        'stop_loss_recommendations': {\n",
    "            'conservative': 0.25,\n",
    "            'balanced': 0.50,\n",
    "            'aggressive': 1.00\n",
    "        }\n",
    "    }\n",
    "    \n",
    "    # Best overall\n",
    "    if len(top_overall) > 0:\n",
    "        best = top_overall.iloc[0]\n",
    "        recommendations['best_individual'] = {\n",
    "            'strategy_hash': best['strategy_hash'],\n",
    "            'strategy_type': best['strategy_type'],\n",
    "            'sharpe_ratio': float(best['sharpe_ratio']),\n",
    "            'total_return': float(best['total_return']),\n",
    "            'max_drawdown': float(best['max_drawdown']),\n",
    "            'win_rate': float(best.get('win_rate', 0)),\n",
    "            'avg_return_per_trade': float(best.get('avg_return_per_trade', 0)),\n",
    "            'num_trades': int(best.get('num_trades', 0)),\n",
    "            'total_execution_cost': float(best.get('total_execution_cost', 0)),\n",
    "            'parameters': {col.replace('param_', ''): best[col] \n",
    "                          for col in best.index if (col.startswith('param_') or col in ['period', 'std_dev', 'fast_period', 'slow_period', 'multiplier']) \n",
    "                          and pd.notna(best[col])}\n",
    "        }\n",
    "    \n",
    "    # Best by type\n",
    "    for stype in performance_df['strategy_type'].unique():\n",
    "        type_best = performance_df[performance_df['strategy_type'] == stype].nlargest(1, 'sharpe_ratio')\n",
    "        if len(type_best) > 0:\n",
    "            row = type_best.iloc[0]\n",
    "            recommendations['best_by_type'][stype] = {\n",
    "                'strategy_hash': row['strategy_hash'],\n",
    "                'sharpe_ratio': float(row['sharpe_ratio']),\n",
    "                'total_return': float(row['total_return']),\n",
    "                'win_rate': float(row.get('win_rate', 0)),\n",
    "                'avg_return_per_trade': float(row.get('avg_return_per_trade', 0))\n",
    "            }\n",
    "    \n",
    "    # Ensemble\n",
    "    if 'ensemble_df' in locals():\n",
    "        for idx, row in ensemble_df.iterrows():\n",
    "            recommendations['ensemble'].append({\n",
    "                'strategy_hash': row['strategy_hash'],\n",
    "                'strategy_type': row['strategy_type'],\n",
    "                'sharpe_ratio': float(row['sharpe_ratio']),\n",
    "                'win_rate': float(row.get('win_rate', 0)),\n",
    "                'weight': 1.0 / len(ensemble_df)  # Equal weight for now\n",
    "            })\n",
    "    \n",
    "    # Add stop loss analysis results if available\n",
    "    if 'stop_loss_results' in locals() and stop_loss_results:\n",
    "        recommendations['stop_loss_analysis'] = {}\n",
    "        for hash_id, sl_df in list(stop_loss_results.items())[:3]:  # Top 3 strategies\n",
    "            optimal_idx = sl_df['total_return'].idxmax()\n",
    "            recommendations['stop_loss_analysis'][hash_id[:8]] = {\n",
    "                'optimal_stop_loss_pct': float(sl_df.loc[optimal_idx, 'stop_loss_pct']),\n",
    "                'optimal_total_return': float(sl_df.loc[optimal_idx, 'total_return']),\n",
    "                'improvement_pct': float((sl_df.loc[optimal_idx, 'total_return'] - sl_df.loc[0, 'total_return']) * 100)\n",
    "            }\n",
    "    \n",
    "    # Save files\n",
    "    with open(run_dir / 'recommendations.json', 'w') as f:\n",
    "        json.dump(recommendations, f, indent=2)\n",
    "    \n",
    "    performance_df.to_csv(run_dir / 'performance_analysis.csv', index=False)\n",
    "    \n",
    "    # Also save enhanced metrics\n",
    "    enhanced_metrics_df = performance_df[['strategy_hash', 'strategy_type', 'sharpe_ratio', 'total_return', \n",
    "                                         'win_rate', 'avg_return_per_trade', 'num_trades', 'total_execution_cost']].copy()\n",
    "    enhanced_metrics_df.to_csv(run_dir / 'enhanced_metrics.csv', index=False)\n",
    "    \n",
    "    print(\"\\n✅ Results exported:\")\n",
    "    print(f\"  - recommendations.json (with enhanced metrics)\")\n",
    "    print(f\"  - performance_analysis.csv\")\n",
    "    print(f\"  - enhanced_metrics.csv\")\n",
    "else:\n",
    "    print(\"⚠️ No results to export\")"
   ]
  },
  {
   "cell_type": "markdown",
   "id": "c4a006d4",
   "metadata": {
    "papermill": {
     "duration": null,
     "end_time": null,
     "exception": null,
     "start_time": null,
     "status": "pending"
    },
    "tags": []
   },
   "source": [
    "## Summary\n",
    "\n",
    "Analysis complete! Key files generated:\n",
    "- `recommendations.json` - Best strategies and ensemble recommendations\n",
    "- `performance_analysis.csv` - Full performance data for all strategies\n",
    "\n",
    "Next steps:\n",
    "1. Use the recommended ensemble for live trading\n",
    "2. Deep dive into specific strategy types if needed\n",
    "3. Run regime-specific analysis to understand performance drivers"
   ]
  }
 ],
 "metadata": {
  "kernelspec": {
   "display_name": "Python 3",
   "language": "python",
   "name": "python3"
  },
  "language_info": {
   "codemirror_mode": {
    "name": "ipython",
    "version": 3
   },
   "file_extension": ".py",
   "mimetype": "text/x-python",
   "name": "python",
   "nbconvert_exporter": "python",
   "pygments_lexer": "ipython3",
   "version": "3.13.5"
  },
  "papermill": {
   "default_parameters": {},
   "duration": 11.705149,
   "end_time": "2025-06-25T20:50:18.327075",
   "environment_variables": {},
   "exception": true,
   "input_path": "/Users/daws/ADMF-PC/src/analytics/templates/universal_analysis.ipynb",
   "output_path": "/Users/daws/ADMF-PC/config/bollinger/results/20250625_134802/analysis_20250625_135006.ipynb",
   "parameters": {
    "calculate_all_performance": true,
    "config_name": "bollinger",
    "correlation_threshold": 0.7,
    "ensemble_size": 5,
    "min_strategies_to_analyze": 20,
    "performance_limit": 100,
    "run_dir": "/Users/daws/ADMF-PC/config/bollinger/results/20250625_134802",
    "sharpe_threshold": 1.0,
    "symbols": [
     "SPY_5m"
    ],
    "timeframe": "5m",
    "top_n_strategies": 10
   },
   "start_time": "2025-06-25T20:50:06.621926",
   "version": "2.6.0"
  }
 },
 "nbformat": 4,
 "nbformat_minor": 5
}