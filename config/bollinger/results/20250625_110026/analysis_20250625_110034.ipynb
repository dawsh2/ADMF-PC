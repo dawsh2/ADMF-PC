{
 "cells": [
  {
   "cell_type": "markdown",
   "id": "d3e00634",
   "metadata": {
    "papermill": {
     "duration": 0.008822,
     "end_time": "2025-06-25T18:00:35.306204",
     "exception": false,
     "start_time": "2025-06-25T18:00:35.297382",
     "status": "completed"
    },
    "tags": []
   },
   "source": [
    "# Universal Strategy Analysis\n",
    "\n",
    "This notebook provides comprehensive analysis across all strategies tested in a parameter sweep.\n",
    "\n",
    "**Key Features:**\n",
    "- Cross-strategy performance comparison\n",
    "- Parameter sensitivity analysis\n",
    "- Correlation analysis for ensemble building\n",
    "- Regime-specific performance breakdown\n",
    "- Automatic identification of optimal strategies and ensembles"
   ]
  },
  {
   "cell_type": "code",
   "execution_count": 1,
   "id": "155e1c84",
   "metadata": {
    "papermill": {
     "duration": 0.010284,
     "end_time": "2025-06-25T18:00:35.322840",
     "exception": false,
     "start_time": "2025-06-25T18:00:35.312556",
     "status": "completed"
    },
    "tags": [
     "parameters"
    ]
   },
   "outputs": [],
   "source": [
    "# Parameters will be injected here by papermill\n",
    "# This cell is tagged with 'parameters' for papermill to recognize it\n",
    "run_dir = \".\"\n",
    "config_name = \"config\"\n",
    "symbols = [\"SPY\"]\n",
    "timeframe = \"5m\"\n",
    "min_strategies_to_analyze = 20\n",
    "sharpe_threshold = 1.0\n",
    "correlation_threshold = 0.7\n",
    "top_n_strategies = 10\n",
    "ensemble_size = 5\n",
    "calculate_all_performance = True  # Set to False to limit analysis for large sweeps\n",
    "performance_limit = 100  # If calculate_all_performance is False, limit to this many"
   ]
  },
  {
   "cell_type": "code",
   "execution_count": 2,
   "id": "b9601280",
   "metadata": {
    "papermill": {
     "duration": 0.006623,
     "end_time": "2025-06-25T18:00:35.332613",
     "exception": false,
     "start_time": "2025-06-25T18:00:35.325990",
     "status": "completed"
    },
    "tags": [
     "injected-parameters"
    ]
   },
   "outputs": [],
   "source": [
    "# Parameters\n",
    "run_dir = \"/Users/daws/ADMF-PC/config/bollinger/results/20250625_110026\"\n",
    "config_name = \"bollinger\"\n",
    "symbols = [\"SPY_5m\"]\n",
    "timeframe = \"5m\"\n",
    "min_strategies_to_analyze = 20\n",
    "sharpe_threshold = 1.0\n",
    "correlation_threshold = 0.7\n",
    "top_n_strategies = 10\n",
    "ensemble_size = 5\n",
    "calculate_all_performance = True\n",
    "performance_limit = 100\n"
   ]
  },
  {
   "cell_type": "markdown",
   "id": "4646ebfb",
   "metadata": {
    "papermill": {
     "duration": 0.002342,
     "end_time": "2025-06-25T18:00:35.337503",
     "exception": false,
     "start_time": "2025-06-25T18:00:35.335161",
     "status": "completed"
    },
    "tags": []
   },
   "source": [
    "## Setup"
   ]
  },
  {
   "cell_type": "code",
   "execution_count": 3,
   "id": "9883974d",
   "metadata": {
    "papermill": {
     "duration": 0.543692,
     "end_time": "2025-06-25T18:00:35.883717",
     "exception": false,
     "start_time": "2025-06-25T18:00:35.340025",
     "status": "completed"
    },
    "tags": []
   },
   "outputs": [
    {
     "name": "stdout",
     "output_type": "stream",
     "text": [
      "Analyzing run: 20250625_110026\n",
      "Full path: /Users/daws/ADMF-PC/config/bollinger/results/20250625_110026\n",
      "Config: bollinger\n",
      "Symbol(s): ['SPY_5m']\n",
      "Timeframe: 5m\n"
     ]
    }
   ],
   "source": [
    "# Imports\n",
    "import pandas as pd\n",
    "import numpy as np\n",
    "import matplotlib.pyplot as plt\n",
    "import seaborn as sns\n",
    "from pathlib import Path\n",
    "import duckdb\n",
    "import json\n",
    "from datetime import datetime\n",
    "import warnings\n",
    "warnings.filterwarnings('ignore')\n",
    "\n",
    "# Configure plotting\n",
    "plt.style.use('seaborn-v0_8-darkgrid')\n",
    "plt.rcParams['figure.figsize'] = (12, 6)\n",
    "plt.rcParams['font.size'] = 10\n",
    "\n",
    "# Initialize DuckDB\n",
    "con = duckdb.connect()\n",
    "\n",
    "# Convert run_dir to Path and resolve to absolute path\n",
    "run_dir = Path(run_dir).resolve()\n",
    "print(f\"Analyzing run: {run_dir.name}\")\n",
    "print(f\"Full path: {run_dir}\")\n",
    "print(f\"Config: {config_name}\")\n",
    "print(f\"Symbol(s): {symbols}\")\n",
    "print(f\"Timeframe: {timeframe}\")"
   ]
  },
  {
   "cell_type": "code",
   "execution_count": 4,
   "id": "f073758f",
   "metadata": {
    "papermill": {
     "duration": 0.006619,
     "end_time": "2025-06-25T18:00:35.892071",
     "exception": false,
     "start_time": "2025-06-25T18:00:35.885452",
     "status": "completed"
    },
    "tags": []
   },
   "outputs": [
    {
     "name": "stdout",
     "output_type": "stream",
     "text": [
      "✅ Found project root: /Users/daws/ADMF-PC\n",
      "✅ Analysis snippets available at: /Users/daws/ADMF-PC/src/analytics/snippets\n",
      "✅ SQL queries available at: /Users/daws/ADMF-PC/src/analytics/queries\n",
      "\n",
      "Use %load to load any snippet, e.g.:\n",
      "  %load /Users/daws/ADMF-PC/src/analytics/snippets/exploratory/signal_frequency.py\n",
      "  %load /Users/daws/ADMF-PC/src/analytics/snippets/ensembles/find_uncorrelated.py\n"
     ]
    }
   ],
   "source": [
    "# Setup path for loading analysis snippets\n",
    "import sys\n",
    "from pathlib import Path\n",
    "\n",
    "# Find the project root (where src/ directory is)\n",
    "current_path = Path(run_dir).resolve()\n",
    "project_root = None\n",
    "\n",
    "# Search up the directory tree for src/analytics/snippets\n",
    "for parent in current_path.parents:\n",
    "    if (parent / 'src' / 'analytics' / 'snippets').exists():\n",
    "        project_root = parent\n",
    "        break\n",
    "\n",
    "# If not found from run_dir, try from current working directory\n",
    "if not project_root:\n",
    "    cwd = Path.cwd()\n",
    "    for parent in [cwd] + list(cwd.parents):\n",
    "        if (parent / 'src' / 'analytics' / 'snippets').exists():\n",
    "            project_root = parent\n",
    "            break\n",
    "\n",
    "# Last resort: check common project locations\n",
    "if not project_root:\n",
    "    common_roots = [\n",
    "        Path('/Users/daws/ADMF-PC'),\n",
    "        Path.home() / 'ADMF-PC',\n",
    "        Path.cwd().parent.parent.parent.parent  # 4 levels up from typical results dir\n",
    "    ]\n",
    "    for root in common_roots:\n",
    "        if root.exists() and (root / 'src' / 'analytics' / 'snippets').exists():\n",
    "            project_root = root\n",
    "            break\n",
    "\n",
    "if project_root:\n",
    "    # Add to Python path if not already there\n",
    "    if str(project_root) not in sys.path:\n",
    "        sys.path.insert(0, str(project_root))\n",
    "    snippets_path = project_root / 'src' / 'analytics' / 'snippets'\n",
    "    queries_path = project_root / 'src' / 'analytics' / 'queries'\n",
    "    print(f\"✅ Found project root: {project_root}\")\n",
    "    print(f\"✅ Analysis snippets available at: {snippets_path}\")\n",
    "    print(f\"✅ SQL queries available at: {queries_path}\")\n",
    "    print(\"\\nUse %load to load any snippet, e.g.:\")\n",
    "    print(\"  %load {}/src/analytics/snippets/exploratory/signal_frequency.py\".format(project_root))\n",
    "    print(\"  %load {}/src/analytics/snippets/ensembles/find_uncorrelated.py\".format(project_root))\n",
    "else:\n",
    "    print(\"⚠️ Could not find project root with src/analytics/snippets\")\n",
    "    print(f\"  Searched from: {current_path}\")\n",
    "    print(f\"  Current working directory: {Path.cwd()}\")"
   ]
  },
  {
   "cell_type": "markdown",
   "id": "d1fb8e46",
   "metadata": {
    "papermill": {
     "duration": 0.001434,
     "end_time": "2025-06-25T18:00:35.895066",
     "exception": false,
     "start_time": "2025-06-25T18:00:35.893632",
     "status": "completed"
    },
    "tags": []
   },
   "source": [
    "## Load Strategy Index"
   ]
  },
  {
   "cell_type": "code",
   "execution_count": 5,
   "id": "71b8ca76",
   "metadata": {
    "papermill": {
     "duration": 0.061382,
     "end_time": "2025-06-25T18:00:35.957836",
     "exception": false,
     "start_time": "2025-06-25T18:00:35.896454",
     "status": "completed"
    },
    "tags": []
   },
   "outputs": [
    {
     "name": "stdout",
     "output_type": "stream",
     "text": [
      "✅ Loaded 205 strategies from /Users/daws/ADMF-PC/config/bollinger/results/20250625_110026/strategy_index.parquet\n",
      "\n",
      "Strategies by type:\n",
      "  bollinger_bands: 205\n",
      "\n",
      "Columns: ['strategy_id', 'strategy_hash', 'strategy_type', 'symbol', 'timeframe', 'constraints', 'trace_path']...\n"
     ]
    }
   ],
   "source": [
    "# Load strategy index - the catalog of all strategies tested\n",
    "strategy_index_path = run_dir / 'strategy_index.parquet'\n",
    "\n",
    "if strategy_index_path.exists():\n",
    "    strategy_index = pd.read_parquet(strategy_index_path)\n",
    "    print(f\"✅ Loaded {len(strategy_index)} strategies from {strategy_index_path}\")\n",
    "    \n",
    "    # Show strategy type distribution\n",
    "    by_type = strategy_index['strategy_type'].value_counts()\n",
    "    print(\"\\nStrategies by type:\")\n",
    "    for stype, count in by_type.items():\n",
    "        print(f\"  {stype}: {count}\")\n",
    "        \n",
    "    # Show sample of columns\n",
    "    print(f\"\\nColumns: {list(strategy_index.columns)[:10]}...\")\n",
    "else:\n",
    "    print(f\"❌ No strategy_index.parquet found at {strategy_index_path}\")\n",
    "    strategy_index = None"
   ]
  },
  {
   "cell_type": "markdown",
   "id": "5a69a8bf",
   "metadata": {
    "papermill": {
     "duration": 0.001524,
     "end_time": "2025-06-25T18:00:35.961011",
     "exception": false,
     "start_time": "2025-06-25T18:00:35.959487",
     "status": "completed"
    },
    "tags": []
   },
   "source": [
    "## Performance Calculation"
   ]
  },
  {
   "cell_type": "code",
   "execution_count": 6,
   "id": "b9b99a1e",
   "metadata": {
    "papermill": {
     "duration": 0.006808,
     "end_time": "2025-06-25T18:00:35.969259",
     "exception": false,
     "start_time": "2025-06-25T18:00:35.962451",
     "status": "completed"
    },
    "tags": []
   },
   "outputs": [],
   "source": [
    "def calculate_performance(strategy_hash, trace_path, market_data):\n",
    "    \"\"\"Calculate performance metrics for a strategy\"\"\"\n",
    "    try:\n",
    "        # Always use the global run_dir which is already resolved to absolute path\n",
    "        signals_path = run_dir / trace_path\n",
    "            \n",
    "        # Load sparse signals\n",
    "        signals = pd.read_parquet(signals_path)\n",
    "        signals['ts'] = pd.to_datetime(signals['ts'])\n",
    "        \n",
    "        # Merge with market data\n",
    "        df = market_data.merge(\n",
    "            signals[['ts', 'val']], \n",
    "            left_on='timestamp', \n",
    "            right_on='ts', \n",
    "            how='left'\n",
    "        )\n",
    "        \n",
    "        # Forward fill signals (sparse to dense)\n",
    "        df['signal'] = df['val'].ffill().fillna(0)\n",
    "        \n",
    "        # Calculate returns\n",
    "        df['returns'] = df['close'].pct_change()\n",
    "        df['strategy_returns'] = df['returns'] * df['signal'].shift(1)\n",
    "        df['cum_returns'] = (1 + df['strategy_returns']).cumprod()\n",
    "        \n",
    "        # Metrics\n",
    "        total_return = df['cum_returns'].iloc[-1] - 1\n",
    "        \n",
    "        if df['strategy_returns'].std() > 0:\n",
    "            sharpe = df['strategy_returns'].mean() / df['strategy_returns'].std() * np.sqrt(252 * 78)\n",
    "        else:\n",
    "            sharpe = 0\n",
    "            \n",
    "        cummax = df['cum_returns'].expanding().max()\n",
    "        drawdown = (df['cum_returns'] / cummax - 1)\n",
    "        max_dd = drawdown.min()\n",
    "        \n",
    "        # Count trades\n",
    "        trades = (df['signal'] != df['signal'].shift()).sum()\n",
    "        \n",
    "        return {\n",
    "            'total_return': total_return,\n",
    "            'sharpe_ratio': sharpe,\n",
    "            'max_drawdown': max_dd,\n",
    "            'num_trades': trades,\n",
    "            'df': df  # For later analysis\n",
    "        }\n",
    "    except Exception as e:\n",
    "        print(f\"Error calculating performance for {strategy_hash}: {e}\")\n",
    "        return None"
   ]
  },
  {
   "cell_type": "code",
   "execution_count": 7,
   "id": "3c539081",
   "metadata": {
    "papermill": {
     "duration": 0.010266,
     "end_time": "2025-06-25T18:00:35.981078",
     "exception": false,
     "start_time": "2025-06-25T18:00:35.970812",
     "status": "completed"
    },
    "tags": []
   },
   "outputs": [
    {
     "name": "stdout",
     "output_type": "stream",
     "text": [
      "✅ Loaded market data from: data/SPY_5m.parquet\n",
      "   Shape: (20769, 6)\n"
     ]
    }
   ],
   "source": [
    "# Load market data\n",
    "# First, try to create a symlink to data directory for easier access\n",
    "try:\n",
    "    data_symlink = Path('data')\n",
    "    if not data_symlink.exists():\n",
    "        # Try to find the project root and create symlink\n",
    "        project_root = None\n",
    "        # Extract actual symbol from data configuration\n",
    "        # Handle case where config has 'data: SPY_5m' instead of just symbol\n",
    "        if symbols and len(symbols) > 0:\n",
    "            symbol = symbols[0]\n",
    "            # If symbol contains underscore and timeframe, extract just the symbol part\n",
    "            if '_' in symbol and symbol.endswith(f'_{timeframe}'):\n",
    "                symbol = symbol.replace(f'_{timeframe}', '')\n",
    "        else:\n",
    "            symbol = 'SPY'  # Default fallback\n",
    "            \n",
    "        for parent in [Path.cwd()] + list(Path.cwd().parents):\n",
    "            if (parent / 'data' / f'{symbol}_{timeframe}.parquet').exists():\n",
    "                project_root = parent\n",
    "                break\n",
    "        \n",
    "        if project_root:\n",
    "            data_symlink.symlink_to(project_root / 'data')\n",
    "            print(f\"✅ Created symlink to data directory: {project_root / 'data'}\")\n",
    "except Exception as e:\n",
    "    print(f\"Note: Could not create data symlink: {e}\")\n",
    "\n",
    "# Extract actual symbol from data configuration\n",
    "# Handle case where config has 'data: SPY_5m' instead of just symbol\n",
    "if symbols and len(symbols) > 0:\n",
    "    symbol = symbols[0]\n",
    "    # If symbol contains underscore and timeframe, extract just the symbol part\n",
    "    if '_' in symbol and symbol.endswith(f'_{timeframe}'):\n",
    "        symbol = symbol.replace(f'_{timeframe}', '')\n",
    "else:\n",
    "    symbol = 'SPY'  # Default fallback\n",
    "\n",
    "# Try multiple paths to find market data\n",
    "market_data_paths = [\n",
    "    Path(f'data/{symbol}_{timeframe}.parquet'),\n",
    "    Path(f'../data/{symbol}_{timeframe}.parquet'),\n",
    "    Path(f'../../data/{symbol}_{timeframe}.parquet'),\n",
    "    Path(f'../../../data/{symbol}_{timeframe}.parquet'),\n",
    "    Path(f'../../../../data/{symbol}_{timeframe}.parquet'),\n",
    "    # Also try absolute path as fallback\n",
    "    Path(f'/Users/daws/ADMF-PC/data/{symbol}_{timeframe}.parquet'),\n",
    "]\n",
    "\n",
    "market_data = None\n",
    "for path in market_data_paths:\n",
    "    if path.exists():\n",
    "        market_data = pd.read_parquet(path)\n",
    "        print(f'✅ Loaded market data from: {path}')\n",
    "        print(f'   Shape: {market_data.shape}')\n",
    "        break\n",
    "\n",
    "if market_data is None:\n",
    "    print('❌ Could not find market data file')\n",
    "    print(f'   Searched for: {symbol}_{timeframe}.parquet')\n",
    "    print(f'   In directories:')\n",
    "    for path in market_data_paths:\n",
    "        print(f'     - {path.resolve() if path.exists() else path}')"
   ]
  },
  {
   "cell_type": "code",
   "execution_count": 8,
   "id": "64d88157",
   "metadata": {
    "papermill": {
     "duration": 2.117875,
     "end_time": "2025-06-25T18:00:38.100473",
     "exception": false,
     "start_time": "2025-06-25T18:00:35.982598",
     "status": "completed"
    },
    "tags": []
   },
   "outputs": [
    {
     "name": "stdout",
     "output_type": "stream",
     "text": [
      "\n",
      "Calculating performance for 205 strategies...\n",
      "Using run directory: /Users/daws/ADMF-PC/config/bollinger/results/20250625_110026\n",
      "📂 Found cached performance metrics, loading...\n",
      "✅ Loaded performance for 205 strategies from cache\n"
     ]
    },
    {
     "name": "stdout",
     "output_type": "stream",
     "text": [
      "  Progress: 10/205 (4.9%)\n"
     ]
    },
    {
     "name": "stdout",
     "output_type": "stream",
     "text": [
      "  Progress: 20/205 (9.8%)\n",
      "  Progress: 30/205 (14.6%)\n"
     ]
    },
    {
     "name": "stdout",
     "output_type": "stream",
     "text": [
      "  Progress: 40/205 (19.5%)\n"
     ]
    },
    {
     "name": "stdout",
     "output_type": "stream",
     "text": [
      "  Progress: 50/205 (24.4%)\n"
     ]
    },
    {
     "name": "stdout",
     "output_type": "stream",
     "text": [
      "  Progress: 60/205 (29.3%)\n"
     ]
    },
    {
     "name": "stdout",
     "output_type": "stream",
     "text": [
      "  Progress: 70/205 (34.1%)\n",
      "  Progress: 80/205 (39.0%)\n"
     ]
    },
    {
     "name": "stdout",
     "output_type": "stream",
     "text": [
      "  Progress: 90/205 (43.9%)\n"
     ]
    },
    {
     "name": "stdout",
     "output_type": "stream",
     "text": [
      "  Progress: 100/205 (48.8%)\n",
      "  Progress: 110/205 (53.7%)\n"
     ]
    },
    {
     "name": "stdout",
     "output_type": "stream",
     "text": [
      "  Progress: 120/205 (58.5%)\n"
     ]
    },
    {
     "name": "stdout",
     "output_type": "stream",
     "text": [
      "  Progress: 130/205 (63.4%)\n"
     ]
    },
    {
     "name": "stdout",
     "output_type": "stream",
     "text": [
      "  Progress: 140/205 (68.3%)\n",
      "  Progress: 150/205 (73.2%)\n"
     ]
    },
    {
     "name": "stdout",
     "output_type": "stream",
     "text": [
      "  Progress: 160/205 (78.0%)\n"
     ]
    },
    {
     "name": "stdout",
     "output_type": "stream",
     "text": [
      "  Progress: 170/205 (82.9%)\n",
      "  Progress: 180/205 (87.8%)\n"
     ]
    },
    {
     "name": "stdout",
     "output_type": "stream",
     "text": [
      "  Progress: 190/205 (92.7%)\n"
     ]
    },
    {
     "name": "stdout",
     "output_type": "stream",
     "text": [
      "  Progress: 200/205 (97.6%)\n",
      "  Progress: 205/205 (100.0%)\n",
      "\n",
      "✅ Calculated performance for 205 strategies\n",
      "💾 Saved performance metrics to: /Users/daws/ADMF-PC/config/bollinger/results/20250625_110026/performance_metrics.parquet\n"
     ]
    }
   ],
   "source": [
    "# Calculate performance for all strategies\n",
    "if strategy_index is not None and market_data is not None:\n",
    "    performance_results = []\n",
    "    \n",
    "    # Determine strategies to analyze based on parameters\n",
    "    strategies_to_analyze = strategy_index\n",
    "    \n",
    "    if not calculate_all_performance and len(strategy_index) > performance_limit:\n",
    "        print(f\"Note: Large parameter sweep detected ({len(strategy_index)} strategies)\")\n",
    "        print(f\"Limiting analysis to {performance_limit} strategies (set calculate_all_performance=True to analyze all)\")\n",
    "        \n",
    "        # Sample diverse strategies across all types\n",
    "        strategies_to_analyze = strategy_index.groupby('strategy_type').apply(\n",
    "            lambda x: x.sample(n=min(len(x), performance_limit // strategy_index['strategy_type'].nunique()), \n",
    "                             random_state=42)\n",
    "        ).reset_index(drop=True)\n",
    "    \n",
    "    print(f\"\\nCalculating performance for {len(strategies_to_analyze)} strategies...\")\n",
    "    print(f\"Using run directory: {run_dir}\")\n",
    "    \n",
    "    # Check if we already have cached performance metrics\n",
    "    cached_performance_path = run_dir / 'performance_metrics.parquet'\n",
    "    if cached_performance_path.exists() and calculate_all_performance:\n",
    "        print(f\"📂 Found cached performance metrics, loading...\")\n",
    "        performance_df = pd.read_parquet(cached_performance_path)\n",
    "        print(f\"✅ Loaded performance for {len(performance_df)} strategies from cache\")\n",
    "    else:\n",
    "        # Calculate performance\n",
    "        for idx, row in strategies_to_analyze.iterrows():\n",
    "            if idx % 10 == 0:\n",
    "                print(f\"  Progress: {idx}/{len(strategies_to_analyze)} ({idx/len(strategies_to_analyze)*100:.1f}%)\")\n",
    "                \n",
    "            perf = calculate_performance(row['strategy_hash'], row['trace_path'], market_data)\n",
    "            \n",
    "            if perf:\n",
    "                # Combine strategy info with performance\n",
    "                result = {**row.to_dict(), **perf}\n",
    "                # Remove the full dataframe from results\n",
    "                result.pop('df', None)\n",
    "                performance_results.append(result)\n",
    "        \n",
    "        print(f\"  Progress: {len(strategies_to_analyze)}/{len(strategies_to_analyze)} (100.0%)\")\n",
    "        \n",
    "        performance_df = pd.DataFrame(performance_results)\n",
    "        print(f\"\\n✅ Calculated performance for {len(performance_df)} strategies\")\n",
    "        \n",
    "        # Save performance results for future use (only if we calculated all)\n",
    "        if calculate_all_performance and len(performance_df) == len(strategy_index):\n",
    "            performance_df.to_parquet(cached_performance_path)\n",
    "            print(f\"💾 Saved performance metrics to: {cached_performance_path}\")\n",
    "else:\n",
    "    performance_df = pd.DataFrame()\n",
    "    print(\"⚠️ Skipping performance calculation\")"
   ]
  },
  {
   "cell_type": "markdown",
   "id": "47fe1147",
   "metadata": {
    "papermill": {
     "duration": 0.001845,
     "end_time": "2025-06-25T18:00:38.104364",
     "exception": false,
     "start_time": "2025-06-25T18:00:38.102519",
     "status": "completed"
    },
    "tags": []
   },
   "source": [
    "## Cross-Strategy Performance Analysis"
   ]
  },
  {
   "cell_type": "code",
   "execution_count": 9,
   "id": "b58582f7",
   "metadata": {
    "papermill": {
     "duration": 0.007869,
     "end_time": "2025-06-25T18:00:38.113981",
     "exception": false,
     "start_time": "2025-06-25T18:00:38.106112",
     "status": "completed"
    },
    "tags": []
   },
   "outputs": [
    {
     "name": "stdout",
     "output_type": "stream",
     "text": [
      "\n",
      "🏆 Top 10 Strategies (All Types):\n",
      "================================================================================\n",
      "\n",
      "bollinger_bands - SPY_5m_strategy_24\n",
      "  Sharpe: 0.97 | Return: 0.2% | Drawdown: -0.1%\n",
      "\n",
      "bollinger_bands - SPY_5m_strategy_6\n",
      "  Sharpe: 0.75 | Return: 1.2% | Drawdown: -0.9%\n",
      "\n",
      "bollinger_bands - SPY_5m_strategy_11\n",
      "  Sharpe: 0.75 | Return: 1.2% | Drawdown: -0.9%\n",
      "\n",
      "bollinger_bands - SPY_5m_strategy_175\n",
      "  Sharpe: 0.70 | Return: 9.7% | Drawdown: -10.7%\n",
      "\n",
      "bollinger_bands - SPY_5m_strategy_190\n",
      "  Sharpe: 0.70 | Return: 9.6% | Drawdown: -10.7%\n",
      "\n",
      "bollinger_bands - SPY_5m_strategy_180\n",
      "  Sharpe: 0.69 | Return: 9.6% | Drawdown: -10.7%\n",
      "\n",
      "bollinger_bands - SPY_5m_strategy_185\n",
      "  Sharpe: 0.69 | Return: 9.5% | Drawdown: -10.7%\n",
      "\n",
      "bollinger_bands - SPY_5m_strategy_200\n",
      "  Sharpe: 0.69 | Return: 9.5% | Drawdown: -10.7%\n",
      "\n",
      "bollinger_bands - SPY_5m_strategy_195\n",
      "  Sharpe: 0.68 | Return: 9.4% | Drawdown: -10.7%\n",
      "\n",
      "bollinger_bands - SPY_5m_strategy_52\n",
      "  Sharpe: 0.67 | Return: 1.0% | Drawdown: -0.9%\n"
     ]
    }
   ],
   "source": [
    "if len(performance_df) > 0:\n",
    "    # Top performers across ALL strategy types\n",
    "    top_overall = performance_df.nlargest(top_n_strategies, 'sharpe_ratio')\n",
    "    \n",
    "    print(f\"\\n🏆 Top {top_n_strategies} Strategies (All Types):\")\n",
    "    print(\"=\" * 80)\n",
    "    \n",
    "    # Look for parameter columns (both with and without param_ prefix for compatibility)\n",
    "    all_param_cols = []\n",
    "    # Check for param_ prefixed columns\n",
    "    param_prefixed_cols = [col for col in top_overall.columns if col.startswith('param_')]\n",
    "    # Check for direct parameter columns (per trace-updates.md)\n",
    "    direct_param_cols = ['period', 'std_dev', 'fast_period', 'slow_period', 'multiplier', 'exit_threshold']\n",
    "    available_param_cols = [col for col in direct_param_cols if col in top_overall.columns]\n",
    "    \n",
    "    # Use whichever we find\n",
    "    if available_param_cols:\n",
    "        all_param_cols = available_param_cols\n",
    "    elif param_prefixed_cols:\n",
    "        all_param_cols = param_prefixed_cols\n",
    "    \n",
    "    for idx, row in top_overall.iterrows():\n",
    "        # Determine identifier to show\n",
    "        strategy_identifier = row.get('strategy_id', 'unknown')\n",
    "        if 'strategy_hash' in row and pd.notna(row['strategy_hash']):\n",
    "            # Check if all strategies have the same hash\n",
    "            if performance_df['strategy_hash'].nunique() > 1:\n",
    "                # Use hash if they're unique\n",
    "                strategy_identifier = row['strategy_hash'][:8]\n",
    "        \n",
    "        print(f\"\\n{row['strategy_type']} - {strategy_identifier}\")\n",
    "        print(f\"  Sharpe: {row['sharpe_ratio']:.2f} | Return: {row['total_return']:.1%} | Drawdown: {row['max_drawdown']:.1%}\")\n",
    "        \n",
    "        # Show parameters\n",
    "        if all_param_cols:\n",
    "            # Filter out null parameters\n",
    "            valid_params = []\n",
    "            for col in all_param_cols[:5]:  # Show up to 5 parameters\n",
    "                if col in row and pd.notna(row[col]):\n",
    "                    param_name = col.replace('param_', '') if col.startswith('param_') else col\n",
    "                    valid_params.append(f\"{param_name}: {row[col]}\")\n",
    "            \n",
    "            if valid_params:\n",
    "                print(f\"  Params: {' | '.join(valid_params)}\")"
   ]
  },
  {
   "cell_type": "code",
   "execution_count": 10,
   "id": "8ec08dd2",
   "metadata": {
    "papermill": {
     "duration": 0.010574,
     "end_time": "2025-06-25T18:00:38.126452",
     "exception": false,
     "start_time": "2025-06-25T18:00:38.115878",
     "status": "completed"
    },
    "tags": []
   },
   "outputs": [
    {
     "name": "stdout",
     "output_type": "stream",
     "text": [
      "\n",
      "📊 Performance by Strategy Type:\n",
      "                 sharpe_ratio_mean  sharpe_ratio_std  sharpe_ratio_max  \\\n",
      "strategy_type                                                            \n",
      "bollinger_bands             -0.129             0.636             0.965   \n",
      "\n",
      "                 total_return_mean  total_return_std  total_return_max  count  \n",
      "strategy_type                                                                  \n",
      "bollinger_bands              0.002              0.02             0.097    205  \n"
     ]
    }
   ],
   "source": [
    "# Performance by strategy type\n",
    "if len(performance_df) > 0:\n",
    "    type_summary = performance_df.groupby('strategy_type').agg({\n",
    "        'sharpe_ratio': ['mean', 'std', 'max'],\n",
    "        'total_return': ['mean', 'std', 'max'],\n",
    "        'strategy_hash': 'count'\n",
    "    }).round(3)\n",
    "    \n",
    "    type_summary.columns = ['_'.join(col).strip() for col in type_summary.columns]\n",
    "    type_summary = type_summary.rename(columns={'strategy_hash_count': 'count'})\n",
    "    type_summary = type_summary.sort_values('sharpe_ratio_mean', ascending=False)\n",
    "    \n",
    "    print(\"\\n📊 Performance by Strategy Type:\")\n",
    "    print(type_summary)"
   ]
  },
  {
   "cell_type": "markdown",
   "id": "d3c3b497",
   "metadata": {
    "papermill": {
     "duration": 0.001833,
     "end_time": "2025-06-25T18:00:38.130198",
     "exception": false,
     "start_time": "2025-06-25T18:00:38.128365",
     "status": "completed"
    },
    "tags": []
   },
   "source": [
    "## Visualizations"
   ]
  },
  {
   "cell_type": "code",
   "execution_count": 11,
   "id": "6a087f76",
   "metadata": {
    "papermill": {
     "duration": 0.177001,
     "end_time": "2025-06-25T18:00:38.309076",
     "exception": false,
     "start_time": "2025-06-25T18:00:38.132075",
     "status": "completed"
    },
    "tags": []
   },
   "outputs": [
    {
     "data": {
      "image/png": "[encoded data removed]",
      "text/plain": [
       "<Figure size 1500x1000 with 3 Axes>"
      ]
     },
     "metadata": {},
     "output_type": "display_data"
    }
   ],
   "source": [
    "# Visualizations for single or multiple strategy types\n",
    "if len(performance_df) > 0:\n",
    "    if performance_df['strategy_type'].nunique() > 1:\n",
    "        # Multiple strategy types - original visualization\n",
    "        plt.figure(figsize=(14, 6))\n",
    "        \n",
    "        # Box plot of Sharpe by type\n",
    "        plt.subplot(1, 2, 1)\n",
    "        performance_df.boxplot(column='sharpe_ratio', by='strategy_type', ax=plt.gca())\n",
    "        plt.xticks(rotation=45, ha='right')\n",
    "        plt.title('Sharpe Ratio Distribution by Strategy Type')\n",
    "        plt.suptitle('')  # Remove default title\n",
    "        plt.ylabel('Sharpe Ratio')\n",
    "        \n",
    "        # Scatter: Return vs Sharpe\n",
    "        plt.subplot(1, 2, 2)\n",
    "        for stype in performance_df['strategy_type'].unique():\n",
    "            mask = performance_df['strategy_type'] == stype\n",
    "            plt.scatter(performance_df.loc[mask, 'total_return'], \n",
    "                       performance_df.loc[mask, 'sharpe_ratio'],\n",
    "                       label=stype, alpha=0.6)\n",
    "        plt.xlabel('Total Return')\n",
    "        plt.ylabel('Sharpe Ratio')\n",
    "        plt.title('Return vs Risk-Adjusted Return')\n",
    "        plt.legend(bbox_to_anchor=(1.05, 1), loc='upper left')\n",
    "        plt.grid(True, alpha=0.3)\n",
    "        \n",
    "        plt.tight_layout()\n",
    "        plt.show()\n",
    "    else:\n",
    "        # Single strategy type - parameter analysis visualization\n",
    "        plt.figure(figsize=(15, 10))\n",
    "        \n",
    "        # 1. Sharpe ratio distribution\n",
    "        plt.subplot(2, 2, 1)\n",
    "        performance_df['sharpe_ratio'].hist(bins=20, alpha=0.7, color='blue')\n",
    "        plt.axvline(performance_df['sharpe_ratio'].mean(), color='red', linestyle='--', label=f'Mean: {performance_df[\"sharpe_ratio\"].mean():.2f}')\n",
    "        plt.axvline(performance_df['sharpe_ratio'].median(), color='green', linestyle='--', label=f'Median: {performance_df[\"sharpe_ratio\"].median():.2f}')\n",
    "        plt.xlabel('Sharpe Ratio')\n",
    "        plt.ylabel('Count')\n",
    "        plt.title('Sharpe Ratio Distribution')\n",
    "        plt.legend()\n",
    "        \n",
    "        # 2. Return vs Sharpe scatter\n",
    "        plt.subplot(2, 2, 2)\n",
    "        # Determine which parameters exist (check both naming conventions)\n",
    "        param_cols = [col for col in performance_df.columns if col.startswith('param_')]\n",
    "        direct_param_cols = ['period', 'std_dev', 'fast_period', 'slow_period', 'multiplier', 'exit_threshold']\n",
    "        available_param_cols = [col for col in direct_param_cols if col in performance_df.columns]\n",
    "        \n",
    "        # Use direct parameter names if available, otherwise fall back to param_ prefix\n",
    "        if available_param_cols:\n",
    "            param_cols = available_param_cols\n",
    "        \n",
    "        if len(param_cols) >= 2:\n",
    "            # Use first two parameters for visualization\n",
    "            scatter = plt.scatter(performance_df['total_return'], \n",
    "                                 performance_df['sharpe_ratio'],\n",
    "                                 c=performance_df[param_cols[0]], \n",
    "                                 cmap='viridis',\n",
    "                                 s=performance_df[param_cols[1]]*50 if performance_df[param_cols[1]].max() < 10 else 50,\n",
    "                                 alpha=0.6)\n",
    "            plt.colorbar(scatter, label=param_cols[0].replace('param_', ''))\n",
    "            plt.title(f'Return vs Risk-Adjusted Return\\n(Color={param_cols[0].replace(\"param_\", \"\")}, Size={param_cols[1].replace(\"param_\", \"\")})')\n",
    "        else:\n",
    "            plt.scatter(performance_df['total_return'], \n",
    "                       performance_df['sharpe_ratio'],\n",
    "                       alpha=0.6)\n",
    "            plt.title('Return vs Risk-Adjusted Return')\n",
    "        plt.xlabel('Total Return')\n",
    "        plt.ylabel('Sharpe Ratio')\n",
    "        plt.grid(True, alpha=0.3)\n",
    "        \n",
    "        # 3. Parameter heatmap (if enough data and two numeric parameters)\n",
    "        if len(performance_df) > 10 and len(param_cols) >= 2:\n",
    "            plt.subplot(2, 2, 3)\n",
    "            try:\n",
    "                # Create pivot table for heatmap\n",
    "                pivot_sharpe = performance_df.pivot_table(\n",
    "                    values='sharpe_ratio', \n",
    "                    index=param_cols[0], \n",
    "                    columns=param_cols[1],\n",
    "                    aggfunc='mean'\n",
    "                )\n",
    "                if not pivot_sharpe.empty and pivot_sharpe.shape[0] > 1 and pivot_sharpe.shape[1] > 1:\n",
    "                    sns.heatmap(pivot_sharpe, cmap='RdYlGn', center=0, \n",
    "                               cbar_kws={'label': 'Sharpe Ratio'})\n",
    "                    plt.title(f'Sharpe Ratio by {param_cols[0].replace(\"param_\", \"\")} and {param_cols[1].replace(\"param_\", \"\")}')\n",
    "            except:\n",
    "                plt.text(0.5, 0.5, 'Not enough data for heatmap', \n",
    "                        ha='center', va='center', transform=plt.gca().transAxes)\n",
    "        \n",
    "        # 4. Box plot of returns\n",
    "        plt.subplot(2, 2, 4)\n",
    "        performance_df.boxplot(column=['total_return', 'sharpe_ratio'])\n",
    "        plt.xticks(rotation=45)\n",
    "        plt.title('Performance Metrics Distribution')\n",
    "        plt.ylabel('Value')\n",
    "        \n",
    "        plt.tight_layout()\n",
    "        plt.show()\n",
    "        \n",
    "        # Additional parameter analysis\n",
    "        if param_cols:\n",
    "            print(\"\\n📈 Parameter Analysis:\")\n",
    "            for param in param_cols[:3]:  # Analyze first 3 parameters\n",
    "                if param in performance_df.columns and performance_df[param].notna().any():\n",
    "                    corr = performance_df[param].corr(performance_df['sharpe_ratio'])\n",
    "                    param_display = param.replace('param_', '')\n",
    "                    print(f\"Correlation between {param_display} and Sharpe: {corr:.3f}\")\n",
    "            \n",
    "            # Group by parameter ranges to find stable regions\n",
    "            if len(param_cols) >= 2 and len(performance_df) > 20:\n",
    "                print(\"\\n🎯 Performance by Parameter Ranges:\")\n",
    "                try:\n",
    "                    # Find numeric parameter columns\n",
    "                    numeric_params = []\n",
    "                    for col in param_cols:\n",
    "                        if pd.api.types.is_numeric_dtype(performance_df[col]) and performance_df[col].notna().sum() > 0:\n",
    "                            numeric_params.append(col)\n",
    "                    \n",
    "                    if len(numeric_params) >= 2:\n",
    "                        # Create bins for numeric parameters\n",
    "                        param1_groups = pd.cut(performance_df[numeric_params[0]], bins=5)\n",
    "                        param2_groups = pd.cut(performance_df[numeric_params[1]], bins=5)\n",
    "                        \n",
    "                        param_summary = performance_df.groupby([param1_groups, param2_groups])['sharpe_ratio'].agg(['mean', 'std', 'count'])\n",
    "                        param_summary = param_summary[param_summary['count'] > 0].sort_values('mean', ascending=False)\n",
    "                        \n",
    "                        # Display with clean parameter names\n",
    "                        param1_name = numeric_params[0].replace('param_', '')\n",
    "                        param2_name = numeric_params[1].replace('param_', '')\n",
    "                        print(f\"\\nTop performing {param1_name} x {param2_name} ranges:\")\n",
    "                        print(param_summary.head(10))\n",
    "                    else:\n",
    "                        print(\"Not enough numeric parameters for range analysis\")\n",
    "                except Exception as e:\n",
    "                    print(f\"Could not create parameter range analysis: {e}\")"
   ]
  },
  {
   "cell_type": "markdown",
   "id": "88f365aa",
   "metadata": {
    "papermill": {
     "duration": 0.002347,
     "end_time": "2025-06-25T18:00:38.313931",
     "exception": false,
     "start_time": "2025-06-25T18:00:38.311584",
     "status": "completed"
    },
    "tags": []
   },
   "source": [
    "## Correlation Analysis for Ensemble Building"
   ]
  },
  {
   "cell_type": "code",
   "execution_count": 12,
   "id": "b3ab5105",
   "metadata": {
    "execution": {
     "iopub.execute_input": "2025-06-25T18:00:38.319006Z",
     "iopub.status.busy": "2025-06-25T18:00:38.318835Z",
     "iopub.status.idle": "2025-06-25T18:00:38.321390Z",
     "shell.execute_reply": "2025-06-25T18:00:38.321158Z"
    },
    "papermill": {
     "duration": 0.005793,
     "end_time": "2025-06-25T18:00:38.322041",
     "exception": false,
     "start_time": "2025-06-25T18:00:38.316248",
     "status": "completed"
    },
    "tags": []
   },
   "outputs": [],
   "source": [
    "def calculate_strategy_correlations(strategies_df, market_data, run_dir):\n",
    "    \"\"\"Calculate correlation matrix between strategies\"\"\"\n",
    "    returns_dict = {}\n",
    "    \n",
    "    for idx, row in strategies_df.iterrows():\n",
    "        try:\n",
    "            # Use the global run_dir\n",
    "            signals_path = run_dir / row['trace_path']\n",
    "            signals = pd.read_parquet(signals_path)\n",
    "            signals['ts'] = pd.to_datetime(signals['ts'])\n",
    "            \n",
    "            # Merge and calculate returns\n",
    "            df = market_data.merge(signals[['ts', 'val']], left_on='timestamp', right_on='ts', how='left')\n",
    "            df['signal'] = df['val'].ffill().fillna(0)\n",
    "            df['returns'] = df['close'].pct_change()\n",
    "            df['strategy_returns'] = df['returns'] * df['signal'].shift(1)\n",
    "            \n",
    "            returns_dict[row['strategy_hash']] = df['strategy_returns']\n",
    "        except:\n",
    "            pass\n",
    "    \n",
    "    # Create returns DataFrame and calculate correlation\n",
    "    if returns_dict:\n",
    "        returns_df = pd.DataFrame(returns_dict)\n",
    "        return returns_df.corr()\n",
    "    return pd.DataFrame()"
   ]
  },
  {
   "cell_type": "code",
   "execution_count": 13,
   "id": "3f1ef7eb",
   "metadata": {
    "execution": {
     "iopub.execute_input": "2025-06-25T18:00:38.327200Z",
     "iopub.status.busy": "2025-06-25T18:00:38.327095Z",
     "iopub.status.idle": "2025-06-25T18:00:38.428168Z",
     "shell.execute_reply": "2025-06-25T18:00:38.427885Z"
    },
    "papermill": {
     "duration": 0.104471,
     "end_time": "2025-06-25T18:00:38.428919",
     "exception": false,
     "start_time": "2025-06-25T18:00:38.324448",
     "status": "completed"
    },
    "tags": []
   },
   "outputs": [
    {
     "name": "stdout",
     "output_type": "stream",
     "text": [
      "\n",
      "🔗 Calculating correlations among top strategies...\n",
      "Processing 10 strategies...\n",
      "  Loading signals: 0/10\n",
      "  Loading signals: 5/10\n",
      "✅ Loaded returns for 1 strategies\n",
      "❌ Not enough strategies loaded for correlation analysis\n"
     ]
    }
   ],
   "source": [
    "# Optimized correlation calculation with progress tracking\n",
    "if len(performance_df) > 0 and len(top_overall) > 1:\n",
    "    print(\"\\n🔗 Calculating correlations among top strategies...\")\n",
    "    print(f\"Processing {len(top_overall)} strategies...\")\n",
    "    \n",
    "    # First, load all returns data in one pass\n",
    "    returns_dict = {}\n",
    "    \n",
    "    for idx, (_, row) in enumerate(top_overall.iterrows()):\n",
    "        if idx % 5 == 0:\n",
    "            print(f\"  Loading signals: {idx}/{len(top_overall)}\")\n",
    "            \n",
    "        try:\n",
    "            signals_path = run_dir / row['trace_path']\n",
    "            \n",
    "            # Load signals\n",
    "            signals = pd.read_parquet(signals_path)\n",
    "            signals['ts'] = pd.to_datetime(signals['ts'])\n",
    "            \n",
    "            # Merge with market data (already in memory)\n",
    "            df = market_data.merge(\n",
    "                signals[['ts', 'val']], \n",
    "                left_on='timestamp', \n",
    "                right_on='ts', \n",
    "                how='left'\n",
    "            )\n",
    "            df['signal'] = df['val'].ffill().fillna(0)\n",
    "            \n",
    "            # Calculate strategy returns only once\n",
    "            df['returns'] = df['close'].pct_change()\n",
    "            df['strategy_returns'] = df['returns'] * df['signal'].shift(1)\n",
    "            \n",
    "            returns_dict[row['strategy_hash']] = df['strategy_returns'].values\n",
    "        except Exception as e:\n",
    "            print(f\"  Warning: Could not load {row['strategy_hash'][:8]}: {e}\")\n",
    "    \n",
    "    print(f\"✅ Loaded returns for {len(returns_dict)} strategies\")\n",
    "    \n",
    "    if len(returns_dict) >= 2:\n",
    "        # Convert to DataFrame for correlation calculation\n",
    "        returns_df = pd.DataFrame(returns_dict)\n",
    "        \n",
    "        # Calculate correlation matrix (this is fast once data is loaded)\n",
    "        print(\"Calculating correlation matrix...\")\n",
    "        corr_matrix = returns_df.corr()\n",
    "        \n",
    "        # Find uncorrelated pairs\n",
    "        uncorrelated_pairs = []\n",
    "        n = len(corr_matrix)\n",
    "        total_pairs = n * (n - 1) // 2\n",
    "        \n",
    "        pair_count = 0\n",
    "        for i in range(n):\n",
    "            for j in range(i+1, n):\n",
    "                pair_count += 1\n",
    "                    \n",
    "                corr_val = corr_matrix.iloc[i, j]\n",
    "                if abs(corr_val) < correlation_threshold:\n",
    "                    uncorrelated_pairs.append({\n",
    "                        'strategy1': corr_matrix.index[i],\n",
    "                        'strategy2': corr_matrix.columns[j],\n",
    "                        'correlation': corr_val\n",
    "                    })\n",
    "        \n",
    "        print(f\"✅ Found {len(uncorrelated_pairs)} uncorrelated pairs (correlation < {correlation_threshold})\")\n",
    "        \n",
    "        # Visualize correlation matrix\n",
    "        if len(corr_matrix) <= 20:\n",
    "            plt.figure(figsize=(10, 8))\n",
    "            # Only show annotations if matrix is small enough\n",
    "            show_annot = len(corr_matrix) <= 10\n",
    "            sns.heatmap(corr_matrix, cmap='coolwarm', center=0, vmin=-1, vmax=1, \n",
    "                       xticklabels=[h[:8] for h in corr_matrix.columns],\n",
    "                       yticklabels=[h[:8] for h in corr_matrix.index],\n",
    "                       annot=show_annot, fmt='.2f' if show_annot else None)\n",
    "            plt.title('Strategy Correlation Matrix')\n",
    "            plt.tight_layout()\n",
    "            plt.show()\n",
    "            \n",
    "            # Show correlation statistics\n",
    "            corr_values = corr_matrix.values[np.triu_indices_from(corr_matrix.values, k=1)]\n",
    "            print(f\"\\nCorrelation Statistics:\")\n",
    "            print(f\"  Mean correlation: {np.mean(corr_values):.3f}\")\n",
    "            print(f\"  Median correlation: {np.median(corr_values):.3f}\")\n",
    "            print(f\"  Min correlation: {np.min(corr_values):.3f}\")\n",
    "            print(f\"  Max correlation: {np.max(corr_values):.3f}\")\n",
    "        else:\n",
    "            print(f\"Skipping heatmap visualization (too many strategies: {len(corr_matrix)})\")\n",
    "    else:\n",
    "        print(\"❌ Not enough strategies loaded for correlation analysis\")"
   ]
  },
  {
   "cell_type": "markdown",
   "id": "7996745d",
   "metadata": {
    "papermill": {
     "duration": 0.002323,
     "end_time": "2025-06-25T18:00:38.433784",
     "exception": false,
     "start_time": "2025-06-25T18:00:38.431461",
     "status": "completed"
    },
    "tags": []
   },
   "source": [
    "## Ensemble Recommendations"
   ]
  },
  {
   "cell_type": "code",
   "execution_count": 14,
   "id": "95b6069a",
   "metadata": {
    "execution": {
     "iopub.execute_input": "2025-06-25T18:00:38.439241Z",
     "iopub.status.busy": "2025-06-25T18:00:38.439139Z",
     "iopub.status.idle": "2025-06-25T18:00:38.442205Z",
     "shell.execute_reply": "2025-06-25T18:00:38.441975Z"
    },
    "papermill": {
     "duration": 0.006423,
     "end_time": "2025-06-25T18:00:38.442799",
     "exception": false,
     "start_time": "2025-06-25T18:00:38.436376",
     "status": "completed"
    },
    "tags": []
   },
   "outputs": [],
   "source": [
    "# Build optimal ensemble\n",
    "if len(performance_df) > 0 and 'corr_matrix' in locals() and not corr_matrix.empty:\n",
    "    # Start with best strategy\n",
    "    ensemble = [top_overall.iloc[0]['strategy_hash']]\n",
    "    ensemble_data = [top_overall.iloc[0]]\n",
    "    \n",
    "    # Add uncorrelated strategies\n",
    "    for idx, candidate in top_overall.iloc[1:].iterrows():\n",
    "        if len(ensemble) >= ensemble_size:\n",
    "            break\n",
    "            \n",
    "        # Check correlation with existing ensemble members\n",
    "        candidate_hash = candidate['strategy_hash']\n",
    "        if candidate_hash in corr_matrix.columns:\n",
    "            max_corr = 0\n",
    "            for existing in ensemble:\n",
    "                if existing in corr_matrix.index:\n",
    "                    corr = abs(corr_matrix.loc[existing, candidate_hash])\n",
    "                    max_corr = max(max_corr, corr)\n",
    "            \n",
    "            if max_corr < correlation_threshold:\n",
    "                ensemble.append(candidate_hash)\n",
    "                ensemble_data.append(candidate)\n",
    "    \n",
    "    print(f\"\\n🎯 Recommended Ensemble ({len(ensemble)} strategies):\")\n",
    "    print(\"=\" * 80)\n",
    "    \n",
    "    ensemble_df = pd.DataFrame(ensemble_data)\n",
    "    for idx, row in ensemble_df.iterrows():\n",
    "        print(f\"\\n{idx+1}. {row['strategy_type']} - {row['strategy_hash'][:8]}\")\n",
    "        print(f\"   Sharpe: {row['sharpe_ratio']:.2f} | Return: {row['total_return']:.1%}\")\n",
    "    \n",
    "    # Calculate ensemble metrics\n",
    "    print(f\"\\nEnsemble Statistics:\")\n",
    "    print(f\"  Average Sharpe: {ensemble_df['sharpe_ratio'].mean():.2f}\")\n",
    "    print(f\"  Average Return: {ensemble_df['total_return'].mean():.1%}\")\n",
    "    print(f\"  Strategy Types: {', '.join(ensemble_df['strategy_type'].unique())}\")"
   ]
  },
  {
   "cell_type": "markdown",
   "id": "9936049a",
   "metadata": {
    "papermill": {
     "duration": 0.002558,
     "end_time": "2025-06-25T18:00:38.448049",
     "exception": false,
     "start_time": "2025-06-25T18:00:38.445491",
     "status": "completed"
    },
    "tags": []
   },
   "source": [
    "## Export Results"
   ]
  },
  {
   "cell_type": "code",
   "execution_count": 15,
   "id": "d7c33155",
   "metadata": {
    "execution": {
     "iopub.execute_input": "2025-06-25T18:00:38.453059Z",
     "iopub.status.busy": "2025-06-25T18:00:38.452955Z",
     "iopub.status.idle": "2025-06-25T18:00:38.459514Z",
     "shell.execute_reply": "2025-06-25T18:00:38.459318Z"
    },
    "papermill": {
     "duration": 0.009797,
     "end_time": "2025-06-25T18:00:38.460127",
     "exception": false,
     "start_time": "2025-06-25T18:00:38.450330",
     "status": "completed"
    },
    "tags": []
   },
   "outputs": [
    {
     "name": "stdout",
     "output_type": "stream",
     "text": [
      "\n",
      "✅ Results exported:\n",
      "  - recommendations.json\n",
      "  - performance_analysis.csv\n"
     ]
    }
   ],
   "source": [
    "# Export recommendations\n",
    "if len(performance_df) > 0:\n",
    "    recommendations = {\n",
    "        'run_info': {\n",
    "            'run_id': run_dir.name,\n",
    "            'config_name': config_name,\n",
    "            'generated_at': datetime.now().isoformat(),\n",
    "            'total_strategies': len(strategy_index) if strategy_index is not None else 0,\n",
    "            'strategies_analyzed': len(performance_df)\n",
    "        },\n",
    "        'best_individual': {},\n",
    "        'best_by_type': {},\n",
    "        'ensemble': []\n",
    "    }\n",
    "    \n",
    "    # Best overall\n",
    "    if len(top_overall) > 0:\n",
    "        best = top_overall.iloc[0]\n",
    "        recommendations['best_individual'] = {\n",
    "            'strategy_hash': best['strategy_hash'],\n",
    "            'strategy_type': best['strategy_type'],\n",
    "            'sharpe_ratio': float(best['sharpe_ratio']),\n",
    "            'total_return': float(best['total_return']),\n",
    "            'max_drawdown': float(best['max_drawdown']),\n",
    "            'parameters': {col.replace('param_', ''): best[col] \n",
    "                          for col in best.index if col.startswith('param_') and pd.notna(best[col])}\n",
    "        }\n",
    "    \n",
    "    # Best by type\n",
    "    for stype in performance_df['strategy_type'].unique():\n",
    "        type_best = performance_df[performance_df['strategy_type'] == stype].nlargest(1, 'sharpe_ratio')\n",
    "        if len(type_best) > 0:\n",
    "            row = type_best.iloc[0]\n",
    "            recommendations['best_by_type'][stype] = {\n",
    "                'strategy_hash': row['strategy_hash'],\n",
    "                'sharpe_ratio': float(row['sharpe_ratio']),\n",
    "                'total_return': float(row['total_return'])\n",
    "            }\n",
    "    \n",
    "    # Ensemble\n",
    "    if 'ensemble_df' in locals():\n",
    "        for idx, row in ensemble_df.iterrows():\n",
    "            recommendations['ensemble'].append({\n",
    "                'strategy_hash': row['strategy_hash'],\n",
    "                'strategy_type': row['strategy_type'],\n",
    "                'sharpe_ratio': float(row['sharpe_ratio']),\n",
    "                'weight': 1.0 / len(ensemble_df)  # Equal weight for now\n",
    "            })\n",
    "    \n",
    "    # Save files\n",
    "    with open(run_dir / 'recommendations.json', 'w') as f:\n",
    "        json.dump(recommendations, f, indent=2)\n",
    "    \n",
    "    performance_df.to_csv(run_dir / 'performance_analysis.csv', index=False)\n",
    "    \n",
    "    print(\"\\n✅ Results exported:\")\n",
    "    print(f\"  - recommendations.json\")\n",
    "    print(f\"  - performance_analysis.csv\")\n",
    "else:\n",
    "    print(\"⚠️ No results to export\")"
   ]
  },
  {
   "cell_type": "markdown",
   "id": "c6c5a5fd",
   "metadata": {
    "papermill": {
     "duration": 0.002287,
     "end_time": "2025-06-25T18:00:38.464715",
     "exception": false,
     "start_time": "2025-06-25T18:00:38.462428",
     "status": "completed"
    },
    "tags": []
   },
   "source": [
    "## Additional Analysis with Snippets\n",
    "\n",
    "You can now extend this analysis using pre-built snippets. Examples:\n",
    "\n",
    "### Exploratory Analysis\n",
    "```python\n",
    "%load src/analytics/snippets/exploratory/signal_frequency.py\n",
    "# Then edit parameters and run\n",
    "\n",
    "%load src/analytics/snippets/exploratory/parameter_sweep.py\n",
    "# Analyze specific strategy type parameters\n",
    "```\n",
    "\n",
    "### Ensemble Building\n",
    "```python\n",
    "%load src/analytics/snippets/ensembles/find_uncorrelated.py\n",
    "# Advanced correlation analysis\n",
    "\n",
    "%load src/analytics/snippets/ensembles/optimize_weights.py\n",
    "# Optimize portfolio weights\n",
    "```\n",
    "\n",
    "### Regime Analysis\n",
    "```python\n",
    "%load src/analytics/snippets/regime/volatility_regimes.py\n",
    "# Performance in different volatility environments\n",
    "```\n",
    "\n",
    "### Helper Functions\n",
    "```python\n",
    "%load src/analytics/snippets/helpers.py\n",
    "# Load utility functions for custom analysis\n",
    "```\n",
    "\n",
    "Each snippet contains editable parameters at the top. Modify them before running to customize the analysis."
   ]
  },
  {
   "cell_type": "markdown",
   "id": "b48561db",
   "metadata": {
    "papermill": {
     "duration": 0.002342,
     "end_time": "2025-06-25T18:00:38.469558",
     "exception": false,
     "start_time": "2025-06-25T18:00:38.467216",
     "status": "completed"
    },
    "tags": []
   },
   "source": [
    "## Summary\n",
    "\n",
    "Analysis complete! Key files generated:\n",
    "- `recommendations.json` - Best strategies and ensemble recommendations\n",
    "- `performance_analysis.csv` - Full performance data for all strategies\n",
    "\n",
    "Next steps:\n",
    "1. Use the recommended ensemble for live trading\n",
    "2. Deep dive into specific strategy types if needed\n",
    "3. Run regime-specific analysis to understand performance drivers"
   ]
  }
 ],
 "metadata": {
  "kernelspec": {
   "display_name": "Python (venv)",
   "language": "python",
   "name": "venv"
  },
  "language_info": {
   "codemirror_mode": {
    "name": "ipython",
    "version": 3
   },
   "file_extension": ".py",
   "mimetype": "text/x-python",
   "name": "python",
   "nbconvert_exporter": "python",
   "pygments_lexer": "ipython3",
   "version": "3.13.5"
  },
  "papermill": {
   "default_parameters": {},
   "duration": 4.330918,
   "end_time": "2025-06-25T18:00:38.687782",
   "environment_variables": {},
   "exception": null,
   "input_path": "/Users/daws/ADMF-PC/src/analytics/templates/universal_analysis.ipynb",
   "output_path": "/Users/daws/ADMF-PC/config/bollinger/results/20250625_110026/analysis_20250625_110034.ipynb",
   "parameters": {
    "calculate_all_performance": true,
    "config_name": "bollinger",
    "correlation_threshold": 0.7,
    "ensemble_size": 5,
    "min_strategies_to_analyze": 20,
    "performance_limit": 100,
    "run_dir": "/Users/daws/ADMF-PC/config/bollinger/results/20250625_110026",
    "sharpe_threshold": 1,
    "symbols": [
     "SPY_5m"
    ],
    "timeframe": "5m",
    "top_n_strategies": 10
   },
   "start_time": "2025-06-25T18:00:34.356864",
   "version": "2.6.0"
  }
 },
 "nbformat": 4,
 "nbformat_minor": 5
}
