{
 "cells": [
  {
   "cell_type": "code",
   "execution_count": 1,
   "id": "0785c893",
   "metadata": {
    "papermill": {
     "duration": 0.015459,
     "end_time": "2025-06-27T16:45:22.966733",
     "exception": false,
     "start_time": "2025-06-27T16:45:22.951274",
     "status": "completed"
    },
    "tags": [
     "injected-parameters"
    ]
   },
   "outputs": [],
   "source": [
    "# Parameters\n",
    "run_dir = \"/Users/daws/ADMF-PC/config/bollinger/results/20250627_094515\"\n",
    "config_name = \"bollinger\"\n",
    "symbols = [\"SPY\"]\n",
    "timeframe = \"5m\"\n",
    "min_strategies_to_analyze = 20\n",
    "sharpe_threshold = 1.0\n",
    "correlation_threshold = 0.7\n",
    "top_n_strategies = 10\n",
    "ensemble_size = 5\n",
    "calculate_all_performance = True\n",
    "performance_limit = 100\n"
   ]
  },
  {
   "cell_type": "markdown",
   "id": "ffb0ed7d",
   "metadata": {
    "papermill": {
     "duration": 0.001904,
     "end_time": "2025-06-27T16:45:22.971647",
     "exception": false,
     "start_time": "2025-06-27T16:45:22.969743",
     "status": "completed"
    },
    "tags": []
   },
   "source": [
    "# Trade & Risk Analysis Notebook\\n\\nAnalyzes trading performance through orders, fills, and position events."
   ]
  },
  {
   "cell_type": "code",
   "execution_count": 2,
   "id": "15dba365",
   "metadata": {
    "papermill": {
     "duration": 0.441474,
     "end_time": "2025-06-27T16:45:23.414961",
     "exception": false,
     "start_time": "2025-06-27T16:45:22.973487",
     "status": "completed"
    },
    "tags": []
   },
   "outputs": [],
   "source": [
    "import pandas as pd\n",
    "import numpy as np\n",
    "import json\n",
    "from pathlib import Path\n",
    "import matplotlib.pyplot as plt\n",
    "import seaborn as sns\n",
    "from datetime import datetime\n",
    "\n",
    "pd.set_option('display.max_columns', None)\n",
    "pd.set_option('display.width', None)\n",
    "plt.style.use('seaborn-v0_8-darkgrid')"
   ]
  },
  {
   "cell_type": "markdown",
   "id": "4bd95583",
   "metadata": {
    "papermill": {
     "duration": 0.000857,
     "end_time": "2025-06-27T16:45:23.416875",
     "exception": false,
     "start_time": "2025-06-27T16:45:23.416018",
     "status": "completed"
    },
    "tags": []
   },
   "source": [
    "## 1. Load Trace Data"
   ]
  },
  {
   "cell_type": "code",
   "execution_count": 3,
   "id": "4c4adc3e",
   "metadata": {
    "papermill": {
     "duration": 0.004991,
     "end_time": "2025-06-27T16:45:23.422655",
     "exception": false,
     "start_time": "2025-06-27T16:45:23.417664",
     "status": "completed"
    },
    "tags": []
   },
   "outputs": [
    {
     "name": "stdout",
     "output_type": "stream",
     "text": [
      "Loaded signals: 2762 records\n",
      "Loaded orders: 547 records\n",
      "Loaded fills: 547 records\n",
      "Loaded position opens: 1 records\n",
      "Loaded position closes: 1 records\n"
     ]
    }
   ],
   "source": [
    "# Set the results directory\n",
    "results_dir = Path('.')\n",
    "traces_dir = results_dir / 'traces'\n",
    "\n",
    "# Load trace files\n",
    "traces = {}\n",
    "\n",
    "# Strategy signals\n",
    "signals_path = list(traces_dir.rglob('signals/*/*.parquet'))\n",
    "if signals_path:\n",
    "    traces['signals'] = pd.read_parquet(signals_path[0])\n",
    "    print(f\"Loaded signals: {len(traces['signals'])} records\")\n",
    "\n",
    "# Portfolio orders\n",
    "orders_path = traces_dir / 'portfolio' / 'orders' / 'portfolio_orders.parquet'\n",
    "if orders_path.exists():\n",
    "    traces['orders'] = pd.read_parquet(orders_path)\n",
    "    print(f\"Loaded orders: {len(traces['orders'])} records\")\n",
    "\n",
    "# Execution fills\n",
    "fills_path = traces_dir / 'execution' / 'fills' / 'execution_fills.parquet'\n",
    "if fills_path.exists():\n",
    "    traces['fills'] = pd.read_parquet(fills_path)\n",
    "    print(f\"Loaded fills: {len(traces['fills'])} records\")\n",
    "\n",
    "# Position events\n",
    "pos_open_path = traces_dir / 'portfolio' / 'positions_open' / 'position_open.parquet'\n",
    "if pos_open_path.exists():\n",
    "    traces['position_open'] = pd.read_parquet(pos_open_path)\n",
    "    print(f\"Loaded position opens: {len(traces['position_open'])} records\")\n",
    "\n",
    "pos_close_path = traces_dir / 'portfolio' / 'positions_close' / 'position_close.parquet'\n",
    "if pos_close_path.exists():\n",
    "    traces['position_close'] = pd.read_parquet(pos_close_path)\n",
    "    print(f\"Loaded position closes: {len(traces['position_close'])} records\")"
   ]
  },
  {
   "cell_type": "markdown",
   "id": "7aef1f9e",
   "metadata": {
    "papermill": {
     "duration": 0.000821,
     "end_time": "2025-06-27T16:45:23.424445",
     "exception": false,
     "start_time": "2025-06-27T16:45:23.423624",
     "status": "completed"
    },
    "tags": []
   },
   "source": [
    "## 2. Parse Metadata"
   ]
  },
  {
   "cell_type": "code",
   "execution_count": 4,
   "id": "892df0d8",
   "metadata": {
    "papermill": {
     "duration": 0.003818,
     "end_time": "2025-06-27T16:45:23.429063",
     "exception": false,
     "start_time": "2025-06-27T16:45:23.425245",
     "status": "completed"
    },
    "tags": []
   },
   "outputs": [
    {
     "name": "stdout",
     "output_type": "stream",
     "text": [
      "Parsed position_open metadata: ['symbol', 'strategy_id', 'quantity', 'entry_price', 'exit_price', 'exit_type', 'exit_reason', 'metadata']\n",
      "Parsed position_close metadata: ['symbol', 'strategy_id', 'quantity', 'entry_price', 'exit_price', 'exit_type', 'exit_reason', 'metadata']\n"
     ]
    }
   ],
   "source": [
    "# Parse JSON metadata for position events\n",
    "for event_type in ['position_open', 'position_close']:\n",
    "    if event_type in traces:\n",
    "        df = traces[event_type]\n",
    "        if 'metadata' in df.columns:\n",
    "            # Parse metadata\n",
    "            metadata_parsed = df['metadata'].apply(lambda x: json.loads(x) if x else {})\n",
    "            metadata_df = pd.DataFrame(list(metadata_parsed))\n",
    "            \n",
    "            # Add parsed columns to original dataframe\n",
    "            for col in metadata_df.columns:\n",
    "                if col not in df.columns:\n",
    "                    df[col] = metadata_df[col]\n",
    "            \n",
    "            print(f\"Parsed {event_type} metadata: {list(metadata_df.columns)}\")"
   ]
  },
  {
   "cell_type": "markdown",
   "id": "648cdf5c",
   "metadata": {
    "papermill": {
     "duration": 0.000978,
     "end_time": "2025-06-27T16:45:23.430923",
     "exception": false,
     "start_time": "2025-06-27T16:45:23.429945",
     "status": "completed"
    },
    "tags": []
   },
   "source": [
    "## 3. Analyze Risk Exits"
   ]
  },
  {
   "cell_type": "code",
   "execution_count": 5,
   "id": "ddd7f2e5",
   "metadata": {
    "papermill": {
     "duration": 0.004014,
     "end_time": "2025-06-27T16:45:23.435842",
     "exception": false,
     "start_time": "2025-06-27T16:45:23.431828",
     "status": "completed"
    },
    "tags": []
   },
   "outputs": [
    {
     "name": "stdout",
     "output_type": "stream",
     "text": [
      "=== Risk Management Exit Analysis ===\n",
      "Total positions closed: 1\n",
      "\n",
      "Exit types:\n",
      "\n",
      "Sample exit reasons:\n",
      "  None: None\n"
     ]
    }
   ],
   "source": [
    "if 'position_close' in traces:\n",
    "    pos_close = traces['position_close']\n",
    "    print(\"=== Risk Management Exit Analysis ===\")\n",
    "    print(f\"Total positions closed: {len(pos_close)}\")\n",
    "    \n",
    "    if 'exit_type' in pos_close.columns:\n",
    "        exit_counts = pos_close['exit_type'].value_counts()\n",
    "        print(\"\\nExit types:\")\n",
    "        for exit_type, count in exit_counts.items():\n",
    "            pct = count/len(pos_close)*100\n",
    "            print(f\"  {exit_type}: {count} ({pct:.1f}%)\")\n",
    "    \n",
    "    if 'exit_reason' in pos_close.columns:\n",
    "        print(\"\\nSample exit reasons:\")\n",
    "        for i, row in pos_close.head(5).iterrows():\n",
    "            exit_type = row.get('exit_type', 'unknown')\n",
    "            exit_reason = row.get('exit_reason', 'unknown')\n",
    "            print(f\"  {exit_type}: {exit_reason}\")"
   ]
  },
  {
   "cell_type": "markdown",
   "id": "131b1dcc",
   "metadata": {
    "papermill": {
     "duration": 0.000849,
     "end_time": "2025-06-27T16:45:23.437592",
     "exception": false,
     "start_time": "2025-06-27T16:45:23.436743",
     "status": "completed"
    },
    "tags": []
   },
   "source": [
    "## 4. Signal Persistence Analysis"
   ]
  },
  {
   "cell_type": "code",
   "execution_count": 6,
   "id": "eab7ffa1",
   "metadata": {
    "papermill": {
     "duration": 0.004042,
     "end_time": "2025-06-27T16:45:23.442483",
     "exception": false,
     "start_time": "2025-06-27T16:45:23.438441",
     "status": "completed"
    },
    "tags": []
   },
   "outputs": [
    {
     "name": "stdout",
     "output_type": "stream",
     "text": [
      "=== Signal Persistence After Risk Exits ===\n"
     ]
    }
   ],
   "source": [
    "# Check if signals persist after risk exits\n",
    "if 'signals' in traces and 'position_close' in traces:\n",
    "    signals_df = traces['signals']\n",
    "    pos_close = traces['position_close']\n",
    "    \n",
    "    print(\"=== Signal Persistence After Risk Exits ===\")\n",
    "    \n",
    "    # Find risk exits\n",
    "    if 'exit_type' in pos_close.columns:\n",
    "        risk_exits = pos_close[pos_close['exit_type'].isin(['stop_loss', 'trailing_stop'])]\n",
    "        \n",
    "        if len(risk_exits) > 0:\n",
    "            print(f\"Found {len(risk_exits)} risk exits\")\n",
    "            \n",
    "            # Check first few risk exits\n",
    "            for idx, exit_row in risk_exits.head(3).iterrows():\n",
    "                exit_bar = exit_row['idx']\n",
    "                \n",
    "                # Get signals around exit\n",
    "                next_signals = signals_df[\n",
    "                    (signals_df['idx'] >= exit_bar) & \n",
    "                    (signals_df['idx'] <= exit_bar + 5)\n",
    "                ]\n",
    "                \n",
    "                if len(next_signals) > 0:\n",
    "                    print(f\"\\nExit at bar {exit_bar} ({exit_row['exit_type']}):\")\n",
    "                    for _, sig in next_signals.iterrows():\n",
    "                        print(f\"  Bar {sig['idx']}: signal = {sig['val']}\")"
   ]
  },
  {
   "cell_type": "markdown",
   "id": "343d4676",
   "metadata": {
    "papermill": {
     "duration": 0.000853,
     "end_time": "2025-06-27T16:45:23.444225",
     "exception": false,
     "start_time": "2025-06-27T16:45:23.443372",
     "status": "completed"
    },
    "tags": []
   },
   "source": [
    "## 5. Order Flow Analysis"
   ]
  },
  {
   "cell_type": "code",
   "execution_count": 7,
   "id": "182c9f36",
   "metadata": {
    "papermill": {
     "duration": 0.004262,
     "end_time": "2025-06-27T16:45:23.449312",
     "exception": false,
     "start_time": "2025-06-27T16:45:23.445050",
     "status": "completed"
    },
    "tags": []
   },
   "outputs": [
    {
     "name": "stdout",
     "output_type": "stream",
     "text": [
      "=== Order Flow Analysis ===\n",
      "Total orders: 547\n",
      "\n",
      "Time between orders:\n",
      "  Mean: 30.3 bars\n",
      "  Median: 20.0 bars\n",
      "  Min: 1 bars\n",
      "\n",
      "Immediate re-entries (≤1 bar): 1\n"
     ]
    },
    {
     "data": {
      "image/png": "[encoded data removed]",
      "text/plain": [
       "<Figure size 1000x500 with 1 Axes>"
      ]
     },
     "metadata": {},
     "output_type": "display_data"
    }
   ],
   "source": [
    "if 'orders' in traces:\n",
    "    orders_df = traces['orders']\n",
    "    print(\"=== Order Flow Analysis ===\")\n",
    "    print(f\"Total orders: {len(orders_df)}\")\n",
    "    \n",
    "    if len(orders_df) > 1:\n",
    "        # Calculate time between orders\n",
    "        order_gaps = orders_df['idx'].diff().dropna()\n",
    "        \n",
    "        print(f\"\\nTime between orders:\")\n",
    "        print(f\"  Mean: {order_gaps.mean():.1f} bars\")\n",
    "        print(f\"  Median: {order_gaps.median():.1f} bars\")\n",
    "        print(f\"  Min: {order_gaps.min():.0f} bars\")\n",
    "        \n",
    "        # Check for immediate re-entries\n",
    "        immediate = (order_gaps <= 1).sum()\n",
    "        print(f\"\\nImmediate re-entries (≤1 bar): {immediate}\")\n",
    "        \n",
    "        # Plot distribution\n",
    "        plt.figure(figsize=(10, 5))\n",
    "        plt.hist(order_gaps, bins=50, alpha=0.7, edgecolor='black')\n",
    "        plt.axvline(order_gaps.mean(), color='red', linestyle='--', label=f'Mean: {order_gaps.mean():.1f}')\n",
    "        plt.axvline(order_gaps.median(), color='green', linestyle='--', label=f'Median: {order_gaps.median():.1f}')\n",
    "        plt.xlabel('Bars Between Orders')\n",
    "        plt.ylabel('Frequency')\n",
    "        plt.title('Time Between Orders Distribution')\n",
    "        plt.legend()\n",
    "        plt.show()"
   ]
  },
  {
   "cell_type": "markdown",
   "id": "93c2ffeb",
   "metadata": {
    "papermill": {
     "duration": 0.000919,
     "end_time": "2025-06-27T16:45:23.451096",
     "exception": false,
     "start_time": "2025-06-27T16:45:23.450177",
     "status": "completed"
    },
    "tags": []
   },
   "source": [
    "## 6. Trade Performance Summary"
   ]
  },
  {
   "cell_type": "code",
   "execution_count": 8,
   "id": "7bfdbc5b",
   "metadata": {
    "papermill": {
     "duration": 0.004411,
     "end_time": "2025-06-27T16:45:23.456418",
     "exception": false,
     "start_time": "2025-06-27T16:45:23.452007",
     "status": "completed"
    },
    "tags": []
   },
   "outputs": [
    {
     "name": "stdout",
     "output_type": "stream",
     "text": [
      "=== SUMMARY ===\n",
      "\n",
      "Data loaded:\n",
      "  signals: 2762 records\n",
      "  orders: 547 records\n",
      "  fills: 547 records\n",
      "  position_open: 1 records\n",
      "  position_close: 1 records\n",
      "\n",
      "Order fill rate: 100.0%\n",
      "Risk management exits: 0 (0.0%)\n",
      "\n",
      "=== RECOMMENDATIONS ===\n",
      "1. Implement cooldown period after risk exits\n",
      "2. Review stop loss parameters if many immediate re-entries\n",
      "3. Consider signal filtering after stop losses\n"
     ]
    }
   ],
   "source": [
    "print(\"=== SUMMARY ===\")\n",
    "\n",
    "# Data summary\n",
    "print(\"\\nData loaded:\")\n",
    "for key, df in traces.items():\n",
    "    print(f\"  {key}: {len(df)} records\")\n",
    "\n",
    "# Key metrics\n",
    "if 'orders' in traces and 'fills' in traces:\n",
    "    fill_rate = len(traces['fills']) / len(traces['orders']) * 100\n",
    "    print(f\"\\nOrder fill rate: {fill_rate:.1f}%\")\n",
    "\n",
    "if 'position_close' in traces and 'exit_type' in traces['position_close'].columns:\n",
    "    pos_close = traces['position_close']\n",
    "    risk_exits = pos_close['exit_type'].isin(['stop_loss', 'take_profit', 'trailing_stop']).sum()\n",
    "    risk_pct = risk_exits / len(pos_close) * 100 if len(pos_close) > 0 else 0\n",
    "    print(f\"Risk management exits: {risk_exits} ({risk_pct:.1f}%)\")\n",
    "\n",
    "print(\"\\n=== RECOMMENDATIONS ===\")\n",
    "print(\"1. Implement cooldown period after risk exits\")\n",
    "print(\"2. Review stop loss parameters if many immediate re-entries\")\n",
    "print(\"3. Consider signal filtering after stop losses\")"
   ]
  },
  {
   "cell_type": "code",
   "execution_count": null,
   "id": "a4805faa-edd9-4d01-9ce1-0ba5891fef95",
   "metadata": {},
   "outputs": [],
   "source": []
  }
 ],
 "metadata": {
  "kernelspec": {
   "display_name": "Python (venv)",
   "language": "python",
   "name": "venv"
  },
  "language_info": {
   "codemirror_mode": {
    "name": "ipython",
    "version": 3
   },
   "file_extension": ".py",
   "mimetype": "text/x-python",
   "name": "python",
   "nbconvert_exporter": "python",
   "pygments_lexer": "ipython3",
   "version": "3.13.5"
  },
  "papermill": {
   "default_parameters": {},
   "duration": 1.634972,
   "end_time": "2025-06-27T16:45:23.673557",
   "environment_variables": {},
   "exception": null,
   "input_path": "/Users/daws/ADMF-PC/src/analytics/templates/trade_analysis_simple.ipynb",
   "output_path": "config/bollinger/results/20250627_094515/analysis_20250627_094521.ipynb",
   "parameters": {
    "calculate_all_performance": true,
    "config_name": "bollinger",
    "correlation_threshold": 0.7,
    "ensemble_size": 5,
    "min_strategies_to_analyze": 20,
    "performance_limit": 100,
    "run_dir": "/Users/daws/ADMF-PC/config/bollinger/results/20250627_094515",
    "sharpe_threshold": 1,
    "symbols": [
     "SPY"
    ],
    "timeframe": "5m",
    "top_n_strategies": 10
   },
   "start_time": "2025-06-27T16:45:22.038585",
   "version": "2.6.0"
  }
 },
 "nbformat": 4,
 "nbformat_minor": 5
}
